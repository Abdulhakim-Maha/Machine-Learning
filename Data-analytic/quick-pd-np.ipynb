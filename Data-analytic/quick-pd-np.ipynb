{
 "cells": [
  {
   "cell_type": "markdown",
   "metadata": {},
   "source": [
    "# Quick Pandas-numpy tutorial"
   ]
  },
  {
   "cell_type": "markdown",
   "metadata": {},
   "source": [
    "### import dataset "
   ]
  },
  {
   "cell_type": "markdown",
   "metadata": {},
   "source": [
    "click [https://github.com/Rathachai/DA-LAB/blob/gh-pages/datasets/simple-employee-db.csv](https://github.com/Rathachai/DA-LAB/blob/gh-pages/datasets/simple-employee-db.csv)"
   ]
  },
  {
   "cell_type": "markdown",
   "metadata": {},
   "source": [
    "### Import Libaries"
   ]
  },
  {
   "cell_type": "code",
   "execution_count": 103,
   "metadata": {},
   "outputs": [],
   "source": [
    "import numpy as np\n",
    "import pandas as pd"
   ]
  },
  {
   "cell_type": "markdown",
   "metadata": {},
   "source": [
    "### basic numpy"
   ]
  },
  {
   "cell_type": "code",
   "execution_count": 2,
   "metadata": {},
   "outputs": [
    {
     "data": {
      "text/plain": [
       "[1, 2, 3, 10, 10, 10]"
      ]
     },
     "execution_count": 2,
     "metadata": {},
     "output_type": "execute_result"
    }
   ],
   "source": [
    "[1, 2, 3] + [10, 10, 10]\n",
    "# concatinate"
   ]
  },
  {
   "cell_type": "code",
   "execution_count": 3,
   "metadata": {},
   "outputs": [
    {
     "data": {
      "text/plain": [
       "[1, 2, 3, 1, 2, 3, 1, 2, 3]"
      ]
     },
     "execution_count": 3,
     "metadata": {},
     "output_type": "execute_result"
    }
   ],
   "source": [
    "[1, 2, 3]* 3"
   ]
  },
  {
   "cell_type": "code",
   "execution_count": 4,
   "metadata": {},
   "outputs": [
    {
     "data": {
      "text/plain": [
       "array([11, 12, 13])"
      ]
     },
     "execution_count": 4,
     "metadata": {},
     "output_type": "execute_result"
    }
   ],
   "source": [
    "np.array([1, 2, 3]) + np.array([10, 10, 10 ]) # add with index"
   ]
  },
  {
   "cell_type": "code",
   "execution_count": 5,
   "metadata": {},
   "outputs": [
    {
     "data": {
      "text/plain": [
       "array([0, 1, 2, 3, 4])"
      ]
     },
     "execution_count": 5,
     "metadata": {},
     "output_type": "execute_result"
    }
   ],
   "source": [
    "np.arange(5)"
   ]
  },
  {
   "cell_type": "code",
   "execution_count": 6,
   "metadata": {},
   "outputs": [
    {
     "data": {
      "text/plain": [
       "array([5, 6, 7, 8, 9])"
      ]
     },
     "execution_count": 6,
     "metadata": {},
     "output_type": "execute_result"
    }
   ],
   "source": [
    "np.arange(5,10) # start , stop -1 "
   ]
  },
  {
   "cell_type": "code",
   "execution_count": 7,
   "metadata": {},
   "outputs": [
    {
     "data": {
      "text/plain": [
       "array([5, 7, 9])"
      ]
     },
     "execution_count": 7,
     "metadata": {},
     "output_type": "execute_result"
    }
   ],
   "source": [
    "np.arange(5,10,2) # start , stop -1, step"
   ]
  },
  {
   "cell_type": "code",
   "execution_count": null,
   "metadata": {},
   "outputs": [
    {
     "data": {
      "text/plain": [
       "array([0.23145269, 0.05308467, 0.97849332, 0.29440131, 0.83630067])"
      ]
     },
     "execution_count": 8,
     "metadata": {},
     "output_type": "execute_result"
    }
   ],
   "source": [
    "np.random.rand(5)"
   ]
  },
  {
   "cell_type": "code",
   "execution_count": 82,
   "metadata": {},
   "outputs": [
    {
     "data": {
      "text/plain": [
       "array([5, 8, 8, 1, 3])"
      ]
     },
     "execution_count": 82,
     "metadata": {},
     "output_type": "execute_result"
    }
   ],
   "source": [
    "np.random.randint(0,10,5) "
   ]
  },
  {
   "cell_type": "code",
   "execution_count": 83,
   "metadata": {},
   "outputs": [
    {
     "data": {
      "text/plain": [
       "array([1., 1., 1., 1., 1.])"
      ]
     },
     "execution_count": 83,
     "metadata": {},
     "output_type": "execute_result"
    }
   ],
   "source": [
    "np.ones(5)"
   ]
  },
  {
   "cell_type": "code",
   "execution_count": 84,
   "metadata": {},
   "outputs": [],
   "source": [
    "x = np.arange(0,5)"
   ]
  },
  {
   "cell_type": "code",
   "execution_count": 85,
   "metadata": {},
   "outputs": [
    {
     "data": {
      "text/plain": [
       "array([0, 1, 2, 3, 4])"
      ]
     },
     "execution_count": 85,
     "metadata": {},
     "output_type": "execute_result"
    }
   ],
   "source": [
    "x"
   ]
  },
  {
   "cell_type": "code",
   "execution_count": 86,
   "metadata": {},
   "outputs": [
    {
     "data": {
      "text/plain": [
       "10"
      ]
     },
     "execution_count": 86,
     "metadata": {},
     "output_type": "execute_result"
    }
   ],
   "source": [
    "x.sum()"
   ]
  },
  {
   "cell_type": "code",
   "execution_count": 88,
   "metadata": {},
   "outputs": [
    {
     "data": {
      "text/plain": [
       "10"
      ]
     },
     "execution_count": 88,
     "metadata": {},
     "output_type": "execute_result"
    }
   ],
   "source": [
    "np.sum(x)"
   ]
  },
  {
   "cell_type": "code",
   "execution_count": 89,
   "metadata": {},
   "outputs": [
    {
     "data": {
      "text/plain": [
       "2.0"
      ]
     },
     "execution_count": 89,
     "metadata": {},
     "output_type": "execute_result"
    }
   ],
   "source": [
    "x.mean()"
   ]
  },
  {
   "cell_type": "code",
   "execution_count": 90,
   "metadata": {},
   "outputs": [
    {
     "data": {
      "text/plain": [
       "0"
      ]
     },
     "execution_count": 90,
     "metadata": {},
     "output_type": "execute_result"
    }
   ],
   "source": [
    "x.min()"
   ]
  },
  {
   "cell_type": "code",
   "execution_count": 91,
   "metadata": {},
   "outputs": [
    {
     "data": {
      "text/plain": [
       "4"
      ]
     },
     "execution_count": 91,
     "metadata": {},
     "output_type": "execute_result"
    }
   ],
   "source": [
    "x.max()"
   ]
  },
  {
   "cell_type": "code",
   "execution_count": 92,
   "metadata": {},
   "outputs": [
    {
     "data": {
      "text/plain": [
       "1.4142135623730951"
      ]
     },
     "execution_count": 92,
     "metadata": {},
     "output_type": "execute_result"
    }
   ],
   "source": [
    "x.std()"
   ]
  },
  {
   "cell_type": "code",
   "execution_count": 93,
   "metadata": {},
   "outputs": [
    {
     "data": {
      "text/plain": [
       "array([0, 1, 2, 3, 4])"
      ]
     },
     "execution_count": 93,
     "metadata": {},
     "output_type": "execute_result"
    }
   ],
   "source": [
    "x"
   ]
  },
  {
   "cell_type": "code",
   "execution_count": 96,
   "metadata": {},
   "outputs": [
    {
     "data": {
      "text/plain": [
       "2"
      ]
     },
     "execution_count": 96,
     "metadata": {},
     "output_type": "execute_result"
    }
   ],
   "source": [
    "x[2]"
   ]
  },
  {
   "cell_type": "code",
   "execution_count": 97,
   "metadata": {},
   "outputs": [
    {
     "data": {
      "text/plain": [
       "array([0, 1, 2])"
      ]
     },
     "execution_count": 97,
     "metadata": {},
     "output_type": "execute_result"
    }
   ],
   "source": [
    "x[0:3] # start , end -1"
   ]
  },
  {
   "cell_type": "code",
   "execution_count": 98,
   "metadata": {},
   "outputs": [
    {
     "data": {
      "text/plain": [
       "array([0, 1, 2])"
      ]
     },
     "execution_count": 98,
     "metadata": {},
     "output_type": "execute_result"
    }
   ],
   "source": [
    "x[:3]"
   ]
  },
  {
   "cell_type": "code",
   "execution_count": 100,
   "metadata": {},
   "outputs": [
    {
     "data": {
      "text/plain": [
       "array([3, 4])"
      ]
     },
     "execution_count": 100,
     "metadata": {},
     "output_type": "execute_result"
    }
   ],
   "source": [
    "x[3:]"
   ]
  },
  {
   "cell_type": "code",
   "execution_count": 101,
   "metadata": {},
   "outputs": [
    {
     "data": {
      "text/plain": [
       "4"
      ]
     },
     "execution_count": 101,
     "metadata": {},
     "output_type": "execute_result"
    }
   ],
   "source": [
    "x[-1]"
   ]
  },
  {
   "cell_type": "code",
   "execution_count": 102,
   "metadata": {},
   "outputs": [
    {
     "data": {
      "text/plain": [
       "3"
      ]
     },
     "execution_count": 102,
     "metadata": {},
     "output_type": "execute_result"
    }
   ],
   "source": [
    "x[-2]"
   ]
  },
  {
   "cell_type": "markdown",
   "metadata": {},
   "source": [
    "### Pandas Series & Pandas Datafram"
   ]
  },
  {
   "cell_type": "code",
   "execution_count": 104,
   "metadata": {},
   "outputs": [],
   "source": [
    "s1 = pd.Series([0, 10, 20])"
   ]
  },
  {
   "cell_type": "code",
   "execution_count": 105,
   "metadata": {},
   "outputs": [
    {
     "data": {
      "text/plain": [
       "0     0\n",
       "1    10\n",
       "2    20\n",
       "dtype: int64"
      ]
     },
     "execution_count": 105,
     "metadata": {},
     "output_type": "execute_result"
    }
   ],
   "source": [
    "s1"
   ]
  },
  {
   "cell_type": "code",
   "execution_count": 106,
   "metadata": {},
   "outputs": [
    {
     "data": {
      "text/plain": [
       "pandas.core.series.Series"
      ]
     },
     "execution_count": 106,
     "metadata": {},
     "output_type": "execute_result"
    }
   ],
   "source": [
    "type(s1)"
   ]
  },
  {
   "cell_type": "code",
   "execution_count": 108,
   "metadata": {},
   "outputs": [
    {
     "data": {
      "text/plain": [
       "30"
      ]
     },
     "execution_count": 108,
     "metadata": {},
     "output_type": "execute_result"
    }
   ],
   "source": [
    "np.sum(s1) # np.array & pd.Series can use together"
   ]
  },
  {
   "cell_type": "code",
   "execution_count": 109,
   "metadata": {},
   "outputs": [
    {
     "data": {
      "text/plain": [
       "10.0"
      ]
     },
     "execution_count": 109,
     "metadata": {},
     "output_type": "execute_result"
    }
   ],
   "source": [
    "s1.mean()"
   ]
  },
  {
   "cell_type": "code",
   "execution_count": 110,
   "metadata": {},
   "outputs": [
    {
     "data": {
      "text/plain": [
       "20"
      ]
     },
     "execution_count": 110,
     "metadata": {},
     "output_type": "execute_result"
    }
   ],
   "source": [
    "s1.max()"
   ]
  },
  {
   "cell_type": "code",
   "execution_count": 111,
   "metadata": {},
   "outputs": [
    {
     "data": {
      "text/plain": [
       "30"
      ]
     },
     "execution_count": 111,
     "metadata": {},
     "output_type": "execute_result"
    }
   ],
   "source": [
    "s1.sum()"
   ]
  },
  {
   "cell_type": "code",
   "execution_count": 112,
   "metadata": {},
   "outputs": [],
   "source": [
    "s2 = pd.Series([\"A\",\"B\",\"C\"])"
   ]
  },
  {
   "cell_type": "code",
   "execution_count": 113,
   "metadata": {},
   "outputs": [
    {
     "data": {
      "text/plain": [
       "0    A\n",
       "1    B\n",
       "2    C\n",
       "dtype: object"
      ]
     },
     "execution_count": 113,
     "metadata": {},
     "output_type": "execute_result"
    }
   ],
   "source": [
    "s2"
   ]
  },
  {
   "cell_type": "code",
   "execution_count": 114,
   "metadata": {},
   "outputs": [],
   "source": [
    "df = pd.DataFrame({\"name\":s2, \"working_year\": s1})"
   ]
  },
  {
   "cell_type": "code",
   "execution_count": 115,
   "metadata": {},
   "outputs": [
    {
     "data": {
      "text/html": [
       "<div>\n",
       "<style scoped>\n",
       "    .dataframe tbody tr th:only-of-type {\n",
       "        vertical-align: middle;\n",
       "    }\n",
       "\n",
       "    .dataframe tbody tr th {\n",
       "        vertical-align: top;\n",
       "    }\n",
       "\n",
       "    .dataframe thead th {\n",
       "        text-align: right;\n",
       "    }\n",
       "</style>\n",
       "<table border=\"1\" class=\"dataframe\">\n",
       "  <thead>\n",
       "    <tr style=\"text-align: right;\">\n",
       "      <th></th>\n",
       "      <th>name</th>\n",
       "      <th>working_year</th>\n",
       "    </tr>\n",
       "  </thead>\n",
       "  <tbody>\n",
       "    <tr>\n",
       "      <th>0</th>\n",
       "      <td>A</td>\n",
       "      <td>0</td>\n",
       "    </tr>\n",
       "    <tr>\n",
       "      <th>1</th>\n",
       "      <td>B</td>\n",
       "      <td>10</td>\n",
       "    </tr>\n",
       "    <tr>\n",
       "      <th>2</th>\n",
       "      <td>C</td>\n",
       "      <td>20</td>\n",
       "    </tr>\n",
       "  </tbody>\n",
       "</table>\n",
       "</div>"
      ],
      "text/plain": [
       "  name  working_year\n",
       "0    A             0\n",
       "1    B            10\n",
       "2    C            20"
      ]
     },
     "execution_count": 115,
     "metadata": {},
     "output_type": "execute_result"
    }
   ],
   "source": [
    "df"
   ]
  },
  {
   "cell_type": "code",
   "execution_count": 116,
   "metadata": {},
   "outputs": [
    {
     "data": {
      "text/plain": [
       "pandas.core.frame.DataFrame"
      ]
     },
     "execution_count": 116,
     "metadata": {},
     "output_type": "execute_result"
    }
   ],
   "source": [
    "type(df)"
   ]
  },
  {
   "cell_type": "code",
   "execution_count": 117,
   "metadata": {},
   "outputs": [
    {
     "data": {
      "text/plain": [
       "pandas.core.series.Series"
      ]
     },
     "execution_count": 117,
     "metadata": {},
     "output_type": "execute_result"
    }
   ],
   "source": [
    "type(s1)"
   ]
  },
  {
   "cell_type": "code",
   "execution_count": 121,
   "metadata": {},
   "outputs": [
    {
     "data": {
      "text/plain": [
       "0    A\n",
       "1    B\n",
       "2    C\n",
       "Name: name, dtype: object"
      ]
     },
     "execution_count": 121,
     "metadata": {},
     "output_type": "execute_result"
    }
   ],
   "source": [
    "df[\"name\"]"
   ]
  },
  {
   "cell_type": "code",
   "execution_count": 122,
   "metadata": {},
   "outputs": [
    {
     "data": {
      "text/html": [
       "<div>\n",
       "<style scoped>\n",
       "    .dataframe tbody tr th:only-of-type {\n",
       "        vertical-align: middle;\n",
       "    }\n",
       "\n",
       "    .dataframe tbody tr th {\n",
       "        vertical-align: top;\n",
       "    }\n",
       "\n",
       "    .dataframe thead th {\n",
       "        text-align: right;\n",
       "    }\n",
       "</style>\n",
       "<table border=\"1\" class=\"dataframe\">\n",
       "  <thead>\n",
       "    <tr style=\"text-align: right;\">\n",
       "      <th></th>\n",
       "      <th>name</th>\n",
       "    </tr>\n",
       "  </thead>\n",
       "  <tbody>\n",
       "    <tr>\n",
       "      <th>0</th>\n",
       "      <td>A</td>\n",
       "    </tr>\n",
       "    <tr>\n",
       "      <th>1</th>\n",
       "      <td>B</td>\n",
       "    </tr>\n",
       "    <tr>\n",
       "      <th>2</th>\n",
       "      <td>C</td>\n",
       "    </tr>\n",
       "  </tbody>\n",
       "</table>\n",
       "</div>"
      ],
      "text/plain": [
       "  name\n",
       "0    A\n",
       "1    B\n",
       "2    C"
      ]
     },
     "execution_count": 122,
     "metadata": {},
     "output_type": "execute_result"
    }
   ],
   "source": [
    "df[[\"name\"]]"
   ]
  },
  {
   "cell_type": "code",
   "execution_count": 124,
   "metadata": {},
   "outputs": [
    {
     "data": {
      "text/plain": [
       "pandas.core.series.Series"
      ]
     },
     "execution_count": 124,
     "metadata": {},
     "output_type": "execute_result"
    }
   ],
   "source": [
    "type(df[\"name\"])"
   ]
  },
  {
   "cell_type": "code",
   "execution_count": 125,
   "metadata": {},
   "outputs": [
    {
     "data": {
      "text/plain": [
       "pandas.core.frame.DataFrame"
      ]
     },
     "execution_count": 125,
     "metadata": {},
     "output_type": "execute_result"
    }
   ],
   "source": [
    "type(df[[\"name\"]])"
   ]
  },
  {
   "cell_type": "code",
   "execution_count": 120,
   "metadata": {},
   "outputs": [
    {
     "data": {
      "text/plain": [
       "pandas.core.series.Series"
      ]
     },
     "execution_count": 120,
     "metadata": {},
     "output_type": "execute_result"
    }
   ],
   "source": [
    "type(df[\"working_year\"])"
   ]
  },
  {
   "cell_type": "markdown",
   "metadata": {},
   "source": [
    "### Read CSV into a Pandas Dataframe"
   ]
  },
  {
   "cell_type": "code",
   "execution_count": 126,
   "metadata": {},
   "outputs": [],
   "source": [
    "CSV_PATH = \"https://rathachai.github.io/DA-LAB/datasets/simple-employee-db.csv\""
   ]
  },
  {
   "cell_type": "code",
   "execution_count": 127,
   "metadata": {},
   "outputs": [],
   "source": [
    "df = pd.read_csv(CSV_PATH)"
   ]
  },
  {
   "cell_type": "code",
   "execution_count": 128,
   "metadata": {},
   "outputs": [
    {
     "data": {
      "text/html": [
       "<div>\n",
       "<style scoped>\n",
       "    .dataframe tbody tr th:only-of-type {\n",
       "        vertical-align: middle;\n",
       "    }\n",
       "\n",
       "    .dataframe tbody tr th {\n",
       "        vertical-align: top;\n",
       "    }\n",
       "\n",
       "    .dataframe thead th {\n",
       "        text-align: right;\n",
       "    }\n",
       "</style>\n",
       "<table border=\"1\" class=\"dataframe\">\n",
       "  <thead>\n",
       "    <tr style=\"text-align: right;\">\n",
       "      <th></th>\n",
       "      <th>eid</th>\n",
       "      <th>name</th>\n",
       "      <th>gender</th>\n",
       "      <th>department</th>\n",
       "      <th>age</th>\n",
       "      <th>salary</th>\n",
       "      <th>working_years</th>\n",
       "      <th>birth_place</th>\n",
       "    </tr>\n",
       "  </thead>\n",
       "  <tbody>\n",
       "    <tr>\n",
       "      <th>0</th>\n",
       "      <td>E011</td>\n",
       "      <td>Anda</td>\n",
       "      <td>female</td>\n",
       "      <td>developer</td>\n",
       "      <td>39</td>\n",
       "      <td>64200.0</td>\n",
       "      <td>4</td>\n",
       "      <td>Bangkok</td>\n",
       "    </tr>\n",
       "    <tr>\n",
       "      <th>1</th>\n",
       "      <td>E012</td>\n",
       "      <td>Bordin</td>\n",
       "      <td>male</td>\n",
       "      <td>developer</td>\n",
       "      <td>25</td>\n",
       "      <td>48700.0</td>\n",
       "      <td>2</td>\n",
       "      <td>Phuket</td>\n",
       "    </tr>\n",
       "    <tr>\n",
       "      <th>2</th>\n",
       "      <td>E013</td>\n",
       "      <td>Chantana</td>\n",
       "      <td>female</td>\n",
       "      <td>developer</td>\n",
       "      <td>29</td>\n",
       "      <td>45500.0</td>\n",
       "      <td>3</td>\n",
       "      <td>Chonburi</td>\n",
       "    </tr>\n",
       "    <tr>\n",
       "      <th>3</th>\n",
       "      <td>E014</td>\n",
       "      <td>Donlaya</td>\n",
       "      <td>female</td>\n",
       "      <td>marketing</td>\n",
       "      <td>39</td>\n",
       "      <td>72600.0</td>\n",
       "      <td>8</td>\n",
       "      <td>Chonburi</td>\n",
       "    </tr>\n",
       "    <tr>\n",
       "      <th>4</th>\n",
       "      <td>E015</td>\n",
       "      <td>Ekkasit</td>\n",
       "      <td>male</td>\n",
       "      <td>marketing</td>\n",
       "      <td>37</td>\n",
       "      <td>80500.0</td>\n",
       "      <td>7</td>\n",
       "      <td>Suphanburi</td>\n",
       "    </tr>\n",
       "    <tr>\n",
       "      <th>5</th>\n",
       "      <td>E016</td>\n",
       "      <td>Fundee</td>\n",
       "      <td>female</td>\n",
       "      <td>support</td>\n",
       "      <td>35</td>\n",
       "      <td>56600.0</td>\n",
       "      <td>3</td>\n",
       "      <td>Phuket</td>\n",
       "    </tr>\n",
       "    <tr>\n",
       "      <th>6</th>\n",
       "      <td>E017</td>\n",
       "      <td>Gitiwit</td>\n",
       "      <td>male</td>\n",
       "      <td>support</td>\n",
       "      <td>26</td>\n",
       "      <td>42400.0</td>\n",
       "      <td>2</td>\n",
       "      <td>Suphanburi</td>\n",
       "    </tr>\n",
       "    <tr>\n",
       "      <th>7</th>\n",
       "      <td>E018</td>\n",
       "      <td>Harit</td>\n",
       "      <td>male</td>\n",
       "      <td>devops</td>\n",
       "      <td>32</td>\n",
       "      <td>67700.0</td>\n",
       "      <td>5</td>\n",
       "      <td>Bangkok</td>\n",
       "    </tr>\n",
       "  </tbody>\n",
       "</table>\n",
       "</div>"
      ],
      "text/plain": [
       "    eid      name  gender department  age   salary  working_years birth_place\n",
       "0  E011      Anda  female  developer   39  64200.0              4     Bangkok\n",
       "1  E012    Bordin    male  developer   25  48700.0              2      Phuket\n",
       "2  E013  Chantana  female  developer   29  45500.0              3    Chonburi\n",
       "3  E014   Donlaya  female  marketing   39  72600.0              8    Chonburi\n",
       "4  E015   Ekkasit    male  marketing   37  80500.0              7  Suphanburi\n",
       "5  E016    Fundee  female    support   35  56600.0              3      Phuket\n",
       "6  E017   Gitiwit    male    support   26  42400.0              2  Suphanburi\n",
       "7  E018     Harit    male     devops   32  67700.0              5     Bangkok"
      ]
     },
     "execution_count": 128,
     "metadata": {},
     "output_type": "execute_result"
    }
   ],
   "source": [
    "df"
   ]
  },
  {
   "cell_type": "code",
   "execution_count": 130,
   "metadata": {},
   "outputs": [
    {
     "data": {
      "text/html": [
       "<div>\n",
       "<style scoped>\n",
       "    .dataframe tbody tr th:only-of-type {\n",
       "        vertical-align: middle;\n",
       "    }\n",
       "\n",
       "    .dataframe tbody tr th {\n",
       "        vertical-align: top;\n",
       "    }\n",
       "\n",
       "    .dataframe thead th {\n",
       "        text-align: right;\n",
       "    }\n",
       "</style>\n",
       "<table border=\"1\" class=\"dataframe\">\n",
       "  <thead>\n",
       "    <tr style=\"text-align: right;\">\n",
       "      <th></th>\n",
       "      <th>eid</th>\n",
       "      <th>name</th>\n",
       "      <th>gender</th>\n",
       "      <th>department</th>\n",
       "      <th>age</th>\n",
       "      <th>salary</th>\n",
       "      <th>working_years</th>\n",
       "      <th>birth_place</th>\n",
       "    </tr>\n",
       "  </thead>\n",
       "  <tbody>\n",
       "    <tr>\n",
       "      <th>0</th>\n",
       "      <td>E011</td>\n",
       "      <td>Anda</td>\n",
       "      <td>female</td>\n",
       "      <td>developer</td>\n",
       "      <td>39</td>\n",
       "      <td>64200.0</td>\n",
       "      <td>4</td>\n",
       "      <td>Bangkok</td>\n",
       "    </tr>\n",
       "    <tr>\n",
       "      <th>1</th>\n",
       "      <td>E012</td>\n",
       "      <td>Bordin</td>\n",
       "      <td>male</td>\n",
       "      <td>developer</td>\n",
       "      <td>25</td>\n",
       "      <td>48700.0</td>\n",
       "      <td>2</td>\n",
       "      <td>Phuket</td>\n",
       "    </tr>\n",
       "    <tr>\n",
       "      <th>2</th>\n",
       "      <td>E013</td>\n",
       "      <td>Chantana</td>\n",
       "      <td>female</td>\n",
       "      <td>developer</td>\n",
       "      <td>29</td>\n",
       "      <td>45500.0</td>\n",
       "      <td>3</td>\n",
       "      <td>Chonburi</td>\n",
       "    </tr>\n",
       "  </tbody>\n",
       "</table>\n",
       "</div>"
      ],
      "text/plain": [
       "    eid      name  gender department  age   salary  working_years birth_place\n",
       "0  E011      Anda  female  developer   39  64200.0              4     Bangkok\n",
       "1  E012    Bordin    male  developer   25  48700.0              2      Phuket\n",
       "2  E013  Chantana  female  developer   29  45500.0              3    Chonburi"
      ]
     },
     "execution_count": 130,
     "metadata": {},
     "output_type": "execute_result"
    }
   ],
   "source": [
    "df.head(3) # dump 5 by defualt"
   ]
  },
  {
   "cell_type": "code",
   "execution_count": 131,
   "metadata": {},
   "outputs": [
    {
     "data": {
      "text/html": [
       "<div>\n",
       "<style scoped>\n",
       "    .dataframe tbody tr th:only-of-type {\n",
       "        vertical-align: middle;\n",
       "    }\n",
       "\n",
       "    .dataframe tbody tr th {\n",
       "        vertical-align: top;\n",
       "    }\n",
       "\n",
       "    .dataframe thead th {\n",
       "        text-align: right;\n",
       "    }\n",
       "</style>\n",
       "<table border=\"1\" class=\"dataframe\">\n",
       "  <thead>\n",
       "    <tr style=\"text-align: right;\">\n",
       "      <th></th>\n",
       "      <th>eid</th>\n",
       "      <th>name</th>\n",
       "      <th>gender</th>\n",
       "      <th>department</th>\n",
       "      <th>age</th>\n",
       "      <th>salary</th>\n",
       "      <th>working_years</th>\n",
       "      <th>birth_place</th>\n",
       "    </tr>\n",
       "  </thead>\n",
       "  <tbody>\n",
       "    <tr>\n",
       "      <th>3</th>\n",
       "      <td>E014</td>\n",
       "      <td>Donlaya</td>\n",
       "      <td>female</td>\n",
       "      <td>marketing</td>\n",
       "      <td>39</td>\n",
       "      <td>72600.0</td>\n",
       "      <td>8</td>\n",
       "      <td>Chonburi</td>\n",
       "    </tr>\n",
       "    <tr>\n",
       "      <th>4</th>\n",
       "      <td>E015</td>\n",
       "      <td>Ekkasit</td>\n",
       "      <td>male</td>\n",
       "      <td>marketing</td>\n",
       "      <td>37</td>\n",
       "      <td>80500.0</td>\n",
       "      <td>7</td>\n",
       "      <td>Suphanburi</td>\n",
       "    </tr>\n",
       "    <tr>\n",
       "      <th>5</th>\n",
       "      <td>E016</td>\n",
       "      <td>Fundee</td>\n",
       "      <td>female</td>\n",
       "      <td>support</td>\n",
       "      <td>35</td>\n",
       "      <td>56600.0</td>\n",
       "      <td>3</td>\n",
       "      <td>Phuket</td>\n",
       "    </tr>\n",
       "    <tr>\n",
       "      <th>6</th>\n",
       "      <td>E017</td>\n",
       "      <td>Gitiwit</td>\n",
       "      <td>male</td>\n",
       "      <td>support</td>\n",
       "      <td>26</td>\n",
       "      <td>42400.0</td>\n",
       "      <td>2</td>\n",
       "      <td>Suphanburi</td>\n",
       "    </tr>\n",
       "    <tr>\n",
       "      <th>7</th>\n",
       "      <td>E018</td>\n",
       "      <td>Harit</td>\n",
       "      <td>male</td>\n",
       "      <td>devops</td>\n",
       "      <td>32</td>\n",
       "      <td>67700.0</td>\n",
       "      <td>5</td>\n",
       "      <td>Bangkok</td>\n",
       "    </tr>\n",
       "  </tbody>\n",
       "</table>\n",
       "</div>"
      ],
      "text/plain": [
       "    eid     name  gender department  age   salary  working_years birth_place\n",
       "3  E014  Donlaya  female  marketing   39  72600.0              8    Chonburi\n",
       "4  E015  Ekkasit    male  marketing   37  80500.0              7  Suphanburi\n",
       "5  E016   Fundee  female    support   35  56600.0              3      Phuket\n",
       "6  E017  Gitiwit    male    support   26  42400.0              2  Suphanburi\n",
       "7  E018    Harit    male     devops   32  67700.0              5     Bangkok"
      ]
     },
     "execution_count": 131,
     "metadata": {},
     "output_type": "execute_result"
    }
   ],
   "source": [
    "df.tail()"
   ]
  },
  {
   "cell_type": "markdown",
   "metadata": {},
   "source": [
    "### Column Selection"
   ]
  },
  {
   "cell_type": "code",
   "execution_count": 132,
   "metadata": {},
   "outputs": [
    {
     "data": {
      "text/plain": [
       "0        Anda\n",
       "1      Bordin\n",
       "2    Chantana\n",
       "3     Donlaya\n",
       "4     Ekkasit\n",
       "5      Fundee\n",
       "6     Gitiwit\n",
       "7       Harit\n",
       "Name: name, dtype: object"
      ]
     },
     "execution_count": 132,
     "metadata": {},
     "output_type": "execute_result"
    }
   ],
   "source": [
    "df['name']"
   ]
  },
  {
   "cell_type": "code",
   "execution_count": 133,
   "metadata": {},
   "outputs": [
    {
     "data": {
      "text/html": [
       "<div>\n",
       "<style scoped>\n",
       "    .dataframe tbody tr th:only-of-type {\n",
       "        vertical-align: middle;\n",
       "    }\n",
       "\n",
       "    .dataframe tbody tr th {\n",
       "        vertical-align: top;\n",
       "    }\n",
       "\n",
       "    .dataframe thead th {\n",
       "        text-align: right;\n",
       "    }\n",
       "</style>\n",
       "<table border=\"1\" class=\"dataframe\">\n",
       "  <thead>\n",
       "    <tr style=\"text-align: right;\">\n",
       "      <th></th>\n",
       "      <th>name</th>\n",
       "    </tr>\n",
       "  </thead>\n",
       "  <tbody>\n",
       "    <tr>\n",
       "      <th>0</th>\n",
       "      <td>Anda</td>\n",
       "    </tr>\n",
       "    <tr>\n",
       "      <th>1</th>\n",
       "      <td>Bordin</td>\n",
       "    </tr>\n",
       "    <tr>\n",
       "      <th>2</th>\n",
       "      <td>Chantana</td>\n",
       "    </tr>\n",
       "    <tr>\n",
       "      <th>3</th>\n",
       "      <td>Donlaya</td>\n",
       "    </tr>\n",
       "    <tr>\n",
       "      <th>4</th>\n",
       "      <td>Ekkasit</td>\n",
       "    </tr>\n",
       "    <tr>\n",
       "      <th>5</th>\n",
       "      <td>Fundee</td>\n",
       "    </tr>\n",
       "    <tr>\n",
       "      <th>6</th>\n",
       "      <td>Gitiwit</td>\n",
       "    </tr>\n",
       "    <tr>\n",
       "      <th>7</th>\n",
       "      <td>Harit</td>\n",
       "    </tr>\n",
       "  </tbody>\n",
       "</table>\n",
       "</div>"
      ],
      "text/plain": [
       "       name\n",
       "0      Anda\n",
       "1    Bordin\n",
       "2  Chantana\n",
       "3   Donlaya\n",
       "4   Ekkasit\n",
       "5    Fundee\n",
       "6   Gitiwit\n",
       "7     Harit"
      ]
     },
     "execution_count": 133,
     "metadata": {},
     "output_type": "execute_result"
    }
   ],
   "source": [
    "df[[\"name\"]]"
   ]
  },
  {
   "cell_type": "code",
   "execution_count": 136,
   "metadata": {},
   "outputs": [
    {
     "data": {
      "text/html": [
       "<div>\n",
       "<style scoped>\n",
       "    .dataframe tbody tr th:only-of-type {\n",
       "        vertical-align: middle;\n",
       "    }\n",
       "\n",
       "    .dataframe tbody tr th {\n",
       "        vertical-align: top;\n",
       "    }\n",
       "\n",
       "    .dataframe thead th {\n",
       "        text-align: right;\n",
       "    }\n",
       "</style>\n",
       "<table border=\"1\" class=\"dataframe\">\n",
       "  <thead>\n",
       "    <tr style=\"text-align: right;\">\n",
       "      <th></th>\n",
       "      <th>name</th>\n",
       "      <th>gender</th>\n",
       "      <th>age</th>\n",
       "    </tr>\n",
       "  </thead>\n",
       "  <tbody>\n",
       "    <tr>\n",
       "      <th>0</th>\n",
       "      <td>Anda</td>\n",
       "      <td>female</td>\n",
       "      <td>39</td>\n",
       "    </tr>\n",
       "    <tr>\n",
       "      <th>1</th>\n",
       "      <td>Bordin</td>\n",
       "      <td>male</td>\n",
       "      <td>25</td>\n",
       "    </tr>\n",
       "    <tr>\n",
       "      <th>2</th>\n",
       "      <td>Chantana</td>\n",
       "      <td>female</td>\n",
       "      <td>29</td>\n",
       "    </tr>\n",
       "    <tr>\n",
       "      <th>3</th>\n",
       "      <td>Donlaya</td>\n",
       "      <td>female</td>\n",
       "      <td>39</td>\n",
       "    </tr>\n",
       "    <tr>\n",
       "      <th>4</th>\n",
       "      <td>Ekkasit</td>\n",
       "      <td>male</td>\n",
       "      <td>37</td>\n",
       "    </tr>\n",
       "    <tr>\n",
       "      <th>5</th>\n",
       "      <td>Fundee</td>\n",
       "      <td>female</td>\n",
       "      <td>35</td>\n",
       "    </tr>\n",
       "    <tr>\n",
       "      <th>6</th>\n",
       "      <td>Gitiwit</td>\n",
       "      <td>male</td>\n",
       "      <td>26</td>\n",
       "    </tr>\n",
       "    <tr>\n",
       "      <th>7</th>\n",
       "      <td>Harit</td>\n",
       "      <td>male</td>\n",
       "      <td>32</td>\n",
       "    </tr>\n",
       "  </tbody>\n",
       "</table>\n",
       "</div>"
      ],
      "text/plain": [
       "       name  gender  age\n",
       "0      Anda  female   39\n",
       "1    Bordin    male   25\n",
       "2  Chantana  female   29\n",
       "3   Donlaya  female   39\n",
       "4   Ekkasit    male   37\n",
       "5    Fundee  female   35\n",
       "6   Gitiwit    male   26\n",
       "7     Harit    male   32"
      ]
     },
     "execution_count": 136,
     "metadata": {},
     "output_type": "execute_result"
    }
   ],
   "source": [
    "df[[\"name\", \"gender\", \"age\"]]"
   ]
  },
  {
   "cell_type": "markdown",
   "metadata": {},
   "source": [
    "### Row Selection"
   ]
  },
  {
   "cell_type": "code",
   "execution_count": 137,
   "metadata": {},
   "outputs": [
    {
     "data": {
      "text/plain": [
       "eid                   E012\n",
       "name                Bordin\n",
       "gender                male\n",
       "department       developer\n",
       "age                     25\n",
       "salary             48700.0\n",
       "working_years            2\n",
       "birth_place         Phuket\n",
       "Name: 1, dtype: object"
      ]
     },
     "execution_count": 137,
     "metadata": {},
     "output_type": "execute_result"
    }
   ],
   "source": [
    "df.loc[1]"
   ]
  },
  {
   "cell_type": "code",
   "execution_count": 138,
   "metadata": {},
   "outputs": [
    {
     "data": {
      "text/plain": [
       "pandas.core.series.Series"
      ]
     },
     "execution_count": 138,
     "metadata": {},
     "output_type": "execute_result"
    }
   ],
   "source": [
    "type(df.loc[1])"
   ]
  },
  {
   "cell_type": "code",
   "execution_count": 139,
   "metadata": {},
   "outputs": [
    {
     "data": {
      "text/html": [
       "<div>\n",
       "<style scoped>\n",
       "    .dataframe tbody tr th:only-of-type {\n",
       "        vertical-align: middle;\n",
       "    }\n",
       "\n",
       "    .dataframe tbody tr th {\n",
       "        vertical-align: top;\n",
       "    }\n",
       "\n",
       "    .dataframe thead th {\n",
       "        text-align: right;\n",
       "    }\n",
       "</style>\n",
       "<table border=\"1\" class=\"dataframe\">\n",
       "  <thead>\n",
       "    <tr style=\"text-align: right;\">\n",
       "      <th></th>\n",
       "      <th>eid</th>\n",
       "      <th>name</th>\n",
       "      <th>gender</th>\n",
       "      <th>department</th>\n",
       "      <th>age</th>\n",
       "      <th>salary</th>\n",
       "      <th>working_years</th>\n",
       "      <th>birth_place</th>\n",
       "    </tr>\n",
       "  </thead>\n",
       "  <tbody>\n",
       "    <tr>\n",
       "      <th>1</th>\n",
       "      <td>E012</td>\n",
       "      <td>Bordin</td>\n",
       "      <td>male</td>\n",
       "      <td>developer</td>\n",
       "      <td>25</td>\n",
       "      <td>48700.0</td>\n",
       "      <td>2</td>\n",
       "      <td>Phuket</td>\n",
       "    </tr>\n",
       "  </tbody>\n",
       "</table>\n",
       "</div>"
      ],
      "text/plain": [
       "    eid    name gender department  age   salary  working_years birth_place\n",
       "1  E012  Bordin   male  developer   25  48700.0              2      Phuket"
      ]
     },
     "execution_count": 139,
     "metadata": {},
     "output_type": "execute_result"
    }
   ],
   "source": [
    "df.loc[[1]]"
   ]
  },
  {
   "cell_type": "code",
   "execution_count": 140,
   "metadata": {},
   "outputs": [
    {
     "data": {
      "text/plain": [
       "pandas.core.frame.DataFrame"
      ]
     },
     "execution_count": 140,
     "metadata": {},
     "output_type": "execute_result"
    }
   ],
   "source": [
    "type(df.loc[[1]])\n"
   ]
  },
  {
   "cell_type": "code",
   "execution_count": 141,
   "metadata": {},
   "outputs": [
    {
     "data": {
      "text/html": [
       "<div>\n",
       "<style scoped>\n",
       "    .dataframe tbody tr th:only-of-type {\n",
       "        vertical-align: middle;\n",
       "    }\n",
       "\n",
       "    .dataframe tbody tr th {\n",
       "        vertical-align: top;\n",
       "    }\n",
       "\n",
       "    .dataframe thead th {\n",
       "        text-align: right;\n",
       "    }\n",
       "</style>\n",
       "<table border=\"1\" class=\"dataframe\">\n",
       "  <thead>\n",
       "    <tr style=\"text-align: right;\">\n",
       "      <th></th>\n",
       "      <th>eid</th>\n",
       "      <th>name</th>\n",
       "      <th>gender</th>\n",
       "      <th>department</th>\n",
       "      <th>age</th>\n",
       "      <th>salary</th>\n",
       "      <th>working_years</th>\n",
       "      <th>birth_place</th>\n",
       "    </tr>\n",
       "  </thead>\n",
       "  <tbody>\n",
       "    <tr>\n",
       "      <th>1</th>\n",
       "      <td>E012</td>\n",
       "      <td>Bordin</td>\n",
       "      <td>male</td>\n",
       "      <td>developer</td>\n",
       "      <td>25</td>\n",
       "      <td>48700.0</td>\n",
       "      <td>2</td>\n",
       "      <td>Phuket</td>\n",
       "    </tr>\n",
       "    <tr>\n",
       "      <th>2</th>\n",
       "      <td>E013</td>\n",
       "      <td>Chantana</td>\n",
       "      <td>female</td>\n",
       "      <td>developer</td>\n",
       "      <td>29</td>\n",
       "      <td>45500.0</td>\n",
       "      <td>3</td>\n",
       "      <td>Chonburi</td>\n",
       "    </tr>\n",
       "    <tr>\n",
       "      <th>3</th>\n",
       "      <td>E014</td>\n",
       "      <td>Donlaya</td>\n",
       "      <td>female</td>\n",
       "      <td>marketing</td>\n",
       "      <td>39</td>\n",
       "      <td>72600.0</td>\n",
       "      <td>8</td>\n",
       "      <td>Chonburi</td>\n",
       "    </tr>\n",
       "  </tbody>\n",
       "</table>\n",
       "</div>"
      ],
      "text/plain": [
       "    eid      name  gender department  age   salary  working_years birth_place\n",
       "1  E012    Bordin    male  developer   25  48700.0              2      Phuket\n",
       "2  E013  Chantana  female  developer   29  45500.0              3    Chonburi\n",
       "3  E014   Donlaya  female  marketing   39  72600.0              8    Chonburi"
      ]
     },
     "execution_count": 141,
     "metadata": {},
     "output_type": "execute_result"
    }
   ],
   "source": [
    "df.loc[[1, 2, 3]]"
   ]
  },
  {
   "cell_type": "code",
   "execution_count": 144,
   "metadata": {},
   "outputs": [
    {
     "data": {
      "text/html": [
       "<div>\n",
       "<style scoped>\n",
       "    .dataframe tbody tr th:only-of-type {\n",
       "        vertical-align: middle;\n",
       "    }\n",
       "\n",
       "    .dataframe tbody tr th {\n",
       "        vertical-align: top;\n",
       "    }\n",
       "\n",
       "    .dataframe thead th {\n",
       "        text-align: right;\n",
       "    }\n",
       "</style>\n",
       "<table border=\"1\" class=\"dataframe\">\n",
       "  <thead>\n",
       "    <tr style=\"text-align: right;\">\n",
       "      <th></th>\n",
       "      <th>eid</th>\n",
       "      <th>name</th>\n",
       "      <th>gender</th>\n",
       "      <th>department</th>\n",
       "      <th>age</th>\n",
       "      <th>salary</th>\n",
       "      <th>working_years</th>\n",
       "      <th>birth_place</th>\n",
       "    </tr>\n",
       "  </thead>\n",
       "  <tbody>\n",
       "    <tr>\n",
       "      <th>1</th>\n",
       "      <td>E012</td>\n",
       "      <td>Bordin</td>\n",
       "      <td>male</td>\n",
       "      <td>developer</td>\n",
       "      <td>25</td>\n",
       "      <td>48700.0</td>\n",
       "      <td>2</td>\n",
       "      <td>Phuket</td>\n",
       "    </tr>\n",
       "    <tr>\n",
       "      <th>2</th>\n",
       "      <td>E013</td>\n",
       "      <td>Chantana</td>\n",
       "      <td>female</td>\n",
       "      <td>developer</td>\n",
       "      <td>29</td>\n",
       "      <td>45500.0</td>\n",
       "      <td>3</td>\n",
       "      <td>Chonburi</td>\n",
       "    </tr>\n",
       "    <tr>\n",
       "      <th>3</th>\n",
       "      <td>E014</td>\n",
       "      <td>Donlaya</td>\n",
       "      <td>female</td>\n",
       "      <td>marketing</td>\n",
       "      <td>39</td>\n",
       "      <td>72600.0</td>\n",
       "      <td>8</td>\n",
       "      <td>Chonburi</td>\n",
       "    </tr>\n",
       "    <tr>\n",
       "      <th>4</th>\n",
       "      <td>E015</td>\n",
       "      <td>Ekkasit</td>\n",
       "      <td>male</td>\n",
       "      <td>marketing</td>\n",
       "      <td>37</td>\n",
       "      <td>80500.0</td>\n",
       "      <td>7</td>\n",
       "      <td>Suphanburi</td>\n",
       "    </tr>\n",
       "  </tbody>\n",
       "</table>\n",
       "</div>"
      ],
      "text/plain": [
       "    eid      name  gender department  age   salary  working_years birth_place\n",
       "1  E012    Bordin    male  developer   25  48700.0              2      Phuket\n",
       "2  E013  Chantana  female  developer   29  45500.0              3    Chonburi\n",
       "3  E014   Donlaya  female  marketing   39  72600.0              8    Chonburi\n",
       "4  E015   Ekkasit    male  marketing   37  80500.0              7  Suphanburi"
      ]
     },
     "execution_count": 144,
     "metadata": {},
     "output_type": "execute_result"
    }
   ],
   "source": []
  },
  {
   "cell_type": "markdown",
   "metadata": {},
   "source": [
    "### Row & Column Selection"
   ]
  },
  {
   "cell_type": "code",
   "execution_count": 145,
   "metadata": {},
   "outputs": [
    {
     "data": {
      "text/plain": [
       "name    Bordin\n",
       "age         25\n",
       "Name: 1, dtype: object"
      ]
     },
     "execution_count": 145,
     "metadata": {},
     "output_type": "execute_result"
    }
   ],
   "source": [
    "df.loc[1, [\"name\", 'age']] # [ row, [ column ]]"
   ]
  },
  {
   "cell_type": "code",
   "execution_count": 146,
   "metadata": {},
   "outputs": [
    {
     "data": {
      "text/plain": [
       "pandas.core.series.Series"
      ]
     },
     "execution_count": 146,
     "metadata": {},
     "output_type": "execute_result"
    }
   ],
   "source": [
    "type(df.loc[1, [\"name\", 'age']])"
   ]
  },
  {
   "cell_type": "code",
   "execution_count": 147,
   "metadata": {},
   "outputs": [
    {
     "data": {
      "text/html": [
       "<div>\n",
       "<style scoped>\n",
       "    .dataframe tbody tr th:only-of-type {\n",
       "        vertical-align: middle;\n",
       "    }\n",
       "\n",
       "    .dataframe tbody tr th {\n",
       "        vertical-align: top;\n",
       "    }\n",
       "\n",
       "    .dataframe thead th {\n",
       "        text-align: right;\n",
       "    }\n",
       "</style>\n",
       "<table border=\"1\" class=\"dataframe\">\n",
       "  <thead>\n",
       "    <tr style=\"text-align: right;\">\n",
       "      <th></th>\n",
       "      <th>name</th>\n",
       "      <th>age</th>\n",
       "    </tr>\n",
       "  </thead>\n",
       "  <tbody>\n",
       "    <tr>\n",
       "      <th>1</th>\n",
       "      <td>Bordin</td>\n",
       "      <td>25</td>\n",
       "    </tr>\n",
       "  </tbody>\n",
       "</table>\n",
       "</div>"
      ],
      "text/plain": [
       "     name  age\n",
       "1  Bordin   25"
      ]
     },
     "execution_count": 147,
     "metadata": {},
     "output_type": "execute_result"
    }
   ],
   "source": [
    "df.loc[[1], ['name', 'age']]"
   ]
  },
  {
   "cell_type": "code",
   "execution_count": 148,
   "metadata": {},
   "outputs": [
    {
     "data": {
      "text/plain": [
       "pandas.core.frame.DataFrame"
      ]
     },
     "execution_count": 148,
     "metadata": {},
     "output_type": "execute_result"
    }
   ],
   "source": [
    "type(df.loc[[1], ['name', 'age']])"
   ]
  },
  {
   "cell_type": "code",
   "execution_count": 149,
   "metadata": {},
   "outputs": [
    {
     "data": {
      "text/html": [
       "<div>\n",
       "<style scoped>\n",
       "    .dataframe tbody tr th:only-of-type {\n",
       "        vertical-align: middle;\n",
       "    }\n",
       "\n",
       "    .dataframe tbody tr th {\n",
       "        vertical-align: top;\n",
       "    }\n",
       "\n",
       "    .dataframe thead th {\n",
       "        text-align: right;\n",
       "    }\n",
       "</style>\n",
       "<table border=\"1\" class=\"dataframe\">\n",
       "  <thead>\n",
       "    <tr style=\"text-align: right;\">\n",
       "      <th></th>\n",
       "      <th>name</th>\n",
       "      <th>age</th>\n",
       "    </tr>\n",
       "  </thead>\n",
       "  <tbody>\n",
       "    <tr>\n",
       "      <th>1</th>\n",
       "      <td>Bordin</td>\n",
       "      <td>25</td>\n",
       "    </tr>\n",
       "    <tr>\n",
       "      <th>2</th>\n",
       "      <td>Chantana</td>\n",
       "      <td>29</td>\n",
       "    </tr>\n",
       "    <tr>\n",
       "      <th>3</th>\n",
       "      <td>Donlaya</td>\n",
       "      <td>39</td>\n",
       "    </tr>\n",
       "  </tbody>\n",
       "</table>\n",
       "</div>"
      ],
      "text/plain": [
       "       name  age\n",
       "1    Bordin   25\n",
       "2  Chantana   29\n",
       "3   Donlaya   39"
      ]
     },
     "execution_count": 149,
     "metadata": {},
     "output_type": "execute_result"
    }
   ],
   "source": [
    "df.loc[[1, 2, 3], ['name', 'age']]"
   ]
  },
  {
   "cell_type": "code",
   "execution_count": 151,
   "metadata": {},
   "outputs": [
    {
     "data": {
      "text/html": [
       "<div>\n",
       "<style scoped>\n",
       "    .dataframe tbody tr th:only-of-type {\n",
       "        vertical-align: middle;\n",
       "    }\n",
       "\n",
       "    .dataframe tbody tr th {\n",
       "        vertical-align: top;\n",
       "    }\n",
       "\n",
       "    .dataframe thead th {\n",
       "        text-align: right;\n",
       "    }\n",
       "</style>\n",
       "<table border=\"1\" class=\"dataframe\">\n",
       "  <thead>\n",
       "    <tr style=\"text-align: right;\">\n",
       "      <th></th>\n",
       "      <th>name</th>\n",
       "      <th>age</th>\n",
       "    </tr>\n",
       "  </thead>\n",
       "  <tbody>\n",
       "    <tr>\n",
       "      <th>1</th>\n",
       "      <td>Bordin</td>\n",
       "      <td>25</td>\n",
       "    </tr>\n",
       "    <tr>\n",
       "      <th>2</th>\n",
       "      <td>Chantana</td>\n",
       "      <td>29</td>\n",
       "    </tr>\n",
       "    <tr>\n",
       "      <th>3</th>\n",
       "      <td>Donlaya</td>\n",
       "      <td>39</td>\n",
       "    </tr>\n",
       "  </tbody>\n",
       "</table>\n",
       "</div>"
      ],
      "text/plain": [
       "       name  age\n",
       "1    Bordin   25\n",
       "2  Chantana   29\n",
       "3   Donlaya   39"
      ]
     },
     "execution_count": 151,
     "metadata": {},
     "output_type": "execute_result"
    }
   ],
   "source": [
    "df[['name', 'age']].loc[[1, 2, 3]]"
   ]
  },
  {
   "cell_type": "code",
   "execution_count": 152,
   "metadata": {},
   "outputs": [
    {
     "data": {
      "text/plain": [
       "1      Bordin\n",
       "2    Chantana\n",
       "3     Donlaya\n",
       "Name: name, dtype: object"
      ]
     },
     "execution_count": 152,
     "metadata": {},
     "output_type": "execute_result"
    }
   ],
   "source": [
    "df.loc[[1, 2, 3]]['name']"
   ]
  },
  {
   "cell_type": "code",
   "execution_count": 153,
   "metadata": {},
   "outputs": [
    {
     "data": {
      "text/plain": [
       "pandas.core.series.Series"
      ]
     },
     "execution_count": 153,
     "metadata": {},
     "output_type": "execute_result"
    }
   ],
   "source": [
    "type(df.loc[[1, 2, 3]]['name'])"
   ]
  },
  {
   "cell_type": "code",
   "execution_count": 155,
   "metadata": {},
   "outputs": [
    {
     "data": {
      "text/html": [
       "<div>\n",
       "<style scoped>\n",
       "    .dataframe tbody tr th:only-of-type {\n",
       "        vertical-align: middle;\n",
       "    }\n",
       "\n",
       "    .dataframe tbody tr th {\n",
       "        vertical-align: top;\n",
       "    }\n",
       "\n",
       "    .dataframe thead th {\n",
       "        text-align: right;\n",
       "    }\n",
       "</style>\n",
       "<table border=\"1\" class=\"dataframe\">\n",
       "  <thead>\n",
       "    <tr style=\"text-align: right;\">\n",
       "      <th></th>\n",
       "      <th>name</th>\n",
       "      <th>age</th>\n",
       "    </tr>\n",
       "  </thead>\n",
       "  <tbody>\n",
       "    <tr>\n",
       "      <th>1</th>\n",
       "      <td>Bordin</td>\n",
       "      <td>25</td>\n",
       "    </tr>\n",
       "    <tr>\n",
       "      <th>2</th>\n",
       "      <td>Chantana</td>\n",
       "      <td>29</td>\n",
       "    </tr>\n",
       "    <tr>\n",
       "      <th>3</th>\n",
       "      <td>Donlaya</td>\n",
       "      <td>39</td>\n",
       "    </tr>\n",
       "  </tbody>\n",
       "</table>\n",
       "</div>"
      ],
      "text/plain": [
       "       name  age\n",
       "1    Bordin   25\n",
       "2  Chantana   29\n",
       "3   Donlaya   39"
      ]
     },
     "execution_count": 155,
     "metadata": {},
     "output_type": "execute_result"
    }
   ],
   "source": [
    "df.loc[[1, 2, 3]][['name', 'age']]"
   ]
  },
  {
   "cell_type": "markdown",
   "metadata": {},
   "source": [
    "### Value Modification"
   ]
  },
  {
   "cell_type": "code",
   "execution_count": 159,
   "metadata": {},
   "outputs": [
    {
     "data": {
      "text/html": [
       "<div>\n",
       "<style scoped>\n",
       "    .dataframe tbody tr th:only-of-type {\n",
       "        vertical-align: middle;\n",
       "    }\n",
       "\n",
       "    .dataframe tbody tr th {\n",
       "        vertical-align: top;\n",
       "    }\n",
       "\n",
       "    .dataframe thead th {\n",
       "        text-align: right;\n",
       "    }\n",
       "</style>\n",
       "<table border=\"1\" class=\"dataframe\">\n",
       "  <thead>\n",
       "    <tr style=\"text-align: right;\">\n",
       "      <th></th>\n",
       "      <th>name</th>\n",
       "      <th>working_years</th>\n",
       "    </tr>\n",
       "  </thead>\n",
       "  <tbody>\n",
       "    <tr>\n",
       "      <th>0</th>\n",
       "      <td>Anda</td>\n",
       "      <td>4</td>\n",
       "    </tr>\n",
       "    <tr>\n",
       "      <th>1</th>\n",
       "      <td>Bordin</td>\n",
       "      <td>2</td>\n",
       "    </tr>\n",
       "    <tr>\n",
       "      <th>2</th>\n",
       "      <td>Chantana</td>\n",
       "      <td>3</td>\n",
       "    </tr>\n",
       "    <tr>\n",
       "      <th>3</th>\n",
       "      <td>Donlaya</td>\n",
       "      <td>8</td>\n",
       "    </tr>\n",
       "    <tr>\n",
       "      <th>4</th>\n",
       "      <td>Ekkasit</td>\n",
       "      <td>7</td>\n",
       "    </tr>\n",
       "    <tr>\n",
       "      <th>5</th>\n",
       "      <td>Fundee</td>\n",
       "      <td>3</td>\n",
       "    </tr>\n",
       "    <tr>\n",
       "      <th>6</th>\n",
       "      <td>Gitiwit</td>\n",
       "      <td>2</td>\n",
       "    </tr>\n",
       "    <tr>\n",
       "      <th>7</th>\n",
       "      <td>Harit</td>\n",
       "      <td>5</td>\n",
       "    </tr>\n",
       "  </tbody>\n",
       "</table>\n",
       "</div>"
      ],
      "text/plain": [
       "       name  working_years\n",
       "0      Anda              4\n",
       "1    Bordin              2\n",
       "2  Chantana              3\n",
       "3   Donlaya              8\n",
       "4   Ekkasit              7\n",
       "5    Fundee              3\n",
       "6   Gitiwit              2\n",
       "7     Harit              5"
      ]
     },
     "execution_count": 159,
     "metadata": {},
     "output_type": "execute_result"
    }
   ],
   "source": [
    "df[[\"name\", \"working_years\"]]"
   ]
  },
  {
   "cell_type": "code",
   "execution_count": 160,
   "metadata": {},
   "outputs": [],
   "source": [
    "df.loc[0, \"working_years\"] = 77"
   ]
  },
  {
   "cell_type": "code",
   "execution_count": 162,
   "metadata": {},
   "outputs": [
    {
     "data": {
      "text/html": [
       "<div>\n",
       "<style scoped>\n",
       "    .dataframe tbody tr th:only-of-type {\n",
       "        vertical-align: middle;\n",
       "    }\n",
       "\n",
       "    .dataframe tbody tr th {\n",
       "        vertical-align: top;\n",
       "    }\n",
       "\n",
       "    .dataframe thead th {\n",
       "        text-align: right;\n",
       "    }\n",
       "</style>\n",
       "<table border=\"1\" class=\"dataframe\">\n",
       "  <thead>\n",
       "    <tr style=\"text-align: right;\">\n",
       "      <th></th>\n",
       "      <th>name</th>\n",
       "      <th>working_years</th>\n",
       "    </tr>\n",
       "  </thead>\n",
       "  <tbody>\n",
       "    <tr>\n",
       "      <th>0</th>\n",
       "      <td>Anda</td>\n",
       "      <td>77</td>\n",
       "    </tr>\n",
       "    <tr>\n",
       "      <th>1</th>\n",
       "      <td>Bordin</td>\n",
       "      <td>2</td>\n",
       "    </tr>\n",
       "    <tr>\n",
       "      <th>2</th>\n",
       "      <td>Chantana</td>\n",
       "      <td>3</td>\n",
       "    </tr>\n",
       "    <tr>\n",
       "      <th>3</th>\n",
       "      <td>Donlaya</td>\n",
       "      <td>8</td>\n",
       "    </tr>\n",
       "    <tr>\n",
       "      <th>4</th>\n",
       "      <td>Ekkasit</td>\n",
       "      <td>7</td>\n",
       "    </tr>\n",
       "    <tr>\n",
       "      <th>5</th>\n",
       "      <td>Fundee</td>\n",
       "      <td>3</td>\n",
       "    </tr>\n",
       "    <tr>\n",
       "      <th>6</th>\n",
       "      <td>Gitiwit</td>\n",
       "      <td>2</td>\n",
       "    </tr>\n",
       "    <tr>\n",
       "      <th>7</th>\n",
       "      <td>Harit</td>\n",
       "      <td>5</td>\n",
       "    </tr>\n",
       "  </tbody>\n",
       "</table>\n",
       "</div>"
      ],
      "text/plain": [
       "       name  working_years\n",
       "0      Anda             77\n",
       "1    Bordin              2\n",
       "2  Chantana              3\n",
       "3   Donlaya              8\n",
       "4   Ekkasit              7\n",
       "5    Fundee              3\n",
       "6   Gitiwit              2\n",
       "7     Harit              5"
      ]
     },
     "execution_count": 162,
     "metadata": {},
     "output_type": "execute_result"
    }
   ],
   "source": [
    "df[['name', 'working_years']]"
   ]
  },
  {
   "cell_type": "code",
   "execution_count": 163,
   "metadata": {},
   "outputs": [],
   "source": [
    "df.loc[[1, 2] ,'working_years'] = 9999"
   ]
  },
  {
   "cell_type": "code",
   "execution_count": 164,
   "metadata": {},
   "outputs": [
    {
     "data": {
      "text/html": [
       "<div>\n",
       "<style scoped>\n",
       "    .dataframe tbody tr th:only-of-type {\n",
       "        vertical-align: middle;\n",
       "    }\n",
       "\n",
       "    .dataframe tbody tr th {\n",
       "        vertical-align: top;\n",
       "    }\n",
       "\n",
       "    .dataframe thead th {\n",
       "        text-align: right;\n",
       "    }\n",
       "</style>\n",
       "<table border=\"1\" class=\"dataframe\">\n",
       "  <thead>\n",
       "    <tr style=\"text-align: right;\">\n",
       "      <th></th>\n",
       "      <th>name</th>\n",
       "      <th>working_years</th>\n",
       "    </tr>\n",
       "  </thead>\n",
       "  <tbody>\n",
       "    <tr>\n",
       "      <th>0</th>\n",
       "      <td>Anda</td>\n",
       "      <td>77</td>\n",
       "    </tr>\n",
       "    <tr>\n",
       "      <th>1</th>\n",
       "      <td>Bordin</td>\n",
       "      <td>9999</td>\n",
       "    </tr>\n",
       "    <tr>\n",
       "      <th>2</th>\n",
       "      <td>Chantana</td>\n",
       "      <td>9999</td>\n",
       "    </tr>\n",
       "    <tr>\n",
       "      <th>3</th>\n",
       "      <td>Donlaya</td>\n",
       "      <td>8</td>\n",
       "    </tr>\n",
       "    <tr>\n",
       "      <th>4</th>\n",
       "      <td>Ekkasit</td>\n",
       "      <td>7</td>\n",
       "    </tr>\n",
       "    <tr>\n",
       "      <th>5</th>\n",
       "      <td>Fundee</td>\n",
       "      <td>3</td>\n",
       "    </tr>\n",
       "    <tr>\n",
       "      <th>6</th>\n",
       "      <td>Gitiwit</td>\n",
       "      <td>2</td>\n",
       "    </tr>\n",
       "    <tr>\n",
       "      <th>7</th>\n",
       "      <td>Harit</td>\n",
       "      <td>5</td>\n",
       "    </tr>\n",
       "  </tbody>\n",
       "</table>\n",
       "</div>"
      ],
      "text/plain": [
       "       name  working_years\n",
       "0      Anda             77\n",
       "1    Bordin           9999\n",
       "2  Chantana           9999\n",
       "3   Donlaya              8\n",
       "4   Ekkasit              7\n",
       "5    Fundee              3\n",
       "6   Gitiwit              2\n",
       "7     Harit              5"
      ]
     },
     "execution_count": 164,
     "metadata": {},
     "output_type": "execute_result"
    }
   ],
   "source": [
    "df[['name', 'working_years']]"
   ]
  },
  {
   "cell_type": "code",
   "execution_count": 165,
   "metadata": {},
   "outputs": [],
   "source": [
    "df.loc[[1, 2], ['name', 'working_years']] = 'MODIFIED'"
   ]
  },
  {
   "cell_type": "code",
   "execution_count": 166,
   "metadata": {},
   "outputs": [
    {
     "data": {
      "text/html": [
       "<div>\n",
       "<style scoped>\n",
       "    .dataframe tbody tr th:only-of-type {\n",
       "        vertical-align: middle;\n",
       "    }\n",
       "\n",
       "    .dataframe tbody tr th {\n",
       "        vertical-align: top;\n",
       "    }\n",
       "\n",
       "    .dataframe thead th {\n",
       "        text-align: right;\n",
       "    }\n",
       "</style>\n",
       "<table border=\"1\" class=\"dataframe\">\n",
       "  <thead>\n",
       "    <tr style=\"text-align: right;\">\n",
       "      <th></th>\n",
       "      <th>name</th>\n",
       "      <th>working_years</th>\n",
       "    </tr>\n",
       "  </thead>\n",
       "  <tbody>\n",
       "    <tr>\n",
       "      <th>0</th>\n",
       "      <td>Anda</td>\n",
       "      <td>77</td>\n",
       "    </tr>\n",
       "    <tr>\n",
       "      <th>1</th>\n",
       "      <td>MODIFIED</td>\n",
       "      <td>MODIFIED</td>\n",
       "    </tr>\n",
       "    <tr>\n",
       "      <th>2</th>\n",
       "      <td>MODIFIED</td>\n",
       "      <td>MODIFIED</td>\n",
       "    </tr>\n",
       "    <tr>\n",
       "      <th>3</th>\n",
       "      <td>Donlaya</td>\n",
       "      <td>8</td>\n",
       "    </tr>\n",
       "    <tr>\n",
       "      <th>4</th>\n",
       "      <td>Ekkasit</td>\n",
       "      <td>7</td>\n",
       "    </tr>\n",
       "    <tr>\n",
       "      <th>5</th>\n",
       "      <td>Fundee</td>\n",
       "      <td>3</td>\n",
       "    </tr>\n",
       "    <tr>\n",
       "      <th>6</th>\n",
       "      <td>Gitiwit</td>\n",
       "      <td>2</td>\n",
       "    </tr>\n",
       "    <tr>\n",
       "      <th>7</th>\n",
       "      <td>Harit</td>\n",
       "      <td>5</td>\n",
       "    </tr>\n",
       "  </tbody>\n",
       "</table>\n",
       "</div>"
      ],
      "text/plain": [
       "       name working_years\n",
       "0      Anda            77\n",
       "1  MODIFIED      MODIFIED\n",
       "2  MODIFIED      MODIFIED\n",
       "3   Donlaya             8\n",
       "4   Ekkasit             7\n",
       "5    Fundee             3\n",
       "6   Gitiwit             2\n",
       "7     Harit             5"
      ]
     },
     "execution_count": 166,
     "metadata": {},
     "output_type": "execute_result"
    }
   ],
   "source": [
    "df[['name', 'working_years']]"
   ]
  },
  {
   "cell_type": "code",
   "execution_count": 167,
   "metadata": {},
   "outputs": [
    {
     "data": {
      "text/html": [
       "<div>\n",
       "<style scoped>\n",
       "    .dataframe tbody tr th:only-of-type {\n",
       "        vertical-align: middle;\n",
       "    }\n",
       "\n",
       "    .dataframe tbody tr th {\n",
       "        vertical-align: top;\n",
       "    }\n",
       "\n",
       "    .dataframe thead th {\n",
       "        text-align: right;\n",
       "    }\n",
       "</style>\n",
       "<table border=\"1\" class=\"dataframe\">\n",
       "  <thead>\n",
       "    <tr style=\"text-align: right;\">\n",
       "      <th></th>\n",
       "      <th>eid</th>\n",
       "      <th>name</th>\n",
       "      <th>gender</th>\n",
       "      <th>department</th>\n",
       "      <th>age</th>\n",
       "      <th>salary</th>\n",
       "      <th>working_years</th>\n",
       "      <th>birth_place</th>\n",
       "    </tr>\n",
       "  </thead>\n",
       "  <tbody>\n",
       "    <tr>\n",
       "      <th>0</th>\n",
       "      <td>E011</td>\n",
       "      <td>Anda</td>\n",
       "      <td>female</td>\n",
       "      <td>developer</td>\n",
       "      <td>39</td>\n",
       "      <td>64200.0</td>\n",
       "      <td>77</td>\n",
       "      <td>Bangkok</td>\n",
       "    </tr>\n",
       "    <tr>\n",
       "      <th>1</th>\n",
       "      <td>E012</td>\n",
       "      <td>MODIFIED</td>\n",
       "      <td>male</td>\n",
       "      <td>developer</td>\n",
       "      <td>25</td>\n",
       "      <td>48700.0</td>\n",
       "      <td>MODIFIED</td>\n",
       "      <td>Phuket</td>\n",
       "    </tr>\n",
       "    <tr>\n",
       "      <th>2</th>\n",
       "      <td>E013</td>\n",
       "      <td>MODIFIED</td>\n",
       "      <td>female</td>\n",
       "      <td>developer</td>\n",
       "      <td>29</td>\n",
       "      <td>45500.0</td>\n",
       "      <td>MODIFIED</td>\n",
       "      <td>Chonburi</td>\n",
       "    </tr>\n",
       "    <tr>\n",
       "      <th>3</th>\n",
       "      <td>E014</td>\n",
       "      <td>Donlaya</td>\n",
       "      <td>female</td>\n",
       "      <td>marketing</td>\n",
       "      <td>39</td>\n",
       "      <td>72600.0</td>\n",
       "      <td>8</td>\n",
       "      <td>Chonburi</td>\n",
       "    </tr>\n",
       "    <tr>\n",
       "      <th>4</th>\n",
       "      <td>E015</td>\n",
       "      <td>Ekkasit</td>\n",
       "      <td>male</td>\n",
       "      <td>marketing</td>\n",
       "      <td>37</td>\n",
       "      <td>80500.0</td>\n",
       "      <td>7</td>\n",
       "      <td>Suphanburi</td>\n",
       "    </tr>\n",
       "    <tr>\n",
       "      <th>5</th>\n",
       "      <td>E016</td>\n",
       "      <td>Fundee</td>\n",
       "      <td>female</td>\n",
       "      <td>support</td>\n",
       "      <td>35</td>\n",
       "      <td>56600.0</td>\n",
       "      <td>3</td>\n",
       "      <td>Phuket</td>\n",
       "    </tr>\n",
       "    <tr>\n",
       "      <th>6</th>\n",
       "      <td>E017</td>\n",
       "      <td>Gitiwit</td>\n",
       "      <td>male</td>\n",
       "      <td>support</td>\n",
       "      <td>26</td>\n",
       "      <td>42400.0</td>\n",
       "      <td>2</td>\n",
       "      <td>Suphanburi</td>\n",
       "    </tr>\n",
       "    <tr>\n",
       "      <th>7</th>\n",
       "      <td>E018</td>\n",
       "      <td>Harit</td>\n",
       "      <td>male</td>\n",
       "      <td>devops</td>\n",
       "      <td>32</td>\n",
       "      <td>67700.0</td>\n",
       "      <td>5</td>\n",
       "      <td>Bangkok</td>\n",
       "    </tr>\n",
       "  </tbody>\n",
       "</table>\n",
       "</div>"
      ],
      "text/plain": [
       "    eid      name  gender department  age   salary working_years birth_place\n",
       "0  E011      Anda  female  developer   39  64200.0            77     Bangkok\n",
       "1  E012  MODIFIED    male  developer   25  48700.0      MODIFIED      Phuket\n",
       "2  E013  MODIFIED  female  developer   29  45500.0      MODIFIED    Chonburi\n",
       "3  E014   Donlaya  female  marketing   39  72600.0             8    Chonburi\n",
       "4  E015   Ekkasit    male  marketing   37  80500.0             7  Suphanburi\n",
       "5  E016    Fundee  female    support   35  56600.0             3      Phuket\n",
       "6  E017   Gitiwit    male    support   26  42400.0             2  Suphanburi\n",
       "7  E018     Harit    male     devops   32  67700.0             5     Bangkok"
      ]
     },
     "execution_count": 167,
     "metadata": {},
     "output_type": "execute_result"
    }
   ],
   "source": [
    "df"
   ]
  },
  {
   "cell_type": "markdown",
   "metadata": {},
   "source": [
    "### Reload Dataframe"
   ]
  },
  {
   "cell_type": "code",
   "execution_count": 169,
   "metadata": {},
   "outputs": [],
   "source": [
    "df = pd.read_csv(CSV_PATH)"
   ]
  },
  {
   "cell_type": "code",
   "execution_count": 170,
   "metadata": {},
   "outputs": [
    {
     "data": {
      "text/html": [
       "<div>\n",
       "<style scoped>\n",
       "    .dataframe tbody tr th:only-of-type {\n",
       "        vertical-align: middle;\n",
       "    }\n",
       "\n",
       "    .dataframe tbody tr th {\n",
       "        vertical-align: top;\n",
       "    }\n",
       "\n",
       "    .dataframe thead th {\n",
       "        text-align: right;\n",
       "    }\n",
       "</style>\n",
       "<table border=\"1\" class=\"dataframe\">\n",
       "  <thead>\n",
       "    <tr style=\"text-align: right;\">\n",
       "      <th></th>\n",
       "      <th>eid</th>\n",
       "      <th>name</th>\n",
       "      <th>gender</th>\n",
       "      <th>department</th>\n",
       "      <th>age</th>\n",
       "      <th>salary</th>\n",
       "      <th>working_years</th>\n",
       "      <th>birth_place</th>\n",
       "    </tr>\n",
       "  </thead>\n",
       "  <tbody>\n",
       "    <tr>\n",
       "      <th>0</th>\n",
       "      <td>E011</td>\n",
       "      <td>Anda</td>\n",
       "      <td>female</td>\n",
       "      <td>developer</td>\n",
       "      <td>39</td>\n",
       "      <td>64200.0</td>\n",
       "      <td>4</td>\n",
       "      <td>Bangkok</td>\n",
       "    </tr>\n",
       "    <tr>\n",
       "      <th>1</th>\n",
       "      <td>E012</td>\n",
       "      <td>Bordin</td>\n",
       "      <td>male</td>\n",
       "      <td>developer</td>\n",
       "      <td>25</td>\n",
       "      <td>48700.0</td>\n",
       "      <td>2</td>\n",
       "      <td>Phuket</td>\n",
       "    </tr>\n",
       "    <tr>\n",
       "      <th>2</th>\n",
       "      <td>E013</td>\n",
       "      <td>Chantana</td>\n",
       "      <td>female</td>\n",
       "      <td>developer</td>\n",
       "      <td>29</td>\n",
       "      <td>45500.0</td>\n",
       "      <td>3</td>\n",
       "      <td>Chonburi</td>\n",
       "    </tr>\n",
       "    <tr>\n",
       "      <th>3</th>\n",
       "      <td>E014</td>\n",
       "      <td>Donlaya</td>\n",
       "      <td>female</td>\n",
       "      <td>marketing</td>\n",
       "      <td>39</td>\n",
       "      <td>72600.0</td>\n",
       "      <td>8</td>\n",
       "      <td>Chonburi</td>\n",
       "    </tr>\n",
       "    <tr>\n",
       "      <th>4</th>\n",
       "      <td>E015</td>\n",
       "      <td>Ekkasit</td>\n",
       "      <td>male</td>\n",
       "      <td>marketing</td>\n",
       "      <td>37</td>\n",
       "      <td>80500.0</td>\n",
       "      <td>7</td>\n",
       "      <td>Suphanburi</td>\n",
       "    </tr>\n",
       "    <tr>\n",
       "      <th>5</th>\n",
       "      <td>E016</td>\n",
       "      <td>Fundee</td>\n",
       "      <td>female</td>\n",
       "      <td>support</td>\n",
       "      <td>35</td>\n",
       "      <td>56600.0</td>\n",
       "      <td>3</td>\n",
       "      <td>Phuket</td>\n",
       "    </tr>\n",
       "    <tr>\n",
       "      <th>6</th>\n",
       "      <td>E017</td>\n",
       "      <td>Gitiwit</td>\n",
       "      <td>male</td>\n",
       "      <td>support</td>\n",
       "      <td>26</td>\n",
       "      <td>42400.0</td>\n",
       "      <td>2</td>\n",
       "      <td>Suphanburi</td>\n",
       "    </tr>\n",
       "    <tr>\n",
       "      <th>7</th>\n",
       "      <td>E018</td>\n",
       "      <td>Harit</td>\n",
       "      <td>male</td>\n",
       "      <td>devops</td>\n",
       "      <td>32</td>\n",
       "      <td>67700.0</td>\n",
       "      <td>5</td>\n",
       "      <td>Bangkok</td>\n",
       "    </tr>\n",
       "  </tbody>\n",
       "</table>\n",
       "</div>"
      ],
      "text/plain": [
       "    eid      name  gender department  age   salary  working_years birth_place\n",
       "0  E011      Anda  female  developer   39  64200.0              4     Bangkok\n",
       "1  E012    Bordin    male  developer   25  48700.0              2      Phuket\n",
       "2  E013  Chantana  female  developer   29  45500.0              3    Chonburi\n",
       "3  E014   Donlaya  female  marketing   39  72600.0              8    Chonburi\n",
       "4  E015   Ekkasit    male  marketing   37  80500.0              7  Suphanburi\n",
       "5  E016    Fundee  female    support   35  56600.0              3      Phuket\n",
       "6  E017   Gitiwit    male    support   26  42400.0              2  Suphanburi\n",
       "7  E018     Harit    male     devops   32  67700.0              5     Bangkok"
      ]
     },
     "execution_count": 170,
     "metadata": {},
     "output_type": "execute_result"
    }
   ],
   "source": [
    "df"
   ]
  },
  {
   "cell_type": "code",
   "execution_count": 171,
   "metadata": {},
   "outputs": [
    {
     "data": {
      "text/html": [
       "<div>\n",
       "<style scoped>\n",
       "    .dataframe tbody tr th:only-of-type {\n",
       "        vertical-align: middle;\n",
       "    }\n",
       "\n",
       "    .dataframe tbody tr th {\n",
       "        vertical-align: top;\n",
       "    }\n",
       "\n",
       "    .dataframe thead th {\n",
       "        text-align: right;\n",
       "    }\n",
       "</style>\n",
       "<table border=\"1\" class=\"dataframe\">\n",
       "  <thead>\n",
       "    <tr style=\"text-align: right;\">\n",
       "      <th></th>\n",
       "      <th>name</th>\n",
       "      <th>gender</th>\n",
       "      <th>department</th>\n",
       "      <th>age</th>\n",
       "      <th>salary</th>\n",
       "      <th>working_years</th>\n",
       "      <th>birth_place</th>\n",
       "    </tr>\n",
       "    <tr>\n",
       "      <th>eid</th>\n",
       "      <th></th>\n",
       "      <th></th>\n",
       "      <th></th>\n",
       "      <th></th>\n",
       "      <th></th>\n",
       "      <th></th>\n",
       "      <th></th>\n",
       "    </tr>\n",
       "  </thead>\n",
       "  <tbody>\n",
       "    <tr>\n",
       "      <th>E011</th>\n",
       "      <td>Anda</td>\n",
       "      <td>female</td>\n",
       "      <td>developer</td>\n",
       "      <td>39</td>\n",
       "      <td>64200.0</td>\n",
       "      <td>4</td>\n",
       "      <td>Bangkok</td>\n",
       "    </tr>\n",
       "    <tr>\n",
       "      <th>E012</th>\n",
       "      <td>Bordin</td>\n",
       "      <td>male</td>\n",
       "      <td>developer</td>\n",
       "      <td>25</td>\n",
       "      <td>48700.0</td>\n",
       "      <td>2</td>\n",
       "      <td>Phuket</td>\n",
       "    </tr>\n",
       "    <tr>\n",
       "      <th>E013</th>\n",
       "      <td>Chantana</td>\n",
       "      <td>female</td>\n",
       "      <td>developer</td>\n",
       "      <td>29</td>\n",
       "      <td>45500.0</td>\n",
       "      <td>3</td>\n",
       "      <td>Chonburi</td>\n",
       "    </tr>\n",
       "    <tr>\n",
       "      <th>E014</th>\n",
       "      <td>Donlaya</td>\n",
       "      <td>female</td>\n",
       "      <td>marketing</td>\n",
       "      <td>39</td>\n",
       "      <td>72600.0</td>\n",
       "      <td>8</td>\n",
       "      <td>Chonburi</td>\n",
       "    </tr>\n",
       "    <tr>\n",
       "      <th>E015</th>\n",
       "      <td>Ekkasit</td>\n",
       "      <td>male</td>\n",
       "      <td>marketing</td>\n",
       "      <td>37</td>\n",
       "      <td>80500.0</td>\n",
       "      <td>7</td>\n",
       "      <td>Suphanburi</td>\n",
       "    </tr>\n",
       "    <tr>\n",
       "      <th>E016</th>\n",
       "      <td>Fundee</td>\n",
       "      <td>female</td>\n",
       "      <td>support</td>\n",
       "      <td>35</td>\n",
       "      <td>56600.0</td>\n",
       "      <td>3</td>\n",
       "      <td>Phuket</td>\n",
       "    </tr>\n",
       "    <tr>\n",
       "      <th>E017</th>\n",
       "      <td>Gitiwit</td>\n",
       "      <td>male</td>\n",
       "      <td>support</td>\n",
       "      <td>26</td>\n",
       "      <td>42400.0</td>\n",
       "      <td>2</td>\n",
       "      <td>Suphanburi</td>\n",
       "    </tr>\n",
       "    <tr>\n",
       "      <th>E018</th>\n",
       "      <td>Harit</td>\n",
       "      <td>male</td>\n",
       "      <td>devops</td>\n",
       "      <td>32</td>\n",
       "      <td>67700.0</td>\n",
       "      <td>5</td>\n",
       "      <td>Bangkok</td>\n",
       "    </tr>\n",
       "  </tbody>\n",
       "</table>\n",
       "</div>"
      ],
      "text/plain": [
       "          name  gender department  age   salary  working_years birth_place\n",
       "eid                                                                       \n",
       "E011      Anda  female  developer   39  64200.0              4     Bangkok\n",
       "E012    Bordin    male  developer   25  48700.0              2      Phuket\n",
       "E013  Chantana  female  developer   29  45500.0              3    Chonburi\n",
       "E014   Donlaya  female  marketing   39  72600.0              8    Chonburi\n",
       "E015   Ekkasit    male  marketing   37  80500.0              7  Suphanburi\n",
       "E016    Fundee  female    support   35  56600.0              3      Phuket\n",
       "E017   Gitiwit    male    support   26  42400.0              2  Suphanburi\n",
       "E018     Harit    male     devops   32  67700.0              5     Bangkok"
      ]
     },
     "execution_count": 171,
     "metadata": {},
     "output_type": "execute_result"
    }
   ],
   "source": [
    "df.set_index('eid')"
   ]
  },
  {
   "cell_type": "code",
   "execution_count": 172,
   "metadata": {},
   "outputs": [
    {
     "data": {
      "text/html": [
       "<div>\n",
       "<style scoped>\n",
       "    .dataframe tbody tr th:only-of-type {\n",
       "        vertical-align: middle;\n",
       "    }\n",
       "\n",
       "    .dataframe tbody tr th {\n",
       "        vertical-align: top;\n",
       "    }\n",
       "\n",
       "    .dataframe thead th {\n",
       "        text-align: right;\n",
       "    }\n",
       "</style>\n",
       "<table border=\"1\" class=\"dataframe\">\n",
       "  <thead>\n",
       "    <tr style=\"text-align: right;\">\n",
       "      <th></th>\n",
       "      <th>eid</th>\n",
       "      <th>name</th>\n",
       "      <th>gender</th>\n",
       "      <th>department</th>\n",
       "      <th>age</th>\n",
       "      <th>salary</th>\n",
       "      <th>working_years</th>\n",
       "      <th>birth_place</th>\n",
       "    </tr>\n",
       "  </thead>\n",
       "  <tbody>\n",
       "    <tr>\n",
       "      <th>0</th>\n",
       "      <td>E011</td>\n",
       "      <td>Anda</td>\n",
       "      <td>female</td>\n",
       "      <td>developer</td>\n",
       "      <td>39</td>\n",
       "      <td>64200.0</td>\n",
       "      <td>4</td>\n",
       "      <td>Bangkok</td>\n",
       "    </tr>\n",
       "    <tr>\n",
       "      <th>1</th>\n",
       "      <td>E012</td>\n",
       "      <td>Bordin</td>\n",
       "      <td>male</td>\n",
       "      <td>developer</td>\n",
       "      <td>25</td>\n",
       "      <td>48700.0</td>\n",
       "      <td>2</td>\n",
       "      <td>Phuket</td>\n",
       "    </tr>\n",
       "    <tr>\n",
       "      <th>2</th>\n",
       "      <td>E013</td>\n",
       "      <td>Chantana</td>\n",
       "      <td>female</td>\n",
       "      <td>developer</td>\n",
       "      <td>29</td>\n",
       "      <td>45500.0</td>\n",
       "      <td>3</td>\n",
       "      <td>Chonburi</td>\n",
       "    </tr>\n",
       "    <tr>\n",
       "      <th>3</th>\n",
       "      <td>E014</td>\n",
       "      <td>Donlaya</td>\n",
       "      <td>female</td>\n",
       "      <td>marketing</td>\n",
       "      <td>39</td>\n",
       "      <td>72600.0</td>\n",
       "      <td>8</td>\n",
       "      <td>Chonburi</td>\n",
       "    </tr>\n",
       "    <tr>\n",
       "      <th>4</th>\n",
       "      <td>E015</td>\n",
       "      <td>Ekkasit</td>\n",
       "      <td>male</td>\n",
       "      <td>marketing</td>\n",
       "      <td>37</td>\n",
       "      <td>80500.0</td>\n",
       "      <td>7</td>\n",
       "      <td>Suphanburi</td>\n",
       "    </tr>\n",
       "    <tr>\n",
       "      <th>5</th>\n",
       "      <td>E016</td>\n",
       "      <td>Fundee</td>\n",
       "      <td>female</td>\n",
       "      <td>support</td>\n",
       "      <td>35</td>\n",
       "      <td>56600.0</td>\n",
       "      <td>3</td>\n",
       "      <td>Phuket</td>\n",
       "    </tr>\n",
       "    <tr>\n",
       "      <th>6</th>\n",
       "      <td>E017</td>\n",
       "      <td>Gitiwit</td>\n",
       "      <td>male</td>\n",
       "      <td>support</td>\n",
       "      <td>26</td>\n",
       "      <td>42400.0</td>\n",
       "      <td>2</td>\n",
       "      <td>Suphanburi</td>\n",
       "    </tr>\n",
       "    <tr>\n",
       "      <th>7</th>\n",
       "      <td>E018</td>\n",
       "      <td>Harit</td>\n",
       "      <td>male</td>\n",
       "      <td>devops</td>\n",
       "      <td>32</td>\n",
       "      <td>67700.0</td>\n",
       "      <td>5</td>\n",
       "      <td>Bangkok</td>\n",
       "    </tr>\n",
       "  </tbody>\n",
       "</table>\n",
       "</div>"
      ],
      "text/plain": [
       "    eid      name  gender department  age   salary  working_years birth_place\n",
       "0  E011      Anda  female  developer   39  64200.0              4     Bangkok\n",
       "1  E012    Bordin    male  developer   25  48700.0              2      Phuket\n",
       "2  E013  Chantana  female  developer   29  45500.0              3    Chonburi\n",
       "3  E014   Donlaya  female  marketing   39  72600.0              8    Chonburi\n",
       "4  E015   Ekkasit    male  marketing   37  80500.0              7  Suphanburi\n",
       "5  E016    Fundee  female    support   35  56600.0              3      Phuket\n",
       "6  E017   Gitiwit    male    support   26  42400.0              2  Suphanburi\n",
       "7  E018     Harit    male     devops   32  67700.0              5     Bangkok"
      ]
     },
     "execution_count": 172,
     "metadata": {},
     "output_type": "execute_result"
    }
   ],
   "source": [
    "df"
   ]
  },
  {
   "cell_type": "code",
   "execution_count": 173,
   "metadata": {},
   "outputs": [],
   "source": [
    "df.set_index('eid', inplace=True)"
   ]
  },
  {
   "cell_type": "code",
   "execution_count": 174,
   "metadata": {},
   "outputs": [
    {
     "data": {
      "text/html": [
       "<div>\n",
       "<style scoped>\n",
       "    .dataframe tbody tr th:only-of-type {\n",
       "        vertical-align: middle;\n",
       "    }\n",
       "\n",
       "    .dataframe tbody tr th {\n",
       "        vertical-align: top;\n",
       "    }\n",
       "\n",
       "    .dataframe thead th {\n",
       "        text-align: right;\n",
       "    }\n",
       "</style>\n",
       "<table border=\"1\" class=\"dataframe\">\n",
       "  <thead>\n",
       "    <tr style=\"text-align: right;\">\n",
       "      <th></th>\n",
       "      <th>name</th>\n",
       "      <th>gender</th>\n",
       "      <th>department</th>\n",
       "      <th>age</th>\n",
       "      <th>salary</th>\n",
       "      <th>working_years</th>\n",
       "      <th>birth_place</th>\n",
       "    </tr>\n",
       "    <tr>\n",
       "      <th>eid</th>\n",
       "      <th></th>\n",
       "      <th></th>\n",
       "      <th></th>\n",
       "      <th></th>\n",
       "      <th></th>\n",
       "      <th></th>\n",
       "      <th></th>\n",
       "    </tr>\n",
       "  </thead>\n",
       "  <tbody>\n",
       "    <tr>\n",
       "      <th>E011</th>\n",
       "      <td>Anda</td>\n",
       "      <td>female</td>\n",
       "      <td>developer</td>\n",
       "      <td>39</td>\n",
       "      <td>64200.0</td>\n",
       "      <td>4</td>\n",
       "      <td>Bangkok</td>\n",
       "    </tr>\n",
       "    <tr>\n",
       "      <th>E012</th>\n",
       "      <td>Bordin</td>\n",
       "      <td>male</td>\n",
       "      <td>developer</td>\n",
       "      <td>25</td>\n",
       "      <td>48700.0</td>\n",
       "      <td>2</td>\n",
       "      <td>Phuket</td>\n",
       "    </tr>\n",
       "    <tr>\n",
       "      <th>E013</th>\n",
       "      <td>Chantana</td>\n",
       "      <td>female</td>\n",
       "      <td>developer</td>\n",
       "      <td>29</td>\n",
       "      <td>45500.0</td>\n",
       "      <td>3</td>\n",
       "      <td>Chonburi</td>\n",
       "    </tr>\n",
       "    <tr>\n",
       "      <th>E014</th>\n",
       "      <td>Donlaya</td>\n",
       "      <td>female</td>\n",
       "      <td>marketing</td>\n",
       "      <td>39</td>\n",
       "      <td>72600.0</td>\n",
       "      <td>8</td>\n",
       "      <td>Chonburi</td>\n",
       "    </tr>\n",
       "    <tr>\n",
       "      <th>E015</th>\n",
       "      <td>Ekkasit</td>\n",
       "      <td>male</td>\n",
       "      <td>marketing</td>\n",
       "      <td>37</td>\n",
       "      <td>80500.0</td>\n",
       "      <td>7</td>\n",
       "      <td>Suphanburi</td>\n",
       "    </tr>\n",
       "    <tr>\n",
       "      <th>E016</th>\n",
       "      <td>Fundee</td>\n",
       "      <td>female</td>\n",
       "      <td>support</td>\n",
       "      <td>35</td>\n",
       "      <td>56600.0</td>\n",
       "      <td>3</td>\n",
       "      <td>Phuket</td>\n",
       "    </tr>\n",
       "    <tr>\n",
       "      <th>E017</th>\n",
       "      <td>Gitiwit</td>\n",
       "      <td>male</td>\n",
       "      <td>support</td>\n",
       "      <td>26</td>\n",
       "      <td>42400.0</td>\n",
       "      <td>2</td>\n",
       "      <td>Suphanburi</td>\n",
       "    </tr>\n",
       "    <tr>\n",
       "      <th>E018</th>\n",
       "      <td>Harit</td>\n",
       "      <td>male</td>\n",
       "      <td>devops</td>\n",
       "      <td>32</td>\n",
       "      <td>67700.0</td>\n",
       "      <td>5</td>\n",
       "      <td>Bangkok</td>\n",
       "    </tr>\n",
       "  </tbody>\n",
       "</table>\n",
       "</div>"
      ],
      "text/plain": [
       "          name  gender department  age   salary  working_years birth_place\n",
       "eid                                                                       \n",
       "E011      Anda  female  developer   39  64200.0              4     Bangkok\n",
       "E012    Bordin    male  developer   25  48700.0              2      Phuket\n",
       "E013  Chantana  female  developer   29  45500.0              3    Chonburi\n",
       "E014   Donlaya  female  marketing   39  72600.0              8    Chonburi\n",
       "E015   Ekkasit    male  marketing   37  80500.0              7  Suphanburi\n",
       "E016    Fundee  female    support   35  56600.0              3      Phuket\n",
       "E017   Gitiwit    male    support   26  42400.0              2  Suphanburi\n",
       "E018     Harit    male     devops   32  67700.0              5     Bangkok"
      ]
     },
     "execution_count": 174,
     "metadata": {},
     "output_type": "execute_result"
    }
   ],
   "source": [
    "df"
   ]
  },
  {
   "cell_type": "markdown",
   "metadata": {},
   "source": [
    "### Row & Column Selection 2 "
   ]
  },
  {
   "cell_type": "code",
   "execution_count": 175,
   "metadata": {},
   "outputs": [
    {
     "data": {
      "text/html": [
       "<div>\n",
       "<style scoped>\n",
       "    .dataframe tbody tr th:only-of-type {\n",
       "        vertical-align: middle;\n",
       "    }\n",
       "\n",
       "    .dataframe tbody tr th {\n",
       "        vertical-align: top;\n",
       "    }\n",
       "\n",
       "    .dataframe thead th {\n",
       "        text-align: right;\n",
       "    }\n",
       "</style>\n",
       "<table border=\"1\" class=\"dataframe\">\n",
       "  <thead>\n",
       "    <tr style=\"text-align: right;\">\n",
       "      <th></th>\n",
       "      <th>name</th>\n",
       "      <th>salary</th>\n",
       "    </tr>\n",
       "    <tr>\n",
       "      <th>eid</th>\n",
       "      <th></th>\n",
       "      <th></th>\n",
       "    </tr>\n",
       "  </thead>\n",
       "  <tbody>\n",
       "    <tr>\n",
       "      <th>E011</th>\n",
       "      <td>Anda</td>\n",
       "      <td>64200.0</td>\n",
       "    </tr>\n",
       "    <tr>\n",
       "      <th>E012</th>\n",
       "      <td>Bordin</td>\n",
       "      <td>48700.0</td>\n",
       "    </tr>\n",
       "  </tbody>\n",
       "</table>\n",
       "</div>"
      ],
      "text/plain": [
       "        name   salary\n",
       "eid                  \n",
       "E011    Anda  64200.0\n",
       "E012  Bordin  48700.0"
      ]
     },
     "execution_count": 175,
     "metadata": {},
     "output_type": "execute_result"
    }
   ],
   "source": [
    "df.loc[[\"E011\",\"E012\"], ['name','salary']]"
   ]
  },
  {
   "cell_type": "code",
   "execution_count": 196,
   "metadata": {},
   "outputs": [
    {
     "data": {
      "text/plain": [
       "eid                   E011\n",
       "name                  Anda\n",
       "gender              female\n",
       "department       developer\n",
       "age                     39\n",
       "salary             64200.0\n",
       "working_years            4\n",
       "birth_place        Bangkok\n",
       "Name: 0, dtype: object"
      ]
     },
     "execution_count": 196,
     "metadata": {},
     "output_type": "execute_result"
    }
   ],
   "source": [
    "df.iloc[0]"
   ]
  },
  {
   "cell_type": "code",
   "execution_count": 182,
   "metadata": {},
   "outputs": [
    {
     "data": {
      "text/html": [
       "<div>\n",
       "<style scoped>\n",
       "    .dataframe tbody tr th:only-of-type {\n",
       "        vertical-align: middle;\n",
       "    }\n",
       "\n",
       "    .dataframe tbody tr th {\n",
       "        vertical-align: top;\n",
       "    }\n",
       "\n",
       "    .dataframe thead th {\n",
       "        text-align: right;\n",
       "    }\n",
       "</style>\n",
       "<table border=\"1\" class=\"dataframe\">\n",
       "  <thead>\n",
       "    <tr style=\"text-align: right;\">\n",
       "      <th></th>\n",
       "      <th>eid</th>\n",
       "      <th>name</th>\n",
       "      <th>gender</th>\n",
       "      <th>department</th>\n",
       "      <th>age</th>\n",
       "      <th>salary</th>\n",
       "      <th>working_years</th>\n",
       "      <th>birth_place</th>\n",
       "    </tr>\n",
       "  </thead>\n",
       "  <tbody>\n",
       "    <tr>\n",
       "      <th>0</th>\n",
       "      <td>E011</td>\n",
       "      <td>Anda</td>\n",
       "      <td>female</td>\n",
       "      <td>developer</td>\n",
       "      <td>39</td>\n",
       "      <td>64200.0</td>\n",
       "      <td>4</td>\n",
       "      <td>Bangkok</td>\n",
       "    </tr>\n",
       "  </tbody>\n",
       "</table>\n",
       "</div>"
      ],
      "text/plain": [
       "    eid  name  gender department  age   salary  working_years birth_place\n",
       "0  E011  Anda  female  developer   39  64200.0              4     Bangkok"
      ]
     },
     "execution_count": 182,
     "metadata": {},
     "output_type": "execute_result"
    }
   ],
   "source": [
    "df.iloc[[0]]"
   ]
  },
  {
   "cell_type": "code",
   "execution_count": 183,
   "metadata": {},
   "outputs": [
    {
     "data": {
      "text/html": [
       "<div>\n",
       "<style scoped>\n",
       "    .dataframe tbody tr th:only-of-type {\n",
       "        vertical-align: middle;\n",
       "    }\n",
       "\n",
       "    .dataframe tbody tr th {\n",
       "        vertical-align: top;\n",
       "    }\n",
       "\n",
       "    .dataframe thead th {\n",
       "        text-align: right;\n",
       "    }\n",
       "</style>\n",
       "<table border=\"1\" class=\"dataframe\">\n",
       "  <thead>\n",
       "    <tr style=\"text-align: right;\">\n",
       "      <th></th>\n",
       "      <th>eid</th>\n",
       "      <th>name</th>\n",
       "      <th>gender</th>\n",
       "      <th>department</th>\n",
       "      <th>age</th>\n",
       "      <th>salary</th>\n",
       "      <th>working_years</th>\n",
       "      <th>birth_place</th>\n",
       "    </tr>\n",
       "  </thead>\n",
       "  <tbody>\n",
       "    <tr>\n",
       "      <th>0</th>\n",
       "      <td>E011</td>\n",
       "      <td>Anda</td>\n",
       "      <td>female</td>\n",
       "      <td>developer</td>\n",
       "      <td>39</td>\n",
       "      <td>64200.0</td>\n",
       "      <td>4</td>\n",
       "      <td>Bangkok</td>\n",
       "    </tr>\n",
       "    <tr>\n",
       "      <th>1</th>\n",
       "      <td>E012</td>\n",
       "      <td>Bordin</td>\n",
       "      <td>male</td>\n",
       "      <td>developer</td>\n",
       "      <td>25</td>\n",
       "      <td>48700.0</td>\n",
       "      <td>2</td>\n",
       "      <td>Phuket</td>\n",
       "    </tr>\n",
       "  </tbody>\n",
       "</table>\n",
       "</div>"
      ],
      "text/plain": [
       "    eid    name  gender department  age   salary  working_years birth_place\n",
       "0  E011    Anda  female  developer   39  64200.0              4     Bangkok\n",
       "1  E012  Bordin    male  developer   25  48700.0              2      Phuket"
      ]
     },
     "execution_count": 183,
     "metadata": {},
     "output_type": "execute_result"
    }
   ],
   "source": [
    "df.iloc[[0,1]]"
   ]
  },
  {
   "cell_type": "code",
   "execution_count": 185,
   "metadata": {},
   "outputs": [
    {
     "data": {
      "text/plain": [
       "0      Anda\n",
       "1    Bordin\n",
       "Name: name, dtype: object"
      ]
     },
     "execution_count": 185,
     "metadata": {},
     "output_type": "execute_result"
    }
   ],
   "source": [
    "df.iloc[[0, 1]]['name']"
   ]
  },
  {
   "cell_type": "code",
   "execution_count": 207,
   "metadata": {},
   "outputs": [
    {
     "data": {
      "text/plain": [
       "pandas.core.series.Series"
      ]
     },
     "execution_count": 207,
     "metadata": {},
     "output_type": "execute_result"
    }
   ],
   "source": [
    "type(df.iloc[[0, 1]]['name'])"
   ]
  },
  {
   "cell_type": "code",
   "execution_count": 208,
   "metadata": {},
   "outputs": [
    {
     "data": {
      "text/html": [
       "<div>\n",
       "<style scoped>\n",
       "    .dataframe tbody tr th:only-of-type {\n",
       "        vertical-align: middle;\n",
       "    }\n",
       "\n",
       "    .dataframe tbody tr th {\n",
       "        vertical-align: top;\n",
       "    }\n",
       "\n",
       "    .dataframe thead th {\n",
       "        text-align: right;\n",
       "    }\n",
       "</style>\n",
       "<table border=\"1\" class=\"dataframe\">\n",
       "  <thead>\n",
       "    <tr style=\"text-align: right;\">\n",
       "      <th></th>\n",
       "      <th>eid</th>\n",
       "      <th>name</th>\n",
       "      <th>gender</th>\n",
       "      <th>department</th>\n",
       "      <th>age</th>\n",
       "      <th>salary</th>\n",
       "      <th>working_years</th>\n",
       "      <th>birth_place</th>\n",
       "    </tr>\n",
       "  </thead>\n",
       "  <tbody>\n",
       "    <tr>\n",
       "      <th>0</th>\n",
       "      <td>E011</td>\n",
       "      <td>Anda</td>\n",
       "      <td>female</td>\n",
       "      <td>developer</td>\n",
       "      <td>39</td>\n",
       "      <td>64200.0</td>\n",
       "      <td>4</td>\n",
       "      <td>Bangkok</td>\n",
       "    </tr>\n",
       "    <tr>\n",
       "      <th>1</th>\n",
       "      <td>E012</td>\n",
       "      <td>Bordin</td>\n",
       "      <td>male</td>\n",
       "      <td>developer</td>\n",
       "      <td>25</td>\n",
       "      <td>48700.0</td>\n",
       "      <td>2</td>\n",
       "      <td>Phuket</td>\n",
       "    </tr>\n",
       "    <tr>\n",
       "      <th>2</th>\n",
       "      <td>E013</td>\n",
       "      <td>Chantana</td>\n",
       "      <td>female</td>\n",
       "      <td>developer</td>\n",
       "      <td>29</td>\n",
       "      <td>45500.0</td>\n",
       "      <td>3</td>\n",
       "      <td>Chonburi</td>\n",
       "    </tr>\n",
       "    <tr>\n",
       "      <th>3</th>\n",
       "      <td>E014</td>\n",
       "      <td>Donlaya</td>\n",
       "      <td>female</td>\n",
       "      <td>marketing</td>\n",
       "      <td>39</td>\n",
       "      <td>72600.0</td>\n",
       "      <td>8</td>\n",
       "      <td>Chonburi</td>\n",
       "    </tr>\n",
       "    <tr>\n",
       "      <th>4</th>\n",
       "      <td>E015</td>\n",
       "      <td>Ekkasit</td>\n",
       "      <td>male</td>\n",
       "      <td>marketing</td>\n",
       "      <td>37</td>\n",
       "      <td>80500.0</td>\n",
       "      <td>7</td>\n",
       "      <td>Suphanburi</td>\n",
       "    </tr>\n",
       "    <tr>\n",
       "      <th>5</th>\n",
       "      <td>E016</td>\n",
       "      <td>Fundee</td>\n",
       "      <td>female</td>\n",
       "      <td>support</td>\n",
       "      <td>35</td>\n",
       "      <td>56600.0</td>\n",
       "      <td>3</td>\n",
       "      <td>Phuket</td>\n",
       "    </tr>\n",
       "    <tr>\n",
       "      <th>6</th>\n",
       "      <td>E017</td>\n",
       "      <td>Gitiwit</td>\n",
       "      <td>male</td>\n",
       "      <td>support</td>\n",
       "      <td>26</td>\n",
       "      <td>42400.0</td>\n",
       "      <td>2</td>\n",
       "      <td>Suphanburi</td>\n",
       "    </tr>\n",
       "    <tr>\n",
       "      <th>7</th>\n",
       "      <td>E018</td>\n",
       "      <td>Harit</td>\n",
       "      <td>male</td>\n",
       "      <td>devops</td>\n",
       "      <td>32</td>\n",
       "      <td>67700.0</td>\n",
       "      <td>5</td>\n",
       "      <td>Bangkok</td>\n",
       "    </tr>\n",
       "  </tbody>\n",
       "</table>\n",
       "</div>"
      ],
      "text/plain": [
       "    eid      name  gender department  age   salary  working_years birth_place\n",
       "0  E011      Anda  female  developer   39  64200.0              4     Bangkok\n",
       "1  E012    Bordin    male  developer   25  48700.0              2      Phuket\n",
       "2  E013  Chantana  female  developer   29  45500.0              3    Chonburi\n",
       "3  E014   Donlaya  female  marketing   39  72600.0              8    Chonburi\n",
       "4  E015   Ekkasit    male  marketing   37  80500.0              7  Suphanburi\n",
       "5  E016    Fundee  female    support   35  56600.0              3      Phuket\n",
       "6  E017   Gitiwit    male    support   26  42400.0              2  Suphanburi\n",
       "7  E018     Harit    male     devops   32  67700.0              5     Bangkok"
      ]
     },
     "execution_count": 208,
     "metadata": {},
     "output_type": "execute_result"
    }
   ],
   "source": [
    "df"
   ]
  },
  {
   "cell_type": "code",
   "execution_count": 200,
   "metadata": {},
   "outputs": [
    {
     "data": {
      "text/html": [
       "<div>\n",
       "<style scoped>\n",
       "    .dataframe tbody tr th:only-of-type {\n",
       "        vertical-align: middle;\n",
       "    }\n",
       "\n",
       "    .dataframe tbody tr th {\n",
       "        vertical-align: top;\n",
       "    }\n",
       "\n",
       "    .dataframe thead th {\n",
       "        text-align: right;\n",
       "    }\n",
       "</style>\n",
       "<table border=\"1\" class=\"dataframe\">\n",
       "  <thead>\n",
       "    <tr style=\"text-align: right;\">\n",
       "      <th></th>\n",
       "      <th>name</th>\n",
       "      <th>gender</th>\n",
       "    </tr>\n",
       "  </thead>\n",
       "  <tbody>\n",
       "    <tr>\n",
       "      <th>0</th>\n",
       "      <td>Anda</td>\n",
       "      <td>female</td>\n",
       "    </tr>\n",
       "    <tr>\n",
       "      <th>1</th>\n",
       "      <td>Bordin</td>\n",
       "      <td>male</td>\n",
       "    </tr>\n",
       "  </tbody>\n",
       "</table>\n",
       "</div>"
      ],
      "text/plain": [
       "     name  gender\n",
       "0    Anda  female\n",
       "1  Bordin    male"
      ]
     },
     "execution_count": 200,
     "metadata": {},
     "output_type": "execute_result"
    }
   ],
   "source": [
    "df.iloc[[0, 1]][['name', 'gender']]"
   ]
  },
  {
   "cell_type": "markdown",
   "metadata": {},
   "source": [
    "### Reset Index"
   ]
  },
  {
   "cell_type": "code",
   "execution_count": 188,
   "metadata": {},
   "outputs": [],
   "source": [
    "df.reset_index(inplace=True)"
   ]
  },
  {
   "cell_type": "code",
   "execution_count": 189,
   "metadata": {},
   "outputs": [
    {
     "data": {
      "text/html": [
       "<div>\n",
       "<style scoped>\n",
       "    .dataframe tbody tr th:only-of-type {\n",
       "        vertical-align: middle;\n",
       "    }\n",
       "\n",
       "    .dataframe tbody tr th {\n",
       "        vertical-align: top;\n",
       "    }\n",
       "\n",
       "    .dataframe thead th {\n",
       "        text-align: right;\n",
       "    }\n",
       "</style>\n",
       "<table border=\"1\" class=\"dataframe\">\n",
       "  <thead>\n",
       "    <tr style=\"text-align: right;\">\n",
       "      <th></th>\n",
       "      <th>index</th>\n",
       "      <th>eid</th>\n",
       "      <th>name</th>\n",
       "      <th>gender</th>\n",
       "      <th>department</th>\n",
       "      <th>age</th>\n",
       "      <th>salary</th>\n",
       "      <th>working_years</th>\n",
       "      <th>birth_place</th>\n",
       "    </tr>\n",
       "  </thead>\n",
       "  <tbody>\n",
       "    <tr>\n",
       "      <th>0</th>\n",
       "      <td>0</td>\n",
       "      <td>E011</td>\n",
       "      <td>Anda</td>\n",
       "      <td>female</td>\n",
       "      <td>developer</td>\n",
       "      <td>39</td>\n",
       "      <td>64200.0</td>\n",
       "      <td>4</td>\n",
       "      <td>Bangkok</td>\n",
       "    </tr>\n",
       "    <tr>\n",
       "      <th>1</th>\n",
       "      <td>1</td>\n",
       "      <td>E012</td>\n",
       "      <td>Bordin</td>\n",
       "      <td>male</td>\n",
       "      <td>developer</td>\n",
       "      <td>25</td>\n",
       "      <td>48700.0</td>\n",
       "      <td>2</td>\n",
       "      <td>Phuket</td>\n",
       "    </tr>\n",
       "    <tr>\n",
       "      <th>2</th>\n",
       "      <td>2</td>\n",
       "      <td>E013</td>\n",
       "      <td>Chantana</td>\n",
       "      <td>female</td>\n",
       "      <td>developer</td>\n",
       "      <td>29</td>\n",
       "      <td>45500.0</td>\n",
       "      <td>3</td>\n",
       "      <td>Chonburi</td>\n",
       "    </tr>\n",
       "    <tr>\n",
       "      <th>3</th>\n",
       "      <td>3</td>\n",
       "      <td>E014</td>\n",
       "      <td>Donlaya</td>\n",
       "      <td>female</td>\n",
       "      <td>marketing</td>\n",
       "      <td>39</td>\n",
       "      <td>72600.0</td>\n",
       "      <td>8</td>\n",
       "      <td>Chonburi</td>\n",
       "    </tr>\n",
       "    <tr>\n",
       "      <th>4</th>\n",
       "      <td>4</td>\n",
       "      <td>E015</td>\n",
       "      <td>Ekkasit</td>\n",
       "      <td>male</td>\n",
       "      <td>marketing</td>\n",
       "      <td>37</td>\n",
       "      <td>80500.0</td>\n",
       "      <td>7</td>\n",
       "      <td>Suphanburi</td>\n",
       "    </tr>\n",
       "    <tr>\n",
       "      <th>5</th>\n",
       "      <td>5</td>\n",
       "      <td>E016</td>\n",
       "      <td>Fundee</td>\n",
       "      <td>female</td>\n",
       "      <td>support</td>\n",
       "      <td>35</td>\n",
       "      <td>56600.0</td>\n",
       "      <td>3</td>\n",
       "      <td>Phuket</td>\n",
       "    </tr>\n",
       "    <tr>\n",
       "      <th>6</th>\n",
       "      <td>6</td>\n",
       "      <td>E017</td>\n",
       "      <td>Gitiwit</td>\n",
       "      <td>male</td>\n",
       "      <td>support</td>\n",
       "      <td>26</td>\n",
       "      <td>42400.0</td>\n",
       "      <td>2</td>\n",
       "      <td>Suphanburi</td>\n",
       "    </tr>\n",
       "    <tr>\n",
       "      <th>7</th>\n",
       "      <td>7</td>\n",
       "      <td>E018</td>\n",
       "      <td>Harit</td>\n",
       "      <td>male</td>\n",
       "      <td>devops</td>\n",
       "      <td>32</td>\n",
       "      <td>67700.0</td>\n",
       "      <td>5</td>\n",
       "      <td>Bangkok</td>\n",
       "    </tr>\n",
       "  </tbody>\n",
       "</table>\n",
       "</div>"
      ],
      "text/plain": [
       "   index   eid      name  gender department  age   salary  working_years  \\\n",
       "0      0  E011      Anda  female  developer   39  64200.0              4   \n",
       "1      1  E012    Bordin    male  developer   25  48700.0              2   \n",
       "2      2  E013  Chantana  female  developer   29  45500.0              3   \n",
       "3      3  E014   Donlaya  female  marketing   39  72600.0              8   \n",
       "4      4  E015   Ekkasit    male  marketing   37  80500.0              7   \n",
       "5      5  E016    Fundee  female    support   35  56600.0              3   \n",
       "6      6  E017   Gitiwit    male    support   26  42400.0              2   \n",
       "7      7  E018     Harit    male     devops   32  67700.0              5   \n",
       "\n",
       "  birth_place  \n",
       "0     Bangkok  \n",
       "1      Phuket  \n",
       "2    Chonburi  \n",
       "3    Chonburi  \n",
       "4  Suphanburi  \n",
       "5      Phuket  \n",
       "6  Suphanburi  \n",
       "7     Bangkok  "
      ]
     },
     "execution_count": 189,
     "metadata": {},
     "output_type": "execute_result"
    }
   ],
   "source": [
    "df"
   ]
  },
  {
   "cell_type": "markdown",
   "metadata": {},
   "source": [
    "### Reload Dataframe"
   ]
  },
  {
   "cell_type": "code",
   "execution_count": 190,
   "metadata": {},
   "outputs": [],
   "source": [
    "df = pd.read_csv(CSV_PATH)\n"
   ]
  },
  {
   "cell_type": "code",
   "execution_count": 191,
   "metadata": {},
   "outputs": [
    {
     "data": {
      "text/html": [
       "<div>\n",
       "<style scoped>\n",
       "    .dataframe tbody tr th:only-of-type {\n",
       "        vertical-align: middle;\n",
       "    }\n",
       "\n",
       "    .dataframe tbody tr th {\n",
       "        vertical-align: top;\n",
       "    }\n",
       "\n",
       "    .dataframe thead th {\n",
       "        text-align: right;\n",
       "    }\n",
       "</style>\n",
       "<table border=\"1\" class=\"dataframe\">\n",
       "  <thead>\n",
       "    <tr style=\"text-align: right;\">\n",
       "      <th></th>\n",
       "      <th>eid</th>\n",
       "      <th>name</th>\n",
       "      <th>gender</th>\n",
       "      <th>department</th>\n",
       "      <th>age</th>\n",
       "      <th>salary</th>\n",
       "      <th>working_years</th>\n",
       "      <th>birth_place</th>\n",
       "    </tr>\n",
       "  </thead>\n",
       "  <tbody>\n",
       "    <tr>\n",
       "      <th>0</th>\n",
       "      <td>E011</td>\n",
       "      <td>Anda</td>\n",
       "      <td>female</td>\n",
       "      <td>developer</td>\n",
       "      <td>39</td>\n",
       "      <td>64200.0</td>\n",
       "      <td>4</td>\n",
       "      <td>Bangkok</td>\n",
       "    </tr>\n",
       "    <tr>\n",
       "      <th>1</th>\n",
       "      <td>E012</td>\n",
       "      <td>Bordin</td>\n",
       "      <td>male</td>\n",
       "      <td>developer</td>\n",
       "      <td>25</td>\n",
       "      <td>48700.0</td>\n",
       "      <td>2</td>\n",
       "      <td>Phuket</td>\n",
       "    </tr>\n",
       "    <tr>\n",
       "      <th>2</th>\n",
       "      <td>E013</td>\n",
       "      <td>Chantana</td>\n",
       "      <td>female</td>\n",
       "      <td>developer</td>\n",
       "      <td>29</td>\n",
       "      <td>45500.0</td>\n",
       "      <td>3</td>\n",
       "      <td>Chonburi</td>\n",
       "    </tr>\n",
       "    <tr>\n",
       "      <th>3</th>\n",
       "      <td>E014</td>\n",
       "      <td>Donlaya</td>\n",
       "      <td>female</td>\n",
       "      <td>marketing</td>\n",
       "      <td>39</td>\n",
       "      <td>72600.0</td>\n",
       "      <td>8</td>\n",
       "      <td>Chonburi</td>\n",
       "    </tr>\n",
       "    <tr>\n",
       "      <th>4</th>\n",
       "      <td>E015</td>\n",
       "      <td>Ekkasit</td>\n",
       "      <td>male</td>\n",
       "      <td>marketing</td>\n",
       "      <td>37</td>\n",
       "      <td>80500.0</td>\n",
       "      <td>7</td>\n",
       "      <td>Suphanburi</td>\n",
       "    </tr>\n",
       "    <tr>\n",
       "      <th>5</th>\n",
       "      <td>E016</td>\n",
       "      <td>Fundee</td>\n",
       "      <td>female</td>\n",
       "      <td>support</td>\n",
       "      <td>35</td>\n",
       "      <td>56600.0</td>\n",
       "      <td>3</td>\n",
       "      <td>Phuket</td>\n",
       "    </tr>\n",
       "    <tr>\n",
       "      <th>6</th>\n",
       "      <td>E017</td>\n",
       "      <td>Gitiwit</td>\n",
       "      <td>male</td>\n",
       "      <td>support</td>\n",
       "      <td>26</td>\n",
       "      <td>42400.0</td>\n",
       "      <td>2</td>\n",
       "      <td>Suphanburi</td>\n",
       "    </tr>\n",
       "    <tr>\n",
       "      <th>7</th>\n",
       "      <td>E018</td>\n",
       "      <td>Harit</td>\n",
       "      <td>male</td>\n",
       "      <td>devops</td>\n",
       "      <td>32</td>\n",
       "      <td>67700.0</td>\n",
       "      <td>5</td>\n",
       "      <td>Bangkok</td>\n",
       "    </tr>\n",
       "  </tbody>\n",
       "</table>\n",
       "</div>"
      ],
      "text/plain": [
       "    eid      name  gender department  age   salary  working_years birth_place\n",
       "0  E011      Anda  female  developer   39  64200.0              4     Bangkok\n",
       "1  E012    Bordin    male  developer   25  48700.0              2      Phuket\n",
       "2  E013  Chantana  female  developer   29  45500.0              3    Chonburi\n",
       "3  E014   Donlaya  female  marketing   39  72600.0              8    Chonburi\n",
       "4  E015   Ekkasit    male  marketing   37  80500.0              7  Suphanburi\n",
       "5  E016    Fundee  female    support   35  56600.0              3      Phuket\n",
       "6  E017   Gitiwit    male    support   26  42400.0              2  Suphanburi\n",
       "7  E018     Harit    male     devops   32  67700.0              5     Bangkok"
      ]
     },
     "execution_count": 191,
     "metadata": {},
     "output_type": "execute_result"
    }
   ],
   "source": [
    "df"
   ]
  },
  {
   "cell_type": "markdown",
   "metadata": {},
   "source": [
    "### Range Selection"
   ]
  },
  {
   "cell_type": "code",
   "execution_count": 192,
   "metadata": {},
   "outputs": [
    {
     "data": {
      "text/html": [
       "<div>\n",
       "<style scoped>\n",
       "    .dataframe tbody tr th:only-of-type {\n",
       "        vertical-align: middle;\n",
       "    }\n",
       "\n",
       "    .dataframe tbody tr th {\n",
       "        vertical-align: top;\n",
       "    }\n",
       "\n",
       "    .dataframe thead th {\n",
       "        text-align: right;\n",
       "    }\n",
       "</style>\n",
       "<table border=\"1\" class=\"dataframe\">\n",
       "  <thead>\n",
       "    <tr style=\"text-align: right;\">\n",
       "      <th></th>\n",
       "      <th>eid</th>\n",
       "      <th>name</th>\n",
       "      <th>gender</th>\n",
       "      <th>department</th>\n",
       "      <th>age</th>\n",
       "      <th>salary</th>\n",
       "      <th>working_years</th>\n",
       "      <th>birth_place</th>\n",
       "    </tr>\n",
       "  </thead>\n",
       "  <tbody>\n",
       "    <tr>\n",
       "      <th>1</th>\n",
       "      <td>E012</td>\n",
       "      <td>Bordin</td>\n",
       "      <td>male</td>\n",
       "      <td>developer</td>\n",
       "      <td>25</td>\n",
       "      <td>48700.0</td>\n",
       "      <td>2</td>\n",
       "      <td>Phuket</td>\n",
       "    </tr>\n",
       "    <tr>\n",
       "      <th>2</th>\n",
       "      <td>E013</td>\n",
       "      <td>Chantana</td>\n",
       "      <td>female</td>\n",
       "      <td>developer</td>\n",
       "      <td>29</td>\n",
       "      <td>45500.0</td>\n",
       "      <td>3</td>\n",
       "      <td>Chonburi</td>\n",
       "    </tr>\n",
       "    <tr>\n",
       "      <th>3</th>\n",
       "      <td>E014</td>\n",
       "      <td>Donlaya</td>\n",
       "      <td>female</td>\n",
       "      <td>marketing</td>\n",
       "      <td>39</td>\n",
       "      <td>72600.0</td>\n",
       "      <td>8</td>\n",
       "      <td>Chonburi</td>\n",
       "    </tr>\n",
       "    <tr>\n",
       "      <th>4</th>\n",
       "      <td>E015</td>\n",
       "      <td>Ekkasit</td>\n",
       "      <td>male</td>\n",
       "      <td>marketing</td>\n",
       "      <td>37</td>\n",
       "      <td>80500.0</td>\n",
       "      <td>7</td>\n",
       "      <td>Suphanburi</td>\n",
       "    </tr>\n",
       "  </tbody>\n",
       "</table>\n",
       "</div>"
      ],
      "text/plain": [
       "    eid      name  gender department  age   salary  working_years birth_place\n",
       "1  E012    Bordin    male  developer   25  48700.0              2      Phuket\n",
       "2  E013  Chantana  female  developer   29  45500.0              3    Chonburi\n",
       "3  E014   Donlaya  female  marketing   39  72600.0              8    Chonburi\n",
       "4  E015   Ekkasit    male  marketing   37  80500.0              7  Suphanburi"
      ]
     },
     "execution_count": 192,
     "metadata": {},
     "output_type": "execute_result"
    }
   ],
   "source": [
    "df.loc[1:4]"
   ]
  },
  {
   "cell_type": "code",
   "execution_count": 193,
   "metadata": {},
   "outputs": [
    {
     "data": {
      "text/html": [
       "<div>\n",
       "<style scoped>\n",
       "    .dataframe tbody tr th:only-of-type {\n",
       "        vertical-align: middle;\n",
       "    }\n",
       "\n",
       "    .dataframe tbody tr th {\n",
       "        vertical-align: top;\n",
       "    }\n",
       "\n",
       "    .dataframe thead th {\n",
       "        text-align: right;\n",
       "    }\n",
       "</style>\n",
       "<table border=\"1\" class=\"dataframe\">\n",
       "  <thead>\n",
       "    <tr style=\"text-align: right;\">\n",
       "      <th></th>\n",
       "      <th>eid</th>\n",
       "      <th>name</th>\n",
       "      <th>gender</th>\n",
       "      <th>department</th>\n",
       "      <th>age</th>\n",
       "      <th>salary</th>\n",
       "      <th>working_years</th>\n",
       "      <th>birth_place</th>\n",
       "    </tr>\n",
       "  </thead>\n",
       "  <tbody>\n",
       "    <tr>\n",
       "      <th>0</th>\n",
       "      <td>E011</td>\n",
       "      <td>Anda</td>\n",
       "      <td>female</td>\n",
       "      <td>developer</td>\n",
       "      <td>39</td>\n",
       "      <td>64200.0</td>\n",
       "      <td>4</td>\n",
       "      <td>Bangkok</td>\n",
       "    </tr>\n",
       "    <tr>\n",
       "      <th>1</th>\n",
       "      <td>E012</td>\n",
       "      <td>Bordin</td>\n",
       "      <td>male</td>\n",
       "      <td>developer</td>\n",
       "      <td>25</td>\n",
       "      <td>48700.0</td>\n",
       "      <td>2</td>\n",
       "      <td>Phuket</td>\n",
       "    </tr>\n",
       "    <tr>\n",
       "      <th>2</th>\n",
       "      <td>E013</td>\n",
       "      <td>Chantana</td>\n",
       "      <td>female</td>\n",
       "      <td>developer</td>\n",
       "      <td>29</td>\n",
       "      <td>45500.0</td>\n",
       "      <td>3</td>\n",
       "      <td>Chonburi</td>\n",
       "    </tr>\n",
       "    <tr>\n",
       "      <th>3</th>\n",
       "      <td>E014</td>\n",
       "      <td>Donlaya</td>\n",
       "      <td>female</td>\n",
       "      <td>marketing</td>\n",
       "      <td>39</td>\n",
       "      <td>72600.0</td>\n",
       "      <td>8</td>\n",
       "      <td>Chonburi</td>\n",
       "    </tr>\n",
       "    <tr>\n",
       "      <th>4</th>\n",
       "      <td>E015</td>\n",
       "      <td>Ekkasit</td>\n",
       "      <td>male</td>\n",
       "      <td>marketing</td>\n",
       "      <td>37</td>\n",
       "      <td>80500.0</td>\n",
       "      <td>7</td>\n",
       "      <td>Suphanburi</td>\n",
       "    </tr>\n",
       "  </tbody>\n",
       "</table>\n",
       "</div>"
      ],
      "text/plain": [
       "    eid      name  gender department  age   salary  working_years birth_place\n",
       "0  E011      Anda  female  developer   39  64200.0              4     Bangkok\n",
       "1  E012    Bordin    male  developer   25  48700.0              2      Phuket\n",
       "2  E013  Chantana  female  developer   29  45500.0              3    Chonburi\n",
       "3  E014   Donlaya  female  marketing   39  72600.0              8    Chonburi\n",
       "4  E015   Ekkasit    male  marketing   37  80500.0              7  Suphanburi"
      ]
     },
     "execution_count": 193,
     "metadata": {},
     "output_type": "execute_result"
    }
   ],
   "source": [
    "df.loc[:4]"
   ]
  },
  {
   "cell_type": "code",
   "execution_count": 194,
   "metadata": {},
   "outputs": [
    {
     "data": {
      "text/html": [
       "<div>\n",
       "<style scoped>\n",
       "    .dataframe tbody tr th:only-of-type {\n",
       "        vertical-align: middle;\n",
       "    }\n",
       "\n",
       "    .dataframe tbody tr th {\n",
       "        vertical-align: top;\n",
       "    }\n",
       "\n",
       "    .dataframe thead th {\n",
       "        text-align: right;\n",
       "    }\n",
       "</style>\n",
       "<table border=\"1\" class=\"dataframe\">\n",
       "  <thead>\n",
       "    <tr style=\"text-align: right;\">\n",
       "      <th></th>\n",
       "      <th>name</th>\n",
       "      <th>age</th>\n",
       "    </tr>\n",
       "  </thead>\n",
       "  <tbody>\n",
       "    <tr>\n",
       "      <th>1</th>\n",
       "      <td>Bordin</td>\n",
       "      <td>25</td>\n",
       "    </tr>\n",
       "    <tr>\n",
       "      <th>2</th>\n",
       "      <td>Chantana</td>\n",
       "      <td>29</td>\n",
       "    </tr>\n",
       "    <tr>\n",
       "      <th>3</th>\n",
       "      <td>Donlaya</td>\n",
       "      <td>39</td>\n",
       "    </tr>\n",
       "  </tbody>\n",
       "</table>\n",
       "</div>"
      ],
      "text/plain": [
       "       name  age\n",
       "1    Bordin   25\n",
       "2  Chantana   29\n",
       "3   Donlaya   39"
      ]
     },
     "execution_count": 194,
     "metadata": {},
     "output_type": "execute_result"
    }
   ],
   "source": [
    "df.loc[1:3, ['name','age']]"
   ]
  },
  {
   "cell_type": "code",
   "execution_count": 212,
   "metadata": {},
   "outputs": [
    {
     "data": {
      "text/html": [
       "<div>\n",
       "<style scoped>\n",
       "    .dataframe tbody tr th:only-of-type {\n",
       "        vertical-align: middle;\n",
       "    }\n",
       "\n",
       "    .dataframe tbody tr th {\n",
       "        vertical-align: top;\n",
       "    }\n",
       "\n",
       "    .dataframe thead th {\n",
       "        text-align: right;\n",
       "    }\n",
       "</style>\n",
       "<table border=\"1\" class=\"dataframe\">\n",
       "  <thead>\n",
       "    <tr style=\"text-align: right;\">\n",
       "      <th></th>\n",
       "      <th>name</th>\n",
       "    </tr>\n",
       "  </thead>\n",
       "  <tbody>\n",
       "    <tr>\n",
       "      <th>1</th>\n",
       "      <td>Bordin</td>\n",
       "    </tr>\n",
       "    <tr>\n",
       "      <th>2</th>\n",
       "      <td>Chantana</td>\n",
       "    </tr>\n",
       "    <tr>\n",
       "      <th>3</th>\n",
       "      <td>Donlaya</td>\n",
       "    </tr>\n",
       "  </tbody>\n",
       "</table>\n",
       "</div>"
      ],
      "text/plain": [
       "       name\n",
       "1    Bordin\n",
       "2  Chantana\n",
       "3   Donlaya"
      ]
     },
     "execution_count": 212,
     "metadata": {},
     "output_type": "execute_result"
    }
   ],
   "source": [
    "df.loc[1:3][['name']]"
   ]
  },
  {
   "cell_type": "code",
   "execution_count": 214,
   "metadata": {},
   "outputs": [
    {
     "data": {
      "text/html": [
       "<div>\n",
       "<style scoped>\n",
       "    .dataframe tbody tr th:only-of-type {\n",
       "        vertical-align: middle;\n",
       "    }\n",
       "\n",
       "    .dataframe tbody tr th {\n",
       "        vertical-align: top;\n",
       "    }\n",
       "\n",
       "    .dataframe thead th {\n",
       "        text-align: right;\n",
       "    }\n",
       "</style>\n",
       "<table border=\"1\" class=\"dataframe\">\n",
       "  <thead>\n",
       "    <tr style=\"text-align: right;\">\n",
       "      <th></th>\n",
       "      <th>eid</th>\n",
       "      <th>name</th>\n",
       "      <th>gender</th>\n",
       "      <th>department</th>\n",
       "      <th>age</th>\n",
       "      <th>salary</th>\n",
       "      <th>working_years</th>\n",
       "      <th>birth_place</th>\n",
       "    </tr>\n",
       "  </thead>\n",
       "  <tbody>\n",
       "    <tr>\n",
       "      <th>1</th>\n",
       "      <td>E012</td>\n",
       "      <td>Bordin</td>\n",
       "      <td>male</td>\n",
       "      <td>developer</td>\n",
       "      <td>25</td>\n",
       "      <td>48700.0</td>\n",
       "      <td>2</td>\n",
       "      <td>Phuket</td>\n",
       "    </tr>\n",
       "    <tr>\n",
       "      <th>2</th>\n",
       "      <td>E013</td>\n",
       "      <td>Chantana</td>\n",
       "      <td>female</td>\n",
       "      <td>developer</td>\n",
       "      <td>29</td>\n",
       "      <td>45500.0</td>\n",
       "      <td>3</td>\n",
       "      <td>Chonburi</td>\n",
       "    </tr>\n",
       "    <tr>\n",
       "      <th>3</th>\n",
       "      <td>E014</td>\n",
       "      <td>Donlaya</td>\n",
       "      <td>female</td>\n",
       "      <td>marketing</td>\n",
       "      <td>39</td>\n",
       "      <td>72600.0</td>\n",
       "      <td>8</td>\n",
       "      <td>Chonburi</td>\n",
       "    </tr>\n",
       "    <tr>\n",
       "      <th>4</th>\n",
       "      <td>E015</td>\n",
       "      <td>Ekkasit</td>\n",
       "      <td>male</td>\n",
       "      <td>marketing</td>\n",
       "      <td>37</td>\n",
       "      <td>80500.0</td>\n",
       "      <td>7</td>\n",
       "      <td>Suphanburi</td>\n",
       "    </tr>\n",
       "  </tbody>\n",
       "</table>\n",
       "</div>"
      ],
      "text/plain": [
       "    eid      name  gender department  age   salary  working_years birth_place\n",
       "1  E012    Bordin    male  developer   25  48700.0              2      Phuket\n",
       "2  E013  Chantana  female  developer   29  45500.0              3    Chonburi\n",
       "3  E014   Donlaya  female  marketing   39  72600.0              8    Chonburi\n",
       "4  E015   Ekkasit    male  marketing   37  80500.0              7  Suphanburi"
      ]
     },
     "execution_count": 214,
     "metadata": {},
     "output_type": "execute_result"
    }
   ],
   "source": [
    "df.loc[1:4]"
   ]
  },
  {
   "cell_type": "code",
   "execution_count": 215,
   "metadata": {},
   "outputs": [
    {
     "data": {
      "text/html": [
       "<div>\n",
       "<style scoped>\n",
       "    .dataframe tbody tr th:only-of-type {\n",
       "        vertical-align: middle;\n",
       "    }\n",
       "\n",
       "    .dataframe tbody tr th {\n",
       "        vertical-align: top;\n",
       "    }\n",
       "\n",
       "    .dataframe thead th {\n",
       "        text-align: right;\n",
       "    }\n",
       "</style>\n",
       "<table border=\"1\" class=\"dataframe\">\n",
       "  <thead>\n",
       "    <tr style=\"text-align: right;\">\n",
       "      <th></th>\n",
       "      <th>eid</th>\n",
       "      <th>name</th>\n",
       "      <th>gender</th>\n",
       "      <th>department</th>\n",
       "      <th>age</th>\n",
       "      <th>salary</th>\n",
       "      <th>working_years</th>\n",
       "      <th>birth_place</th>\n",
       "    </tr>\n",
       "  </thead>\n",
       "  <tbody>\n",
       "    <tr>\n",
       "      <th>1</th>\n",
       "      <td>E012</td>\n",
       "      <td>Bordin</td>\n",
       "      <td>male</td>\n",
       "      <td>developer</td>\n",
       "      <td>25</td>\n",
       "      <td>48700.0</td>\n",
       "      <td>2</td>\n",
       "      <td>Phuket</td>\n",
       "    </tr>\n",
       "    <tr>\n",
       "      <th>2</th>\n",
       "      <td>E013</td>\n",
       "      <td>Chantana</td>\n",
       "      <td>female</td>\n",
       "      <td>developer</td>\n",
       "      <td>29</td>\n",
       "      <td>45500.0</td>\n",
       "      <td>3</td>\n",
       "      <td>Chonburi</td>\n",
       "    </tr>\n",
       "    <tr>\n",
       "      <th>3</th>\n",
       "      <td>E014</td>\n",
       "      <td>Donlaya</td>\n",
       "      <td>female</td>\n",
       "      <td>marketing</td>\n",
       "      <td>39</td>\n",
       "      <td>72600.0</td>\n",
       "      <td>8</td>\n",
       "      <td>Chonburi</td>\n",
       "    </tr>\n",
       "  </tbody>\n",
       "</table>\n",
       "</div>"
      ],
      "text/plain": [
       "    eid      name  gender department  age   salary  working_years birth_place\n",
       "1  E012    Bordin    male  developer   25  48700.0              2      Phuket\n",
       "2  E013  Chantana  female  developer   29  45500.0              3    Chonburi\n",
       "3  E014   Donlaya  female  marketing   39  72600.0              8    Chonburi"
      ]
     },
     "execution_count": 215,
     "metadata": {},
     "output_type": "execute_result"
    }
   ],
   "source": [
    "\n",
    "df.iloc[1:4]"
   ]
  },
  {
   "cell_type": "code",
   "execution_count": 217,
   "metadata": {},
   "outputs": [
    {
     "data": {
      "text/html": [
       "<div>\n",
       "<style scoped>\n",
       "    .dataframe tbody tr th:only-of-type {\n",
       "        vertical-align: middle;\n",
       "    }\n",
       "\n",
       "    .dataframe tbody tr th {\n",
       "        vertical-align: top;\n",
       "    }\n",
       "\n",
       "    .dataframe thead th {\n",
       "        text-align: right;\n",
       "    }\n",
       "</style>\n",
       "<table border=\"1\" class=\"dataframe\">\n",
       "  <thead>\n",
       "    <tr style=\"text-align: right;\">\n",
       "      <th></th>\n",
       "      <th>name</th>\n",
       "      <th>age</th>\n",
       "    </tr>\n",
       "  </thead>\n",
       "  <tbody>\n",
       "    <tr>\n",
       "      <th>1</th>\n",
       "      <td>Bordin</td>\n",
       "      <td>25</td>\n",
       "    </tr>\n",
       "    <tr>\n",
       "      <th>2</th>\n",
       "      <td>Chantana</td>\n",
       "      <td>29</td>\n",
       "    </tr>\n",
       "    <tr>\n",
       "      <th>3</th>\n",
       "      <td>Donlaya</td>\n",
       "      <td>39</td>\n",
       "    </tr>\n",
       "  </tbody>\n",
       "</table>\n",
       "</div>"
      ],
      "text/plain": [
       "       name  age\n",
       "1    Bordin   25\n",
       "2  Chantana   29\n",
       "3   Donlaya   39"
      ]
     },
     "execution_count": 217,
     "metadata": {},
     "output_type": "execute_result"
    }
   ],
   "source": [
    "df.iloc[1:4][['name','age']]"
   ]
  },
  {
   "cell_type": "markdown",
   "metadata": {},
   "source": [
    "### Condition Selection"
   ]
  },
  {
   "cell_type": "code",
   "execution_count": 218,
   "metadata": {},
   "outputs": [
    {
     "data": {
      "text/html": [
       "<div>\n",
       "<style scoped>\n",
       "    .dataframe tbody tr th:only-of-type {\n",
       "        vertical-align: middle;\n",
       "    }\n",
       "\n",
       "    .dataframe tbody tr th {\n",
       "        vertical-align: top;\n",
       "    }\n",
       "\n",
       "    .dataframe thead th {\n",
       "        text-align: right;\n",
       "    }\n",
       "</style>\n",
       "<table border=\"1\" class=\"dataframe\">\n",
       "  <thead>\n",
       "    <tr style=\"text-align: right;\">\n",
       "      <th></th>\n",
       "      <th>eid</th>\n",
       "      <th>name</th>\n",
       "      <th>gender</th>\n",
       "      <th>department</th>\n",
       "      <th>age</th>\n",
       "      <th>salary</th>\n",
       "      <th>working_years</th>\n",
       "      <th>birth_place</th>\n",
       "    </tr>\n",
       "  </thead>\n",
       "  <tbody>\n",
       "    <tr>\n",
       "      <th>0</th>\n",
       "      <td>E011</td>\n",
       "      <td>Anda</td>\n",
       "      <td>female</td>\n",
       "      <td>developer</td>\n",
       "      <td>39</td>\n",
       "      <td>64200.0</td>\n",
       "      <td>4</td>\n",
       "      <td>Bangkok</td>\n",
       "    </tr>\n",
       "    <tr>\n",
       "      <th>1</th>\n",
       "      <td>E012</td>\n",
       "      <td>Bordin</td>\n",
       "      <td>male</td>\n",
       "      <td>developer</td>\n",
       "      <td>25</td>\n",
       "      <td>48700.0</td>\n",
       "      <td>2</td>\n",
       "      <td>Phuket</td>\n",
       "    </tr>\n",
       "    <tr>\n",
       "      <th>2</th>\n",
       "      <td>E013</td>\n",
       "      <td>Chantana</td>\n",
       "      <td>female</td>\n",
       "      <td>developer</td>\n",
       "      <td>29</td>\n",
       "      <td>45500.0</td>\n",
       "      <td>3</td>\n",
       "      <td>Chonburi</td>\n",
       "    </tr>\n",
       "    <tr>\n",
       "      <th>3</th>\n",
       "      <td>E014</td>\n",
       "      <td>Donlaya</td>\n",
       "      <td>female</td>\n",
       "      <td>marketing</td>\n",
       "      <td>39</td>\n",
       "      <td>72600.0</td>\n",
       "      <td>8</td>\n",
       "      <td>Chonburi</td>\n",
       "    </tr>\n",
       "    <tr>\n",
       "      <th>4</th>\n",
       "      <td>E015</td>\n",
       "      <td>Ekkasit</td>\n",
       "      <td>male</td>\n",
       "      <td>marketing</td>\n",
       "      <td>37</td>\n",
       "      <td>80500.0</td>\n",
       "      <td>7</td>\n",
       "      <td>Suphanburi</td>\n",
       "    </tr>\n",
       "    <tr>\n",
       "      <th>5</th>\n",
       "      <td>E016</td>\n",
       "      <td>Fundee</td>\n",
       "      <td>female</td>\n",
       "      <td>support</td>\n",
       "      <td>35</td>\n",
       "      <td>56600.0</td>\n",
       "      <td>3</td>\n",
       "      <td>Phuket</td>\n",
       "    </tr>\n",
       "    <tr>\n",
       "      <th>6</th>\n",
       "      <td>E017</td>\n",
       "      <td>Gitiwit</td>\n",
       "      <td>male</td>\n",
       "      <td>support</td>\n",
       "      <td>26</td>\n",
       "      <td>42400.0</td>\n",
       "      <td>2</td>\n",
       "      <td>Suphanburi</td>\n",
       "    </tr>\n",
       "    <tr>\n",
       "      <th>7</th>\n",
       "      <td>E018</td>\n",
       "      <td>Harit</td>\n",
       "      <td>male</td>\n",
       "      <td>devops</td>\n",
       "      <td>32</td>\n",
       "      <td>67700.0</td>\n",
       "      <td>5</td>\n",
       "      <td>Bangkok</td>\n",
       "    </tr>\n",
       "  </tbody>\n",
       "</table>\n",
       "</div>"
      ],
      "text/plain": [
       "    eid      name  gender department  age   salary  working_years birth_place\n",
       "0  E011      Anda  female  developer   39  64200.0              4     Bangkok\n",
       "1  E012    Bordin    male  developer   25  48700.0              2      Phuket\n",
       "2  E013  Chantana  female  developer   29  45500.0              3    Chonburi\n",
       "3  E014   Donlaya  female  marketing   39  72600.0              8    Chonburi\n",
       "4  E015   Ekkasit    male  marketing   37  80500.0              7  Suphanburi\n",
       "5  E016    Fundee  female    support   35  56600.0              3      Phuket\n",
       "6  E017   Gitiwit    male    support   26  42400.0              2  Suphanburi\n",
       "7  E018     Harit    male     devops   32  67700.0              5     Bangkok"
      ]
     },
     "execution_count": 218,
     "metadata": {},
     "output_type": "execute_result"
    }
   ],
   "source": [
    "df"
   ]
  },
  {
   "cell_type": "code",
   "execution_count": 219,
   "metadata": {},
   "outputs": [
    {
     "data": {
      "text/html": [
       "<div>\n",
       "<style scoped>\n",
       "    .dataframe tbody tr th:only-of-type {\n",
       "        vertical-align: middle;\n",
       "    }\n",
       "\n",
       "    .dataframe tbody tr th {\n",
       "        vertical-align: top;\n",
       "    }\n",
       "\n",
       "    .dataframe thead th {\n",
       "        text-align: right;\n",
       "    }\n",
       "</style>\n",
       "<table border=\"1\" class=\"dataframe\">\n",
       "  <thead>\n",
       "    <tr style=\"text-align: right;\">\n",
       "      <th></th>\n",
       "      <th>working_years</th>\n",
       "    </tr>\n",
       "  </thead>\n",
       "  <tbody>\n",
       "    <tr>\n",
       "      <th>0</th>\n",
       "      <td>4</td>\n",
       "    </tr>\n",
       "    <tr>\n",
       "      <th>1</th>\n",
       "      <td>2</td>\n",
       "    </tr>\n",
       "    <tr>\n",
       "      <th>2</th>\n",
       "      <td>3</td>\n",
       "    </tr>\n",
       "    <tr>\n",
       "      <th>3</th>\n",
       "      <td>8</td>\n",
       "    </tr>\n",
       "    <tr>\n",
       "      <th>4</th>\n",
       "      <td>7</td>\n",
       "    </tr>\n",
       "    <tr>\n",
       "      <th>5</th>\n",
       "      <td>3</td>\n",
       "    </tr>\n",
       "    <tr>\n",
       "      <th>6</th>\n",
       "      <td>2</td>\n",
       "    </tr>\n",
       "    <tr>\n",
       "      <th>7</th>\n",
       "      <td>5</td>\n",
       "    </tr>\n",
       "  </tbody>\n",
       "</table>\n",
       "</div>"
      ],
      "text/plain": [
       "   working_years\n",
       "0              4\n",
       "1              2\n",
       "2              3\n",
       "3              8\n",
       "4              7\n",
       "5              3\n",
       "6              2\n",
       "7              5"
      ]
     },
     "execution_count": 219,
     "metadata": {},
     "output_type": "execute_result"
    }
   ],
   "source": [
    "df[['working_years']]"
   ]
  },
  {
   "cell_type": "code",
   "execution_count": 221,
   "metadata": {},
   "outputs": [
    {
     "data": {
      "text/plain": [
       "0    4\n",
       "1    2\n",
       "2    3\n",
       "3    8\n",
       "4    7\n",
       "5    3\n",
       "6    2\n",
       "7    5\n",
       "Name: working_years, dtype: int64"
      ]
     },
     "execution_count": 221,
     "metadata": {},
     "output_type": "execute_result"
    }
   ],
   "source": [
    "df['working_years']"
   ]
  },
  {
   "cell_type": "code",
   "execution_count": 222,
   "metadata": {},
   "outputs": [
    {
     "data": {
      "text/plain": [
       "0     True\n",
       "1    False\n",
       "2    False\n",
       "3     True\n",
       "4     True\n",
       "5    False\n",
       "6    False\n",
       "7     True\n",
       "Name: working_years, dtype: bool"
      ]
     },
     "execution_count": 222,
     "metadata": {},
     "output_type": "execute_result"
    }
   ],
   "source": [
    "df['working_years'] > 3 # Return Boolean"
   ]
  },
  {
   "cell_type": "code",
   "execution_count": 223,
   "metadata": {},
   "outputs": [
    {
     "data": {
      "text/html": [
       "<div>\n",
       "<style scoped>\n",
       "    .dataframe tbody tr th:only-of-type {\n",
       "        vertical-align: middle;\n",
       "    }\n",
       "\n",
       "    .dataframe tbody tr th {\n",
       "        vertical-align: top;\n",
       "    }\n",
       "\n",
       "    .dataframe thead th {\n",
       "        text-align: right;\n",
       "    }\n",
       "</style>\n",
       "<table border=\"1\" class=\"dataframe\">\n",
       "  <thead>\n",
       "    <tr style=\"text-align: right;\">\n",
       "      <th></th>\n",
       "      <th>eid</th>\n",
       "      <th>name</th>\n",
       "      <th>gender</th>\n",
       "      <th>department</th>\n",
       "      <th>age</th>\n",
       "      <th>salary</th>\n",
       "      <th>working_years</th>\n",
       "      <th>birth_place</th>\n",
       "    </tr>\n",
       "  </thead>\n",
       "  <tbody>\n",
       "    <tr>\n",
       "      <th>0</th>\n",
       "      <td>E011</td>\n",
       "      <td>Anda</td>\n",
       "      <td>female</td>\n",
       "      <td>developer</td>\n",
       "      <td>39</td>\n",
       "      <td>64200.0</td>\n",
       "      <td>4</td>\n",
       "      <td>Bangkok</td>\n",
       "    </tr>\n",
       "    <tr>\n",
       "      <th>3</th>\n",
       "      <td>E014</td>\n",
       "      <td>Donlaya</td>\n",
       "      <td>female</td>\n",
       "      <td>marketing</td>\n",
       "      <td>39</td>\n",
       "      <td>72600.0</td>\n",
       "      <td>8</td>\n",
       "      <td>Chonburi</td>\n",
       "    </tr>\n",
       "    <tr>\n",
       "      <th>4</th>\n",
       "      <td>E015</td>\n",
       "      <td>Ekkasit</td>\n",
       "      <td>male</td>\n",
       "      <td>marketing</td>\n",
       "      <td>37</td>\n",
       "      <td>80500.0</td>\n",
       "      <td>7</td>\n",
       "      <td>Suphanburi</td>\n",
       "    </tr>\n",
       "    <tr>\n",
       "      <th>7</th>\n",
       "      <td>E018</td>\n",
       "      <td>Harit</td>\n",
       "      <td>male</td>\n",
       "      <td>devops</td>\n",
       "      <td>32</td>\n",
       "      <td>67700.0</td>\n",
       "      <td>5</td>\n",
       "      <td>Bangkok</td>\n",
       "    </tr>\n",
       "  </tbody>\n",
       "</table>\n",
       "</div>"
      ],
      "text/plain": [
       "    eid     name  gender department  age   salary  working_years birth_place\n",
       "0  E011     Anda  female  developer   39  64200.0              4     Bangkok\n",
       "3  E014  Donlaya  female  marketing   39  72600.0              8    Chonburi\n",
       "4  E015  Ekkasit    male  marketing   37  80500.0              7  Suphanburi\n",
       "7  E018    Harit    male     devops   32  67700.0              5     Bangkok"
      ]
     },
     "execution_count": 223,
     "metadata": {},
     "output_type": "execute_result"
    }
   ],
   "source": [
    "df[ df['working_years'] > 3]"
   ]
  },
  {
   "cell_type": "code",
   "execution_count": 226,
   "metadata": {},
   "outputs": [
    {
     "data": {
      "text/html": [
       "<div>\n",
       "<style scoped>\n",
       "    .dataframe tbody tr th:only-of-type {\n",
       "        vertical-align: middle;\n",
       "    }\n",
       "\n",
       "    .dataframe tbody tr th {\n",
       "        vertical-align: top;\n",
       "    }\n",
       "\n",
       "    .dataframe thead th {\n",
       "        text-align: right;\n",
       "    }\n",
       "</style>\n",
       "<table border=\"1\" class=\"dataframe\">\n",
       "  <thead>\n",
       "    <tr style=\"text-align: right;\">\n",
       "      <th></th>\n",
       "      <th>name</th>\n",
       "      <th>working_years</th>\n",
       "      <th>salary</th>\n",
       "    </tr>\n",
       "  </thead>\n",
       "  <tbody>\n",
       "    <tr>\n",
       "      <th>0</th>\n",
       "      <td>Anda</td>\n",
       "      <td>4</td>\n",
       "      <td>64200.0</td>\n",
       "    </tr>\n",
       "    <tr>\n",
       "      <th>3</th>\n",
       "      <td>Donlaya</td>\n",
       "      <td>8</td>\n",
       "      <td>72600.0</td>\n",
       "    </tr>\n",
       "    <tr>\n",
       "      <th>4</th>\n",
       "      <td>Ekkasit</td>\n",
       "      <td>7</td>\n",
       "      <td>80500.0</td>\n",
       "    </tr>\n",
       "    <tr>\n",
       "      <th>7</th>\n",
       "      <td>Harit</td>\n",
       "      <td>5</td>\n",
       "      <td>67700.0</td>\n",
       "    </tr>\n",
       "  </tbody>\n",
       "</table>\n",
       "</div>"
      ],
      "text/plain": [
       "      name  working_years   salary\n",
       "0     Anda              4  64200.0\n",
       "3  Donlaya              8  72600.0\n",
       "4  Ekkasit              7  80500.0\n",
       "7    Harit              5  67700.0"
      ]
     },
     "execution_count": 226,
     "metadata": {},
     "output_type": "execute_result"
    }
   ],
   "source": [
    "df[ df['working_years'] > 3][['name','working_years','salary']]"
   ]
  },
  {
   "cell_type": "code",
   "execution_count": 229,
   "metadata": {},
   "outputs": [
    {
     "data": {
      "text/html": [
       "<div>\n",
       "<style scoped>\n",
       "    .dataframe tbody tr th:only-of-type {\n",
       "        vertical-align: middle;\n",
       "    }\n",
       "\n",
       "    .dataframe tbody tr th {\n",
       "        vertical-align: top;\n",
       "    }\n",
       "\n",
       "    .dataframe thead th {\n",
       "        text-align: right;\n",
       "    }\n",
       "</style>\n",
       "<table border=\"1\" class=\"dataframe\">\n",
       "  <thead>\n",
       "    <tr style=\"text-align: right;\">\n",
       "      <th></th>\n",
       "      <th>eid</th>\n",
       "      <th>name</th>\n",
       "      <th>gender</th>\n",
       "      <th>department</th>\n",
       "      <th>age</th>\n",
       "      <th>salary</th>\n",
       "      <th>working_years</th>\n",
       "      <th>birth_place</th>\n",
       "    </tr>\n",
       "  </thead>\n",
       "  <tbody>\n",
       "    <tr>\n",
       "      <th>3</th>\n",
       "      <td>E014</td>\n",
       "      <td>Donlaya</td>\n",
       "      <td>female</td>\n",
       "      <td>marketing</td>\n",
       "      <td>39</td>\n",
       "      <td>72600.0</td>\n",
       "      <td>8</td>\n",
       "      <td>Chonburi</td>\n",
       "    </tr>\n",
       "    <tr>\n",
       "      <th>4</th>\n",
       "      <td>E015</td>\n",
       "      <td>Ekkasit</td>\n",
       "      <td>male</td>\n",
       "      <td>marketing</td>\n",
       "      <td>37</td>\n",
       "      <td>80500.0</td>\n",
       "      <td>7</td>\n",
       "      <td>Suphanburi</td>\n",
       "    </tr>\n",
       "  </tbody>\n",
       "</table>\n",
       "</div>"
      ],
      "text/plain": [
       "    eid     name  gender department  age   salary  working_years birth_place\n",
       "3  E014  Donlaya  female  marketing   39  72600.0              8    Chonburi\n",
       "4  E015  Ekkasit    male  marketing   37  80500.0              7  Suphanburi"
      ]
     },
     "execution_count": 229,
     "metadata": {},
     "output_type": "execute_result"
    }
   ],
   "source": [
    "df[ (df[\"working_years\"]>3) & (df[\"salary\"]>70000) ]"
   ]
  },
  {
   "cell_type": "code",
   "execution_count": 231,
   "metadata": {},
   "outputs": [
    {
     "data": {
      "text/html": [
       "<div>\n",
       "<style scoped>\n",
       "    .dataframe tbody tr th:only-of-type {\n",
       "        vertical-align: middle;\n",
       "    }\n",
       "\n",
       "    .dataframe tbody tr th {\n",
       "        vertical-align: top;\n",
       "    }\n",
       "\n",
       "    .dataframe thead th {\n",
       "        text-align: right;\n",
       "    }\n",
       "</style>\n",
       "<table border=\"1\" class=\"dataframe\">\n",
       "  <thead>\n",
       "    <tr style=\"text-align: right;\">\n",
       "      <th></th>\n",
       "      <th>eid</th>\n",
       "      <th>name</th>\n",
       "      <th>gender</th>\n",
       "      <th>department</th>\n",
       "      <th>age</th>\n",
       "      <th>salary</th>\n",
       "      <th>working_years</th>\n",
       "      <th>birth_place</th>\n",
       "    </tr>\n",
       "  </thead>\n",
       "  <tbody>\n",
       "    <tr>\n",
       "      <th>0</th>\n",
       "      <td>E011</td>\n",
       "      <td>Anda</td>\n",
       "      <td>female</td>\n",
       "      <td>developer</td>\n",
       "      <td>39</td>\n",
       "      <td>64200.0</td>\n",
       "      <td>4</td>\n",
       "      <td>Bangkok</td>\n",
       "    </tr>\n",
       "    <tr>\n",
       "      <th>3</th>\n",
       "      <td>E014</td>\n",
       "      <td>Donlaya</td>\n",
       "      <td>female</td>\n",
       "      <td>marketing</td>\n",
       "      <td>39</td>\n",
       "      <td>72600.0</td>\n",
       "      <td>8</td>\n",
       "      <td>Chonburi</td>\n",
       "    </tr>\n",
       "    <tr>\n",
       "      <th>4</th>\n",
       "      <td>E015</td>\n",
       "      <td>Ekkasit</td>\n",
       "      <td>male</td>\n",
       "      <td>marketing</td>\n",
       "      <td>37</td>\n",
       "      <td>80500.0</td>\n",
       "      <td>7</td>\n",
       "      <td>Suphanburi</td>\n",
       "    </tr>\n",
       "    <tr>\n",
       "      <th>7</th>\n",
       "      <td>E018</td>\n",
       "      <td>Harit</td>\n",
       "      <td>male</td>\n",
       "      <td>devops</td>\n",
       "      <td>32</td>\n",
       "      <td>67700.0</td>\n",
       "      <td>5</td>\n",
       "      <td>Bangkok</td>\n",
       "    </tr>\n",
       "  </tbody>\n",
       "</table>\n",
       "</div>"
      ],
      "text/plain": [
       "    eid     name  gender department  age   salary  working_years birth_place\n",
       "0  E011     Anda  female  developer   39  64200.0              4     Bangkok\n",
       "3  E014  Donlaya  female  marketing   39  72600.0              8    Chonburi\n",
       "4  E015  Ekkasit    male  marketing   37  80500.0              7  Suphanburi\n",
       "7  E018    Harit    male     devops   32  67700.0              5     Bangkok"
      ]
     },
     "execution_count": 231,
     "metadata": {},
     "output_type": "execute_result"
    }
   ],
   "source": [
    "df[ (df[\"working_years\"]>3) | (df[\"salary\"]>70000) ]"
   ]
  },
  {
   "cell_type": "code",
   "execution_count": 233,
   "metadata": {},
   "outputs": [
    {
     "data": {
      "text/html": [
       "<div>\n",
       "<style scoped>\n",
       "    .dataframe tbody tr th:only-of-type {\n",
       "        vertical-align: middle;\n",
       "    }\n",
       "\n",
       "    .dataframe tbody tr th {\n",
       "        vertical-align: top;\n",
       "    }\n",
       "\n",
       "    .dataframe thead th {\n",
       "        text-align: right;\n",
       "    }\n",
       "</style>\n",
       "<table border=\"1\" class=\"dataframe\">\n",
       "  <thead>\n",
       "    <tr style=\"text-align: right;\">\n",
       "      <th></th>\n",
       "      <th>eid</th>\n",
       "      <th>name</th>\n",
       "      <th>gender</th>\n",
       "      <th>department</th>\n",
       "      <th>age</th>\n",
       "      <th>salary</th>\n",
       "      <th>working_years</th>\n",
       "      <th>birth_place</th>\n",
       "    </tr>\n",
       "  </thead>\n",
       "  <tbody>\n",
       "    <tr>\n",
       "      <th>7</th>\n",
       "      <td>E018</td>\n",
       "      <td>Harit</td>\n",
       "      <td>male</td>\n",
       "      <td>devops</td>\n",
       "      <td>32</td>\n",
       "      <td>67700.0</td>\n",
       "      <td>5</td>\n",
       "      <td>Bangkok</td>\n",
       "    </tr>\n",
       "  </tbody>\n",
       "</table>\n",
       "</div>"
      ],
      "text/plain": [
       "    eid   name gender department  age   salary  working_years birth_place\n",
       "7  E018  Harit   male     devops   32  67700.0              5     Bangkok"
      ]
     },
     "execution_count": 233,
     "metadata": {},
     "output_type": "execute_result"
    }
   ],
   "source": [
    "df[ (df[\"working_years\"]>3) | (df[\"salary\"]>70000) ].iloc[[3]]"
   ]
  },
  {
   "cell_type": "code",
   "execution_count": 234,
   "metadata": {},
   "outputs": [
    {
     "data": {
      "text/html": [
       "<div>\n",
       "<style scoped>\n",
       "    .dataframe tbody tr th:only-of-type {\n",
       "        vertical-align: middle;\n",
       "    }\n",
       "\n",
       "    .dataframe tbody tr th {\n",
       "        vertical-align: top;\n",
       "    }\n",
       "\n",
       "    .dataframe thead th {\n",
       "        text-align: right;\n",
       "    }\n",
       "</style>\n",
       "<table border=\"1\" class=\"dataframe\">\n",
       "  <thead>\n",
       "    <tr style=\"text-align: right;\">\n",
       "      <th></th>\n",
       "      <th>eid</th>\n",
       "      <th>name</th>\n",
       "      <th>gender</th>\n",
       "      <th>department</th>\n",
       "      <th>age</th>\n",
       "      <th>salary</th>\n",
       "      <th>working_years</th>\n",
       "      <th>birth_place</th>\n",
       "    </tr>\n",
       "  </thead>\n",
       "  <tbody>\n",
       "    <tr>\n",
       "      <th>3</th>\n",
       "      <td>E014</td>\n",
       "      <td>Donlaya</td>\n",
       "      <td>female</td>\n",
       "      <td>marketing</td>\n",
       "      <td>39</td>\n",
       "      <td>72600.0</td>\n",
       "      <td>8</td>\n",
       "      <td>Chonburi</td>\n",
       "    </tr>\n",
       "  </tbody>\n",
       "</table>\n",
       "</div>"
      ],
      "text/plain": [
       "    eid     name  gender department  age   salary  working_years birth_place\n",
       "3  E014  Donlaya  female  marketing   39  72600.0              8    Chonburi"
      ]
     },
     "execution_count": 234,
     "metadata": {},
     "output_type": "execute_result"
    }
   ],
   "source": [
    "df[ (df[\"working_years\"]>3) | (df[\"salary\"]>70000) ].loc[[3]]"
   ]
  },
  {
   "cell_type": "code",
   "execution_count": null,
   "metadata": {},
   "outputs": [],
   "source": []
  }
 ],
 "metadata": {
  "kernelspec": {
   "display_name": "Python 3.9.2 64-bit",
   "language": "python",
   "name": "python3"
  },
  "language_info": {
   "codemirror_mode": {
    "name": "ipython",
    "version": 3
   },
   "file_extension": ".py",
   "mimetype": "text/x-python",
   "name": "python",
   "nbconvert_exporter": "python",
   "pygments_lexer": "ipython3",
   "version": "3.9.2"
  },
  "orig_nbformat": 4,
  "vscode": {
   "interpreter": {
    "hash": "44503fabc517f282cadb002b8db49156e9fb3f635c8a12f939a7312cd52e1bdc"
   }
  }
 },
 "nbformat": 4,
 "nbformat_minor": 2
}
