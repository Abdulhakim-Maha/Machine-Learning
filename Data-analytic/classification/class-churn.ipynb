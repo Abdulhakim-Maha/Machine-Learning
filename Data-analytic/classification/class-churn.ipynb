{
 "cells": [
  {
   "cell_type": "markdown",
   "metadata": {},
   "source": [
    "### To load Libraries"
   ]
  },
  {
   "cell_type": "code",
   "execution_count": 9,
   "metadata": {},
   "outputs": [],
   "source": [
    "import pandas as pd\n",
    "import numpy as np\n",
    "import matplotlib.pylab as plt\n",
    "import seaborn as sns\n",
    "%matplotlib inline\n",
    "\n",
    "from sklearn.model_selection import train_test_split\n",
    "from sklearn.linear_model import LogisticRegression\n",
    "from sklearn.preprocessing import LabelEncoder\n",
    "\n",
    "from sklearn.metrics import confusion_matrix\n",
    "from sklearn.metrics import classification_report\n",
    "from sklearn.metrics import f1_score"
   ]
  },
  {
   "cell_type": "markdown",
   "metadata": {},
   "source": [
    "### To load data"
   ]
  },
  {
   "cell_type": "code",
   "execution_count": 2,
   "metadata": {},
   "outputs": [],
   "source": [
    "churn = pd.read_csv(\"https://rathachai.github.io/DA101/data/customer-churn-data.csv\")"
   ]
  },
  {
   "cell_type": "code",
   "execution_count": 3,
   "metadata": {},
   "outputs": [
    {
     "data": {
      "text/html": [
       "<div>\n",
       "<style scoped>\n",
       "    .dataframe tbody tr th:only-of-type {\n",
       "        vertical-align: middle;\n",
       "    }\n",
       "\n",
       "    .dataframe tbody tr th {\n",
       "        vertical-align: top;\n",
       "    }\n",
       "\n",
       "    .dataframe thead th {\n",
       "        text-align: right;\n",
       "    }\n",
       "</style>\n",
       "<table border=\"1\" class=\"dataframe\">\n",
       "  <thead>\n",
       "    <tr style=\"text-align: right;\">\n",
       "      <th></th>\n",
       "      <th>Gender</th>\n",
       "      <th>Age</th>\n",
       "      <th>Payment Method</th>\n",
       "      <th>LastTransaction</th>\n",
       "      <th>Churn</th>\n",
       "    </tr>\n",
       "  </thead>\n",
       "  <tbody>\n",
       "    <tr>\n",
       "      <th>0</th>\n",
       "      <td>male</td>\n",
       "      <td>64</td>\n",
       "      <td>credit card</td>\n",
       "      <td>98</td>\n",
       "      <td>loyal</td>\n",
       "    </tr>\n",
       "    <tr>\n",
       "      <th>1</th>\n",
       "      <td>male</td>\n",
       "      <td>35</td>\n",
       "      <td>cheque</td>\n",
       "      <td>118</td>\n",
       "      <td>churn</td>\n",
       "    </tr>\n",
       "    <tr>\n",
       "      <th>2</th>\n",
       "      <td>female</td>\n",
       "      <td>25</td>\n",
       "      <td>credit card</td>\n",
       "      <td>107</td>\n",
       "      <td>loyal</td>\n",
       "    </tr>\n",
       "    <tr>\n",
       "      <th>3</th>\n",
       "      <td>female</td>\n",
       "      <td>39</td>\n",
       "      <td>credit card</td>\n",
       "      <td>177</td>\n",
       "      <td>NaN</td>\n",
       "    </tr>\n",
       "    <tr>\n",
       "      <th>4</th>\n",
       "      <td>male</td>\n",
       "      <td>39</td>\n",
       "      <td>credit card</td>\n",
       "      <td>90</td>\n",
       "      <td>loyal</td>\n",
       "    </tr>\n",
       "    <tr>\n",
       "      <th>...</th>\n",
       "      <td>...</td>\n",
       "      <td>...</td>\n",
       "      <td>...</td>\n",
       "      <td>...</td>\n",
       "      <td>...</td>\n",
       "    </tr>\n",
       "    <tr>\n",
       "      <th>991</th>\n",
       "      <td>female</td>\n",
       "      <td>29</td>\n",
       "      <td>credit card</td>\n",
       "      <td>33</td>\n",
       "      <td>loyal</td>\n",
       "    </tr>\n",
       "    <tr>\n",
       "      <th>992</th>\n",
       "      <td>male</td>\n",
       "      <td>84</td>\n",
       "      <td>credit card</td>\n",
       "      <td>124</td>\n",
       "      <td>loyal</td>\n",
       "    </tr>\n",
       "    <tr>\n",
       "      <th>993</th>\n",
       "      <td>male</td>\n",
       "      <td>20</td>\n",
       "      <td>credit card</td>\n",
       "      <td>60</td>\n",
       "      <td>NaN</td>\n",
       "    </tr>\n",
       "    <tr>\n",
       "      <th>994</th>\n",
       "      <td>male</td>\n",
       "      <td>19</td>\n",
       "      <td>credit card</td>\n",
       "      <td>49</td>\n",
       "      <td>loyal</td>\n",
       "    </tr>\n",
       "    <tr>\n",
       "      <th>995</th>\n",
       "      <td>female</td>\n",
       "      <td>24</td>\n",
       "      <td>credit card</td>\n",
       "      <td>25</td>\n",
       "      <td>loyal</td>\n",
       "    </tr>\n",
       "  </tbody>\n",
       "</table>\n",
       "<p>996 rows × 5 columns</p>\n",
       "</div>"
      ],
      "text/plain": [
       "     Gender  Age Payment Method  LastTransaction  Churn\n",
       "0      male   64    credit card               98  loyal\n",
       "1      male   35         cheque              118  churn\n",
       "2    female   25    credit card              107  loyal\n",
       "3    female   39    credit card              177    NaN\n",
       "4      male   39    credit card               90  loyal\n",
       "..      ...  ...            ...              ...    ...\n",
       "991  female   29    credit card               33  loyal\n",
       "992    male   84    credit card              124  loyal\n",
       "993    male   20    credit card               60    NaN\n",
       "994    male   19    credit card               49  loyal\n",
       "995  female   24    credit card               25  loyal\n",
       "\n",
       "[996 rows x 5 columns]"
      ]
     },
     "execution_count": 3,
     "metadata": {},
     "output_type": "execute_result"
    }
   ],
   "source": [
    "churn"
   ]
  },
  {
   "cell_type": "code",
   "execution_count": 4,
   "metadata": {},
   "outputs": [
    {
     "name": "stdout",
     "output_type": "stream",
     "text": [
      "<class 'pandas.core.frame.DataFrame'>\n",
      "RangeIndex: 996 entries, 0 to 995\n",
      "Data columns (total 5 columns):\n",
      " #   Column           Non-Null Count  Dtype \n",
      "---  ------           --------------  ----- \n",
      " 0   Gender           996 non-null    object\n",
      " 1   Age              996 non-null    int64 \n",
      " 2   Payment Method   996 non-null    object\n",
      " 3   LastTransaction  996 non-null    int64 \n",
      " 4   Churn            900 non-null    object\n",
      "dtypes: int64(2), object(3)\n",
      "memory usage: 39.0+ KB\n"
     ]
    }
   ],
   "source": [
    "churn.info()"
   ]
  },
  {
   "cell_type": "code",
   "execution_count": 5,
   "metadata": {},
   "outputs": [
    {
     "data": {
      "text/html": [
       "<div>\n",
       "<style scoped>\n",
       "    .dataframe tbody tr th:only-of-type {\n",
       "        vertical-align: middle;\n",
       "    }\n",
       "\n",
       "    .dataframe tbody tr th {\n",
       "        vertical-align: top;\n",
       "    }\n",
       "\n",
       "    .dataframe thead th {\n",
       "        text-align: right;\n",
       "    }\n",
       "</style>\n",
       "<table border=\"1\" class=\"dataframe\">\n",
       "  <thead>\n",
       "    <tr style=\"text-align: right;\">\n",
       "      <th></th>\n",
       "      <th>Age</th>\n",
       "      <th>LastTransaction</th>\n",
       "    </tr>\n",
       "  </thead>\n",
       "  <tbody>\n",
       "    <tr>\n",
       "      <th>count</th>\n",
       "      <td>996.000000</td>\n",
       "      <td>996.000000</td>\n",
       "    </tr>\n",
       "    <tr>\n",
       "      <th>mean</th>\n",
       "      <td>45.616466</td>\n",
       "      <td>111.072289</td>\n",
       "    </tr>\n",
       "    <tr>\n",
       "      <th>std</th>\n",
       "      <td>18.776749</td>\n",
       "      <td>44.956045</td>\n",
       "    </tr>\n",
       "    <tr>\n",
       "      <th>min</th>\n",
       "      <td>17.000000</td>\n",
       "      <td>1.000000</td>\n",
       "    </tr>\n",
       "    <tr>\n",
       "      <th>25%</th>\n",
       "      <td>30.000000</td>\n",
       "      <td>77.000000</td>\n",
       "    </tr>\n",
       "    <tr>\n",
       "      <th>50%</th>\n",
       "      <td>44.000000</td>\n",
       "      <td>110.000000</td>\n",
       "    </tr>\n",
       "    <tr>\n",
       "      <th>75%</th>\n",
       "      <td>58.000000</td>\n",
       "      <td>145.000000</td>\n",
       "    </tr>\n",
       "    <tr>\n",
       "      <th>max</th>\n",
       "      <td>91.000000</td>\n",
       "      <td>223.000000</td>\n",
       "    </tr>\n",
       "  </tbody>\n",
       "</table>\n",
       "</div>"
      ],
      "text/plain": [
       "              Age  LastTransaction\n",
       "count  996.000000       996.000000\n",
       "mean    45.616466       111.072289\n",
       "std     18.776749        44.956045\n",
       "min     17.000000         1.000000\n",
       "25%     30.000000        77.000000\n",
       "50%     44.000000       110.000000\n",
       "75%     58.000000       145.000000\n",
       "max     91.000000       223.000000"
      ]
     },
     "execution_count": 5,
     "metadata": {},
     "output_type": "execute_result"
    }
   ],
   "source": [
    "churn.describe()"
   ]
  },
  {
   "cell_type": "markdown",
   "metadata": {},
   "source": [
    "### To do data pre-pocessing"
   ]
  },
  {
   "cell_type": "code",
   "execution_count": 7,
   "metadata": {},
   "outputs": [],
   "source": [
    "churn.dropna(inplace=True, subset=[\"Churn\"])\n"
   ]
  },
  {
   "cell_type": "code",
   "execution_count": 8,
   "metadata": {},
   "outputs": [
    {
     "name": "stdout",
     "output_type": "stream",
     "text": [
      "<class 'pandas.core.frame.DataFrame'>\n",
      "Int64Index: 900 entries, 0 to 995\n",
      "Data columns (total 5 columns):\n",
      " #   Column           Non-Null Count  Dtype \n",
      "---  ------           --------------  ----- \n",
      " 0   Gender           900 non-null    object\n",
      " 1   Age              900 non-null    int64 \n",
      " 2   Payment Method   900 non-null    object\n",
      " 3   LastTransaction  900 non-null    int64 \n",
      " 4   Churn            900 non-null    object\n",
      "dtypes: int64(2), object(3)\n",
      "memory usage: 42.2+ KB\n"
     ]
    }
   ],
   "source": [
    "churn.info()"
   ]
  },
  {
   "cell_type": "markdown",
   "metadata": {},
   "source": [
    "### To do data exploration"
   ]
  },
  {
   "cell_type": "markdown",
   "metadata": {},
   "source": [
    "#### to view data"
   ]
  },
  {
   "cell_type": "code",
   "execution_count": 10,
   "metadata": {},
   "outputs": [
    {
     "data": {
      "text/plain": [
       "<AxesSubplot:xlabel='Churn', ylabel='count'>"
      ]
     },
     "execution_count": 10,
     "metadata": {},
     "output_type": "execute_result"
    },
    {
     "data": {
      "image/png": "[encoded data removed]",
      "text/plain": [
       "<Figure size 432x288 with 1 Axes>"
      ]
     },
     "metadata": {
      "needs_background": "light"
     },
     "output_type": "display_data"
    }
   ],
   "source": [
    "sns.countplot(x=\"Churn\", data=churn)"
   ]
  },
  {
   "cell_type": "code",
   "execution_count": 11,
   "metadata": {},
   "outputs": [
    {
     "data": {
      "text/plain": [
       "<seaborn.axisgrid.PairGrid at 0x24701701ee0>"
      ]
     },
     "execution_count": 11,
     "metadata": {},
     "output_type": "execute_result"
    },
    {
     "data": {
      "image/png": "[encoded data removed]",
      "text/plain": [
       "<Figure size 424.625x360 with 6 Axes>"
      ]
     },
     "metadata": {
      "needs_background": "light"
     },
     "output_type": "display_data"
    }
   ],
   "source": [
    "sns.pairplot(churn, hue=\"Churn\")"
   ]
  },
  {
   "cell_type": "code",
   "execution_count": 12,
   "metadata": {},
   "outputs": [
    {
     "data": {
      "text/plain": [
       "<AxesSubplot:xlabel='Gender', ylabel='count'>"
      ]
     },
     "execution_count": 12,
     "metadata": {},
     "output_type": "execute_result"
    },
    {
     "data": {
      "image/png": "[encoded data removed]",
      "text/plain": [
       "<Figure size 432x288 with 1 Axes>"
      ]
     },
     "metadata": {
      "needs_background": "light"
     },
     "output_type": "display_data"
    }
   ],
   "source": [
    "sns.countplot(x=\"Gender\", hue=\"Churn\", data=churn)"
   ]
  },
  {
   "cell_type": "markdown",
   "metadata": {},
   "source": [
    "#### to do data encoder"
   ]
  },
  {
   "cell_type": "code",
   "execution_count": 13,
   "metadata": {},
   "outputs": [],
   "source": [
    "lb_make = LabelEncoder()"
   ]
  },
  {
   "cell_type": "code",
   "execution_count": 14,
   "metadata": {},
   "outputs": [],
   "source": [
    "churn[\"Gender Code\"] = lb_make.fit_transform(churn[\"Gender\"])"
   ]
  },
  {
   "cell_type": "code",
   "execution_count": 15,
   "metadata": {},
   "outputs": [
    {
     "data": {
      "text/html": [
       "<div>\n",
       "<style scoped>\n",
       "    .dataframe tbody tr th:only-of-type {\n",
       "        vertical-align: middle;\n",
       "    }\n",
       "\n",
       "    .dataframe tbody tr th {\n",
       "        vertical-align: top;\n",
       "    }\n",
       "\n",
       "    .dataframe thead th {\n",
       "        text-align: right;\n",
       "    }\n",
       "</style>\n",
       "<table border=\"1\" class=\"dataframe\">\n",
       "  <thead>\n",
       "    <tr style=\"text-align: right;\">\n",
       "      <th></th>\n",
       "      <th>Gender</th>\n",
       "      <th>Age</th>\n",
       "      <th>Payment Method</th>\n",
       "      <th>LastTransaction</th>\n",
       "      <th>Churn</th>\n",
       "      <th>Gender Code</th>\n",
       "    </tr>\n",
       "  </thead>\n",
       "  <tbody>\n",
       "    <tr>\n",
       "      <th>0</th>\n",
       "      <td>male</td>\n",
       "      <td>64</td>\n",
       "      <td>credit card</td>\n",
       "      <td>98</td>\n",
       "      <td>loyal</td>\n",
       "      <td>1</td>\n",
       "    </tr>\n",
       "    <tr>\n",
       "      <th>1</th>\n",
       "      <td>male</td>\n",
       "      <td>35</td>\n",
       "      <td>cheque</td>\n",
       "      <td>118</td>\n",
       "      <td>churn</td>\n",
       "      <td>1</td>\n",
       "    </tr>\n",
       "    <tr>\n",
       "      <th>2</th>\n",
       "      <td>female</td>\n",
       "      <td>25</td>\n",
       "      <td>credit card</td>\n",
       "      <td>107</td>\n",
       "      <td>loyal</td>\n",
       "      <td>0</td>\n",
       "    </tr>\n",
       "    <tr>\n",
       "      <th>4</th>\n",
       "      <td>male</td>\n",
       "      <td>39</td>\n",
       "      <td>credit card</td>\n",
       "      <td>90</td>\n",
       "      <td>loyal</td>\n",
       "      <td>1</td>\n",
       "    </tr>\n",
       "    <tr>\n",
       "      <th>5</th>\n",
       "      <td>female</td>\n",
       "      <td>28</td>\n",
       "      <td>cheque</td>\n",
       "      <td>189</td>\n",
       "      <td>churn</td>\n",
       "      <td>0</td>\n",
       "    </tr>\n",
       "    <tr>\n",
       "      <th>...</th>\n",
       "      <td>...</td>\n",
       "      <td>...</td>\n",
       "      <td>...</td>\n",
       "      <td>...</td>\n",
       "      <td>...</td>\n",
       "      <td>...</td>\n",
       "    </tr>\n",
       "    <tr>\n",
       "      <th>990</th>\n",
       "      <td>male</td>\n",
       "      <td>19</td>\n",
       "      <td>credit card</td>\n",
       "      <td>92</td>\n",
       "      <td>loyal</td>\n",
       "      <td>1</td>\n",
       "    </tr>\n",
       "    <tr>\n",
       "      <th>991</th>\n",
       "      <td>female</td>\n",
       "      <td>29</td>\n",
       "      <td>credit card</td>\n",
       "      <td>33</td>\n",
       "      <td>loyal</td>\n",
       "      <td>0</td>\n",
       "    </tr>\n",
       "    <tr>\n",
       "      <th>992</th>\n",
       "      <td>male</td>\n",
       "      <td>84</td>\n",
       "      <td>credit card</td>\n",
       "      <td>124</td>\n",
       "      <td>loyal</td>\n",
       "      <td>1</td>\n",
       "    </tr>\n",
       "    <tr>\n",
       "      <th>994</th>\n",
       "      <td>male</td>\n",
       "      <td>19</td>\n",
       "      <td>credit card</td>\n",
       "      <td>49</td>\n",
       "      <td>loyal</td>\n",
       "      <td>1</td>\n",
       "    </tr>\n",
       "    <tr>\n",
       "      <th>995</th>\n",
       "      <td>female</td>\n",
       "      <td>24</td>\n",
       "      <td>credit card</td>\n",
       "      <td>25</td>\n",
       "      <td>loyal</td>\n",
       "      <td>0</td>\n",
       "    </tr>\n",
       "  </tbody>\n",
       "</table>\n",
       "<p>900 rows × 6 columns</p>\n",
       "</div>"
      ],
      "text/plain": [
       "     Gender  Age Payment Method  LastTransaction  Churn  Gender Code\n",
       "0      male   64    credit card               98  loyal            1\n",
       "1      male   35         cheque              118  churn            1\n",
       "2    female   25    credit card              107  loyal            0\n",
       "4      male   39    credit card               90  loyal            1\n",
       "5    female   28         cheque              189  churn            0\n",
       "..      ...  ...            ...              ...    ...          ...\n",
       "990    male   19    credit card               92  loyal            1\n",
       "991  female   29    credit card               33  loyal            0\n",
       "992    male   84    credit card              124  loyal            1\n",
       "994    male   19    credit card               49  loyal            1\n",
       "995  female   24    credit card               25  loyal            0\n",
       "\n",
       "[900 rows x 6 columns]"
      ]
     },
     "execution_count": 15,
     "metadata": {},
     "output_type": "execute_result"
    }
   ],
   "source": [
    "churn"
   ]
  },
  {
   "cell_type": "markdown",
   "metadata": {},
   "source": [
    "#### To do one-hot encoding"
   ]
  },
  {
   "cell_type": "code",
   "execution_count": 16,
   "metadata": {},
   "outputs": [],
   "source": [
    "churn = pd.get_dummies(churn, columns=[\"Payment Method\"])"
   ]
  },
  {
   "cell_type": "code",
   "execution_count": 17,
   "metadata": {},
   "outputs": [
    {
     "data": {
      "text/html": [
       "<div>\n",
       "<style scoped>\n",
       "    .dataframe tbody tr th:only-of-type {\n",
       "        vertical-align: middle;\n",
       "    }\n",
       "\n",
       "    .dataframe tbody tr th {\n",
       "        vertical-align: top;\n",
       "    }\n",
       "\n",
       "    .dataframe thead th {\n",
       "        text-align: right;\n",
       "    }\n",
       "</style>\n",
       "<table border=\"1\" class=\"dataframe\">\n",
       "  <thead>\n",
       "    <tr style=\"text-align: right;\">\n",
       "      <th></th>\n",
       "      <th>Gender</th>\n",
       "      <th>Age</th>\n",
       "      <th>LastTransaction</th>\n",
       "      <th>Churn</th>\n",
       "      <th>Gender Code</th>\n",
       "      <th>Payment Method_cash</th>\n",
       "      <th>Payment Method_cheque</th>\n",
       "      <th>Payment Method_credit card</th>\n",
       "    </tr>\n",
       "  </thead>\n",
       "  <tbody>\n",
       "    <tr>\n",
       "      <th>0</th>\n",
       "      <td>male</td>\n",
       "      <td>64</td>\n",
       "      <td>98</td>\n",
       "      <td>loyal</td>\n",
       "      <td>1</td>\n",
       "      <td>0</td>\n",
       "      <td>0</td>\n",
       "      <td>1</td>\n",
       "    </tr>\n",
       "    <tr>\n",
       "      <th>1</th>\n",
       "      <td>male</td>\n",
       "      <td>35</td>\n",
       "      <td>118</td>\n",
       "      <td>churn</td>\n",
       "      <td>1</td>\n",
       "      <td>0</td>\n",
       "      <td>1</td>\n",
       "      <td>0</td>\n",
       "    </tr>\n",
       "    <tr>\n",
       "      <th>2</th>\n",
       "      <td>female</td>\n",
       "      <td>25</td>\n",
       "      <td>107</td>\n",
       "      <td>loyal</td>\n",
       "      <td>0</td>\n",
       "      <td>0</td>\n",
       "      <td>0</td>\n",
       "      <td>1</td>\n",
       "    </tr>\n",
       "    <tr>\n",
       "      <th>4</th>\n",
       "      <td>male</td>\n",
       "      <td>39</td>\n",
       "      <td>90</td>\n",
       "      <td>loyal</td>\n",
       "      <td>1</td>\n",
       "      <td>0</td>\n",
       "      <td>0</td>\n",
       "      <td>1</td>\n",
       "    </tr>\n",
       "    <tr>\n",
       "      <th>5</th>\n",
       "      <td>female</td>\n",
       "      <td>28</td>\n",
       "      <td>189</td>\n",
       "      <td>churn</td>\n",
       "      <td>0</td>\n",
       "      <td>0</td>\n",
       "      <td>1</td>\n",
       "      <td>0</td>\n",
       "    </tr>\n",
       "    <tr>\n",
       "      <th>...</th>\n",
       "      <td>...</td>\n",
       "      <td>...</td>\n",
       "      <td>...</td>\n",
       "      <td>...</td>\n",
       "      <td>...</td>\n",
       "      <td>...</td>\n",
       "      <td>...</td>\n",
       "      <td>...</td>\n",
       "    </tr>\n",
       "    <tr>\n",
       "      <th>990</th>\n",
       "      <td>male</td>\n",
       "      <td>19</td>\n",
       "      <td>92</td>\n",
       "      <td>loyal</td>\n",
       "      <td>1</td>\n",
       "      <td>0</td>\n",
       "      <td>0</td>\n",
       "      <td>1</td>\n",
       "    </tr>\n",
       "    <tr>\n",
       "      <th>991</th>\n",
       "      <td>female</td>\n",
       "      <td>29</td>\n",
       "      <td>33</td>\n",
       "      <td>loyal</td>\n",
       "      <td>0</td>\n",
       "      <td>0</td>\n",
       "      <td>0</td>\n",
       "      <td>1</td>\n",
       "    </tr>\n",
       "    <tr>\n",
       "      <th>992</th>\n",
       "      <td>male</td>\n",
       "      <td>84</td>\n",
       "      <td>124</td>\n",
       "      <td>loyal</td>\n",
       "      <td>1</td>\n",
       "      <td>0</td>\n",
       "      <td>0</td>\n",
       "      <td>1</td>\n",
       "    </tr>\n",
       "    <tr>\n",
       "      <th>994</th>\n",
       "      <td>male</td>\n",
       "      <td>19</td>\n",
       "      <td>49</td>\n",
       "      <td>loyal</td>\n",
       "      <td>1</td>\n",
       "      <td>0</td>\n",
       "      <td>0</td>\n",
       "      <td>1</td>\n",
       "    </tr>\n",
       "    <tr>\n",
       "      <th>995</th>\n",
       "      <td>female</td>\n",
       "      <td>24</td>\n",
       "      <td>25</td>\n",
       "      <td>loyal</td>\n",
       "      <td>0</td>\n",
       "      <td>0</td>\n",
       "      <td>0</td>\n",
       "      <td>1</td>\n",
       "    </tr>\n",
       "  </tbody>\n",
       "</table>\n",
       "<p>900 rows × 8 columns</p>\n",
       "</div>"
      ],
      "text/plain": [
       "     Gender  Age  LastTransaction  Churn  Gender Code  Payment Method_cash  \\\n",
       "0      male   64               98  loyal            1                    0   \n",
       "1      male   35              118  churn            1                    0   \n",
       "2    female   25              107  loyal            0                    0   \n",
       "4      male   39               90  loyal            1                    0   \n",
       "5    female   28              189  churn            0                    0   \n",
       "..      ...  ...              ...    ...          ...                  ...   \n",
       "990    male   19               92  loyal            1                    0   \n",
       "991  female   29               33  loyal            0                    0   \n",
       "992    male   84              124  loyal            1                    0   \n",
       "994    male   19               49  loyal            1                    0   \n",
       "995  female   24               25  loyal            0                    0   \n",
       "\n",
       "     Payment Method_cheque  Payment Method_credit card  \n",
       "0                        0                           1  \n",
       "1                        1                           0  \n",
       "2                        0                           1  \n",
       "4                        0                           1  \n",
       "5                        1                           0  \n",
       "..                     ...                         ...  \n",
       "990                      0                           1  \n",
       "991                      0                           1  \n",
       "992                      0                           1  \n",
       "994                      0                           1  \n",
       "995                      0                           1  \n",
       "\n",
       "[900 rows x 8 columns]"
      ]
     },
     "execution_count": 17,
     "metadata": {},
     "output_type": "execute_result"
    }
   ],
   "source": [
    "churn"
   ]
  },
  {
   "cell_type": "markdown",
   "metadata": {},
   "source": [
    "### To do **`Logistic Regression`**"
   ]
  },
  {
   "cell_type": "markdown",
   "metadata": {},
   "source": [
    "#### To select data"
   ]
  },
  {
   "cell_type": "code",
   "execution_count": 19,
   "metadata": {},
   "outputs": [],
   "source": [
    "X = churn[[\"Age\", \"LastTransaction\", \"Gender Code\", \"Payment Method_cash\", \"Payment Method_cheque\",\"Payment Method_credit card\"]]\n",
    "y = churn[\"Churn\"]"
   ]
  },
  {
   "cell_type": "code",
   "execution_count": 20,
   "metadata": {},
   "outputs": [
    {
     "data": {
      "text/html": [
       "<div>\n",
       "<style scoped>\n",
       "    .dataframe tbody tr th:only-of-type {\n",
       "        vertical-align: middle;\n",
       "    }\n",
       "\n",
       "    .dataframe tbody tr th {\n",
       "        vertical-align: top;\n",
       "    }\n",
       "\n",
       "    .dataframe thead th {\n",
       "        text-align: right;\n",
       "    }\n",
       "</style>\n",
       "<table border=\"1\" class=\"dataframe\">\n",
       "  <thead>\n",
       "    <tr style=\"text-align: right;\">\n",
       "      <th></th>\n",
       "      <th>Age</th>\n",
       "      <th>LastTransaction</th>\n",
       "      <th>Gender Code</th>\n",
       "      <th>Payment Method_cash</th>\n",
       "      <th>Payment Method_cheque</th>\n",
       "      <th>Payment Method_credit card</th>\n",
       "    </tr>\n",
       "  </thead>\n",
       "  <tbody>\n",
       "    <tr>\n",
       "      <th>0</th>\n",
       "      <td>64</td>\n",
       "      <td>98</td>\n",
       "      <td>1</td>\n",
       "      <td>0</td>\n",
       "      <td>0</td>\n",
       "      <td>1</td>\n",
       "    </tr>\n",
       "    <tr>\n",
       "      <th>1</th>\n",
       "      <td>35</td>\n",
       "      <td>118</td>\n",
       "      <td>1</td>\n",
       "      <td>0</td>\n",
       "      <td>1</td>\n",
       "      <td>0</td>\n",
       "    </tr>\n",
       "    <tr>\n",
       "      <th>2</th>\n",
       "      <td>25</td>\n",
       "      <td>107</td>\n",
       "      <td>0</td>\n",
       "      <td>0</td>\n",
       "      <td>0</td>\n",
       "      <td>1</td>\n",
       "    </tr>\n",
       "    <tr>\n",
       "      <th>4</th>\n",
       "      <td>39</td>\n",
       "      <td>90</td>\n",
       "      <td>1</td>\n",
       "      <td>0</td>\n",
       "      <td>0</td>\n",
       "      <td>1</td>\n",
       "    </tr>\n",
       "    <tr>\n",
       "      <th>5</th>\n",
       "      <td>28</td>\n",
       "      <td>189</td>\n",
       "      <td>0</td>\n",
       "      <td>0</td>\n",
       "      <td>1</td>\n",
       "      <td>0</td>\n",
       "    </tr>\n",
       "    <tr>\n",
       "      <th>...</th>\n",
       "      <td>...</td>\n",
       "      <td>...</td>\n",
       "      <td>...</td>\n",
       "      <td>...</td>\n",
       "      <td>...</td>\n",
       "      <td>...</td>\n",
       "    </tr>\n",
       "    <tr>\n",
       "      <th>990</th>\n",
       "      <td>19</td>\n",
       "      <td>92</td>\n",
       "      <td>1</td>\n",
       "      <td>0</td>\n",
       "      <td>0</td>\n",
       "      <td>1</td>\n",
       "    </tr>\n",
       "    <tr>\n",
       "      <th>991</th>\n",
       "      <td>29</td>\n",
       "      <td>33</td>\n",
       "      <td>0</td>\n",
       "      <td>0</td>\n",
       "      <td>0</td>\n",
       "      <td>1</td>\n",
       "    </tr>\n",
       "    <tr>\n",
       "      <th>992</th>\n",
       "      <td>84</td>\n",
       "      <td>124</td>\n",
       "      <td>1</td>\n",
       "      <td>0</td>\n",
       "      <td>0</td>\n",
       "      <td>1</td>\n",
       "    </tr>\n",
       "    <tr>\n",
       "      <th>994</th>\n",
       "      <td>19</td>\n",
       "      <td>49</td>\n",
       "      <td>1</td>\n",
       "      <td>0</td>\n",
       "      <td>0</td>\n",
       "      <td>1</td>\n",
       "    </tr>\n",
       "    <tr>\n",
       "      <th>995</th>\n",
       "      <td>24</td>\n",
       "      <td>25</td>\n",
       "      <td>0</td>\n",
       "      <td>0</td>\n",
       "      <td>0</td>\n",
       "      <td>1</td>\n",
       "    </tr>\n",
       "  </tbody>\n",
       "</table>\n",
       "<p>900 rows × 6 columns</p>\n",
       "</div>"
      ],
      "text/plain": [
       "     Age  LastTransaction  Gender Code  Payment Method_cash  \\\n",
       "0     64               98            1                    0   \n",
       "1     35              118            1                    0   \n",
       "2     25              107            0                    0   \n",
       "4     39               90            1                    0   \n",
       "5     28              189            0                    0   \n",
       "..   ...              ...          ...                  ...   \n",
       "990   19               92            1                    0   \n",
       "991   29               33            0                    0   \n",
       "992   84              124            1                    0   \n",
       "994   19               49            1                    0   \n",
       "995   24               25            0                    0   \n",
       "\n",
       "     Payment Method_cheque  Payment Method_credit card  \n",
       "0                        0                           1  \n",
       "1                        1                           0  \n",
       "2                        0                           1  \n",
       "4                        0                           1  \n",
       "5                        1                           0  \n",
       "..                     ...                         ...  \n",
       "990                      0                           1  \n",
       "991                      0                           1  \n",
       "992                      0                           1  \n",
       "994                      0                           1  \n",
       "995                      0                           1  \n",
       "\n",
       "[900 rows x 6 columns]"
      ]
     },
     "execution_count": 20,
     "metadata": {},
     "output_type": "execute_result"
    }
   ],
   "source": [
    "X"
   ]
  },
  {
   "cell_type": "code",
   "execution_count": 21,
   "metadata": {},
   "outputs": [
    {
     "data": {
      "text/plain": [
       "0      loyal\n",
       "1      churn\n",
       "2      loyal\n",
       "4      loyal\n",
       "5      churn\n",
       "       ...  \n",
       "990    loyal\n",
       "991    loyal\n",
       "992    loyal\n",
       "994    loyal\n",
       "995    loyal\n",
       "Name: Churn, Length: 900, dtype: object"
      ]
     },
     "execution_count": 21,
     "metadata": {},
     "output_type": "execute_result"
    }
   ],
   "source": [
    "y"
   ]
  },
  {
   "cell_type": "markdown",
   "metadata": {},
   "source": [
    "### To split train and test set"
   ]
  },
  {
   "cell_type": "code",
   "execution_count": 22,
   "metadata": {},
   "outputs": [],
   "source": [
    "X_train, X_test, y_train, y_test = train_test_split(X,y,test_size=0.3, random_state=101)"
   ]
  },
  {
   "cell_type": "markdown",
   "metadata": {},
   "source": [
    "### to train and create a linear regression model"
   ]
  },
  {
   "cell_type": "code",
   "execution_count": 23,
   "metadata": {},
   "outputs": [],
   "source": [
    "clf = LogisticRegression()"
   ]
  },
  {
   "cell_type": "code",
   "execution_count": 25,
   "metadata": {},
   "outputs": [
    {
     "data": {
      "text/plain": [
       "LogisticRegression()"
      ]
     },
     "execution_count": 25,
     "metadata": {},
     "output_type": "execute_result"
    }
   ],
   "source": [
    "clf.fit(X_train, y_train)"
   ]
  },
  {
   "cell_type": "code",
   "execution_count": 26,
   "metadata": {},
   "outputs": [
    {
     "data": {
      "text/plain": [
       "array([[-0.02332472, -0.00775513,  2.76546143, -0.24696719, -0.32714535,\n",
       "         0.57098283]])"
      ]
     },
     "execution_count": 26,
     "metadata": {},
     "output_type": "execute_result"
    }
   ],
   "source": [
    "clf.coef_"
   ]
  },
  {
   "cell_type": "code",
   "execution_count": 27,
   "metadata": {},
   "outputs": [
    {
     "data": {
      "text/plain": [
       "array([1.08269557])"
      ]
     },
     "execution_count": 27,
     "metadata": {},
     "output_type": "execute_result"
    }
   ],
   "source": [
    "clf.intercept_"
   ]
  },
  {
   "cell_type": "markdown",
   "metadata": {},
   "source": [
    "### To predict from the test set"
   ]
  },
  {
   "cell_type": "code",
   "execution_count": 28,
   "metadata": {},
   "outputs": [],
   "source": [
    "y_pred = clf.predict(X_test)"
   ]
  },
  {
   "cell_type": "code",
   "execution_count": 29,
   "metadata": {},
   "outputs": [
    {
     "data": {
      "text/plain": [
       "array(['loyal', 'loyal', 'churn', 'loyal', 'churn', 'churn', 'churn',\n",
       "       'loyal', 'loyal', 'loyal', 'loyal', 'loyal', 'loyal', 'churn',\n",
       "       'churn', 'loyal', 'loyal', 'churn', 'loyal', 'churn', 'loyal',\n",
       "       'loyal', 'loyal', 'churn', 'churn', 'loyal', 'churn', 'churn',\n",
       "       'loyal', 'loyal', 'churn', 'churn', 'churn', 'churn', 'loyal',\n",
       "       'churn', 'churn', 'loyal', 'churn', 'loyal', 'churn', 'loyal',\n",
       "       'loyal', 'churn', 'loyal', 'loyal', 'churn', 'loyal', 'loyal',\n",
       "       'churn', 'loyal', 'loyal', 'churn', 'churn', 'loyal', 'loyal',\n",
       "       'churn', 'loyal', 'loyal', 'loyal', 'churn', 'churn', 'churn',\n",
       "       'loyal', 'loyal', 'churn', 'loyal', 'churn', 'churn', 'loyal',\n",
       "       'loyal', 'loyal', 'loyal', 'churn', 'churn', 'loyal', 'loyal',\n",
       "       'loyal', 'churn', 'loyal', 'loyal', 'loyal', 'loyal', 'loyal',\n",
       "       'loyal', 'loyal', 'loyal', 'churn', 'churn', 'loyal', 'loyal',\n",
       "       'churn', 'loyal', 'loyal', 'loyal', 'loyal', 'loyal', 'loyal',\n",
       "       'loyal', 'churn', 'churn', 'loyal', 'loyal', 'loyal', 'loyal',\n",
       "       'loyal', 'loyal', 'loyal', 'loyal', 'churn', 'loyal', 'loyal',\n",
       "       'loyal', 'churn', 'loyal', 'loyal', 'loyal', 'loyal', 'loyal',\n",
       "       'loyal', 'loyal', 'loyal', 'loyal', 'churn', 'churn', 'loyal',\n",
       "       'loyal', 'loyal', 'loyal', 'churn', 'loyal', 'loyal', 'loyal',\n",
       "       'loyal', 'loyal', 'loyal', 'loyal', 'loyal', 'loyal', 'churn',\n",
       "       'loyal', 'churn', 'loyal', 'loyal', 'loyal', 'churn', 'churn',\n",
       "       'churn', 'churn', 'churn', 'loyal', 'loyal', 'loyal', 'churn',\n",
       "       'loyal', 'loyal', 'loyal', 'loyal', 'loyal', 'loyal', 'loyal',\n",
       "       'churn', 'churn', 'churn', 'loyal', 'loyal', 'loyal', 'loyal',\n",
       "       'loyal', 'loyal', 'churn', 'churn', 'churn', 'churn', 'churn',\n",
       "       'loyal', 'churn', 'loyal', 'loyal', 'churn', 'loyal', 'loyal',\n",
       "       'churn', 'loyal', 'loyal', 'loyal', 'loyal', 'loyal', 'loyal',\n",
       "       'loyal', 'churn', 'loyal', 'loyal', 'loyal', 'churn', 'loyal',\n",
       "       'churn', 'churn', 'loyal', 'loyal', 'loyal', 'loyal', 'loyal',\n",
       "       'loyal', 'loyal', 'churn', 'churn', 'churn', 'churn', 'churn',\n",
       "       'loyal', 'loyal', 'loyal', 'loyal', 'loyal', 'loyal', 'churn',\n",
       "       'loyal', 'loyal', 'churn', 'loyal', 'loyal', 'loyal', 'loyal',\n",
       "       'loyal', 'churn', 'loyal', 'churn', 'loyal', 'loyal', 'loyal',\n",
       "       'loyal', 'churn', 'churn', 'loyal', 'churn', 'loyal', 'loyal',\n",
       "       'loyal', 'loyal', 'loyal', 'loyal', 'loyal', 'churn', 'churn',\n",
       "       'churn', 'loyal', 'loyal', 'loyal', 'churn', 'loyal', 'loyal',\n",
       "       'churn', 'churn', 'loyal', 'loyal', 'loyal', 'churn', 'loyal',\n",
       "       'churn', 'loyal', 'churn', 'loyal', 'loyal', 'churn', 'loyal',\n",
       "       'churn', 'churn', 'churn', 'loyal'], dtype=object)"
      ]
     },
     "execution_count": 29,
     "metadata": {},
     "output_type": "execute_result"
    }
   ],
   "source": [
    "y_pred"
   ]
  },
  {
   "cell_type": "markdown",
   "metadata": {},
   "source": [
    "### To evaluate the predict value with the test set"
   ]
  },
  {
   "cell_type": "code",
   "execution_count": 34,
   "metadata": {},
   "outputs": [
    {
     "name": "stdout",
     "output_type": "stream",
     "text": [
      "['loyal' 'churn']\n"
     ]
    },
    {
     "data": {
      "text/plain": [
       "array([[154,  17],\n",
       "       [ 23,  76]], dtype=int64)"
      ]
     },
     "execution_count": 34,
     "metadata": {},
     "output_type": "execute_result"
    }
   ],
   "source": [
    "cm_labls = churn[\"Churn\"].unique()\n",
    "print(cm_labls)\n",
    "confusion_matrix(y_test, y_pred, labels=cm_labls)\n"
   ]
  },
  {
   "cell_type": "code",
   "execution_count": 35,
   "metadata": {},
   "outputs": [
    {
     "name": "stdout",
     "output_type": "stream",
     "text": [
      "              precision    recall  f1-score   support\n",
      "\n",
      "       churn       0.82      0.77      0.79        99\n",
      "       loyal       0.87      0.90      0.89       171\n",
      "\n",
      "    accuracy                           0.85       270\n",
      "   macro avg       0.84      0.83      0.84       270\n",
      "weighted avg       0.85      0.85      0.85       270\n",
      "\n"
     ]
    }
   ],
   "source": [
    "print(classification_report(y_test, y_pred))"
   ]
  },
  {
   "cell_type": "code",
   "execution_count": 40,
   "metadata": {},
   "outputs": [
    {
     "name": "stdout",
     "output_type": "stream",
     "text": [
      "F1 = 0.8508141762452107\n"
     ]
    }
   ],
   "source": [
    "f1 = f1_score(y_test, y_pred, average=\"weighted\")\n",
    "print(\"F1 =\",f1)"
   ]
  },
  {
   "cell_type": "markdown",
   "metadata": {},
   "source": [
    "### To do Decision Tree"
   ]
  },
  {
   "cell_type": "code",
   "execution_count": 41,
   "metadata": {},
   "outputs": [],
   "source": [
    "from sklearn import tree"
   ]
  },
  {
   "cell_type": "code",
   "execution_count": 42,
   "metadata": {},
   "outputs": [],
   "source": [
    "X = churn[[\"Age\", \"LastTransaction\", \"Gender Code\", \"Payment Method_cash\", \"Payment Method_cheque\",\"Payment Method_credit card\"]]\n",
    "y = churn[\"Churn\"]"
   ]
  },
  {
   "cell_type": "code",
   "execution_count": 43,
   "metadata": {},
   "outputs": [],
   "source": [
    "X_train, X_test, y_train, y_test = train_test_split(X,y,test_size=0.3, random_state=101)"
   ]
  },
  {
   "cell_type": "code",
   "execution_count": 45,
   "metadata": {},
   "outputs": [],
   "source": [
    "clf = tree.DecisionTreeClassifier()"
   ]
  },
  {
   "cell_type": "code",
   "execution_count": 46,
   "metadata": {},
   "outputs": [
    {
     "data": {
      "text/plain": [
       "DecisionTreeClassifier()"
      ]
     },
     "execution_count": 46,
     "metadata": {},
     "output_type": "execute_result"
    }
   ],
   "source": [
    "clf.fit(X_train, y_train)"
   ]
  },
  {
   "cell_type": "code",
   "execution_count": 47,
   "metadata": {},
   "outputs": [],
   "source": [
    "y_pred = clf.predict(X_test)"
   ]
  },
  {
   "cell_type": "code",
   "execution_count": 49,
   "metadata": {},
   "outputs": [
    {
     "name": "stdout",
     "output_type": "stream",
     "text": [
      "**** Confusion Matrix ****\n",
      "['loyal' 'churn']\n",
      "[[141  30]\n",
      " [ 35  64]]\n",
      "\n",
      "**** Report ****\n",
      "              precision    recall  f1-score   support\n",
      "\n",
      "       churn       0.68      0.65      0.66        99\n",
      "       loyal       0.80      0.82      0.81       171\n",
      "\n",
      "    accuracy                           0.76       270\n",
      "   macro avg       0.74      0.74      0.74       270\n",
      "weighted avg       0.76      0.76      0.76       270\n",
      "\n",
      "\n",
      "**** F1 ****\n",
      "F1 = 0.7578752992588833\n"
     ]
    }
   ],
   "source": [
    "print(\"**** Confusion Matrix ****\")\n",
    "cm_labls = churn[\"Churn\"].unique()\n",
    "print(cm_labls)\n",
    "print(confusion_matrix(y_test, y_pred, labels=cm_labls))\n",
    "\n",
    "print()\n",
    "print(\"**** Report ****\")\n",
    "print(classification_report(y_test, y_pred))\n",
    "\n",
    "print()\n",
    "print(\"**** F1 ****\")\n",
    "f1 = f1_score(y_test, y_pred, average=\"weighted\")\n",
    "print(\"F1 =\", f1)"
   ]
  },
  {
   "cell_type": "code",
   "execution_count": null,
   "metadata": {},
   "outputs": [],
   "source": []
  }
 ],
 "metadata": {
  "kernelspec": {
   "display_name": "Python 3.9.2 64-bit",
   "language": "python",
   "name": "python3"
  },
  "language_info": {
   "codemirror_mode": {
    "name": "ipython",
    "version": 3
   },
   "file_extension": ".py",
   "mimetype": "text/x-python",
   "name": "python",
   "nbconvert_exporter": "python",
   "pygments_lexer": "ipython3",
   "version": "3.9.2"
  },
  "orig_nbformat": 4,
  "vscode": {
   "interpreter": {
    "hash": "44503fabc517f282cadb002b8db49156e9fb3f635c8a12f939a7312cd52e1bdc"
   }
  }
 },
 "nbformat": 4,
 "nbformat_minor": 2
}
