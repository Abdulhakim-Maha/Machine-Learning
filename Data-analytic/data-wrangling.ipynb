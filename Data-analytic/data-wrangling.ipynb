{
 "cells": [
  {
   "cell_type": "markdown",
   "metadata": {},
   "source": [
    "$$\n",
    "Quick Data Wrangling\n",
    "$$"
   ]
  },
  {
   "cell_type": "markdown",
   "metadata": {},
   "source": [
    "### Import Libraries"
   ]
  },
  {
   "cell_type": "code",
   "execution_count": 1,
   "metadata": {},
   "outputs": [],
   "source": [
    "import numpy as np\n",
    "import pandas as pd"
   ]
  },
  {
   "cell_type": "markdown",
   "metadata": {},
   "source": [
    "### Load Dataset"
   ]
  },
  {
   "cell_type": "code",
   "execution_count": 2,
   "metadata": {},
   "outputs": [],
   "source": [
    "cust_csv_path = 'https://docs.google.com/spreadsheets/d/e/2PACX-1vQxcCDTAalMyu4Tc_eelskRhZXldH9TSliZLFcW39_LlzOkIReCRdK0V7JR6APjJH-EluveA5c-m237/pub?gid=0&single=true&output=csv'\n",
    "churn_csv_path = 'https://docs.google.com/spreadsheets/d/e/2PACX-1vQxcCDTAalMyu4Tc_eelskRhZXldH9TSliZLFcW39_LlzOkIReCRdK0V7JR6APjJH-EluveA5c-m237/pub?gid=755674277&single=true&output=csv'"
   ]
  },
  {
   "cell_type": "code",
   "execution_count": 4,
   "metadata": {},
   "outputs": [],
   "source": [
    "cust_df = pd.read_csv(cust_csv_path)"
   ]
  },
  {
   "cell_type": "code",
   "execution_count": 5,
   "metadata": {},
   "outputs": [],
   "source": [
    "churn_df = pd.read_csv(churn_csv_path)"
   ]
  },
  {
   "cell_type": "code",
   "execution_count": 6,
   "metadata": {},
   "outputs": [
    {
     "data": {
      "text/html": [
       "<div>\n",
       "<style scoped>\n",
       "    .dataframe tbody tr th:only-of-type {\n",
       "        vertical-align: middle;\n",
       "    }\n",
       "\n",
       "    .dataframe tbody tr th {\n",
       "        vertical-align: top;\n",
       "    }\n",
       "\n",
       "    .dataframe thead th {\n",
       "        text-align: right;\n",
       "    }\n",
       "</style>\n",
       "<table border=\"1\" class=\"dataframe\">\n",
       "  <thead>\n",
       "    <tr style=\"text-align: right;\">\n",
       "      <th></th>\n",
       "      <th>cust_id</th>\n",
       "      <th>gender</th>\n",
       "      <th>birth</th>\n",
       "      <th>height</th>\n",
       "      <th>address</th>\n",
       "      <th>salary</th>\n",
       "      <th>job</th>\n",
       "      <th>payment</th>\n",
       "      <th>last_tx</th>\n",
       "    </tr>\n",
       "  </thead>\n",
       "  <tbody>\n",
       "    <tr>\n",
       "      <th>0</th>\n",
       "      <td>C-0001</td>\n",
       "      <td>male</td>\n",
       "      <td>06/02/1958</td>\n",
       "      <td>175.0</td>\n",
       "      <td>140/27, ทุ่งครุ, กรุงเทพ</td>\n",
       "      <td>24942.0</td>\n",
       "      <td>retired</td>\n",
       "      <td>credit</td>\n",
       "      <td>98</td>\n",
       "    </tr>\n",
       "    <tr>\n",
       "      <th>1</th>\n",
       "      <td>C-0002</td>\n",
       "      <td>male</td>\n",
       "      <td>09/06/1987</td>\n",
       "      <td>171.0</td>\n",
       "      <td>198/57, เมืองสมุทรสาคร, สมุทรสาคร</td>\n",
       "      <td>55134.0</td>\n",
       "      <td>worker</td>\n",
       "      <td>cheque</td>\n",
       "      <td>118</td>\n",
       "    </tr>\n",
       "    <tr>\n",
       "      <th>2</th>\n",
       "      <td>C-0003</td>\n",
       "      <td>female</td>\n",
       "      <td>07/02/1997</td>\n",
       "      <td>166.0</td>\n",
       "      <td>379/22, คลองเตย, กรุงเทพ</td>\n",
       "      <td>27083.0</td>\n",
       "      <td>worker</td>\n",
       "      <td>credit</td>\n",
       "      <td>107</td>\n",
       "    </tr>\n",
       "    <tr>\n",
       "      <th>3</th>\n",
       "      <td>C-0004</td>\n",
       "      <td>female</td>\n",
       "      <td>06/10/1983</td>\n",
       "      <td>166.0</td>\n",
       "      <td>361/6, บางกรวย, นนทบุรี</td>\n",
       "      <td>71331.0</td>\n",
       "      <td>worker</td>\n",
       "      <td>credit</td>\n",
       "      <td>177</td>\n",
       "    </tr>\n",
       "    <tr>\n",
       "      <th>4</th>\n",
       "      <td>C-0005</td>\n",
       "      <td>male</td>\n",
       "      <td>02/17/1983</td>\n",
       "      <td>171.0</td>\n",
       "      <td>132/13, คลองหลวง, ปทุมธานี</td>\n",
       "      <td>71874.0</td>\n",
       "      <td>worker</td>\n",
       "      <td>credit</td>\n",
       "      <td>90</td>\n",
       "    </tr>\n",
       "    <tr>\n",
       "      <th>...</th>\n",
       "      <td>...</td>\n",
       "      <td>...</td>\n",
       "      <td>...</td>\n",
       "      <td>...</td>\n",
       "      <td>...</td>\n",
       "      <td>...</td>\n",
       "      <td>...</td>\n",
       "      <td>...</td>\n",
       "      <td>...</td>\n",
       "    </tr>\n",
       "    <tr>\n",
       "      <th>991</th>\n",
       "      <td>C-0992</td>\n",
       "      <td>female</td>\n",
       "      <td>03/02/1993</td>\n",
       "      <td>170.0</td>\n",
       "      <td>161/10, ลาดพร้าว, กรุงเทพ</td>\n",
       "      <td>36333.0</td>\n",
       "      <td>worker</td>\n",
       "      <td>credit</td>\n",
       "      <td>33</td>\n",
       "    </tr>\n",
       "    <tr>\n",
       "      <th>992</th>\n",
       "      <td>C-0993</td>\n",
       "      <td>male</td>\n",
       "      <td>04/07/1938</td>\n",
       "      <td>177.0</td>\n",
       "      <td>158/61, กระทุ่มแบน, สมุทรสาคร</td>\n",
       "      <td>43782.0</td>\n",
       "      <td>retired</td>\n",
       "      <td>credit</td>\n",
       "      <td>124</td>\n",
       "    </tr>\n",
       "    <tr>\n",
       "      <th>993</th>\n",
       "      <td>C-0994</td>\n",
       "      <td>male</td>\n",
       "      <td>04/27/2002</td>\n",
       "      <td>160.0</td>\n",
       "      <td>418/5, บ้านแพ้ว, สมุทรสาคร</td>\n",
       "      <td>19737.0</td>\n",
       "      <td>worker</td>\n",
       "      <td>credit</td>\n",
       "      <td>60</td>\n",
       "    </tr>\n",
       "    <tr>\n",
       "      <th>994</th>\n",
       "      <td>C-0995</td>\n",
       "      <td>male</td>\n",
       "      <td>02/27/2003</td>\n",
       "      <td>168.0</td>\n",
       "      <td>276/51, บึ่งกุ่ม, กรุงเทพ</td>\n",
       "      <td>6693.0</td>\n",
       "      <td>student</td>\n",
       "      <td>credit</td>\n",
       "      <td>49</td>\n",
       "    </tr>\n",
       "    <tr>\n",
       "      <th>995</th>\n",
       "      <td>C-0996</td>\n",
       "      <td>female</td>\n",
       "      <td>04/28/1998</td>\n",
       "      <td>152.0</td>\n",
       "      <td>23/61, ทวีวัฒนา, กรุงเทพ</td>\n",
       "      <td>26580.0</td>\n",
       "      <td>worker</td>\n",
       "      <td>credit</td>\n",
       "      <td>25</td>\n",
       "    </tr>\n",
       "  </tbody>\n",
       "</table>\n",
       "<p>996 rows × 9 columns</p>\n",
       "</div>"
      ],
      "text/plain": [
       "    cust_id  gender       birth  height                            address  \\\n",
       "0    C-0001    male  06/02/1958   175.0           140/27, ทุ่งครุ, กรุงเทพ   \n",
       "1    C-0002    male  09/06/1987   171.0  198/57, เมืองสมุทรสาคร, สมุทรสาคร   \n",
       "2    C-0003  female  07/02/1997   166.0           379/22, คลองเตย, กรุงเทพ   \n",
       "3    C-0004  female  06/10/1983   166.0            361/6, บางกรวย, นนทบุรี   \n",
       "4    C-0005    male  02/17/1983   171.0         132/13, คลองหลวง, ปทุมธานี   \n",
       "..      ...     ...         ...     ...                                ...   \n",
       "991  C-0992  female  03/02/1993   170.0          161/10, ลาดพร้าว, กรุงเทพ   \n",
       "992  C-0993    male  04/07/1938   177.0      158/61, กระทุ่มแบน, สมุทรสาคร   \n",
       "993  C-0994    male  04/27/2002   160.0         418/5, บ้านแพ้ว, สมุทรสาคร   \n",
       "994  C-0995    male  02/27/2003   168.0          276/51, บึ่งกุ่ม, กรุงเทพ   \n",
       "995  C-0996  female  04/28/1998   152.0           23/61, ทวีวัฒนา, กรุงเทพ   \n",
       "\n",
       "      salary      job payment  last_tx  \n",
       "0    24942.0  retired  credit       98  \n",
       "1    55134.0   worker  cheque      118  \n",
       "2    27083.0   worker  credit      107  \n",
       "3    71331.0   worker  credit      177  \n",
       "4    71874.0   worker  credit       90  \n",
       "..       ...      ...     ...      ...  \n",
       "991  36333.0   worker  credit       33  \n",
       "992  43782.0  retired  credit      124  \n",
       "993  19737.0   worker  credit       60  \n",
       "994   6693.0  student  credit       49  \n",
       "995  26580.0   worker  credit       25  \n",
       "\n",
       "[996 rows x 9 columns]"
      ]
     },
     "execution_count": 6,
     "metadata": {},
     "output_type": "execute_result"
    }
   ],
   "source": [
    "cust_df"
   ]
  },
  {
   "cell_type": "code",
   "execution_count": 9,
   "metadata": {},
   "outputs": [
    {
     "data": {
      "text/html": [
       "<div>\n",
       "<style scoped>\n",
       "    .dataframe tbody tr th:only-of-type {\n",
       "        vertical-align: middle;\n",
       "    }\n",
       "\n",
       "    .dataframe tbody tr th {\n",
       "        vertical-align: top;\n",
       "    }\n",
       "\n",
       "    .dataframe thead th {\n",
       "        text-align: right;\n",
       "    }\n",
       "</style>\n",
       "<table border=\"1\" class=\"dataframe\">\n",
       "  <thead>\n",
       "    <tr style=\"text-align: right;\">\n",
       "      <th></th>\n",
       "      <th>cust_id</th>\n",
       "      <th>churn</th>\n",
       "    </tr>\n",
       "  </thead>\n",
       "  <tbody>\n",
       "    <tr>\n",
       "      <th>0</th>\n",
       "      <td>C-0002</td>\n",
       "      <td>churn</td>\n",
       "    </tr>\n",
       "    <tr>\n",
       "      <th>1</th>\n",
       "      <td>C-0006</td>\n",
       "      <td>churn</td>\n",
       "    </tr>\n",
       "    <tr>\n",
       "      <th>2</th>\n",
       "      <td>C-0009</td>\n",
       "      <td>churn</td>\n",
       "    </tr>\n",
       "    <tr>\n",
       "      <th>3</th>\n",
       "      <td>C-0015</td>\n",
       "      <td>churn</td>\n",
       "    </tr>\n",
       "    <tr>\n",
       "      <th>4</th>\n",
       "      <td>C-0016</td>\n",
       "      <td>churn</td>\n",
       "    </tr>\n",
       "    <tr>\n",
       "      <th>...</th>\n",
       "      <td>...</td>\n",
       "      <td>...</td>\n",
       "    </tr>\n",
       "    <tr>\n",
       "      <th>895</th>\n",
       "      <td>C-0991</td>\n",
       "      <td>loyal</td>\n",
       "    </tr>\n",
       "    <tr>\n",
       "      <th>896</th>\n",
       "      <td>C-0992</td>\n",
       "      <td>loyal</td>\n",
       "    </tr>\n",
       "    <tr>\n",
       "      <th>897</th>\n",
       "      <td>C-0993</td>\n",
       "      <td>loyal</td>\n",
       "    </tr>\n",
       "    <tr>\n",
       "      <th>898</th>\n",
       "      <td>C-0995</td>\n",
       "      <td>loyal</td>\n",
       "    </tr>\n",
       "    <tr>\n",
       "      <th>899</th>\n",
       "      <td>C-0996</td>\n",
       "      <td>loyal</td>\n",
       "    </tr>\n",
       "  </tbody>\n",
       "</table>\n",
       "<p>900 rows × 2 columns</p>\n",
       "</div>"
      ],
      "text/plain": [
       "    cust_id  churn\n",
       "0    C-0002  churn\n",
       "1    C-0006  churn\n",
       "2    C-0009  churn\n",
       "3    C-0015  churn\n",
       "4    C-0016  churn\n",
       "..      ...    ...\n",
       "895  C-0991  loyal\n",
       "896  C-0992  loyal\n",
       "897  C-0993  loyal\n",
       "898  C-0995  loyal\n",
       "899  C-0996  loyal\n",
       "\n",
       "[900 rows x 2 columns]"
      ]
     },
     "execution_count": 9,
     "metadata": {},
     "output_type": "execute_result"
    }
   ],
   "source": [
    "churn_df"
   ]
  },
  {
   "cell_type": "markdown",
   "metadata": {},
   "source": [
    "### Merge Dataset"
   ]
  },
  {
   "cell_type": "code",
   "execution_count": 10,
   "metadata": {},
   "outputs": [],
   "source": [
    "df = pd.merge(cust_df, churn_df, how='left', on='cust_id')"
   ]
  },
  {
   "cell_type": "code",
   "execution_count": 11,
   "metadata": {},
   "outputs": [
    {
     "data": {
      "text/html": [
       "<div>\n",
       "<style scoped>\n",
       "    .dataframe tbody tr th:only-of-type {\n",
       "        vertical-align: middle;\n",
       "    }\n",
       "\n",
       "    .dataframe tbody tr th {\n",
       "        vertical-align: top;\n",
       "    }\n",
       "\n",
       "    .dataframe thead th {\n",
       "        text-align: right;\n",
       "    }\n",
       "</style>\n",
       "<table border=\"1\" class=\"dataframe\">\n",
       "  <thead>\n",
       "    <tr style=\"text-align: right;\">\n",
       "      <th></th>\n",
       "      <th>cust_id</th>\n",
       "      <th>gender</th>\n",
       "      <th>birth</th>\n",
       "      <th>height</th>\n",
       "      <th>address</th>\n",
       "      <th>salary</th>\n",
       "      <th>job</th>\n",
       "      <th>payment</th>\n",
       "      <th>last_tx</th>\n",
       "      <th>churn</th>\n",
       "    </tr>\n",
       "  </thead>\n",
       "  <tbody>\n",
       "    <tr>\n",
       "      <th>0</th>\n",
       "      <td>C-0001</td>\n",
       "      <td>male</td>\n",
       "      <td>06/02/1958</td>\n",
       "      <td>175.0</td>\n",
       "      <td>140/27, ทุ่งครุ, กรุงเทพ</td>\n",
       "      <td>24942.0</td>\n",
       "      <td>retired</td>\n",
       "      <td>credit</td>\n",
       "      <td>98</td>\n",
       "      <td>loyal</td>\n",
       "    </tr>\n",
       "    <tr>\n",
       "      <th>1</th>\n",
       "      <td>C-0002</td>\n",
       "      <td>male</td>\n",
       "      <td>09/06/1987</td>\n",
       "      <td>171.0</td>\n",
       "      <td>198/57, เมืองสมุทรสาคร, สมุทรสาคร</td>\n",
       "      <td>55134.0</td>\n",
       "      <td>worker</td>\n",
       "      <td>cheque</td>\n",
       "      <td>118</td>\n",
       "      <td>churn</td>\n",
       "    </tr>\n",
       "    <tr>\n",
       "      <th>2</th>\n",
       "      <td>C-0003</td>\n",
       "      <td>female</td>\n",
       "      <td>07/02/1997</td>\n",
       "      <td>166.0</td>\n",
       "      <td>379/22, คลองเตย, กรุงเทพ</td>\n",
       "      <td>27083.0</td>\n",
       "      <td>worker</td>\n",
       "      <td>credit</td>\n",
       "      <td>107</td>\n",
       "      <td>loyal</td>\n",
       "    </tr>\n",
       "    <tr>\n",
       "      <th>3</th>\n",
       "      <td>C-0004</td>\n",
       "      <td>female</td>\n",
       "      <td>06/10/1983</td>\n",
       "      <td>166.0</td>\n",
       "      <td>361/6, บางกรวย, นนทบุรี</td>\n",
       "      <td>71331.0</td>\n",
       "      <td>worker</td>\n",
       "      <td>credit</td>\n",
       "      <td>177</td>\n",
       "      <td>NaN</td>\n",
       "    </tr>\n",
       "    <tr>\n",
       "      <th>4</th>\n",
       "      <td>C-0005</td>\n",
       "      <td>male</td>\n",
       "      <td>02/17/1983</td>\n",
       "      <td>171.0</td>\n",
       "      <td>132/13, คลองหลวง, ปทุมธานี</td>\n",
       "      <td>71874.0</td>\n",
       "      <td>worker</td>\n",
       "      <td>credit</td>\n",
       "      <td>90</td>\n",
       "      <td>loyal</td>\n",
       "    </tr>\n",
       "    <tr>\n",
       "      <th>...</th>\n",
       "      <td>...</td>\n",
       "      <td>...</td>\n",
       "      <td>...</td>\n",
       "      <td>...</td>\n",
       "      <td>...</td>\n",
       "      <td>...</td>\n",
       "      <td>...</td>\n",
       "      <td>...</td>\n",
       "      <td>...</td>\n",
       "      <td>...</td>\n",
       "    </tr>\n",
       "    <tr>\n",
       "      <th>991</th>\n",
       "      <td>C-0992</td>\n",
       "      <td>female</td>\n",
       "      <td>03/02/1993</td>\n",
       "      <td>170.0</td>\n",
       "      <td>161/10, ลาดพร้าว, กรุงเทพ</td>\n",
       "      <td>36333.0</td>\n",
       "      <td>worker</td>\n",
       "      <td>credit</td>\n",
       "      <td>33</td>\n",
       "      <td>loyal</td>\n",
       "    </tr>\n",
       "    <tr>\n",
       "      <th>992</th>\n",
       "      <td>C-0993</td>\n",
       "      <td>male</td>\n",
       "      <td>04/07/1938</td>\n",
       "      <td>177.0</td>\n",
       "      <td>158/61, กระทุ่มแบน, สมุทรสาคร</td>\n",
       "      <td>43782.0</td>\n",
       "      <td>retired</td>\n",
       "      <td>credit</td>\n",
       "      <td>124</td>\n",
       "      <td>loyal</td>\n",
       "    </tr>\n",
       "    <tr>\n",
       "      <th>993</th>\n",
       "      <td>C-0994</td>\n",
       "      <td>male</td>\n",
       "      <td>04/27/2002</td>\n",
       "      <td>160.0</td>\n",
       "      <td>418/5, บ้านแพ้ว, สมุทรสาคร</td>\n",
       "      <td>19737.0</td>\n",
       "      <td>worker</td>\n",
       "      <td>credit</td>\n",
       "      <td>60</td>\n",
       "      <td>NaN</td>\n",
       "    </tr>\n",
       "    <tr>\n",
       "      <th>994</th>\n",
       "      <td>C-0995</td>\n",
       "      <td>male</td>\n",
       "      <td>02/27/2003</td>\n",
       "      <td>168.0</td>\n",
       "      <td>276/51, บึ่งกุ่ม, กรุงเทพ</td>\n",
       "      <td>6693.0</td>\n",
       "      <td>student</td>\n",
       "      <td>credit</td>\n",
       "      <td>49</td>\n",
       "      <td>loyal</td>\n",
       "    </tr>\n",
       "    <tr>\n",
       "      <th>995</th>\n",
       "      <td>C-0996</td>\n",
       "      <td>female</td>\n",
       "      <td>04/28/1998</td>\n",
       "      <td>152.0</td>\n",
       "      <td>23/61, ทวีวัฒนา, กรุงเทพ</td>\n",
       "      <td>26580.0</td>\n",
       "      <td>worker</td>\n",
       "      <td>credit</td>\n",
       "      <td>25</td>\n",
       "      <td>loyal</td>\n",
       "    </tr>\n",
       "  </tbody>\n",
       "</table>\n",
       "<p>996 rows × 10 columns</p>\n",
       "</div>"
      ],
      "text/plain": [
       "    cust_id  gender       birth  height                            address  \\\n",
       "0    C-0001    male  06/02/1958   175.0           140/27, ทุ่งครุ, กรุงเทพ   \n",
       "1    C-0002    male  09/06/1987   171.0  198/57, เมืองสมุทรสาคร, สมุทรสาคร   \n",
       "2    C-0003  female  07/02/1997   166.0           379/22, คลองเตย, กรุงเทพ   \n",
       "3    C-0004  female  06/10/1983   166.0            361/6, บางกรวย, นนทบุรี   \n",
       "4    C-0005    male  02/17/1983   171.0         132/13, คลองหลวง, ปทุมธานี   \n",
       "..      ...     ...         ...     ...                                ...   \n",
       "991  C-0992  female  03/02/1993   170.0          161/10, ลาดพร้าว, กรุงเทพ   \n",
       "992  C-0993    male  04/07/1938   177.0      158/61, กระทุ่มแบน, สมุทรสาคร   \n",
       "993  C-0994    male  04/27/2002   160.0         418/5, บ้านแพ้ว, สมุทรสาคร   \n",
       "994  C-0995    male  02/27/2003   168.0          276/51, บึ่งกุ่ม, กรุงเทพ   \n",
       "995  C-0996  female  04/28/1998   152.0           23/61, ทวีวัฒนา, กรุงเทพ   \n",
       "\n",
       "      salary      job payment  last_tx  churn  \n",
       "0    24942.0  retired  credit       98  loyal  \n",
       "1    55134.0   worker  cheque      118  churn  \n",
       "2    27083.0   worker  credit      107  loyal  \n",
       "3    71331.0   worker  credit      177    NaN  \n",
       "4    71874.0   worker  credit       90  loyal  \n",
       "..       ...      ...     ...      ...    ...  \n",
       "991  36333.0   worker  credit       33  loyal  \n",
       "992  43782.0  retired  credit      124  loyal  \n",
       "993  19737.0   worker  credit       60    NaN  \n",
       "994   6693.0  student  credit       49  loyal  \n",
       "995  26580.0   worker  credit       25  loyal  \n",
       "\n",
       "[996 rows x 10 columns]"
      ]
     },
     "execution_count": 11,
     "metadata": {},
     "output_type": "execute_result"
    }
   ],
   "source": [
    "df"
   ]
  },
  {
   "cell_type": "markdown",
   "metadata": {},
   "source": [
    "### Drop Missing Values"
   ]
  },
  {
   "cell_type": "code",
   "execution_count": 13,
   "metadata": {},
   "outputs": [],
   "source": [
    "df.dropna(subset=['churn'], inplace=True)"
   ]
  },
  {
   "cell_type": "code",
   "execution_count": 14,
   "metadata": {},
   "outputs": [
    {
     "data": {
      "text/html": [
       "<div>\n",
       "<style scoped>\n",
       "    .dataframe tbody tr th:only-of-type {\n",
       "        vertical-align: middle;\n",
       "    }\n",
       "\n",
       "    .dataframe tbody tr th {\n",
       "        vertical-align: top;\n",
       "    }\n",
       "\n",
       "    .dataframe thead th {\n",
       "        text-align: right;\n",
       "    }\n",
       "</style>\n",
       "<table border=\"1\" class=\"dataframe\">\n",
       "  <thead>\n",
       "    <tr style=\"text-align: right;\">\n",
       "      <th></th>\n",
       "      <th>cust_id</th>\n",
       "      <th>gender</th>\n",
       "      <th>birth</th>\n",
       "      <th>height</th>\n",
       "      <th>address</th>\n",
       "      <th>salary</th>\n",
       "      <th>job</th>\n",
       "      <th>payment</th>\n",
       "      <th>last_tx</th>\n",
       "      <th>churn</th>\n",
       "    </tr>\n",
       "  </thead>\n",
       "  <tbody>\n",
       "    <tr>\n",
       "      <th>0</th>\n",
       "      <td>C-0001</td>\n",
       "      <td>male</td>\n",
       "      <td>06/02/1958</td>\n",
       "      <td>175.0</td>\n",
       "      <td>140/27, ทุ่งครุ, กรุงเทพ</td>\n",
       "      <td>24942.0</td>\n",
       "      <td>retired</td>\n",
       "      <td>credit</td>\n",
       "      <td>98</td>\n",
       "      <td>loyal</td>\n",
       "    </tr>\n",
       "    <tr>\n",
       "      <th>1</th>\n",
       "      <td>C-0002</td>\n",
       "      <td>male</td>\n",
       "      <td>09/06/1987</td>\n",
       "      <td>171.0</td>\n",
       "      <td>198/57, เมืองสมุทรสาคร, สมุทรสาคร</td>\n",
       "      <td>55134.0</td>\n",
       "      <td>worker</td>\n",
       "      <td>cheque</td>\n",
       "      <td>118</td>\n",
       "      <td>churn</td>\n",
       "    </tr>\n",
       "    <tr>\n",
       "      <th>2</th>\n",
       "      <td>C-0003</td>\n",
       "      <td>female</td>\n",
       "      <td>07/02/1997</td>\n",
       "      <td>166.0</td>\n",
       "      <td>379/22, คลองเตย, กรุงเทพ</td>\n",
       "      <td>27083.0</td>\n",
       "      <td>worker</td>\n",
       "      <td>credit</td>\n",
       "      <td>107</td>\n",
       "      <td>loyal</td>\n",
       "    </tr>\n",
       "    <tr>\n",
       "      <th>4</th>\n",
       "      <td>C-0005</td>\n",
       "      <td>male</td>\n",
       "      <td>02/17/1983</td>\n",
       "      <td>171.0</td>\n",
       "      <td>132/13, คลองหลวง, ปทุมธานี</td>\n",
       "      <td>71874.0</td>\n",
       "      <td>worker</td>\n",
       "      <td>credit</td>\n",
       "      <td>90</td>\n",
       "      <td>loyal</td>\n",
       "    </tr>\n",
       "    <tr>\n",
       "      <th>5</th>\n",
       "      <td>C-0006</td>\n",
       "      <td>female</td>\n",
       "      <td>09/12/1994</td>\n",
       "      <td>153.0</td>\n",
       "      <td>409/34, คันนายาว, กรุงเทพ</td>\n",
       "      <td>32916.0</td>\n",
       "      <td>worker</td>\n",
       "      <td>cheque</td>\n",
       "      <td>189</td>\n",
       "      <td>churn</td>\n",
       "    </tr>\n",
       "    <tr>\n",
       "      <th>...</th>\n",
       "      <td>...</td>\n",
       "      <td>...</td>\n",
       "      <td>...</td>\n",
       "      <td>...</td>\n",
       "      <td>...</td>\n",
       "      <td>...</td>\n",
       "      <td>...</td>\n",
       "      <td>...</td>\n",
       "      <td>...</td>\n",
       "      <td>...</td>\n",
       "    </tr>\n",
       "    <tr>\n",
       "      <th>990</th>\n",
       "      <td>C-0991</td>\n",
       "      <td>male</td>\n",
       "      <td>02/23/2003</td>\n",
       "      <td>166.0</td>\n",
       "      <td>109/6, บึงกุ่ม, กรุงเทพ</td>\n",
       "      <td>8113.0</td>\n",
       "      <td>student</td>\n",
       "      <td>credit</td>\n",
       "      <td>92</td>\n",
       "      <td>loyal</td>\n",
       "    </tr>\n",
       "    <tr>\n",
       "      <th>991</th>\n",
       "      <td>C-0992</td>\n",
       "      <td>female</td>\n",
       "      <td>03/02/1993</td>\n",
       "      <td>170.0</td>\n",
       "      <td>161/10, ลาดพร้าว, กรุงเทพ</td>\n",
       "      <td>36333.0</td>\n",
       "      <td>worker</td>\n",
       "      <td>credit</td>\n",
       "      <td>33</td>\n",
       "      <td>loyal</td>\n",
       "    </tr>\n",
       "    <tr>\n",
       "      <th>992</th>\n",
       "      <td>C-0993</td>\n",
       "      <td>male</td>\n",
       "      <td>04/07/1938</td>\n",
       "      <td>177.0</td>\n",
       "      <td>158/61, กระทุ่มแบน, สมุทรสาคร</td>\n",
       "      <td>43782.0</td>\n",
       "      <td>retired</td>\n",
       "      <td>credit</td>\n",
       "      <td>124</td>\n",
       "      <td>loyal</td>\n",
       "    </tr>\n",
       "    <tr>\n",
       "      <th>994</th>\n",
       "      <td>C-0995</td>\n",
       "      <td>male</td>\n",
       "      <td>02/27/2003</td>\n",
       "      <td>168.0</td>\n",
       "      <td>276/51, บึ่งกุ่ม, กรุงเทพ</td>\n",
       "      <td>6693.0</td>\n",
       "      <td>student</td>\n",
       "      <td>credit</td>\n",
       "      <td>49</td>\n",
       "      <td>loyal</td>\n",
       "    </tr>\n",
       "    <tr>\n",
       "      <th>995</th>\n",
       "      <td>C-0996</td>\n",
       "      <td>female</td>\n",
       "      <td>04/28/1998</td>\n",
       "      <td>152.0</td>\n",
       "      <td>23/61, ทวีวัฒนา, กรุงเทพ</td>\n",
       "      <td>26580.0</td>\n",
       "      <td>worker</td>\n",
       "      <td>credit</td>\n",
       "      <td>25</td>\n",
       "      <td>loyal</td>\n",
       "    </tr>\n",
       "  </tbody>\n",
       "</table>\n",
       "<p>900 rows × 10 columns</p>\n",
       "</div>"
      ],
      "text/plain": [
       "    cust_id  gender       birth  height                            address  \\\n",
       "0    C-0001    male  06/02/1958   175.0           140/27, ทุ่งครุ, กรุงเทพ   \n",
       "1    C-0002    male  09/06/1987   171.0  198/57, เมืองสมุทรสาคร, สมุทรสาคร   \n",
       "2    C-0003  female  07/02/1997   166.0           379/22, คลองเตย, กรุงเทพ   \n",
       "4    C-0005    male  02/17/1983   171.0         132/13, คลองหลวง, ปทุมธานี   \n",
       "5    C-0006  female  09/12/1994   153.0          409/34, คันนายาว, กรุงเทพ   \n",
       "..      ...     ...         ...     ...                                ...   \n",
       "990  C-0991    male  02/23/2003   166.0            109/6, บึงกุ่ม, กรุงเทพ   \n",
       "991  C-0992  female  03/02/1993   170.0          161/10, ลาดพร้าว, กรุงเทพ   \n",
       "992  C-0993    male  04/07/1938   177.0      158/61, กระทุ่มแบน, สมุทรสาคร   \n",
       "994  C-0995    male  02/27/2003   168.0          276/51, บึ่งกุ่ม, กรุงเทพ   \n",
       "995  C-0996  female  04/28/1998   152.0           23/61, ทวีวัฒนา, กรุงเทพ   \n",
       "\n",
       "      salary      job payment  last_tx  churn  \n",
       "0    24942.0  retired  credit       98  loyal  \n",
       "1    55134.0   worker  cheque      118  churn  \n",
       "2    27083.0   worker  credit      107  loyal  \n",
       "4    71874.0   worker  credit       90  loyal  \n",
       "5    32916.0   worker  cheque      189  churn  \n",
       "..       ...      ...     ...      ...    ...  \n",
       "990   8113.0  student  credit       92  loyal  \n",
       "991  36333.0   worker  credit       33  loyal  \n",
       "992  43782.0  retired  credit      124  loyal  \n",
       "994   6693.0  student  credit       49  loyal  \n",
       "995  26580.0   worker  credit       25  loyal  \n",
       "\n",
       "[900 rows x 10 columns]"
      ]
     },
     "execution_count": 14,
     "metadata": {},
     "output_type": "execute_result"
    }
   ],
   "source": [
    "df"
   ]
  },
  {
   "cell_type": "code",
   "execution_count": 15,
   "metadata": {},
   "outputs": [
    {
     "name": "stdout",
     "output_type": "stream",
     "text": [
      "<class 'pandas.core.frame.DataFrame'>\n",
      "Int64Index: 900 entries, 0 to 995\n",
      "Data columns (total 10 columns):\n",
      " #   Column   Non-Null Count  Dtype  \n",
      "---  ------   --------------  -----  \n",
      " 0   cust_id  900 non-null    object \n",
      " 1   gender   900 non-null    object \n",
      " 2   birth    900 non-null    object \n",
      " 3   height   894 non-null    float64\n",
      " 4   address  900 non-null    object \n",
      " 5   salary   884 non-null    float64\n",
      " 6   job      863 non-null    object \n",
      " 7   payment  900 non-null    object \n",
      " 8   last_tx  900 non-null    int64  \n",
      " 9   churn    900 non-null    object \n",
      "dtypes: float64(2), int64(1), object(7)\n",
      "memory usage: 77.3+ KB\n"
     ]
    }
   ],
   "source": [
    "df.info()"
   ]
  },
  {
   "cell_type": "markdown",
   "metadata": {},
   "source": [
    "### Cat the Outliers"
   ]
  },
  {
   "cell_type": "code",
   "execution_count": 16,
   "metadata": {},
   "outputs": [
    {
     "data": {
      "text/plain": [
       "<AxesSubplot:>"
      ]
     },
     "execution_count": 16,
     "metadata": {},
     "output_type": "execute_result"
    },
    {
     "data": {
      "image/png": "[encoded data removed]",
      "text/plain": [
       "<Figure size 432x288 with 1 Axes>"
      ]
     },
     "metadata": {
      "needs_background": "light"
     },
     "output_type": "display_data"
    }
   ],
   "source": [
    "df.boxplot(column='height')"
   ]
  },
  {
   "cell_type": "code",
   "execution_count": 18,
   "metadata": {},
   "outputs": [
    {
     "data": {
      "text/plain": [
       "<AxesSubplot:>"
      ]
     },
     "execution_count": 18,
     "metadata": {},
     "output_type": "execute_result"
    },
    {
     "data": {
      "image/png": "[encoded data removed]",
      "text/plain": [
       "<Figure size 1440x216 with 1 Axes>"
      ]
     },
     "metadata": {
      "needs_background": "light"
     },
     "output_type": "display_data"
    }
   ],
   "source": [
    "df.dropna().sort_values('height')[['height']].plot.bar(use_index=False, figsize=(20,3), xticks=[], xlim=(0, 1200), ylim=(100,500))"
   ]
  },
  {
   "cell_type": "code",
   "execution_count": 19,
   "metadata": {},
   "outputs": [
    {
     "name": "stdout",
     "output_type": "stream",
     "text": [
      "151.0 179.0\n"
     ]
    }
   ],
   "source": [
    "low, high = df['height'].quantile([0.05, 0.95])\n",
    "print(low,high)"
   ]
  },
  {
   "cell_type": "code",
   "execution_count": 31,
   "metadata": {},
   "outputs": [],
   "source": [
    "# df.loc[df[df['height'] < low].index, \"height\"] = low\n",
    "df.loc[df[df[\"height\"]<low].index,\"height\"]=low"
   ]
  },
  {
   "cell_type": "code",
   "execution_count": 32,
   "metadata": {},
   "outputs": [],
   "source": [
    "\n",
    "df.loc[df[df[\"height\"]>high].index,\"height\"]=high\n",
    "# df.loc[df[df['height'] > high].index, \"height\"] = high"
   ]
  },
  {
   "cell_type": "code",
   "execution_count": 33,
   "metadata": {},
   "outputs": [
    {
     "data": {
      "text/plain": [
       "<AxesSubplot:>"
      ]
     },
     "execution_count": 33,
     "metadata": {},
     "output_type": "execute_result"
    },
    {
     "data": {
      "image/png": "[encoded data removed]",
      "text/plain": [
       "<Figure size 432x288 with 1 Axes>"
      ]
     },
     "metadata": {
      "needs_background": "light"
     },
     "output_type": "display_data"
    }
   ],
   "source": [
    "df.boxplot(column='height')"
   ]
  },
  {
   "cell_type": "markdown",
   "metadata": {},
   "source": [
    "### Infer Missing Value ( | )"
   ]
  },
  {
   "cell_type": "code",
   "execution_count": 34,
   "metadata": {},
   "outputs": [
    {
     "name": "stdout",
     "output_type": "stream",
     "text": [
      "<class 'pandas.core.frame.DataFrame'>\n",
      "Int64Index: 900 entries, 0 to 995\n",
      "Data columns (total 10 columns):\n",
      " #   Column   Non-Null Count  Dtype  \n",
      "---  ------   --------------  -----  \n",
      " 0   cust_id  900 non-null    object \n",
      " 1   gender   900 non-null    object \n",
      " 2   birth    900 non-null    object \n",
      " 3   height   894 non-null    float64\n",
      " 4   address  900 non-null    object \n",
      " 5   salary   884 non-null    float64\n",
      " 6   job      863 non-null    object \n",
      " 7   payment  900 non-null    object \n",
      " 8   last_tx  900 non-null    int64  \n",
      " 9   churn    900 non-null    object \n",
      "dtypes: float64(2), int64(1), object(7)\n",
      "memory usage: 109.6+ KB\n"
     ]
    }
   ],
   "source": [
    "df.info()"
   ]
  },
  {
   "cell_type": "code",
   "execution_count": 35,
   "metadata": {},
   "outputs": [
    {
     "data": {
      "text/html": [
       "<div>\n",
       "<style scoped>\n",
       "    .dataframe tbody tr th:only-of-type {\n",
       "        vertical-align: middle;\n",
       "    }\n",
       "\n",
       "    .dataframe tbody tr th {\n",
       "        vertical-align: top;\n",
       "    }\n",
       "\n",
       "    .dataframe thead th {\n",
       "        text-align: right;\n",
       "    }\n",
       "</style>\n",
       "<table border=\"1\" class=\"dataframe\">\n",
       "  <thead>\n",
       "    <tr style=\"text-align: right;\">\n",
       "      <th></th>\n",
       "      <th>cust_id</th>\n",
       "      <th>gender</th>\n",
       "      <th>birth</th>\n",
       "      <th>height</th>\n",
       "      <th>address</th>\n",
       "      <th>salary</th>\n",
       "      <th>job</th>\n",
       "      <th>payment</th>\n",
       "      <th>last_tx</th>\n",
       "      <th>churn</th>\n",
       "    </tr>\n",
       "  </thead>\n",
       "  <tbody>\n",
       "    <tr>\n",
       "      <th>735</th>\n",
       "      <td>C-0736</td>\n",
       "      <td>female</td>\n",
       "      <td>04/17/1941</td>\n",
       "      <td>151.0</td>\n",
       "      <td>240/60, บ้านแพ้ว, สมุทรสาคร</td>\n",
       "      <td>17486.0</td>\n",
       "      <td>retired</td>\n",
       "      <td>credit</td>\n",
       "      <td>91</td>\n",
       "      <td>churn</td>\n",
       "    </tr>\n",
       "    <tr>\n",
       "      <th>118</th>\n",
       "      <td>C-0119</td>\n",
       "      <td>female</td>\n",
       "      <td>02/16/2000</td>\n",
       "      <td>151.0</td>\n",
       "      <td>491/49, พระสมุทรเจดีย์, สมุทรปราการ</td>\n",
       "      <td>25433.0</td>\n",
       "      <td>student</td>\n",
       "      <td>credit</td>\n",
       "      <td>73</td>\n",
       "      <td>loyal</td>\n",
       "    </tr>\n",
       "    <tr>\n",
       "      <th>704</th>\n",
       "      <td>C-0705</td>\n",
       "      <td>female</td>\n",
       "      <td>03/16/1970</td>\n",
       "      <td>151.0</td>\n",
       "      <td>407/16, ประเวศ, กรุงเทพ</td>\n",
       "      <td>152574.0</td>\n",
       "      <td>worker</td>\n",
       "      <td>cash</td>\n",
       "      <td>98</td>\n",
       "      <td>churn</td>\n",
       "    </tr>\n",
       "    <tr>\n",
       "      <th>297</th>\n",
       "      <td>C-0298</td>\n",
       "      <td>female</td>\n",
       "      <td>08/05/1982</td>\n",
       "      <td>151.0</td>\n",
       "      <td>149/34, พระสมุทรเจดีย์, สมุทรปราการ</td>\n",
       "      <td>77082.0</td>\n",
       "      <td>worker</td>\n",
       "      <td>cash</td>\n",
       "      <td>134</td>\n",
       "      <td>churn</td>\n",
       "    </tr>\n",
       "    <tr>\n",
       "      <th>402</th>\n",
       "      <td>C-0403</td>\n",
       "      <td>female</td>\n",
       "      <td>05/24/1978</td>\n",
       "      <td>151.0</td>\n",
       "      <td>366/58, ภาษีเจริญ, กรุงเทพ</td>\n",
       "      <td>96714.0</td>\n",
       "      <td>worker</td>\n",
       "      <td>credit</td>\n",
       "      <td>129</td>\n",
       "      <td>churn</td>\n",
       "    </tr>\n",
       "    <tr>\n",
       "      <th>...</th>\n",
       "      <td>...</td>\n",
       "      <td>...</td>\n",
       "      <td>...</td>\n",
       "      <td>...</td>\n",
       "      <td>...</td>\n",
       "      <td>...</td>\n",
       "      <td>...</td>\n",
       "      <td>...</td>\n",
       "      <td>...</td>\n",
       "      <td>...</td>\n",
       "    </tr>\n",
       "    <tr>\n",
       "      <th>277</th>\n",
       "      <td>C-0278</td>\n",
       "      <td>female</td>\n",
       "      <td>01/22/2005</td>\n",
       "      <td>NaN</td>\n",
       "      <td>183/17, วัฒนา, กรุงเทพ</td>\n",
       "      <td>16808.0</td>\n",
       "      <td>student</td>\n",
       "      <td>cheque</td>\n",
       "      <td>189</td>\n",
       "      <td>churn</td>\n",
       "    </tr>\n",
       "    <tr>\n",
       "      <th>331</th>\n",
       "      <td>C-0332</td>\n",
       "      <td>male</td>\n",
       "      <td>09/24/1976</td>\n",
       "      <td>NaN</td>\n",
       "      <td>394/50, เมืองนนทบุรี, นนทบุรี</td>\n",
       "      <td>108990.0</td>\n",
       "      <td>worker</td>\n",
       "      <td>cash</td>\n",
       "      <td>192</td>\n",
       "      <td>churn</td>\n",
       "    </tr>\n",
       "    <tr>\n",
       "      <th>602</th>\n",
       "      <td>C-0603</td>\n",
       "      <td>male</td>\n",
       "      <td>06/05/1981</td>\n",
       "      <td>NaN</td>\n",
       "      <td>463/33, สายไหม, กรุงเทพ</td>\n",
       "      <td>81106.0</td>\n",
       "      <td>worker</td>\n",
       "      <td>credit</td>\n",
       "      <td>85</td>\n",
       "      <td>loyal</td>\n",
       "    </tr>\n",
       "    <tr>\n",
       "      <th>697</th>\n",
       "      <td>C-0698</td>\n",
       "      <td>female</td>\n",
       "      <td>02/04/1970</td>\n",
       "      <td>NaN</td>\n",
       "      <td>279/64, บึงกุ่ม, กรุงเทพ</td>\n",
       "      <td>153150.0</td>\n",
       "      <td>worker</td>\n",
       "      <td>credit</td>\n",
       "      <td>139</td>\n",
       "      <td>churn</td>\n",
       "    </tr>\n",
       "    <tr>\n",
       "      <th>818</th>\n",
       "      <td>C-0819</td>\n",
       "      <td>male</td>\n",
       "      <td>03/12/1932</td>\n",
       "      <td>NaN</td>\n",
       "      <td>213/28, พระสมุทรเจดีย์, สมุทรปราการ</td>\n",
       "      <td>26914.0</td>\n",
       "      <td>retired</td>\n",
       "      <td>credit</td>\n",
       "      <td>123</td>\n",
       "      <td>loyal</td>\n",
       "    </tr>\n",
       "  </tbody>\n",
       "</table>\n",
       "<p>900 rows × 10 columns</p>\n",
       "</div>"
      ],
      "text/plain": [
       "    cust_id  gender       birth  height                              address  \\\n",
       "735  C-0736  female  04/17/1941   151.0          240/60, บ้านแพ้ว, สมุทรสาคร   \n",
       "118  C-0119  female  02/16/2000   151.0  491/49, พระสมุทรเจดีย์, สมุทรปราการ   \n",
       "704  C-0705  female  03/16/1970   151.0              407/16, ประเวศ, กรุงเทพ   \n",
       "297  C-0298  female  08/05/1982   151.0  149/34, พระสมุทรเจดีย์, สมุทรปราการ   \n",
       "402  C-0403  female  05/24/1978   151.0           366/58, ภาษีเจริญ, กรุงเทพ   \n",
       "..      ...     ...         ...     ...                                  ...   \n",
       "277  C-0278  female  01/22/2005     NaN               183/17, วัฒนา, กรุงเทพ   \n",
       "331  C-0332    male  09/24/1976     NaN        394/50, เมืองนนทบุรี, นนทบุรี   \n",
       "602  C-0603    male  06/05/1981     NaN              463/33, สายไหม, กรุงเทพ   \n",
       "697  C-0698  female  02/04/1970     NaN             279/64, บึงกุ่ม, กรุงเทพ   \n",
       "818  C-0819    male  03/12/1932     NaN  213/28, พระสมุทรเจดีย์, สมุทรปราการ   \n",
       "\n",
       "       salary      job payment  last_tx  churn  \n",
       "735   17486.0  retired  credit       91  churn  \n",
       "118   25433.0  student  credit       73  loyal  \n",
       "704  152574.0   worker    cash       98  churn  \n",
       "297   77082.0   worker    cash      134  churn  \n",
       "402   96714.0   worker  credit      129  churn  \n",
       "..        ...      ...     ...      ...    ...  \n",
       "277   16808.0  student  cheque      189  churn  \n",
       "331  108990.0   worker    cash      192  churn  \n",
       "602   81106.0   worker  credit       85  loyal  \n",
       "697  153150.0   worker  credit      139  churn  \n",
       "818   26914.0  retired  credit      123  loyal  \n",
       "\n",
       "[900 rows x 10 columns]"
      ]
     },
     "execution_count": 35,
     "metadata": {},
     "output_type": "execute_result"
    }
   ],
   "source": [
    "df.sort_values('height')"
   ]
  },
  {
   "cell_type": "code",
   "execution_count": 36,
   "metadata": {},
   "outputs": [
    {
     "data": {
      "text/plain": [
       "0      179.0\n",
       "1      179.0\n",
       "2      179.0\n",
       "4      179.0\n",
       "5      179.0\n",
       "       ...  \n",
       "990    179.0\n",
       "991    179.0\n",
       "992    179.0\n",
       "994    179.0\n",
       "995    179.0\n",
       "Name: height, Length: 900, dtype: float64"
      ]
     },
     "execution_count": 36,
     "metadata": {},
     "output_type": "execute_result"
    }
   ],
   "source": [
    "df['height'].fillna(0)"
   ]
  },
  {
   "cell_type": "code",
   "execution_count": 37,
   "metadata": {},
   "outputs": [
    {
     "data": {
      "text/plain": [
       "0      179.0\n",
       "1      179.0\n",
       "2      179.0\n",
       "4      179.0\n",
       "5      179.0\n",
       "       ...  \n",
       "990    179.0\n",
       "991    179.0\n",
       "992    179.0\n",
       "994    179.0\n",
       "995    179.0\n",
       "Name: height, Length: 900, dtype: float64"
      ]
     },
     "execution_count": 37,
     "metadata": {},
     "output_type": "execute_result"
    }
   ],
   "source": [
    "df['height'].fillna(df['height'].mean())"
   ]
  },
  {
   "cell_type": "code",
   "execution_count": 38,
   "metadata": {},
   "outputs": [
    {
     "data": {
      "text/plain": [
       "<AxesSubplot:>"
      ]
     },
     "execution_count": 38,
     "metadata": {},
     "output_type": "execute_result"
    },
    {
     "data": {
      "image/png": "[encoded data removed]",
      "text/plain": [
       "<Figure size 432x288 with 1 Axes>"
      ]
     },
     "metadata": {
      "needs_background": "light"
     },
     "output_type": "display_data"
    }
   ],
   "source": [
    "df.boxplot(column='height')"
   ]
  },
  {
   "cell_type": "code",
   "execution_count": 39,
   "metadata": {},
   "outputs": [
    {
     "data": {
      "text/plain": [
       "<AxesSubplot:title={'center':'height'}, xlabel='gender'>"
      ]
     },
     "execution_count": 39,
     "metadata": {},
     "output_type": "execute_result"
    },
    {
     "data": {
      "image/png": "[encoded data removed]",
      "text/plain": [
       "<Figure size 432x288 with 1 Axes>"
      ]
     },
     "metadata": {
      "needs_background": "light"
     },
     "output_type": "display_data"
    }
   ],
   "source": [
    "df.boxplot(column='height', by='gender')"
   ]
  },
  {
   "cell_type": "code",
   "execution_count": 40,
   "metadata": {},
   "outputs": [
    {
     "data": {
      "text/plain": [
       "0      179.0\n",
       "1      179.0\n",
       "2      179.0\n",
       "4      179.0\n",
       "5      179.0\n",
       "       ...  \n",
       "990    179.0\n",
       "991    179.0\n",
       "992    179.0\n",
       "994    179.0\n",
       "995    179.0\n",
       "Name: height, Length: 900, dtype: float64"
      ]
     },
     "execution_count": 40,
     "metadata": {},
     "output_type": "execute_result"
    }
   ],
   "source": [
    "# Recommended !!!\n",
    "df['height'].fillna(df.groupby('gender')['height'].transform('mean'))"
   ]
  },
  {
   "cell_type": "code",
   "execution_count": 41,
   "metadata": {},
   "outputs": [],
   "source": [
    "df['height'] = df['height'].fillna(df.groupby('gender')['height'].transform('mean'))"
   ]
  },
  {
   "cell_type": "code",
   "execution_count": 42,
   "metadata": {},
   "outputs": [
    {
     "name": "stdout",
     "output_type": "stream",
     "text": [
      "<class 'pandas.core.frame.DataFrame'>\n",
      "Int64Index: 900 entries, 0 to 995\n",
      "Data columns (total 10 columns):\n",
      " #   Column   Non-Null Count  Dtype  \n",
      "---  ------   --------------  -----  \n",
      " 0   cust_id  900 non-null    object \n",
      " 1   gender   900 non-null    object \n",
      " 2   birth    900 non-null    object \n",
      " 3   height   900 non-null    float64\n",
      " 4   address  900 non-null    object \n",
      " 5   salary   884 non-null    float64\n",
      " 6   job      863 non-null    object \n",
      " 7   payment  900 non-null    object \n",
      " 8   last_tx  900 non-null    int64  \n",
      " 9   churn    900 non-null    object \n",
      "dtypes: float64(2), int64(1), object(7)\n",
      "memory usage: 109.6+ KB\n"
     ]
    }
   ],
   "source": [
    "df.info()"
   ]
  },
  {
   "cell_type": "markdown",
   "metadata": {},
   "source": [
    "### Extrac Data Time"
   ]
  },
  {
   "cell_type": "code",
   "execution_count": 43,
   "metadata": {},
   "outputs": [
    {
     "data": {
      "text/plain": [
       "0      06/02/1958\n",
       "1      09/06/1987\n",
       "2      07/02/1997\n",
       "4      02/17/1983\n",
       "5      09/12/1994\n",
       "          ...    \n",
       "990    02/23/2003\n",
       "991    03/02/1993\n",
       "992    04/07/1938\n",
       "994    02/27/2003\n",
       "995    04/28/1998\n",
       "Name: birth, Length: 900, dtype: object"
      ]
     },
     "execution_count": 43,
     "metadata": {},
     "output_type": "execute_result"
    }
   ],
   "source": [
    "df['birth']"
   ]
  },
  {
   "cell_type": "code",
   "execution_count": 44,
   "metadata": {},
   "outputs": [],
   "source": [
    "df['birth'] = pd.to_datetime(df['birth'], format='%m/%d/%Y')"
   ]
  },
  {
   "cell_type": "code",
   "execution_count": 45,
   "metadata": {},
   "outputs": [
    {
     "data": {
      "text/plain": [
       "0     1958-06-02\n",
       "1     1987-09-06\n",
       "2     1997-07-02\n",
       "4     1983-02-17\n",
       "5     1994-09-12\n",
       "         ...    \n",
       "990   2003-02-23\n",
       "991   1993-03-02\n",
       "992   1938-04-07\n",
       "994   2003-02-27\n",
       "995   1998-04-28\n",
       "Name: birth, Length: 900, dtype: datetime64[ns]"
      ]
     },
     "execution_count": 45,
     "metadata": {},
     "output_type": "execute_result"
    }
   ],
   "source": [
    "df['birth']"
   ]
  },
  {
   "cell_type": "code",
   "execution_count": 46,
   "metadata": {},
   "outputs": [
    {
     "data": {
      "text/plain": [
       "0      1958\n",
       "1      1987\n",
       "2      1997\n",
       "4      1983\n",
       "5      1994\n",
       "       ... \n",
       "990    2003\n",
       "991    1993\n",
       "992    1938\n",
       "994    2003\n",
       "995    1998\n",
       "Name: birth, Length: 900, dtype: int64"
      ]
     },
     "execution_count": 46,
     "metadata": {},
     "output_type": "execute_result"
    }
   ],
   "source": [
    "df['birth'].dt.year"
   ]
  },
  {
   "cell_type": "code",
   "execution_count": 47,
   "metadata": {},
   "outputs": [
    {
     "data": {
      "text/plain": [
       "0      64\n",
       "1      35\n",
       "2      25\n",
       "4      39\n",
       "5      28\n",
       "       ..\n",
       "990    19\n",
       "991    29\n",
       "992    84\n",
       "994    19\n",
       "995    24\n",
       "Name: birth, Length: 900, dtype: int64"
      ]
     },
     "execution_count": 47,
     "metadata": {},
     "output_type": "execute_result"
    }
   ],
   "source": [
    "2022 - df['birth'].dt.year"
   ]
  },
  {
   "cell_type": "code",
   "execution_count": 48,
   "metadata": {},
   "outputs": [],
   "source": [
    "df['age'] = 2022 - df['birth'].dt.year"
   ]
  },
  {
   "cell_type": "code",
   "execution_count": 49,
   "metadata": {},
   "outputs": [
    {
     "data": {
      "text/html": [
       "<div>\n",
       "<style scoped>\n",
       "    .dataframe tbody tr th:only-of-type {\n",
       "        vertical-align: middle;\n",
       "    }\n",
       "\n",
       "    .dataframe tbody tr th {\n",
       "        vertical-align: top;\n",
       "    }\n",
       "\n",
       "    .dataframe thead th {\n",
       "        text-align: right;\n",
       "    }\n",
       "</style>\n",
       "<table border=\"1\" class=\"dataframe\">\n",
       "  <thead>\n",
       "    <tr style=\"text-align: right;\">\n",
       "      <th></th>\n",
       "      <th>cust_id</th>\n",
       "      <th>gender</th>\n",
       "      <th>birth</th>\n",
       "      <th>height</th>\n",
       "      <th>address</th>\n",
       "      <th>salary</th>\n",
       "      <th>job</th>\n",
       "      <th>payment</th>\n",
       "      <th>last_tx</th>\n",
       "      <th>churn</th>\n",
       "      <th>age</th>\n",
       "    </tr>\n",
       "  </thead>\n",
       "  <tbody>\n",
       "    <tr>\n",
       "      <th>0</th>\n",
       "      <td>C-0001</td>\n",
       "      <td>male</td>\n",
       "      <td>1958-06-02</td>\n",
       "      <td>179.0</td>\n",
       "      <td>140/27, ทุ่งครุ, กรุงเทพ</td>\n",
       "      <td>24942.0</td>\n",
       "      <td>retired</td>\n",
       "      <td>credit</td>\n",
       "      <td>98</td>\n",
       "      <td>loyal</td>\n",
       "      <td>64</td>\n",
       "    </tr>\n",
       "    <tr>\n",
       "      <th>1</th>\n",
       "      <td>C-0002</td>\n",
       "      <td>male</td>\n",
       "      <td>1987-09-06</td>\n",
       "      <td>179.0</td>\n",
       "      <td>198/57, เมืองสมุทรสาคร, สมุทรสาคร</td>\n",
       "      <td>55134.0</td>\n",
       "      <td>worker</td>\n",
       "      <td>cheque</td>\n",
       "      <td>118</td>\n",
       "      <td>churn</td>\n",
       "      <td>35</td>\n",
       "    </tr>\n",
       "    <tr>\n",
       "      <th>2</th>\n",
       "      <td>C-0003</td>\n",
       "      <td>female</td>\n",
       "      <td>1997-07-02</td>\n",
       "      <td>179.0</td>\n",
       "      <td>379/22, คลองเตย, กรุงเทพ</td>\n",
       "      <td>27083.0</td>\n",
       "      <td>worker</td>\n",
       "      <td>credit</td>\n",
       "      <td>107</td>\n",
       "      <td>loyal</td>\n",
       "      <td>25</td>\n",
       "    </tr>\n",
       "    <tr>\n",
       "      <th>4</th>\n",
       "      <td>C-0005</td>\n",
       "      <td>male</td>\n",
       "      <td>1983-02-17</td>\n",
       "      <td>179.0</td>\n",
       "      <td>132/13, คลองหลวง, ปทุมธานี</td>\n",
       "      <td>71874.0</td>\n",
       "      <td>worker</td>\n",
       "      <td>credit</td>\n",
       "      <td>90</td>\n",
       "      <td>loyal</td>\n",
       "      <td>39</td>\n",
       "    </tr>\n",
       "    <tr>\n",
       "      <th>5</th>\n",
       "      <td>C-0006</td>\n",
       "      <td>female</td>\n",
       "      <td>1994-09-12</td>\n",
       "      <td>179.0</td>\n",
       "      <td>409/34, คันนายาว, กรุงเทพ</td>\n",
       "      <td>32916.0</td>\n",
       "      <td>worker</td>\n",
       "      <td>cheque</td>\n",
       "      <td>189</td>\n",
       "      <td>churn</td>\n",
       "      <td>28</td>\n",
       "    </tr>\n",
       "    <tr>\n",
       "      <th>...</th>\n",
       "      <td>...</td>\n",
       "      <td>...</td>\n",
       "      <td>...</td>\n",
       "      <td>...</td>\n",
       "      <td>...</td>\n",
       "      <td>...</td>\n",
       "      <td>...</td>\n",
       "      <td>...</td>\n",
       "      <td>...</td>\n",
       "      <td>...</td>\n",
       "      <td>...</td>\n",
       "    </tr>\n",
       "    <tr>\n",
       "      <th>990</th>\n",
       "      <td>C-0991</td>\n",
       "      <td>male</td>\n",
       "      <td>2003-02-23</td>\n",
       "      <td>179.0</td>\n",
       "      <td>109/6, บึงกุ่ม, กรุงเทพ</td>\n",
       "      <td>8113.0</td>\n",
       "      <td>student</td>\n",
       "      <td>credit</td>\n",
       "      <td>92</td>\n",
       "      <td>loyal</td>\n",
       "      <td>19</td>\n",
       "    </tr>\n",
       "    <tr>\n",
       "      <th>991</th>\n",
       "      <td>C-0992</td>\n",
       "      <td>female</td>\n",
       "      <td>1993-03-02</td>\n",
       "      <td>179.0</td>\n",
       "      <td>161/10, ลาดพร้าว, กรุงเทพ</td>\n",
       "      <td>36333.0</td>\n",
       "      <td>worker</td>\n",
       "      <td>credit</td>\n",
       "      <td>33</td>\n",
       "      <td>loyal</td>\n",
       "      <td>29</td>\n",
       "    </tr>\n",
       "    <tr>\n",
       "      <th>992</th>\n",
       "      <td>C-0993</td>\n",
       "      <td>male</td>\n",
       "      <td>1938-04-07</td>\n",
       "      <td>179.0</td>\n",
       "      <td>158/61, กระทุ่มแบน, สมุทรสาคร</td>\n",
       "      <td>43782.0</td>\n",
       "      <td>retired</td>\n",
       "      <td>credit</td>\n",
       "      <td>124</td>\n",
       "      <td>loyal</td>\n",
       "      <td>84</td>\n",
       "    </tr>\n",
       "    <tr>\n",
       "      <th>994</th>\n",
       "      <td>C-0995</td>\n",
       "      <td>male</td>\n",
       "      <td>2003-02-27</td>\n",
       "      <td>179.0</td>\n",
       "      <td>276/51, บึ่งกุ่ม, กรุงเทพ</td>\n",
       "      <td>6693.0</td>\n",
       "      <td>student</td>\n",
       "      <td>credit</td>\n",
       "      <td>49</td>\n",
       "      <td>loyal</td>\n",
       "      <td>19</td>\n",
       "    </tr>\n",
       "    <tr>\n",
       "      <th>995</th>\n",
       "      <td>C-0996</td>\n",
       "      <td>female</td>\n",
       "      <td>1998-04-28</td>\n",
       "      <td>179.0</td>\n",
       "      <td>23/61, ทวีวัฒนา, กรุงเทพ</td>\n",
       "      <td>26580.0</td>\n",
       "      <td>worker</td>\n",
       "      <td>credit</td>\n",
       "      <td>25</td>\n",
       "      <td>loyal</td>\n",
       "      <td>24</td>\n",
       "    </tr>\n",
       "  </tbody>\n",
       "</table>\n",
       "<p>900 rows × 11 columns</p>\n",
       "</div>"
      ],
      "text/plain": [
       "    cust_id  gender      birth  height                            address  \\\n",
       "0    C-0001    male 1958-06-02   179.0           140/27, ทุ่งครุ, กรุงเทพ   \n",
       "1    C-0002    male 1987-09-06   179.0  198/57, เมืองสมุทรสาคร, สมุทรสาคร   \n",
       "2    C-0003  female 1997-07-02   179.0           379/22, คลองเตย, กรุงเทพ   \n",
       "4    C-0005    male 1983-02-17   179.0         132/13, คลองหลวง, ปทุมธานี   \n",
       "5    C-0006  female 1994-09-12   179.0          409/34, คันนายาว, กรุงเทพ   \n",
       "..      ...     ...        ...     ...                                ...   \n",
       "990  C-0991    male 2003-02-23   179.0            109/6, บึงกุ่ม, กรุงเทพ   \n",
       "991  C-0992  female 1993-03-02   179.0          161/10, ลาดพร้าว, กรุงเทพ   \n",
       "992  C-0993    male 1938-04-07   179.0      158/61, กระทุ่มแบน, สมุทรสาคร   \n",
       "994  C-0995    male 2003-02-27   179.0          276/51, บึ่งกุ่ม, กรุงเทพ   \n",
       "995  C-0996  female 1998-04-28   179.0           23/61, ทวีวัฒนา, กรุงเทพ   \n",
       "\n",
       "      salary      job payment  last_tx  churn  age  \n",
       "0    24942.0  retired  credit       98  loyal   64  \n",
       "1    55134.0   worker  cheque      118  churn   35  \n",
       "2    27083.0   worker  credit      107  loyal   25  \n",
       "4    71874.0   worker  credit       90  loyal   39  \n",
       "5    32916.0   worker  cheque      189  churn   28  \n",
       "..       ...      ...     ...      ...    ...  ...  \n",
       "990   8113.0  student  credit       92  loyal   19  \n",
       "991  36333.0   worker  credit       33  loyal   29  \n",
       "992  43782.0  retired  credit      124  loyal   84  \n",
       "994   6693.0  student  credit       49  loyal   19  \n",
       "995  26580.0   worker  credit       25  loyal   24  \n",
       "\n",
       "[900 rows x 11 columns]"
      ]
     },
     "execution_count": 49,
     "metadata": {},
     "output_type": "execute_result"
    }
   ],
   "source": [
    "df"
   ]
  },
  {
   "cell_type": "markdown",
   "metadata": {},
   "source": [
    "### Binning"
   ]
  },
  {
   "cell_type": "code",
   "execution_count": 50,
   "metadata": {},
   "outputs": [
    {
     "data": {
      "text/plain": [
       "<AxesSubplot:>"
      ]
     },
     "execution_count": 50,
     "metadata": {},
     "output_type": "execute_result"
    },
    {
     "data": {
      "image/png": "[encoded data removed]",
      "text/plain": [
       "<Figure size 432x288 with 1 Axes>"
      ]
     },
     "metadata": {
      "needs_background": "light"
     },
     "output_type": "display_data"
    }
   ],
   "source": [
    "df['age'].hist()"
   ]
  },
  {
   "cell_type": "code",
   "execution_count": 52,
   "metadata": {},
   "outputs": [],
   "source": [
    "cut_labels = ['young', 'teen', 'adult', 'senior']\n",
    "cut_bins = [0, 13, 25, 61, 100]\n",
    "df['age_group'] = pd.cut(df['age'], bins=cut_bins, labels=cut_labels)"
   ]
  },
  {
   "cell_type": "code",
   "execution_count": 53,
   "metadata": {},
   "outputs": [
    {
     "data": {
      "text/html": [
       "<div>\n",
       "<style scoped>\n",
       "    .dataframe tbody tr th:only-of-type {\n",
       "        vertical-align: middle;\n",
       "    }\n",
       "\n",
       "    .dataframe tbody tr th {\n",
       "        vertical-align: top;\n",
       "    }\n",
       "\n",
       "    .dataframe thead th {\n",
       "        text-align: right;\n",
       "    }\n",
       "</style>\n",
       "<table border=\"1\" class=\"dataframe\">\n",
       "  <thead>\n",
       "    <tr style=\"text-align: right;\">\n",
       "      <th></th>\n",
       "      <th>cust_id</th>\n",
       "      <th>gender</th>\n",
       "      <th>birth</th>\n",
       "      <th>height</th>\n",
       "      <th>address</th>\n",
       "      <th>salary</th>\n",
       "      <th>job</th>\n",
       "      <th>payment</th>\n",
       "      <th>last_tx</th>\n",
       "      <th>churn</th>\n",
       "      <th>age</th>\n",
       "      <th>age_group</th>\n",
       "    </tr>\n",
       "  </thead>\n",
       "  <tbody>\n",
       "    <tr>\n",
       "      <th>0</th>\n",
       "      <td>C-0001</td>\n",
       "      <td>male</td>\n",
       "      <td>1958-06-02</td>\n",
       "      <td>179.0</td>\n",
       "      <td>140/27, ทุ่งครุ, กรุงเทพ</td>\n",
       "      <td>24942.0</td>\n",
       "      <td>retired</td>\n",
       "      <td>credit</td>\n",
       "      <td>98</td>\n",
       "      <td>loyal</td>\n",
       "      <td>64</td>\n",
       "      <td>senior</td>\n",
       "    </tr>\n",
       "    <tr>\n",
       "      <th>1</th>\n",
       "      <td>C-0002</td>\n",
       "      <td>male</td>\n",
       "      <td>1987-09-06</td>\n",
       "      <td>179.0</td>\n",
       "      <td>198/57, เมืองสมุทรสาคร, สมุทรสาคร</td>\n",
       "      <td>55134.0</td>\n",
       "      <td>worker</td>\n",
       "      <td>cheque</td>\n",
       "      <td>118</td>\n",
       "      <td>churn</td>\n",
       "      <td>35</td>\n",
       "      <td>adult</td>\n",
       "    </tr>\n",
       "    <tr>\n",
       "      <th>2</th>\n",
       "      <td>C-0003</td>\n",
       "      <td>female</td>\n",
       "      <td>1997-07-02</td>\n",
       "      <td>179.0</td>\n",
       "      <td>379/22, คลองเตย, กรุงเทพ</td>\n",
       "      <td>27083.0</td>\n",
       "      <td>worker</td>\n",
       "      <td>credit</td>\n",
       "      <td>107</td>\n",
       "      <td>loyal</td>\n",
       "      <td>25</td>\n",
       "      <td>teen</td>\n",
       "    </tr>\n",
       "    <tr>\n",
       "      <th>4</th>\n",
       "      <td>C-0005</td>\n",
       "      <td>male</td>\n",
       "      <td>1983-02-17</td>\n",
       "      <td>179.0</td>\n",
       "      <td>132/13, คลองหลวง, ปทุมธานี</td>\n",
       "      <td>71874.0</td>\n",
       "      <td>worker</td>\n",
       "      <td>credit</td>\n",
       "      <td>90</td>\n",
       "      <td>loyal</td>\n",
       "      <td>39</td>\n",
       "      <td>adult</td>\n",
       "    </tr>\n",
       "    <tr>\n",
       "      <th>5</th>\n",
       "      <td>C-0006</td>\n",
       "      <td>female</td>\n",
       "      <td>1994-09-12</td>\n",
       "      <td>179.0</td>\n",
       "      <td>409/34, คันนายาว, กรุงเทพ</td>\n",
       "      <td>32916.0</td>\n",
       "      <td>worker</td>\n",
       "      <td>cheque</td>\n",
       "      <td>189</td>\n",
       "      <td>churn</td>\n",
       "      <td>28</td>\n",
       "      <td>adult</td>\n",
       "    </tr>\n",
       "    <tr>\n",
       "      <th>...</th>\n",
       "      <td>...</td>\n",
       "      <td>...</td>\n",
       "      <td>...</td>\n",
       "      <td>...</td>\n",
       "      <td>...</td>\n",
       "      <td>...</td>\n",
       "      <td>...</td>\n",
       "      <td>...</td>\n",
       "      <td>...</td>\n",
       "      <td>...</td>\n",
       "      <td>...</td>\n",
       "      <td>...</td>\n",
       "    </tr>\n",
       "    <tr>\n",
       "      <th>990</th>\n",
       "      <td>C-0991</td>\n",
       "      <td>male</td>\n",
       "      <td>2003-02-23</td>\n",
       "      <td>179.0</td>\n",
       "      <td>109/6, บึงกุ่ม, กรุงเทพ</td>\n",
       "      <td>8113.0</td>\n",
       "      <td>student</td>\n",
       "      <td>credit</td>\n",
       "      <td>92</td>\n",
       "      <td>loyal</td>\n",
       "      <td>19</td>\n",
       "      <td>teen</td>\n",
       "    </tr>\n",
       "    <tr>\n",
       "      <th>991</th>\n",
       "      <td>C-0992</td>\n",
       "      <td>female</td>\n",
       "      <td>1993-03-02</td>\n",
       "      <td>179.0</td>\n",
       "      <td>161/10, ลาดพร้าว, กรุงเทพ</td>\n",
       "      <td>36333.0</td>\n",
       "      <td>worker</td>\n",
       "      <td>credit</td>\n",
       "      <td>33</td>\n",
       "      <td>loyal</td>\n",
       "      <td>29</td>\n",
       "      <td>adult</td>\n",
       "    </tr>\n",
       "    <tr>\n",
       "      <th>992</th>\n",
       "      <td>C-0993</td>\n",
       "      <td>male</td>\n",
       "      <td>1938-04-07</td>\n",
       "      <td>179.0</td>\n",
       "      <td>158/61, กระทุ่มแบน, สมุทรสาคร</td>\n",
       "      <td>43782.0</td>\n",
       "      <td>retired</td>\n",
       "      <td>credit</td>\n",
       "      <td>124</td>\n",
       "      <td>loyal</td>\n",
       "      <td>84</td>\n",
       "      <td>senior</td>\n",
       "    </tr>\n",
       "    <tr>\n",
       "      <th>994</th>\n",
       "      <td>C-0995</td>\n",
       "      <td>male</td>\n",
       "      <td>2003-02-27</td>\n",
       "      <td>179.0</td>\n",
       "      <td>276/51, บึ่งกุ่ม, กรุงเทพ</td>\n",
       "      <td>6693.0</td>\n",
       "      <td>student</td>\n",
       "      <td>credit</td>\n",
       "      <td>49</td>\n",
       "      <td>loyal</td>\n",
       "      <td>19</td>\n",
       "      <td>teen</td>\n",
       "    </tr>\n",
       "    <tr>\n",
       "      <th>995</th>\n",
       "      <td>C-0996</td>\n",
       "      <td>female</td>\n",
       "      <td>1998-04-28</td>\n",
       "      <td>179.0</td>\n",
       "      <td>23/61, ทวีวัฒนา, กรุงเทพ</td>\n",
       "      <td>26580.0</td>\n",
       "      <td>worker</td>\n",
       "      <td>credit</td>\n",
       "      <td>25</td>\n",
       "      <td>loyal</td>\n",
       "      <td>24</td>\n",
       "      <td>teen</td>\n",
       "    </tr>\n",
       "  </tbody>\n",
       "</table>\n",
       "<p>900 rows × 12 columns</p>\n",
       "</div>"
      ],
      "text/plain": [
       "    cust_id  gender      birth  height                            address  \\\n",
       "0    C-0001    male 1958-06-02   179.0           140/27, ทุ่งครุ, กรุงเทพ   \n",
       "1    C-0002    male 1987-09-06   179.0  198/57, เมืองสมุทรสาคร, สมุทรสาคร   \n",
       "2    C-0003  female 1997-07-02   179.0           379/22, คลองเตย, กรุงเทพ   \n",
       "4    C-0005    male 1983-02-17   179.0         132/13, คลองหลวง, ปทุมธานี   \n",
       "5    C-0006  female 1994-09-12   179.0          409/34, คันนายาว, กรุงเทพ   \n",
       "..      ...     ...        ...     ...                                ...   \n",
       "990  C-0991    male 2003-02-23   179.0            109/6, บึงกุ่ม, กรุงเทพ   \n",
       "991  C-0992  female 1993-03-02   179.0          161/10, ลาดพร้าว, กรุงเทพ   \n",
       "992  C-0993    male 1938-04-07   179.0      158/61, กระทุ่มแบน, สมุทรสาคร   \n",
       "994  C-0995    male 2003-02-27   179.0          276/51, บึ่งกุ่ม, กรุงเทพ   \n",
       "995  C-0996  female 1998-04-28   179.0           23/61, ทวีวัฒนา, กรุงเทพ   \n",
       "\n",
       "      salary      job payment  last_tx  churn  age age_group  \n",
       "0    24942.0  retired  credit       98  loyal   64    senior  \n",
       "1    55134.0   worker  cheque      118  churn   35     adult  \n",
       "2    27083.0   worker  credit      107  loyal   25      teen  \n",
       "4    71874.0   worker  credit       90  loyal   39     adult  \n",
       "5    32916.0   worker  cheque      189  churn   28     adult  \n",
       "..       ...      ...     ...      ...    ...  ...       ...  \n",
       "990   8113.0  student  credit       92  loyal   19      teen  \n",
       "991  36333.0   worker  credit       33  loyal   29     adult  \n",
       "992  43782.0  retired  credit      124  loyal   84    senior  \n",
       "994   6693.0  student  credit       49  loyal   19      teen  \n",
       "995  26580.0   worker  credit       25  loyal   24      teen  \n",
       "\n",
       "[900 rows x 12 columns]"
      ]
     },
     "execution_count": 53,
     "metadata": {},
     "output_type": "execute_result"
    }
   ],
   "source": [
    "df"
   ]
  },
  {
   "cell_type": "code",
   "execution_count": 54,
   "metadata": {},
   "outputs": [
    {
     "data": {
      "text/plain": [
       "<AxesSubplot:title={'center':'age'}, xlabel='age_group'>"
      ]
     },
     "execution_count": 54,
     "metadata": {},
     "output_type": "execute_result"
    },
    {
     "data": {
      "image/png": "[encoded data removed]",
      "text/plain": [
       "<Figure size 432x288 with 1 Axes>"
      ]
     },
     "metadata": {
      "needs_background": "light"
     },
     "output_type": "display_data"
    }
   ],
   "source": [
    "df.boxplot(column='age', by='age_group')"
   ]
  },
  {
   "cell_type": "markdown",
   "metadata": {},
   "source": [
    "### Infer Missin Values ( || )"
   ]
  },
  {
   "cell_type": "code",
   "execution_count": 55,
   "metadata": {},
   "outputs": [
    {
     "name": "stdout",
     "output_type": "stream",
     "text": [
      "<class 'pandas.core.frame.DataFrame'>\n",
      "Int64Index: 900 entries, 0 to 995\n",
      "Data columns (total 12 columns):\n",
      " #   Column     Non-Null Count  Dtype         \n",
      "---  ------     --------------  -----         \n",
      " 0   cust_id    900 non-null    object        \n",
      " 1   gender     900 non-null    object        \n",
      " 2   birth      900 non-null    datetime64[ns]\n",
      " 3   height     900 non-null    float64       \n",
      " 4   address    900 non-null    object        \n",
      " 5   salary     884 non-null    float64       \n",
      " 6   job        863 non-null    object        \n",
      " 7   payment    900 non-null    object        \n",
      " 8   last_tx    900 non-null    int64         \n",
      " 9   churn      900 non-null    object        \n",
      " 10  age        900 non-null    int64         \n",
      " 11  age_group  900 non-null    category      \n",
      "dtypes: category(1), datetime64[ns](1), float64(2), int64(2), object(6)\n",
      "memory usage: 117.7+ KB\n"
     ]
    }
   ],
   "source": [
    "df.info()"
   ]
  },
  {
   "cell_type": "code",
   "execution_count": 56,
   "metadata": {},
   "outputs": [
    {
     "data": {
      "text/plain": [
       "<AxesSubplot:title={'center':'age'}, xlabel='job'>"
      ]
     },
     "execution_count": 56,
     "metadata": {},
     "output_type": "execute_result"
    },
    {
     "data": {
      "image/png": "[encoded data removed]",
      "text/plain": [
       "<Figure size 432x288 with 1 Axes>"
      ]
     },
     "metadata": {
      "needs_background": "light"
     },
     "output_type": "display_data"
    }
   ],
   "source": [
    "df.boxplot(column='age', by='job')"
   ]
  },
  {
   "cell_type": "code",
   "execution_count": 58,
   "metadata": {},
   "outputs": [
    {
     "data": {
      "text/plain": [
       "0    a\n",
       "1    b\n",
       "dtype: object"
      ]
     },
     "execution_count": 58,
     "metadata": {},
     "output_type": "execute_result"
    }
   ],
   "source": [
    "ser = pd.Series(['a','a','a','b','b','b','c','c','d'])\n",
    "ser.mode()"
   ]
  },
  {
   "cell_type": "code",
   "execution_count": 59,
   "metadata": {},
   "outputs": [],
   "source": [
    "def f_mode(data):\n",
    "\tif len(data) > 0:\n",
    "\t\treturn data.mode().iloc[0]\n",
    "\telse:\n",
    "\t\treturn \"\""
   ]
  },
  {
   "cell_type": "code",
   "execution_count": 60,
   "metadata": {},
   "outputs": [
    {
     "data": {
      "text/plain": [
       "'a'"
      ]
     },
     "execution_count": 60,
     "metadata": {},
     "output_type": "execute_result"
    }
   ],
   "source": [
    "f_mode(ser)"
   ]
  },
  {
   "cell_type": "code",
   "execution_count": 61,
   "metadata": {},
   "outputs": [
    {
     "data": {
      "text/plain": [
       "0      retired\n",
       "1       worker\n",
       "2       worker\n",
       "4       worker\n",
       "5       worker\n",
       "        ...   \n",
       "990    student\n",
       "991     worker\n",
       "992    retired\n",
       "994    student\n",
       "995     worker\n",
       "Name: job, Length: 900, dtype: object"
      ]
     },
     "execution_count": 61,
     "metadata": {},
     "output_type": "execute_result"
    }
   ],
   "source": [
    "df['job'].fillna(df.groupby('age_group')['job'].transform(f_mode))"
   ]
  },
  {
   "cell_type": "code",
   "execution_count": 64,
   "metadata": {},
   "outputs": [],
   "source": [
    "df['job'] =  df['job'].fillna(df.groupby('age_group')['job'].transform(f_mode))"
   ]
  },
  {
   "cell_type": "code",
   "execution_count": 65,
   "metadata": {},
   "outputs": [
    {
     "name": "stdout",
     "output_type": "stream",
     "text": [
      "<class 'pandas.core.frame.DataFrame'>\n",
      "Int64Index: 900 entries, 0 to 995\n",
      "Data columns (total 12 columns):\n",
      " #   Column     Non-Null Count  Dtype         \n",
      "---  ------     --------------  -----         \n",
      " 0   cust_id    900 non-null    object        \n",
      " 1   gender     900 non-null    object        \n",
      " 2   birth      900 non-null    datetime64[ns]\n",
      " 3   height     900 non-null    float64       \n",
      " 4   address    900 non-null    object        \n",
      " 5   salary     884 non-null    float64       \n",
      " 6   job        900 non-null    object        \n",
      " 7   payment    900 non-null    object        \n",
      " 8   last_tx    900 non-null    int64         \n",
      " 9   churn      900 non-null    object        \n",
      " 10  age        900 non-null    int64         \n",
      " 11  age_group  900 non-null    category      \n",
      "dtypes: category(1), datetime64[ns](1), float64(2), int64(2), object(6)\n",
      "memory usage: 117.7+ KB\n"
     ]
    }
   ],
   "source": [
    "\n",
    "df.info()"
   ]
  },
  {
   "cell_type": "code",
   "execution_count": 66,
   "metadata": {},
   "outputs": [
    {
     "data": {
      "text/plain": [
       "<AxesSubplot:title={'center':'age'}, xlabel='job'>"
      ]
     },
     "execution_count": 66,
     "metadata": {},
     "output_type": "execute_result"
    },
    {
     "data": {
      "image/png": "[encoded data removed]",
      "text/plain": [
       "<Figure size 432x288 with 1 Axes>"
      ]
     },
     "metadata": {
      "needs_background": "light"
     },
     "output_type": "display_data"
    }
   ],
   "source": [
    "df.boxplot(column='age', by='job')"
   ]
  },
  {
   "cell_type": "markdown",
   "metadata": {},
   "source": [
    "### Infer Missing Values ( ||| )"
   ]
  },
  {
   "cell_type": "code",
   "execution_count": 67,
   "metadata": {},
   "outputs": [
    {
     "name": "stdout",
     "output_type": "stream",
     "text": [
      "<class 'pandas.core.frame.DataFrame'>\n",
      "Int64Index: 900 entries, 0 to 995\n",
      "Data columns (total 12 columns):\n",
      " #   Column     Non-Null Count  Dtype         \n",
      "---  ------     --------------  -----         \n",
      " 0   cust_id    900 non-null    object        \n",
      " 1   gender     900 non-null    object        \n",
      " 2   birth      900 non-null    datetime64[ns]\n",
      " 3   height     900 non-null    float64       \n",
      " 4   address    900 non-null    object        \n",
      " 5   salary     884 non-null    float64       \n",
      " 6   job        900 non-null    object        \n",
      " 7   payment    900 non-null    object        \n",
      " 8   last_tx    900 non-null    int64         \n",
      " 9   churn      900 non-null    object        \n",
      " 10  age        900 non-null    int64         \n",
      " 11  age_group  900 non-null    category      \n",
      "dtypes: category(1), datetime64[ns](1), float64(2), int64(2), object(6)\n",
      "memory usage: 117.7+ KB\n"
     ]
    }
   ],
   "source": [
    "df.info()"
   ]
  },
  {
   "cell_type": "code",
   "execution_count": 68,
   "metadata": {},
   "outputs": [
    {
     "data": {
      "text/plain": [
       "<AxesSubplot:xlabel='age', ylabel='salary'>"
      ]
     },
     "execution_count": 68,
     "metadata": {},
     "output_type": "execute_result"
    },
    {
     "data": {
      "image/png": "[encoded data removed]",
      "text/plain": [
       "<Figure size 432x288 with 1 Axes>"
      ]
     },
     "metadata": {
      "needs_background": "light"
     },
     "output_type": "display_data"
    }
   ],
   "source": [
    "df.plot.scatter(x='age', y='salary')"
   ]
  },
  {
   "cell_type": "code",
   "execution_count": 69,
   "metadata": {},
   "outputs": [],
   "source": [
    "df.sort_values('age', inplace=True)"
   ]
  },
  {
   "cell_type": "code",
   "execution_count": 70,
   "metadata": {},
   "outputs": [
    {
     "name": "stdout",
     "output_type": "stream",
     "text": [
      "<class 'pandas.core.frame.DataFrame'>\n",
      "Int64Index: 900 entries, 841 to 803\n",
      "Data columns (total 12 columns):\n",
      " #   Column     Non-Null Count  Dtype         \n",
      "---  ------     --------------  -----         \n",
      " 0   cust_id    900 non-null    object        \n",
      " 1   gender     900 non-null    object        \n",
      " 2   birth      900 non-null    datetime64[ns]\n",
      " 3   height     900 non-null    float64       \n",
      " 4   address    900 non-null    object        \n",
      " 5   salary     884 non-null    float64       \n",
      " 6   job        900 non-null    object        \n",
      " 7   payment    900 non-null    object        \n",
      " 8   last_tx    900 non-null    int64         \n",
      " 9   churn      900 non-null    object        \n",
      " 10  age        900 non-null    int64         \n",
      " 11  age_group  900 non-null    category      \n",
      "dtypes: category(1), datetime64[ns](1), float64(2), int64(2), object(6)\n",
      "memory usage: 85.5+ KB\n"
     ]
    }
   ],
   "source": [
    "df.info()"
   ]
  },
  {
   "cell_type": "code",
   "execution_count": 71,
   "metadata": {},
   "outputs": [
    {
     "data": {
      "text/plain": [
       "<AxesSubplot:xlabel='age', ylabel='salary'>"
      ]
     },
     "execution_count": 71,
     "metadata": {},
     "output_type": "execute_result"
    },
    {
     "data": {
      "image/png": "[encoded data removed]",
      "text/plain": [
       "<Figure size 432x288 with 1 Axes>"
      ]
     },
     "metadata": {
      "needs_background": "light"
     },
     "output_type": "display_data"
    }
   ],
   "source": [
    "df.plot.scatter(x='age',y='salary')"
   ]
  },
  {
   "cell_type": "markdown",
   "metadata": {},
   "source": [
    "### Log Scale"
   ]
  },
  {
   "cell_type": "code",
   "execution_count": 72,
   "metadata": {},
   "outputs": [
    {
     "data": {
      "text/plain": [
       "<AxesSubplot:xlabel='age', ylabel='salary'>"
      ]
     },
     "execution_count": 72,
     "metadata": {},
     "output_type": "execute_result"
    },
    {
     "data": {
      "image/png": "[encoded data removed]",
      "text/plain": [
       "<Figure size 432x288 with 1 Axes>"
      ]
     },
     "metadata": {
      "needs_background": "light"
     },
     "output_type": "display_data"
    }
   ],
   "source": [
    "df[df['job'] == 'worker'].plot.scatter(x='age',y='salary')"
   ]
  },
  {
   "cell_type": "code",
   "execution_count": 73,
   "metadata": {},
   "outputs": [],
   "source": [
    "df['salary_log'] = df['salary'].apply(np.log)"
   ]
  },
  {
   "cell_type": "code",
   "execution_count": 74,
   "metadata": {},
   "outputs": [
    {
     "data": {
      "text/plain": [
       "<AxesSubplot:xlabel='age', ylabel='salary_log'>"
      ]
     },
     "execution_count": 74,
     "metadata": {},
     "output_type": "execute_result"
    },
    {
     "data": {
      "image/png": "[encoded data removed]",
      "text/plain": [
       "<Figure size 432x288 with 1 Axes>"
      ]
     },
     "metadata": {
      "needs_background": "light"
     },
     "output_type": "display_data"
    }
   ],
   "source": [
    "df[df['job'] == 'worker'].plot.scatter(x='age', y='salary_log')"
   ]
  },
  {
   "cell_type": "markdown",
   "metadata": {},
   "source": [
    "### Binary Encoding"
   ]
  },
  {
   "cell_type": "code",
   "execution_count": 75,
   "metadata": {},
   "outputs": [
    {
     "data": {
      "text/html": [
       "<div>\n",
       "<style scoped>\n",
       "    .dataframe tbody tr th:only-of-type {\n",
       "        vertical-align: middle;\n",
       "    }\n",
       "\n",
       "    .dataframe tbody tr th {\n",
       "        vertical-align: top;\n",
       "    }\n",
       "\n",
       "    .dataframe thead th {\n",
       "        text-align: right;\n",
       "    }\n",
       "</style>\n",
       "<table border=\"1\" class=\"dataframe\">\n",
       "  <thead>\n",
       "    <tr style=\"text-align: right;\">\n",
       "      <th></th>\n",
       "      <th>gender</th>\n",
       "    </tr>\n",
       "  </thead>\n",
       "  <tbody>\n",
       "    <tr>\n",
       "      <th>841</th>\n",
       "      <td>male</td>\n",
       "    </tr>\n",
       "    <tr>\n",
       "      <th>751</th>\n",
       "      <td>male</td>\n",
       "    </tr>\n",
       "    <tr>\n",
       "      <th>323</th>\n",
       "      <td>female</td>\n",
       "    </tr>\n",
       "    <tr>\n",
       "      <th>138</th>\n",
       "      <td>male</td>\n",
       "    </tr>\n",
       "    <tr>\n",
       "      <th>624</th>\n",
       "      <td>female</td>\n",
       "    </tr>\n",
       "    <tr>\n",
       "      <th>...</th>\n",
       "      <td>...</td>\n",
       "    </tr>\n",
       "    <tr>\n",
       "      <th>326</th>\n",
       "      <td>male</td>\n",
       "    </tr>\n",
       "    <tr>\n",
       "      <th>401</th>\n",
       "      <td>male</td>\n",
       "    </tr>\n",
       "    <tr>\n",
       "      <th>141</th>\n",
       "      <td>female</td>\n",
       "    </tr>\n",
       "    <tr>\n",
       "      <th>584</th>\n",
       "      <td>male</td>\n",
       "    </tr>\n",
       "    <tr>\n",
       "      <th>803</th>\n",
       "      <td>male</td>\n",
       "    </tr>\n",
       "  </tbody>\n",
       "</table>\n",
       "<p>900 rows × 1 columns</p>\n",
       "</div>"
      ],
      "text/plain": [
       "     gender\n",
       "841    male\n",
       "751    male\n",
       "323  female\n",
       "138    male\n",
       "624  female\n",
       "..      ...\n",
       "326    male\n",
       "401    male\n",
       "141  female\n",
       "584    male\n",
       "803    male\n",
       "\n",
       "[900 rows x 1 columns]"
      ]
     },
     "execution_count": 75,
     "metadata": {},
     "output_type": "execute_result"
    }
   ],
   "source": [
    "df[['gender']]"
   ]
  },
  {
   "cell_type": "code",
   "execution_count": 76,
   "metadata": {},
   "outputs": [
    {
     "data": {
      "text/plain": [
       "array(['male', 'female'], dtype=object)"
      ]
     },
     "execution_count": 76,
     "metadata": {},
     "output_type": "execute_result"
    }
   ],
   "source": [
    "df['gender'].unique()"
   ]
  },
  {
   "cell_type": "code",
   "execution_count": 77,
   "metadata": {},
   "outputs": [],
   "source": [
    "from sklearn.preprocessing import LabelEncoder"
   ]
  },
  {
   "cell_type": "code",
   "execution_count": 78,
   "metadata": {},
   "outputs": [],
   "source": [
    "lb_make = LabelEncoder()"
   ]
  },
  {
   "cell_type": "code",
   "execution_count": 79,
   "metadata": {},
   "outputs": [],
   "source": [
    "df['gender_code'] = lb_make.fit_transform(df['gender'])"
   ]
  },
  {
   "cell_type": "code",
   "execution_count": 80,
   "metadata": {},
   "outputs": [
    {
     "data": {
      "text/html": [
       "<div>\n",
       "<style scoped>\n",
       "    .dataframe tbody tr th:only-of-type {\n",
       "        vertical-align: middle;\n",
       "    }\n",
       "\n",
       "    .dataframe tbody tr th {\n",
       "        vertical-align: top;\n",
       "    }\n",
       "\n",
       "    .dataframe thead th {\n",
       "        text-align: right;\n",
       "    }\n",
       "</style>\n",
       "<table border=\"1\" class=\"dataframe\">\n",
       "  <thead>\n",
       "    <tr style=\"text-align: right;\">\n",
       "      <th></th>\n",
       "      <th>cust_id</th>\n",
       "      <th>gender</th>\n",
       "      <th>birth</th>\n",
       "      <th>height</th>\n",
       "      <th>address</th>\n",
       "      <th>salary</th>\n",
       "      <th>job</th>\n",
       "      <th>payment</th>\n",
       "      <th>last_tx</th>\n",
       "      <th>churn</th>\n",
       "      <th>age</th>\n",
       "      <th>age_group</th>\n",
       "      <th>salary_log</th>\n",
       "      <th>gender_code</th>\n",
       "    </tr>\n",
       "  </thead>\n",
       "  <tbody>\n",
       "    <tr>\n",
       "      <th>841</th>\n",
       "      <td>C-0842</td>\n",
       "      <td>male</td>\n",
       "      <td>2005-07-02</td>\n",
       "      <td>179.0</td>\n",
       "      <td>108/60, ราชเทวี, กรุงเทพ</td>\n",
       "      <td>24448.0</td>\n",
       "      <td>student</td>\n",
       "      <td>credit</td>\n",
       "      <td>70</td>\n",
       "      <td>loyal</td>\n",
       "      <td>17</td>\n",
       "      <td>teen</td>\n",
       "      <td>10.104304</td>\n",
       "      <td>1</td>\n",
       "    </tr>\n",
       "    <tr>\n",
       "      <th>751</th>\n",
       "      <td>C-0752</td>\n",
       "      <td>male</td>\n",
       "      <td>2005-08-12</td>\n",
       "      <td>179.0</td>\n",
       "      <td>307/36, จตุจักร, กรุงเทพ</td>\n",
       "      <td>16946.0</td>\n",
       "      <td>student</td>\n",
       "      <td>credit</td>\n",
       "      <td>101</td>\n",
       "      <td>loyal</td>\n",
       "      <td>17</td>\n",
       "      <td>teen</td>\n",
       "      <td>9.737787</td>\n",
       "      <td>1</td>\n",
       "    </tr>\n",
       "    <tr>\n",
       "      <th>323</th>\n",
       "      <td>C-0324</td>\n",
       "      <td>female</td>\n",
       "      <td>2005-06-24</td>\n",
       "      <td>179.0</td>\n",
       "      <td>14/24, ปทุมวัน, กรุงเทพ</td>\n",
       "      <td>24637.0</td>\n",
       "      <td>student</td>\n",
       "      <td>credit</td>\n",
       "      <td>85</td>\n",
       "      <td>loyal</td>\n",
       "      <td>17</td>\n",
       "      <td>teen</td>\n",
       "      <td>10.112005</td>\n",
       "      <td>0</td>\n",
       "    </tr>\n",
       "    <tr>\n",
       "      <th>138</th>\n",
       "      <td>C-0139</td>\n",
       "      <td>male</td>\n",
       "      <td>2005-02-23</td>\n",
       "      <td>179.0</td>\n",
       "      <td>466/20, ดอนตูม, นครปฐม</td>\n",
       "      <td>29106.0</td>\n",
       "      <td>student</td>\n",
       "      <td>credit</td>\n",
       "      <td>130</td>\n",
       "      <td>loyal</td>\n",
       "      <td>17</td>\n",
       "      <td>teen</td>\n",
       "      <td>10.278700</td>\n",
       "      <td>1</td>\n",
       "    </tr>\n",
       "    <tr>\n",
       "      <th>624</th>\n",
       "      <td>C-0625</td>\n",
       "      <td>female</td>\n",
       "      <td>2005-07-23</td>\n",
       "      <td>179.0</td>\n",
       "      <td>263/65, ลำลูกกา, ปทุมธานี</td>\n",
       "      <td>30883.0</td>\n",
       "      <td>student</td>\n",
       "      <td>cash</td>\n",
       "      <td>149</td>\n",
       "      <td>loyal</td>\n",
       "      <td>17</td>\n",
       "      <td>teen</td>\n",
       "      <td>10.337961</td>\n",
       "      <td>0</td>\n",
       "    </tr>\n",
       "    <tr>\n",
       "      <th>...</th>\n",
       "      <td>...</td>\n",
       "      <td>...</td>\n",
       "      <td>...</td>\n",
       "      <td>...</td>\n",
       "      <td>...</td>\n",
       "      <td>...</td>\n",
       "      <td>...</td>\n",
       "      <td>...</td>\n",
       "      <td>...</td>\n",
       "      <td>...</td>\n",
       "      <td>...</td>\n",
       "      <td>...</td>\n",
       "      <td>...</td>\n",
       "      <td>...</td>\n",
       "    </tr>\n",
       "    <tr>\n",
       "      <th>326</th>\n",
       "      <td>C-0327</td>\n",
       "      <td>male</td>\n",
       "      <td>1932-01-15</td>\n",
       "      <td>179.0</td>\n",
       "      <td>170/56, ไทรน้อย, นนทบุรี</td>\n",
       "      <td>50199.0</td>\n",
       "      <td>retired</td>\n",
       "      <td>credit</td>\n",
       "      <td>31</td>\n",
       "      <td>loyal</td>\n",
       "      <td>90</td>\n",
       "      <td>senior</td>\n",
       "      <td>10.823750</td>\n",
       "      <td>1</td>\n",
       "    </tr>\n",
       "    <tr>\n",
       "      <th>401</th>\n",
       "      <td>C-0402</td>\n",
       "      <td>male</td>\n",
       "      <td>1931-03-12</td>\n",
       "      <td>179.0</td>\n",
       "      <td>398/10, หนองแขม, กรุงเทพ</td>\n",
       "      <td>20816.0</td>\n",
       "      <td>retired</td>\n",
       "      <td>credit</td>\n",
       "      <td>158</td>\n",
       "      <td>loyal</td>\n",
       "      <td>91</td>\n",
       "      <td>senior</td>\n",
       "      <td>9.943477</td>\n",
       "      <td>1</td>\n",
       "    </tr>\n",
       "    <tr>\n",
       "      <th>141</th>\n",
       "      <td>C-0142</td>\n",
       "      <td>female</td>\n",
       "      <td>1931-07-10</td>\n",
       "      <td>179.0</td>\n",
       "      <td>350/37, ภาษีเจริญ, กรุงเทพ</td>\n",
       "      <td>35244.0</td>\n",
       "      <td>retired</td>\n",
       "      <td>cheque</td>\n",
       "      <td>194</td>\n",
       "      <td>loyal</td>\n",
       "      <td>91</td>\n",
       "      <td>senior</td>\n",
       "      <td>10.470051</td>\n",
       "      <td>0</td>\n",
       "    </tr>\n",
       "    <tr>\n",
       "      <th>584</th>\n",
       "      <td>C-0585</td>\n",
       "      <td>male</td>\n",
       "      <td>1931-02-15</td>\n",
       "      <td>179.0</td>\n",
       "      <td>107/23, บางบัวทอง, นนทบุรี</td>\n",
       "      <td>37288.0</td>\n",
       "      <td>retired</td>\n",
       "      <td>credit</td>\n",
       "      <td>109</td>\n",
       "      <td>loyal</td>\n",
       "      <td>91</td>\n",
       "      <td>senior</td>\n",
       "      <td>10.526427</td>\n",
       "      <td>1</td>\n",
       "    </tr>\n",
       "    <tr>\n",
       "      <th>803</th>\n",
       "      <td>C-0804</td>\n",
       "      <td>male</td>\n",
       "      <td>1931-07-26</td>\n",
       "      <td>179.0</td>\n",
       "      <td>98/65, ดุสิต, กรุงเทพ</td>\n",
       "      <td>20446.0</td>\n",
       "      <td>retired</td>\n",
       "      <td>credit</td>\n",
       "      <td>133</td>\n",
       "      <td>loyal</td>\n",
       "      <td>91</td>\n",
       "      <td>senior</td>\n",
       "      <td>9.925543</td>\n",
       "      <td>1</td>\n",
       "    </tr>\n",
       "  </tbody>\n",
       "</table>\n",
       "<p>900 rows × 14 columns</p>\n",
       "</div>"
      ],
      "text/plain": [
       "    cust_id  gender      birth  height                     address   salary  \\\n",
       "841  C-0842    male 2005-07-02   179.0    108/60, ราชเทวี, กรุงเทพ  24448.0   \n",
       "751  C-0752    male 2005-08-12   179.0    307/36, จตุจักร, กรุงเทพ  16946.0   \n",
       "323  C-0324  female 2005-06-24   179.0     14/24, ปทุมวัน, กรุงเทพ  24637.0   \n",
       "138  C-0139    male 2005-02-23   179.0      466/20, ดอนตูม, นครปฐม  29106.0   \n",
       "624  C-0625  female 2005-07-23   179.0   263/65, ลำลูกกา, ปทุมธานี  30883.0   \n",
       "..      ...     ...        ...     ...                         ...      ...   \n",
       "326  C-0327    male 1932-01-15   179.0    170/56, ไทรน้อย, นนทบุรี  50199.0   \n",
       "401  C-0402    male 1931-03-12   179.0    398/10, หนองแขม, กรุงเทพ  20816.0   \n",
       "141  C-0142  female 1931-07-10   179.0  350/37, ภาษีเจริญ, กรุงเทพ  35244.0   \n",
       "584  C-0585    male 1931-02-15   179.0  107/23, บางบัวทอง, นนทบุรี  37288.0   \n",
       "803  C-0804    male 1931-07-26   179.0       98/65, ดุสิต, กรุงเทพ  20446.0   \n",
       "\n",
       "         job payment  last_tx  churn  age age_group  salary_log  gender_code  \n",
       "841  student  credit       70  loyal   17      teen   10.104304            1  \n",
       "751  student  credit      101  loyal   17      teen    9.737787            1  \n",
       "323  student  credit       85  loyal   17      teen   10.112005            0  \n",
       "138  student  credit      130  loyal   17      teen   10.278700            1  \n",
       "624  student    cash      149  loyal   17      teen   10.337961            0  \n",
       "..       ...     ...      ...    ...  ...       ...         ...          ...  \n",
       "326  retired  credit       31  loyal   90    senior   10.823750            1  \n",
       "401  retired  credit      158  loyal   91    senior    9.943477            1  \n",
       "141  retired  cheque      194  loyal   91    senior   10.470051            0  \n",
       "584  retired  credit      109  loyal   91    senior   10.526427            1  \n",
       "803  retired  credit      133  loyal   91    senior    9.925543            1  \n",
       "\n",
       "[900 rows x 14 columns]"
      ]
     },
     "execution_count": 80,
     "metadata": {},
     "output_type": "execute_result"
    }
   ],
   "source": [
    "df"
   ]
  },
  {
   "cell_type": "markdown",
   "metadata": {},
   "source": [
    "### One-Hot Encoding"
   ]
  },
  {
   "cell_type": "code",
   "execution_count": 81,
   "metadata": {},
   "outputs": [
    {
     "data": {
      "text/html": [
       "<div>\n",
       "<style scoped>\n",
       "    .dataframe tbody tr th:only-of-type {\n",
       "        vertical-align: middle;\n",
       "    }\n",
       "\n",
       "    .dataframe tbody tr th {\n",
       "        vertical-align: top;\n",
       "    }\n",
       "\n",
       "    .dataframe thead th {\n",
       "        text-align: right;\n",
       "    }\n",
       "</style>\n",
       "<table border=\"1\" class=\"dataframe\">\n",
       "  <thead>\n",
       "    <tr style=\"text-align: right;\">\n",
       "      <th></th>\n",
       "      <th>payment</th>\n",
       "    </tr>\n",
       "  </thead>\n",
       "  <tbody>\n",
       "    <tr>\n",
       "      <th>841</th>\n",
       "      <td>credit</td>\n",
       "    </tr>\n",
       "    <tr>\n",
       "      <th>751</th>\n",
       "      <td>credit</td>\n",
       "    </tr>\n",
       "    <tr>\n",
       "      <th>323</th>\n",
       "      <td>credit</td>\n",
       "    </tr>\n",
       "    <tr>\n",
       "      <th>138</th>\n",
       "      <td>credit</td>\n",
       "    </tr>\n",
       "    <tr>\n",
       "      <th>624</th>\n",
       "      <td>cash</td>\n",
       "    </tr>\n",
       "    <tr>\n",
       "      <th>...</th>\n",
       "      <td>...</td>\n",
       "    </tr>\n",
       "    <tr>\n",
       "      <th>326</th>\n",
       "      <td>credit</td>\n",
       "    </tr>\n",
       "    <tr>\n",
       "      <th>401</th>\n",
       "      <td>credit</td>\n",
       "    </tr>\n",
       "    <tr>\n",
       "      <th>141</th>\n",
       "      <td>cheque</td>\n",
       "    </tr>\n",
       "    <tr>\n",
       "      <th>584</th>\n",
       "      <td>credit</td>\n",
       "    </tr>\n",
       "    <tr>\n",
       "      <th>803</th>\n",
       "      <td>credit</td>\n",
       "    </tr>\n",
       "  </tbody>\n",
       "</table>\n",
       "<p>900 rows × 1 columns</p>\n",
       "</div>"
      ],
      "text/plain": [
       "    payment\n",
       "841  credit\n",
       "751  credit\n",
       "323  credit\n",
       "138  credit\n",
       "624    cash\n",
       "..      ...\n",
       "326  credit\n",
       "401  credit\n",
       "141  cheque\n",
       "584  credit\n",
       "803  credit\n",
       "\n",
       "[900 rows x 1 columns]"
      ]
     },
     "execution_count": 81,
     "metadata": {},
     "output_type": "execute_result"
    }
   ],
   "source": [
    "df[['payment']]"
   ]
  },
  {
   "cell_type": "code",
   "execution_count": 82,
   "metadata": {},
   "outputs": [
    {
     "data": {
      "text/plain": [
       "array(['credit', 'cash', 'cheque'], dtype=object)"
      ]
     },
     "execution_count": 82,
     "metadata": {},
     "output_type": "execute_result"
    }
   ],
   "source": [
    "df['payment'].unique()"
   ]
  },
  {
   "cell_type": "code",
   "execution_count": 83,
   "metadata": {},
   "outputs": [],
   "source": [
    "df = pd.get_dummies(df, columns=['payment'])"
   ]
  },
  {
   "cell_type": "code",
   "execution_count": 84,
   "metadata": {},
   "outputs": [
    {
     "data": {
      "text/html": [
       "<div>\n",
       "<style scoped>\n",
       "    .dataframe tbody tr th:only-of-type {\n",
       "        vertical-align: middle;\n",
       "    }\n",
       "\n",
       "    .dataframe tbody tr th {\n",
       "        vertical-align: top;\n",
       "    }\n",
       "\n",
       "    .dataframe thead th {\n",
       "        text-align: right;\n",
       "    }\n",
       "</style>\n",
       "<table border=\"1\" class=\"dataframe\">\n",
       "  <thead>\n",
       "    <tr style=\"text-align: right;\">\n",
       "      <th></th>\n",
       "      <th>cust_id</th>\n",
       "      <th>gender</th>\n",
       "      <th>birth</th>\n",
       "      <th>height</th>\n",
       "      <th>address</th>\n",
       "      <th>salary</th>\n",
       "      <th>job</th>\n",
       "      <th>last_tx</th>\n",
       "      <th>churn</th>\n",
       "      <th>age</th>\n",
       "      <th>age_group</th>\n",
       "      <th>salary_log</th>\n",
       "      <th>gender_code</th>\n",
       "      <th>payment_cash</th>\n",
       "      <th>payment_cheque</th>\n",
       "      <th>payment_credit</th>\n",
       "    </tr>\n",
       "  </thead>\n",
       "  <tbody>\n",
       "    <tr>\n",
       "      <th>841</th>\n",
       "      <td>C-0842</td>\n",
       "      <td>male</td>\n",
       "      <td>2005-07-02</td>\n",
       "      <td>179.0</td>\n",
       "      <td>108/60, ราชเทวี, กรุงเทพ</td>\n",
       "      <td>24448.0</td>\n",
       "      <td>student</td>\n",
       "      <td>70</td>\n",
       "      <td>loyal</td>\n",
       "      <td>17</td>\n",
       "      <td>teen</td>\n",
       "      <td>10.104304</td>\n",
       "      <td>1</td>\n",
       "      <td>0</td>\n",
       "      <td>0</td>\n",
       "      <td>1</td>\n",
       "    </tr>\n",
       "    <tr>\n",
       "      <th>751</th>\n",
       "      <td>C-0752</td>\n",
       "      <td>male</td>\n",
       "      <td>2005-08-12</td>\n",
       "      <td>179.0</td>\n",
       "      <td>307/36, จตุจักร, กรุงเทพ</td>\n",
       "      <td>16946.0</td>\n",
       "      <td>student</td>\n",
       "      <td>101</td>\n",
       "      <td>loyal</td>\n",
       "      <td>17</td>\n",
       "      <td>teen</td>\n",
       "      <td>9.737787</td>\n",
       "      <td>1</td>\n",
       "      <td>0</td>\n",
       "      <td>0</td>\n",
       "      <td>1</td>\n",
       "    </tr>\n",
       "    <tr>\n",
       "      <th>323</th>\n",
       "      <td>C-0324</td>\n",
       "      <td>female</td>\n",
       "      <td>2005-06-24</td>\n",
       "      <td>179.0</td>\n",
       "      <td>14/24, ปทุมวัน, กรุงเทพ</td>\n",
       "      <td>24637.0</td>\n",
       "      <td>student</td>\n",
       "      <td>85</td>\n",
       "      <td>loyal</td>\n",
       "      <td>17</td>\n",
       "      <td>teen</td>\n",
       "      <td>10.112005</td>\n",
       "      <td>0</td>\n",
       "      <td>0</td>\n",
       "      <td>0</td>\n",
       "      <td>1</td>\n",
       "    </tr>\n",
       "    <tr>\n",
       "      <th>138</th>\n",
       "      <td>C-0139</td>\n",
       "      <td>male</td>\n",
       "      <td>2005-02-23</td>\n",
       "      <td>179.0</td>\n",
       "      <td>466/20, ดอนตูม, นครปฐม</td>\n",
       "      <td>29106.0</td>\n",
       "      <td>student</td>\n",
       "      <td>130</td>\n",
       "      <td>loyal</td>\n",
       "      <td>17</td>\n",
       "      <td>teen</td>\n",
       "      <td>10.278700</td>\n",
       "      <td>1</td>\n",
       "      <td>0</td>\n",
       "      <td>0</td>\n",
       "      <td>1</td>\n",
       "    </tr>\n",
       "    <tr>\n",
       "      <th>624</th>\n",
       "      <td>C-0625</td>\n",
       "      <td>female</td>\n",
       "      <td>2005-07-23</td>\n",
       "      <td>179.0</td>\n",
       "      <td>263/65, ลำลูกกา, ปทุมธานี</td>\n",
       "      <td>30883.0</td>\n",
       "      <td>student</td>\n",
       "      <td>149</td>\n",
       "      <td>loyal</td>\n",
       "      <td>17</td>\n",
       "      <td>teen</td>\n",
       "      <td>10.337961</td>\n",
       "      <td>0</td>\n",
       "      <td>1</td>\n",
       "      <td>0</td>\n",
       "      <td>0</td>\n",
       "    </tr>\n",
       "    <tr>\n",
       "      <th>...</th>\n",
       "      <td>...</td>\n",
       "      <td>...</td>\n",
       "      <td>...</td>\n",
       "      <td>...</td>\n",
       "      <td>...</td>\n",
       "      <td>...</td>\n",
       "      <td>...</td>\n",
       "      <td>...</td>\n",
       "      <td>...</td>\n",
       "      <td>...</td>\n",
       "      <td>...</td>\n",
       "      <td>...</td>\n",
       "      <td>...</td>\n",
       "      <td>...</td>\n",
       "      <td>...</td>\n",
       "      <td>...</td>\n",
       "    </tr>\n",
       "    <tr>\n",
       "      <th>326</th>\n",
       "      <td>C-0327</td>\n",
       "      <td>male</td>\n",
       "      <td>1932-01-15</td>\n",
       "      <td>179.0</td>\n",
       "      <td>170/56, ไทรน้อย, นนทบุรี</td>\n",
       "      <td>50199.0</td>\n",
       "      <td>retired</td>\n",
       "      <td>31</td>\n",
       "      <td>loyal</td>\n",
       "      <td>90</td>\n",
       "      <td>senior</td>\n",
       "      <td>10.823750</td>\n",
       "      <td>1</td>\n",
       "      <td>0</td>\n",
       "      <td>0</td>\n",
       "      <td>1</td>\n",
       "    </tr>\n",
       "    <tr>\n",
       "      <th>401</th>\n",
       "      <td>C-0402</td>\n",
       "      <td>male</td>\n",
       "      <td>1931-03-12</td>\n",
       "      <td>179.0</td>\n",
       "      <td>398/10, หนองแขม, กรุงเทพ</td>\n",
       "      <td>20816.0</td>\n",
       "      <td>retired</td>\n",
       "      <td>158</td>\n",
       "      <td>loyal</td>\n",
       "      <td>91</td>\n",
       "      <td>senior</td>\n",
       "      <td>9.943477</td>\n",
       "      <td>1</td>\n",
       "      <td>0</td>\n",
       "      <td>0</td>\n",
       "      <td>1</td>\n",
       "    </tr>\n",
       "    <tr>\n",
       "      <th>141</th>\n",
       "      <td>C-0142</td>\n",
       "      <td>female</td>\n",
       "      <td>1931-07-10</td>\n",
       "      <td>179.0</td>\n",
       "      <td>350/37, ภาษีเจริญ, กรุงเทพ</td>\n",
       "      <td>35244.0</td>\n",
       "      <td>retired</td>\n",
       "      <td>194</td>\n",
       "      <td>loyal</td>\n",
       "      <td>91</td>\n",
       "      <td>senior</td>\n",
       "      <td>10.470051</td>\n",
       "      <td>0</td>\n",
       "      <td>0</td>\n",
       "      <td>1</td>\n",
       "      <td>0</td>\n",
       "    </tr>\n",
       "    <tr>\n",
       "      <th>584</th>\n",
       "      <td>C-0585</td>\n",
       "      <td>male</td>\n",
       "      <td>1931-02-15</td>\n",
       "      <td>179.0</td>\n",
       "      <td>107/23, บางบัวทอง, นนทบุรี</td>\n",
       "      <td>37288.0</td>\n",
       "      <td>retired</td>\n",
       "      <td>109</td>\n",
       "      <td>loyal</td>\n",
       "      <td>91</td>\n",
       "      <td>senior</td>\n",
       "      <td>10.526427</td>\n",
       "      <td>1</td>\n",
       "      <td>0</td>\n",
       "      <td>0</td>\n",
       "      <td>1</td>\n",
       "    </tr>\n",
       "    <tr>\n",
       "      <th>803</th>\n",
       "      <td>C-0804</td>\n",
       "      <td>male</td>\n",
       "      <td>1931-07-26</td>\n",
       "      <td>179.0</td>\n",
       "      <td>98/65, ดุสิต, กรุงเทพ</td>\n",
       "      <td>20446.0</td>\n",
       "      <td>retired</td>\n",
       "      <td>133</td>\n",
       "      <td>loyal</td>\n",
       "      <td>91</td>\n",
       "      <td>senior</td>\n",
       "      <td>9.925543</td>\n",
       "      <td>1</td>\n",
       "      <td>0</td>\n",
       "      <td>0</td>\n",
       "      <td>1</td>\n",
       "    </tr>\n",
       "  </tbody>\n",
       "</table>\n",
       "<p>900 rows × 16 columns</p>\n",
       "</div>"
      ],
      "text/plain": [
       "    cust_id  gender      birth  height                     address   salary  \\\n",
       "841  C-0842    male 2005-07-02   179.0    108/60, ราชเทวี, กรุงเทพ  24448.0   \n",
       "751  C-0752    male 2005-08-12   179.0    307/36, จตุจักร, กรุงเทพ  16946.0   \n",
       "323  C-0324  female 2005-06-24   179.0     14/24, ปทุมวัน, กรุงเทพ  24637.0   \n",
       "138  C-0139    male 2005-02-23   179.0      466/20, ดอนตูม, นครปฐม  29106.0   \n",
       "624  C-0625  female 2005-07-23   179.0   263/65, ลำลูกกา, ปทุมธานี  30883.0   \n",
       "..      ...     ...        ...     ...                         ...      ...   \n",
       "326  C-0327    male 1932-01-15   179.0    170/56, ไทรน้อย, นนทบุรี  50199.0   \n",
       "401  C-0402    male 1931-03-12   179.0    398/10, หนองแขม, กรุงเทพ  20816.0   \n",
       "141  C-0142  female 1931-07-10   179.0  350/37, ภาษีเจริญ, กรุงเทพ  35244.0   \n",
       "584  C-0585    male 1931-02-15   179.0  107/23, บางบัวทอง, นนทบุรี  37288.0   \n",
       "803  C-0804    male 1931-07-26   179.0       98/65, ดุสิต, กรุงเทพ  20446.0   \n",
       "\n",
       "         job  last_tx  churn  age age_group  salary_log  gender_code  \\\n",
       "841  student       70  loyal   17      teen   10.104304            1   \n",
       "751  student      101  loyal   17      teen    9.737787            1   \n",
       "323  student       85  loyal   17      teen   10.112005            0   \n",
       "138  student      130  loyal   17      teen   10.278700            1   \n",
       "624  student      149  loyal   17      teen   10.337961            0   \n",
       "..       ...      ...    ...  ...       ...         ...          ...   \n",
       "326  retired       31  loyal   90    senior   10.823750            1   \n",
       "401  retired      158  loyal   91    senior    9.943477            1   \n",
       "141  retired      194  loyal   91    senior   10.470051            0   \n",
       "584  retired      109  loyal   91    senior   10.526427            1   \n",
       "803  retired      133  loyal   91    senior    9.925543            1   \n",
       "\n",
       "     payment_cash  payment_cheque  payment_credit  \n",
       "841             0               0               1  \n",
       "751             0               0               1  \n",
       "323             0               0               1  \n",
       "138             0               0               1  \n",
       "624             1               0               0  \n",
       "..            ...             ...             ...  \n",
       "326             0               0               1  \n",
       "401             0               0               1  \n",
       "141             0               1               0  \n",
       "584             0               0               1  \n",
       "803             0               0               1  \n",
       "\n",
       "[900 rows x 16 columns]"
      ]
     },
     "execution_count": 84,
     "metadata": {},
     "output_type": "execute_result"
    }
   ],
   "source": [
    "df"
   ]
  },
  {
   "cell_type": "code",
   "execution_count": 85,
   "metadata": {},
   "outputs": [
    {
     "data": {
      "text/html": [
       "<div>\n",
       "<style scoped>\n",
       "    .dataframe tbody tr th:only-of-type {\n",
       "        vertical-align: middle;\n",
       "    }\n",
       "\n",
       "    .dataframe tbody tr th {\n",
       "        vertical-align: top;\n",
       "    }\n",
       "\n",
       "    .dataframe thead th {\n",
       "        text-align: right;\n",
       "    }\n",
       "</style>\n",
       "<table border=\"1\" class=\"dataframe\">\n",
       "  <thead>\n",
       "    <tr style=\"text-align: right;\">\n",
       "      <th></th>\n",
       "      <th>payment_cash</th>\n",
       "      <th>payment_cheque</th>\n",
       "      <th>payment_credit</th>\n",
       "    </tr>\n",
       "  </thead>\n",
       "  <tbody>\n",
       "    <tr>\n",
       "      <th>841</th>\n",
       "      <td>0</td>\n",
       "      <td>0</td>\n",
       "      <td>1</td>\n",
       "    </tr>\n",
       "    <tr>\n",
       "      <th>751</th>\n",
       "      <td>0</td>\n",
       "      <td>0</td>\n",
       "      <td>1</td>\n",
       "    </tr>\n",
       "    <tr>\n",
       "      <th>323</th>\n",
       "      <td>0</td>\n",
       "      <td>0</td>\n",
       "      <td>1</td>\n",
       "    </tr>\n",
       "    <tr>\n",
       "      <th>138</th>\n",
       "      <td>0</td>\n",
       "      <td>0</td>\n",
       "      <td>1</td>\n",
       "    </tr>\n",
       "    <tr>\n",
       "      <th>624</th>\n",
       "      <td>1</td>\n",
       "      <td>0</td>\n",
       "      <td>0</td>\n",
       "    </tr>\n",
       "    <tr>\n",
       "      <th>...</th>\n",
       "      <td>...</td>\n",
       "      <td>...</td>\n",
       "      <td>...</td>\n",
       "    </tr>\n",
       "    <tr>\n",
       "      <th>326</th>\n",
       "      <td>0</td>\n",
       "      <td>0</td>\n",
       "      <td>1</td>\n",
       "    </tr>\n",
       "    <tr>\n",
       "      <th>401</th>\n",
       "      <td>0</td>\n",
       "      <td>0</td>\n",
       "      <td>1</td>\n",
       "    </tr>\n",
       "    <tr>\n",
       "      <th>141</th>\n",
       "      <td>0</td>\n",
       "      <td>1</td>\n",
       "      <td>0</td>\n",
       "    </tr>\n",
       "    <tr>\n",
       "      <th>584</th>\n",
       "      <td>0</td>\n",
       "      <td>0</td>\n",
       "      <td>1</td>\n",
       "    </tr>\n",
       "    <tr>\n",
       "      <th>803</th>\n",
       "      <td>0</td>\n",
       "      <td>0</td>\n",
       "      <td>1</td>\n",
       "    </tr>\n",
       "  </tbody>\n",
       "</table>\n",
       "<p>900 rows × 3 columns</p>\n",
       "</div>"
      ],
      "text/plain": [
       "     payment_cash  payment_cheque  payment_credit\n",
       "841             0               0               1\n",
       "751             0               0               1\n",
       "323             0               0               1\n",
       "138             0               0               1\n",
       "624             1               0               0\n",
       "..            ...             ...             ...\n",
       "326             0               0               1\n",
       "401             0               0               1\n",
       "141             0               1               0\n",
       "584             0               0               1\n",
       "803             0               0               1\n",
       "\n",
       "[900 rows x 3 columns]"
      ]
     },
     "execution_count": 85,
     "metadata": {},
     "output_type": "execute_result"
    }
   ],
   "source": [
    "df[['payment_cash', 'payment_cheque', 'payment_credit']]"
   ]
  },
  {
   "cell_type": "markdown",
   "metadata": {},
   "source": [
    "### Text Extraction"
   ]
  },
  {
   "cell_type": "code",
   "execution_count": 86,
   "metadata": {},
   "outputs": [
    {
     "data": {
      "text/html": [
       "<div>\n",
       "<style scoped>\n",
       "    .dataframe tbody tr th:only-of-type {\n",
       "        vertical-align: middle;\n",
       "    }\n",
       "\n",
       "    .dataframe tbody tr th {\n",
       "        vertical-align: top;\n",
       "    }\n",
       "\n",
       "    .dataframe thead th {\n",
       "        text-align: right;\n",
       "    }\n",
       "</style>\n",
       "<table border=\"1\" class=\"dataframe\">\n",
       "  <thead>\n",
       "    <tr style=\"text-align: right;\">\n",
       "      <th></th>\n",
       "      <th>address</th>\n",
       "    </tr>\n",
       "  </thead>\n",
       "  <tbody>\n",
       "    <tr>\n",
       "      <th>841</th>\n",
       "      <td>108/60, ราชเทวี, กรุงเทพ</td>\n",
       "    </tr>\n",
       "    <tr>\n",
       "      <th>751</th>\n",
       "      <td>307/36, จตุจักร, กรุงเทพ</td>\n",
       "    </tr>\n",
       "    <tr>\n",
       "      <th>323</th>\n",
       "      <td>14/24, ปทุมวัน, กรุงเทพ</td>\n",
       "    </tr>\n",
       "    <tr>\n",
       "      <th>138</th>\n",
       "      <td>466/20, ดอนตูม, นครปฐม</td>\n",
       "    </tr>\n",
       "    <tr>\n",
       "      <th>624</th>\n",
       "      <td>263/65, ลำลูกกา, ปทุมธานี</td>\n",
       "    </tr>\n",
       "    <tr>\n",
       "      <th>...</th>\n",
       "      <td>...</td>\n",
       "    </tr>\n",
       "    <tr>\n",
       "      <th>326</th>\n",
       "      <td>170/56, ไทรน้อย, นนทบุรี</td>\n",
       "    </tr>\n",
       "    <tr>\n",
       "      <th>401</th>\n",
       "      <td>398/10, หนองแขม, กรุงเทพ</td>\n",
       "    </tr>\n",
       "    <tr>\n",
       "      <th>141</th>\n",
       "      <td>350/37, ภาษีเจริญ, กรุงเทพ</td>\n",
       "    </tr>\n",
       "    <tr>\n",
       "      <th>584</th>\n",
       "      <td>107/23, บางบัวทอง, นนทบุรี</td>\n",
       "    </tr>\n",
       "    <tr>\n",
       "      <th>803</th>\n",
       "      <td>98/65, ดุสิต, กรุงเทพ</td>\n",
       "    </tr>\n",
       "  </tbody>\n",
       "</table>\n",
       "<p>900 rows × 1 columns</p>\n",
       "</div>"
      ],
      "text/plain": [
       "                        address\n",
       "841    108/60, ราชเทวี, กรุงเทพ\n",
       "751    307/36, จตุจักร, กรุงเทพ\n",
       "323     14/24, ปทุมวัน, กรุงเทพ\n",
       "138      466/20, ดอนตูม, นครปฐม\n",
       "624   263/65, ลำลูกกา, ปทุมธานี\n",
       "..                          ...\n",
       "326    170/56, ไทรน้อย, นนทบุรี\n",
       "401    398/10, หนองแขม, กรุงเทพ\n",
       "141  350/37, ภาษีเจริญ, กรุงเทพ\n",
       "584  107/23, บางบัวทอง, นนทบุรี\n",
       "803       98/65, ดุสิต, กรุงเทพ\n",
       "\n",
       "[900 rows x 1 columns]"
      ]
     },
     "execution_count": 86,
     "metadata": {},
     "output_type": "execute_result"
    }
   ],
   "source": [
    "df[['address']]"
   ]
  },
  {
   "cell_type": "code",
   "execution_count": 87,
   "metadata": {},
   "outputs": [
    {
     "data": {
      "text/plain": [
       "['14/24', ' ปทุมวัน', ' กรุงเทพ']"
      ]
     },
     "execution_count": 87,
     "metadata": {},
     "output_type": "execute_result"
    }
   ],
   "source": [
    "'14/24, ปทุมวัน, กรุงเทพ'.split(',')"
   ]
  },
  {
   "cell_type": "code",
   "execution_count": 88,
   "metadata": {},
   "outputs": [
    {
     "data": {
      "text/plain": [
       "' กรุงเทพ'"
      ]
     },
     "execution_count": 88,
     "metadata": {},
     "output_type": "execute_result"
    }
   ],
   "source": [
    "'14/24, ปทุมวัน, กรุงเทพ'.split(',')[-1]"
   ]
  },
  {
   "cell_type": "code",
   "execution_count": 90,
   "metadata": {},
   "outputs": [
    {
     "data": {
      "text/plain": [
       "841      กรุงเทพ\n",
       "751      กรุงเทพ\n",
       "323      กรุงเทพ\n",
       "138       นครปฐม\n",
       "624     ปทุมธานี\n",
       "         ...    \n",
       "326      นนทบุรี\n",
       "401      กรุงเทพ\n",
       "141      กรุงเทพ\n",
       "584      นนทบุรี\n",
       "803      กรุงเทพ\n",
       "Name: address, Length: 900, dtype: object"
      ]
     },
     "execution_count": 90,
     "metadata": {},
     "output_type": "execute_result"
    }
   ],
   "source": [
    "df['address'].str.split(',').str[-1]"
   ]
  },
  {
   "cell_type": "code",
   "execution_count": 91,
   "metadata": {},
   "outputs": [],
   "source": [
    "df['city'] = df['address'].str.split(', ').str[-1]"
   ]
  },
  {
   "cell_type": "code",
   "execution_count": 92,
   "metadata": {},
   "outputs": [
    {
     "data": {
      "text/html": [
       "<div>\n",
       "<style scoped>\n",
       "    .dataframe tbody tr th:only-of-type {\n",
       "        vertical-align: middle;\n",
       "    }\n",
       "\n",
       "    .dataframe tbody tr th {\n",
       "        vertical-align: top;\n",
       "    }\n",
       "\n",
       "    .dataframe thead th {\n",
       "        text-align: right;\n",
       "    }\n",
       "</style>\n",
       "<table border=\"1\" class=\"dataframe\">\n",
       "  <thead>\n",
       "    <tr style=\"text-align: right;\">\n",
       "      <th></th>\n",
       "      <th>cust_id</th>\n",
       "      <th>gender</th>\n",
       "      <th>birth</th>\n",
       "      <th>height</th>\n",
       "      <th>address</th>\n",
       "      <th>salary</th>\n",
       "      <th>job</th>\n",
       "      <th>last_tx</th>\n",
       "      <th>churn</th>\n",
       "      <th>age</th>\n",
       "      <th>age_group</th>\n",
       "      <th>salary_log</th>\n",
       "      <th>gender_code</th>\n",
       "      <th>payment_cash</th>\n",
       "      <th>payment_cheque</th>\n",
       "      <th>payment_credit</th>\n",
       "      <th>city</th>\n",
       "    </tr>\n",
       "  </thead>\n",
       "  <tbody>\n",
       "    <tr>\n",
       "      <th>841</th>\n",
       "      <td>C-0842</td>\n",
       "      <td>male</td>\n",
       "      <td>2005-07-02</td>\n",
       "      <td>179.0</td>\n",
       "      <td>108/60, ราชเทวี, กรุงเทพ</td>\n",
       "      <td>24448.0</td>\n",
       "      <td>student</td>\n",
       "      <td>70</td>\n",
       "      <td>loyal</td>\n",
       "      <td>17</td>\n",
       "      <td>teen</td>\n",
       "      <td>10.104304</td>\n",
       "      <td>1</td>\n",
       "      <td>0</td>\n",
       "      <td>0</td>\n",
       "      <td>1</td>\n",
       "      <td>กรุงเทพ</td>\n",
       "    </tr>\n",
       "    <tr>\n",
       "      <th>751</th>\n",
       "      <td>C-0752</td>\n",
       "      <td>male</td>\n",
       "      <td>2005-08-12</td>\n",
       "      <td>179.0</td>\n",
       "      <td>307/36, จตุจักร, กรุงเทพ</td>\n",
       "      <td>16946.0</td>\n",
       "      <td>student</td>\n",
       "      <td>101</td>\n",
       "      <td>loyal</td>\n",
       "      <td>17</td>\n",
       "      <td>teen</td>\n",
       "      <td>9.737787</td>\n",
       "      <td>1</td>\n",
       "      <td>0</td>\n",
       "      <td>0</td>\n",
       "      <td>1</td>\n",
       "      <td>กรุงเทพ</td>\n",
       "    </tr>\n",
       "    <tr>\n",
       "      <th>323</th>\n",
       "      <td>C-0324</td>\n",
       "      <td>female</td>\n",
       "      <td>2005-06-24</td>\n",
       "      <td>179.0</td>\n",
       "      <td>14/24, ปทุมวัน, กรุงเทพ</td>\n",
       "      <td>24637.0</td>\n",
       "      <td>student</td>\n",
       "      <td>85</td>\n",
       "      <td>loyal</td>\n",
       "      <td>17</td>\n",
       "      <td>teen</td>\n",
       "      <td>10.112005</td>\n",
       "      <td>0</td>\n",
       "      <td>0</td>\n",
       "      <td>0</td>\n",
       "      <td>1</td>\n",
       "      <td>กรุงเทพ</td>\n",
       "    </tr>\n",
       "    <tr>\n",
       "      <th>138</th>\n",
       "      <td>C-0139</td>\n",
       "      <td>male</td>\n",
       "      <td>2005-02-23</td>\n",
       "      <td>179.0</td>\n",
       "      <td>466/20, ดอนตูม, นครปฐม</td>\n",
       "      <td>29106.0</td>\n",
       "      <td>student</td>\n",
       "      <td>130</td>\n",
       "      <td>loyal</td>\n",
       "      <td>17</td>\n",
       "      <td>teen</td>\n",
       "      <td>10.278700</td>\n",
       "      <td>1</td>\n",
       "      <td>0</td>\n",
       "      <td>0</td>\n",
       "      <td>1</td>\n",
       "      <td>นครปฐม</td>\n",
       "    </tr>\n",
       "    <tr>\n",
       "      <th>624</th>\n",
       "      <td>C-0625</td>\n",
       "      <td>female</td>\n",
       "      <td>2005-07-23</td>\n",
       "      <td>179.0</td>\n",
       "      <td>263/65, ลำลูกกา, ปทุมธานี</td>\n",
       "      <td>30883.0</td>\n",
       "      <td>student</td>\n",
       "      <td>149</td>\n",
       "      <td>loyal</td>\n",
       "      <td>17</td>\n",
       "      <td>teen</td>\n",
       "      <td>10.337961</td>\n",
       "      <td>0</td>\n",
       "      <td>1</td>\n",
       "      <td>0</td>\n",
       "      <td>0</td>\n",
       "      <td>ปทุมธานี</td>\n",
       "    </tr>\n",
       "    <tr>\n",
       "      <th>...</th>\n",
       "      <td>...</td>\n",
       "      <td>...</td>\n",
       "      <td>...</td>\n",
       "      <td>...</td>\n",
       "      <td>...</td>\n",
       "      <td>...</td>\n",
       "      <td>...</td>\n",
       "      <td>...</td>\n",
       "      <td>...</td>\n",
       "      <td>...</td>\n",
       "      <td>...</td>\n",
       "      <td>...</td>\n",
       "      <td>...</td>\n",
       "      <td>...</td>\n",
       "      <td>...</td>\n",
       "      <td>...</td>\n",
       "      <td>...</td>\n",
       "    </tr>\n",
       "    <tr>\n",
       "      <th>326</th>\n",
       "      <td>C-0327</td>\n",
       "      <td>male</td>\n",
       "      <td>1932-01-15</td>\n",
       "      <td>179.0</td>\n",
       "      <td>170/56, ไทรน้อย, นนทบุรี</td>\n",
       "      <td>50199.0</td>\n",
       "      <td>retired</td>\n",
       "      <td>31</td>\n",
       "      <td>loyal</td>\n",
       "      <td>90</td>\n",
       "      <td>senior</td>\n",
       "      <td>10.823750</td>\n",
       "      <td>1</td>\n",
       "      <td>0</td>\n",
       "      <td>0</td>\n",
       "      <td>1</td>\n",
       "      <td>นนทบุรี</td>\n",
       "    </tr>\n",
       "    <tr>\n",
       "      <th>401</th>\n",
       "      <td>C-0402</td>\n",
       "      <td>male</td>\n",
       "      <td>1931-03-12</td>\n",
       "      <td>179.0</td>\n",
       "      <td>398/10, หนองแขม, กรุงเทพ</td>\n",
       "      <td>20816.0</td>\n",
       "      <td>retired</td>\n",
       "      <td>158</td>\n",
       "      <td>loyal</td>\n",
       "      <td>91</td>\n",
       "      <td>senior</td>\n",
       "      <td>9.943477</td>\n",
       "      <td>1</td>\n",
       "      <td>0</td>\n",
       "      <td>0</td>\n",
       "      <td>1</td>\n",
       "      <td>กรุงเทพ</td>\n",
       "    </tr>\n",
       "    <tr>\n",
       "      <th>141</th>\n",
       "      <td>C-0142</td>\n",
       "      <td>female</td>\n",
       "      <td>1931-07-10</td>\n",
       "      <td>179.0</td>\n",
       "      <td>350/37, ภาษีเจริญ, กรุงเทพ</td>\n",
       "      <td>35244.0</td>\n",
       "      <td>retired</td>\n",
       "      <td>194</td>\n",
       "      <td>loyal</td>\n",
       "      <td>91</td>\n",
       "      <td>senior</td>\n",
       "      <td>10.470051</td>\n",
       "      <td>0</td>\n",
       "      <td>0</td>\n",
       "      <td>1</td>\n",
       "      <td>0</td>\n",
       "      <td>กรุงเทพ</td>\n",
       "    </tr>\n",
       "    <tr>\n",
       "      <th>584</th>\n",
       "      <td>C-0585</td>\n",
       "      <td>male</td>\n",
       "      <td>1931-02-15</td>\n",
       "      <td>179.0</td>\n",
       "      <td>107/23, บางบัวทอง, นนทบุรี</td>\n",
       "      <td>37288.0</td>\n",
       "      <td>retired</td>\n",
       "      <td>109</td>\n",
       "      <td>loyal</td>\n",
       "      <td>91</td>\n",
       "      <td>senior</td>\n",
       "      <td>10.526427</td>\n",
       "      <td>1</td>\n",
       "      <td>0</td>\n",
       "      <td>0</td>\n",
       "      <td>1</td>\n",
       "      <td>นนทบุรี</td>\n",
       "    </tr>\n",
       "    <tr>\n",
       "      <th>803</th>\n",
       "      <td>C-0804</td>\n",
       "      <td>male</td>\n",
       "      <td>1931-07-26</td>\n",
       "      <td>179.0</td>\n",
       "      <td>98/65, ดุสิต, กรุงเทพ</td>\n",
       "      <td>20446.0</td>\n",
       "      <td>retired</td>\n",
       "      <td>133</td>\n",
       "      <td>loyal</td>\n",
       "      <td>91</td>\n",
       "      <td>senior</td>\n",
       "      <td>9.925543</td>\n",
       "      <td>1</td>\n",
       "      <td>0</td>\n",
       "      <td>0</td>\n",
       "      <td>1</td>\n",
       "      <td>กรุงเทพ</td>\n",
       "    </tr>\n",
       "  </tbody>\n",
       "</table>\n",
       "<p>900 rows × 17 columns</p>\n",
       "</div>"
      ],
      "text/plain": [
       "    cust_id  gender      birth  height                     address   salary  \\\n",
       "841  C-0842    male 2005-07-02   179.0    108/60, ราชเทวี, กรุงเทพ  24448.0   \n",
       "751  C-0752    male 2005-08-12   179.0    307/36, จตุจักร, กรุงเทพ  16946.0   \n",
       "323  C-0324  female 2005-06-24   179.0     14/24, ปทุมวัน, กรุงเทพ  24637.0   \n",
       "138  C-0139    male 2005-02-23   179.0      466/20, ดอนตูม, นครปฐม  29106.0   \n",
       "624  C-0625  female 2005-07-23   179.0   263/65, ลำลูกกา, ปทุมธานี  30883.0   \n",
       "..      ...     ...        ...     ...                         ...      ...   \n",
       "326  C-0327    male 1932-01-15   179.0    170/56, ไทรน้อย, นนทบุรี  50199.0   \n",
       "401  C-0402    male 1931-03-12   179.0    398/10, หนองแขม, กรุงเทพ  20816.0   \n",
       "141  C-0142  female 1931-07-10   179.0  350/37, ภาษีเจริญ, กรุงเทพ  35244.0   \n",
       "584  C-0585    male 1931-02-15   179.0  107/23, บางบัวทอง, นนทบุรี  37288.0   \n",
       "803  C-0804    male 1931-07-26   179.0       98/65, ดุสิต, กรุงเทพ  20446.0   \n",
       "\n",
       "         job  last_tx  churn  age age_group  salary_log  gender_code  \\\n",
       "841  student       70  loyal   17      teen   10.104304            1   \n",
       "751  student      101  loyal   17      teen    9.737787            1   \n",
       "323  student       85  loyal   17      teen   10.112005            0   \n",
       "138  student      130  loyal   17      teen   10.278700            1   \n",
       "624  student      149  loyal   17      teen   10.337961            0   \n",
       "..       ...      ...    ...  ...       ...         ...          ...   \n",
       "326  retired       31  loyal   90    senior   10.823750            1   \n",
       "401  retired      158  loyal   91    senior    9.943477            1   \n",
       "141  retired      194  loyal   91    senior   10.470051            0   \n",
       "584  retired      109  loyal   91    senior   10.526427            1   \n",
       "803  retired      133  loyal   91    senior    9.925543            1   \n",
       "\n",
       "     payment_cash  payment_cheque  payment_credit      city  \n",
       "841             0               0               1   กรุงเทพ  \n",
       "751             0               0               1   กรุงเทพ  \n",
       "323             0               0               1   กรุงเทพ  \n",
       "138             0               0               1    นครปฐม  \n",
       "624             1               0               0  ปทุมธานี  \n",
       "..            ...             ...             ...       ...  \n",
       "326             0               0               1   นนทบุรี  \n",
       "401             0               0               1   กรุงเทพ  \n",
       "141             0               1               0   กรุงเทพ  \n",
       "584             0               0               1   นนทบุรี  \n",
       "803             0               0               1   กรุงเทพ  \n",
       "\n",
       "[900 rows x 17 columns]"
      ]
     },
     "execution_count": 92,
     "metadata": {},
     "output_type": "execute_result"
    }
   ],
   "source": [
    "df"
   ]
  },
  {
   "cell_type": "markdown",
   "metadata": {},
   "source": [
    "$$\n",
    "Happy Ending\n",
    "$$"
   ]
  }
 ],
 "metadata": {
  "kernelspec": {
   "display_name": "Python 3.9.2 64-bit",
   "language": "python",
   "name": "python3"
  },
  "language_info": {
   "codemirror_mode": {
    "name": "ipython",
    "version": 3
   },
   "file_extension": ".py",
   "mimetype": "text/x-python",
   "name": "python",
   "nbconvert_exporter": "python",
   "pygments_lexer": "ipython3",
   "version": "3.9.2"
  },
  "orig_nbformat": 4,
  "vscode": {
   "interpreter": {
    "hash": "44503fabc517f282cadb002b8db49156e9fb3f635c8a12f939a7312cd52e1bdc"
   }
  }
 },
 "nbformat": 4,
 "nbformat_minor": 2
}
