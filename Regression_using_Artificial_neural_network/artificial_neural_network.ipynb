{
 "cells": [
  {
   "attachments": {},
   "cell_type": "markdown",
   "metadata": {},
   "source": [
    "## Regression Using Artificial Neural Network"
   ]
  },
  {
   "attachments": {},
   "cell_type": "markdown",
   "metadata": {},
   "source": [
    "### Importing The Libraries"
   ]
  },
  {
   "cell_type": "code",
   "execution_count": 1,
   "metadata": {},
   "outputs": [],
   "source": [
    "import numpy as np\n",
    "import pandas as pd\n",
    "import tensorflow as tf"
   ]
  },
  {
   "cell_type": "code",
   "execution_count": 2,
   "metadata": {},
   "outputs": [
    {
     "data": {
      "text/plain": [
       "'2.6.0'"
      ]
     },
     "execution_count": 2,
     "metadata": {},
     "output_type": "execute_result"
    }
   ],
   "source": [
    "tf.__version__"
   ]
  },
  {
   "attachments": {},
   "cell_type": "markdown",
   "metadata": {},
   "source": [
    "### Part 1 - Data Prepocessing"
   ]
  },
  {
   "attachments": {},
   "cell_type": "markdown",
   "metadata": {},
   "source": [
    "#### Importing the dataset"
   ]
  },
  {
   "cell_type": "code",
   "execution_count": 4,
   "metadata": {},
   "outputs": [],
   "source": [
    "dataset = pd.read_excel('Folds5x2_pp.xlsx')\n",
    "X = dataset.iloc[:, :-1].values\n",
    "y = dataset.iloc[:, -1].values"
   ]
  },
  {
   "cell_type": "code",
   "execution_count": 5,
   "metadata": {},
   "outputs": [
    {
     "data": {
      "text/plain": [
       "array([[  14.96,   41.76, 1024.07,   73.17],\n",
       "       [  25.18,   62.96, 1020.04,   59.08],\n",
       "       [   5.11,   39.4 , 1012.16,   92.14],\n",
       "       ...,\n",
       "       [  31.32,   74.33, 1012.92,   36.48],\n",
       "       [  24.48,   69.45, 1013.86,   62.39],\n",
       "       [  21.6 ,   62.52, 1017.23,   67.87]])"
      ]
     },
     "execution_count": 5,
     "metadata": {},
     "output_type": "execute_result"
    }
   ],
   "source": [
    "X"
   ]
  },
  {
   "cell_type": "code",
   "execution_count": 6,
   "metadata": {},
   "outputs": [
    {
     "data": {
      "text/plain": [
       "array([463.26, 444.37, 488.56, ..., 429.57, 435.74, 453.28])"
      ]
     },
     "execution_count": 6,
     "metadata": {},
     "output_type": "execute_result"
    }
   ],
   "source": [
    "y"
   ]
  },
  {
   "attachments": {},
   "cell_type": "markdown",
   "metadata": {},
   "source": [
    "#### Splitting the dataset into the test set"
   ]
  },
  {
   "cell_type": "code",
   "execution_count": 10,
   "metadata": {},
   "outputs": [],
   "source": [
    "from sklearn.model_selection import train_test_split\n",
    "X_train, X_test, y_train, y_test = train_test_split(X, y, test_size=0.2, random_state=0)"
   ]
  },
  {
   "attachments": {},
   "cell_type": "markdown",
   "metadata": {},
   "source": [
    "### Part 2 - Building the ANN"
   ]
  },
  {
   "attachments": {},
   "cell_type": "markdown",
   "metadata": {},
   "source": [
    "#### Initializing the ANN"
   ]
  },
  {
   "cell_type": "code",
   "execution_count": 11,
   "metadata": {},
   "outputs": [],
   "source": [
    "ann = tf.keras.models.Sequential()"
   ]
  },
  {
   "attachments": {},
   "cell_type": "markdown",
   "metadata": {},
   "source": [
    "#### Adding the input layer and the first hidden layer"
   ]
  },
  {
   "cell_type": "code",
   "execution_count": 12,
   "metadata": {},
   "outputs": [],
   "source": [
    "ann.add(tf.keras.layers.Dense(units=6, activation='relu'))"
   ]
  },
  {
   "attachments": {},
   "cell_type": "markdown",
   "metadata": {},
   "source": [
    "#### Adding the second hidden layer"
   ]
  },
  {
   "cell_type": "code",
   "execution_count": 13,
   "metadata": {},
   "outputs": [],
   "source": [
    "ann.add(tf.keras.layers.Dense(units=6, activation='relu'))"
   ]
  },
  {
   "attachments": {},
   "cell_type": "markdown",
   "metadata": {},
   "source": [
    "#### Adding the output layer"
   ]
  },
  {
   "cell_type": "code",
   "execution_count": 14,
   "metadata": {},
   "outputs": [],
   "source": [
    "ann.add(tf.keras.layers.Dense(units=1))"
   ]
  },
  {
   "attachments": {},
   "cell_type": "markdown",
   "metadata": {},
   "source": [
    "### Part 3 - Training the ANN"
   ]
  },
  {
   "attachments": {},
   "cell_type": "markdown",
   "metadata": {},
   "source": [
    "#### Compiling the ANN"
   ]
  },
  {
   "cell_type": "code",
   "execution_count": 15,
   "metadata": {},
   "outputs": [],
   "source": [
    "ann.compile(optimizer='adam', loss='mean_squared_error')"
   ]
  },
  {
   "attachments": {},
   "cell_type": "markdown",
   "metadata": {},
   "source": [
    "#### Training the ANN model on the Training set"
   ]
  },
  {
   "cell_type": "code",
   "execution_count": 16,
   "metadata": {},
   "outputs": [
    {
     "name": "stdout",
     "output_type": "stream",
     "text": [
      "Epoch 1/100\n",
      "240/240 [==============================] - 1s 1ms/step - loss: 2100.5393\n",
      "Epoch 2/100\n",
      "240/240 [==============================] - 0s 1ms/step - loss: 185.2717\n",
      "Epoch 3/100\n",
      "240/240 [==============================] - 0s 1ms/step - loss: 172.2544\n",
      "Epoch 4/100\n",
      "240/240 [==============================] - 0s 1ms/step - loss: 157.2300\n",
      "Epoch 5/100\n",
      "240/240 [==============================] - 0s 1ms/step - loss: 141.5777\n",
      "Epoch 6/100\n",
      "240/240 [==============================] - 0s 1ms/step - loss: 125.6470\n",
      "Epoch 7/100\n",
      "240/240 [==============================] - 0s 1ms/step - loss: 110.3036\n",
      "Epoch 8/100\n",
      "240/240 [==============================] - 0s 1ms/step - loss: 96.1797\n",
      "Epoch 9/100\n",
      "240/240 [==============================] - 0s 1ms/step - loss: 83.3157\n",
      "Epoch 10/100\n",
      "240/240 [==============================] - 0s 1ms/step - loss: 71.8971\n",
      "Epoch 11/100\n",
      "240/240 [==============================] - 0s 1ms/step - loss: 61.4299\n",
      "Epoch 12/100\n",
      "240/240 [==============================] - 0s 1ms/step - loss: 52.9951\n",
      "Epoch 13/100\n",
      "240/240 [==============================] - 0s 1ms/step - loss: 46.3810\n",
      "Epoch 14/100\n",
      "240/240 [==============================] - 0s 1ms/step - loss: 41.6997\n",
      "Epoch 15/100\n",
      "240/240 [==============================] - 0s 1ms/step - loss: 37.7160\n",
      "Epoch 16/100\n",
      "240/240 [==============================] - 0s 1ms/step - loss: 34.8793\n",
      "Epoch 17/100\n",
      "240/240 [==============================] - 0s 1ms/step - loss: 32.9551\n",
      "Epoch 18/100\n",
      "240/240 [==============================] - 0s 1ms/step - loss: 31.6191\n",
      "Epoch 19/100\n",
      "240/240 [==============================] - 0s 1ms/step - loss: 30.2944\n",
      "Epoch 20/100\n",
      "240/240 [==============================] - 0s 1ms/step - loss: 29.6439\n",
      "Epoch 21/100\n",
      "240/240 [==============================] - 0s 1ms/step - loss: 29.2023\n",
      "Epoch 22/100\n",
      "240/240 [==============================] - 0s 1ms/step - loss: 28.8027\n",
      "Epoch 23/100\n",
      "240/240 [==============================] - 0s 1ms/step - loss: 28.3448\n",
      "Epoch 24/100\n",
      "240/240 [==============================] - 0s 1ms/step - loss: 28.6296\n",
      "Epoch 25/100\n",
      "240/240 [==============================] - 0s 1ms/step - loss: 28.4650\n",
      "Epoch 26/100\n",
      "240/240 [==============================] - 0s 1ms/step - loss: 28.0686\n",
      "Epoch 27/100\n",
      "240/240 [==============================] - 0s 1ms/step - loss: 28.0005\n",
      "Epoch 28/100\n",
      "240/240 [==============================] - 0s 1ms/step - loss: 27.6540\n",
      "Epoch 29/100\n",
      "240/240 [==============================] - 0s 1ms/step - loss: 27.7893\n",
      "Epoch 30/100\n",
      "240/240 [==============================] - 0s 983us/step - loss: 28.48840s - loss:\n",
      "Epoch 31/100\n",
      "240/240 [==============================] - 0s 992us/step - loss: 28.0143\n",
      "Epoch 32/100\n",
      "240/240 [==============================] - 0s 946us/step - loss: 27.4271\n",
      "Epoch 33/100\n",
      "240/240 [==============================] - 0s 891us/step - loss: 27.3168\n",
      "Epoch 34/100\n",
      "240/240 [==============================] - 0s 833us/step - loss: 27.3785\n",
      "Epoch 35/100\n",
      "240/240 [==============================] - 0s 774us/step - loss: 27.2947\n",
      "Epoch 36/100\n",
      "240/240 [==============================] - 0s 808us/step - loss: 27.4214\n",
      "Epoch 37/100\n",
      "240/240 [==============================] - 0s 817us/step - loss: 27.2101\n",
      "Epoch 38/100\n",
      "240/240 [==============================] - 0s 842us/step - loss: 27.1968\n",
      "Epoch 39/100\n",
      "240/240 [==============================] - 0s 821us/step - loss: 26.6355\n",
      "Epoch 40/100\n",
      "240/240 [==============================] - 0s 962us/step - loss: 27.2902\n",
      "Epoch 41/100\n",
      "240/240 [==============================] - 0s 975us/step - loss: 26.6612\n",
      "Epoch 42/100\n",
      "240/240 [==============================] - 0s 971us/step - loss: 27.4029\n",
      "Epoch 43/100\n",
      "240/240 [==============================] - 0s 831us/step - loss: 27.3785\n",
      "Epoch 44/100\n",
      "240/240 [==============================] - 0s 883us/step - loss: 26.5739\n",
      "Epoch 45/100\n",
      "240/240 [==============================] - 0s 883us/step - loss: 26.5612\n",
      "Epoch 46/100\n",
      "240/240 [==============================] - 0s 871us/step - loss: 27.1406\n",
      "Epoch 47/100\n",
      "240/240 [==============================] - 0s 1ms/step - loss: 26.7641\n",
      "Epoch 48/100\n",
      "240/240 [==============================] - 0s 837us/step - loss: 27.2887\n",
      "Epoch 49/100\n",
      "240/240 [==============================] - 0s 833us/step - loss: 26.7190\n",
      "Epoch 50/100\n",
      "240/240 [==============================] - 0s 866us/step - loss: 26.7721\n",
      "Epoch 51/100\n",
      "240/240 [==============================] - 0s 1ms/step - loss: 27.0128\n",
      "Epoch 52/100\n",
      "240/240 [==============================] - 0s 808us/step - loss: 26.8525\n",
      "Epoch 53/100\n",
      "240/240 [==============================] - 0s 941us/step - loss: 26.9289\n",
      "Epoch 54/100\n",
      "240/240 [==============================] - 0s 925us/step - loss: 27.2024\n",
      "Epoch 55/100\n",
      "240/240 [==============================] - 0s 854us/step - loss: 27.4203\n",
      "Epoch 56/100\n",
      "240/240 [==============================] - 0s 854us/step - loss: 26.5675\n",
      "Epoch 57/100\n",
      "240/240 [==============================] - 0s 883us/step - loss: 26.8674\n",
      "Epoch 58/100\n",
      "240/240 [==============================] - 0s 887us/step - loss: 26.3488\n",
      "Epoch 59/100\n",
      "240/240 [==============================] - 0s 941us/step - loss: 26.5592\n",
      "Epoch 60/100\n",
      "240/240 [==============================] - 0s 870us/step - loss: 27.0193\n",
      "Epoch 61/100\n",
      "240/240 [==============================] - 0s 803us/step - loss: 26.4387\n",
      "Epoch 62/100\n",
      "240/240 [==============================] - 0s 791us/step - loss: 26.6327\n",
      "Epoch 63/100\n",
      "240/240 [==============================] - 0s 870us/step - loss: 26.7586\n",
      "Epoch 64/100\n",
      "240/240 [==============================] - 0s 934us/step - loss: 26.9449\n",
      "Epoch 65/100\n",
      "240/240 [==============================] - 0s 933us/step - loss: 27.0756\n",
      "Epoch 66/100\n",
      "240/240 [==============================] - 0s 841us/step - loss: 26.7591\n",
      "Epoch 67/100\n",
      "240/240 [==============================] - 0s 871us/step - loss: 26.9185\n",
      "Epoch 68/100\n",
      "240/240 [==============================] - 0s 829us/step - loss: 26.7940\n",
      "Epoch 69/100\n",
      "240/240 [==============================] - 0s 812us/step - loss: 26.2803\n",
      "Epoch 70/100\n",
      "240/240 [==============================] - 0s 808us/step - loss: 26.9148\n",
      "Epoch 71/100\n",
      "240/240 [==============================] - 0s 778us/step - loss: 27.0780\n",
      "Epoch 72/100\n",
      "240/240 [==============================] - 0s 799us/step - loss: 26.8175\n",
      "Epoch 73/100\n",
      "240/240 [==============================] - 0s 795us/step - loss: 26.3800\n",
      "Epoch 74/100\n",
      "240/240 [==============================] - 0s 803us/step - loss: 26.9694\n",
      "Epoch 75/100\n",
      "240/240 [==============================] - 0s 841us/step - loss: 26.7103\n",
      "Epoch 76/100\n",
      "240/240 [==============================] - 0s 829us/step - loss: 27.6425\n",
      "Epoch 77/100\n",
      "240/240 [==============================] - 0s 849us/step - loss: 27.3964\n",
      "Epoch 78/100\n",
      "240/240 [==============================] - 0s 841us/step - loss: 26.9173\n",
      "Epoch 79/100\n",
      "240/240 [==============================] - 0s 841us/step - loss: 26.8866\n",
      "Epoch 80/100\n",
      "240/240 [==============================] - 0s 862us/step - loss: 27.3849\n",
      "Epoch 81/100\n",
      "240/240 [==============================] - 0s 917us/step - loss: 26.5396\n",
      "Epoch 82/100\n",
      "240/240 [==============================] - 0s 976us/step - loss: 26.7064\n",
      "Epoch 83/100\n",
      "240/240 [==============================] - 0s 958us/step - loss: 26.8269\n",
      "Epoch 84/100\n",
      "240/240 [==============================] - 0s 1ms/step - loss: 26.6849\n",
      "Epoch 85/100\n",
      "240/240 [==============================] - 0s 1ms/step - loss: 26.3687\n",
      "Epoch 86/100\n",
      "240/240 [==============================] - 0s 1ms/step - loss: 26.8232\n",
      "Epoch 87/100\n",
      "240/240 [==============================] - 0s 1ms/step - loss: 27.2783\n",
      "Epoch 88/100\n",
      "240/240 [==============================] - 0s 1ms/step - loss: 26.5076\n",
      "Epoch 89/100\n",
      "240/240 [==============================] - 0s 1ms/step - loss: 26.8079\n",
      "Epoch 90/100\n",
      "240/240 [==============================] - 0s 1ms/step - loss: 27.2755\n",
      "Epoch 91/100\n",
      "240/240 [==============================] - 0s 1ms/step - loss: 26.6114\n",
      "Epoch 92/100\n",
      "240/240 [==============================] - 0s 1ms/step - loss: 27.2921\n",
      "Epoch 93/100\n",
      "240/240 [==============================] - 0s 1ms/step - loss: 26.4999\n",
      "Epoch 94/100\n",
      "240/240 [==============================] - 0s 1ms/step - loss: 27.5729\n",
      "Epoch 95/100\n",
      "240/240 [==============================] - 0s 1ms/step - loss: 26.9327\n",
      "Epoch 96/100\n",
      "240/240 [==============================] - 0s 1ms/step - loss: 26.6932\n",
      "Epoch 97/100\n",
      "240/240 [==============================] - 0s 1ms/step - loss: 26.9878\n",
      "Epoch 98/100\n",
      "240/240 [==============================] - 0s 1ms/step - loss: 27.0777\n",
      "Epoch 99/100\n",
      "240/240 [==============================] - 0s 1ms/step - loss: 26.9274\n",
      "Epoch 100/100\n",
      "240/240 [==============================] - 0s 1ms/step - loss: 26.8047\n"
     ]
    },
    {
     "data": {
      "text/plain": [
       "<keras.callbacks.History at 0x1a88715eb50>"
      ]
     },
     "execution_count": 16,
     "metadata": {},
     "output_type": "execute_result"
    }
   ],
   "source": [
    "ann.fit(X_train, y_train, batch_size= 32, epochs=100)"
   ]
  },
  {
   "attachments": {},
   "cell_type": "markdown",
   "metadata": {},
   "source": [
    "#### Predicting the results of the test set"
   ]
  },
  {
   "cell_type": "code",
   "execution_count": 17,
   "metadata": {},
   "outputs": [
    {
     "name": "stdout",
     "output_type": "stream",
     "text": [
      "[[432.35 431.23]\n",
      " [463.4  460.01]\n",
      " [466.89 461.14]\n",
      " ...\n",
      " [474.14 473.26]\n",
      " [440.85 438.  ]\n",
      " [460.09 463.28]]\n"
     ]
    }
   ],
   "source": [
    "y_pred = ann.predict(X_test)\n",
    "np.set_printoptions(precision=2)\n",
    "print(np.concatenate((y_pred.reshape(len(y_pred),1), y_test.reshape(len(y_test),1)),1))\t"
   ]
  }
 ],
 "metadata": {
  "kernelspec": {
   "display_name": "Python 3",
   "language": "python",
   "name": "python3"
  },
  "language_info": {
   "codemirror_mode": {
    "name": "ipython",
    "version": 3
   },
   "file_extension": ".py",
   "mimetype": "text/x-python",
   "name": "python",
   "nbconvert_exporter": "python",
   "pygments_lexer": "ipython3",
   "version": "3.9.2"
  },
  "orig_nbformat": 4,
  "vscode": {
   "interpreter": {
    "hash": "44503fabc517f282cadb002b8db49156e9fb3f635c8a12f939a7312cd52e1bdc"
   }
  }
 },
 "nbformat": 4,
 "nbformat_minor": 2
}
