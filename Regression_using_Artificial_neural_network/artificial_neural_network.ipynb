{
 "cells": [
  {
   "attachments": {},
   "cell_type": "markdown",
   "metadata": {},
   "source": [
    "## Regression Using Artificial Neural Network"
   ]
  },
  {
   "attachments": {},
   "cell_type": "markdown",
   "metadata": {},
   "source": [
    "### Importing The Libraries"
   ]
  },
  {
   "cell_type": "code",
   "execution_count": 1,
   "metadata": {},
   "outputs": [],
   "source": [
    "import numpy as np\n",
    "import pandas as pd\n",
    "import tensorflow as tf"
   ]
  },
  {
   "cell_type": "code",
   "execution_count": 2,
   "metadata": {},
   "outputs": [
    {
     "data": {
      "text/plain": [
       "'2.6.0'"
      ]
     },
     "execution_count": 2,
     "metadata": {},
     "output_type": "execute_result"
    }
   ],
   "source": [
    "tf.__version__"
   ]
  },
  {
   "attachments": {},
   "cell_type": "markdown",
   "metadata": {},
   "source": [
    "### Part 1 - Data Prepocessing"
   ]
  },
  {
   "attachments": {},
   "cell_type": "markdown",
   "metadata": {},
   "source": [
    "#### Importing the dataset"
   ]
  },
  {
   "cell_type": "code",
   "execution_count": 3,
   "metadata": {},
   "outputs": [],
   "source": [
    "dataset = pd.read_excel('Folds5x2_pp.xlsx')\n",
    "X = dataset.iloc[:, :-1].values\n",
    "y = dataset.iloc[:, -1].values"
   ]
  },
  {
   "cell_type": "code",
   "execution_count": 4,
   "metadata": {},
   "outputs": [
    {
     "data": {
      "text/plain": [
       "array([[  14.96,   41.76, 1024.07,   73.17],\n",
       "       [  25.18,   62.96, 1020.04,   59.08],\n",
       "       [   5.11,   39.4 , 1012.16,   92.14],\n",
       "       ...,\n",
       "       [  31.32,   74.33, 1012.92,   36.48],\n",
       "       [  24.48,   69.45, 1013.86,   62.39],\n",
       "       [  21.6 ,   62.52, 1017.23,   67.87]])"
      ]
     },
     "execution_count": 4,
     "metadata": {},
     "output_type": "execute_result"
    }
   ],
   "source": [
    "X"
   ]
  },
  {
   "cell_type": "code",
   "execution_count": 5,
   "metadata": {},
   "outputs": [
    {
     "data": {
      "text/plain": [
       "array([463.26, 444.37, 488.56, ..., 429.57, 435.74, 453.28])"
      ]
     },
     "execution_count": 5,
     "metadata": {},
     "output_type": "execute_result"
    }
   ],
   "source": [
    "y"
   ]
  },
  {
   "attachments": {},
   "cell_type": "markdown",
   "metadata": {},
   "source": [
    "#### Splitting the dataset into the test set"
   ]
  },
  {
   "cell_type": "code",
   "execution_count": 6,
   "metadata": {},
   "outputs": [],
   "source": [
    "from sklearn.model_selection import train_test_split\n",
    "X_train, X_test, y_train, y_test = train_test_split(X, y, test_size=0.2, random_state=0)"
   ]
  },
  {
   "attachments": {},
   "cell_type": "markdown",
   "metadata": {},
   "source": [
    "### Part 2 - Building the ANN"
   ]
  },
  {
   "attachments": {},
   "cell_type": "markdown",
   "metadata": {},
   "source": [
    "#### Initializing the ANN"
   ]
  },
  {
   "cell_type": "code",
   "execution_count": 7,
   "metadata": {},
   "outputs": [],
   "source": [
    "ann = tf.keras.models.Sequential()"
   ]
  },
  {
   "attachments": {},
   "cell_type": "markdown",
   "metadata": {},
   "source": [
    "#### Adding the input layer and the first hidden layer"
   ]
  },
  {
   "cell_type": "code",
   "execution_count": 8,
   "metadata": {},
   "outputs": [],
   "source": [
    "ann.add(tf.keras.layers.Dense(units=6, activation='relu'))"
   ]
  },
  {
   "attachments": {},
   "cell_type": "markdown",
   "metadata": {},
   "source": [
    "#### Adding the second hidden layer"
   ]
  },
  {
   "cell_type": "code",
   "execution_count": 9,
   "metadata": {},
   "outputs": [],
   "source": [
    "ann.add(tf.keras.layers.Dense(units=6, activation='relu'))"
   ]
  },
  {
   "attachments": {},
   "cell_type": "markdown",
   "metadata": {},
   "source": [
    "#### Adding the output layer"
   ]
  },
  {
   "cell_type": "code",
   "execution_count": 10,
   "metadata": {},
   "outputs": [],
   "source": [
    "ann.add(tf.keras.layers.Dense(units=1))"
   ]
  },
  {
   "attachments": {},
   "cell_type": "markdown",
   "metadata": {},
   "source": [
    "### Part 3 - Training the ANN"
   ]
  },
  {
   "attachments": {},
   "cell_type": "markdown",
   "metadata": {},
   "source": [
    "#### Compiling the ANN"
   ]
  },
  {
   "cell_type": "code",
   "execution_count": 11,
   "metadata": {},
   "outputs": [],
   "source": [
    "ann.compile(optimizer='adam', loss='mean_squared_error')"
   ]
  },
  {
   "attachments": {},
   "cell_type": "markdown",
   "metadata": {},
   "source": [
    "#### Training the ANN model on the Training set"
   ]
  },
  {
   "cell_type": "code",
   "execution_count": 12,
   "metadata": {},
   "outputs": [
    {
     "name": "stdout",
     "output_type": "stream",
     "text": [
      "Epoch 1/100\n",
      "240/240 [==============================] - 1s 804us/step - loss: 44561.8672\n",
      "Epoch 2/100\n",
      "240/240 [==============================] - 0s 728us/step - loss: 510.6857\n",
      "Epoch 3/100\n",
      "240/240 [==============================] - 0s 779us/step - loss: 474.3326\n",
      "Epoch 4/100\n",
      "240/240 [==============================] - 0s 792us/step - loss: 460.9272\n",
      "Epoch 5/100\n",
      "240/240 [==============================] - 0s 757us/step - loss: 444.6541 0s - loss: 437.0\n",
      "Epoch 6/100\n",
      "240/240 [==============================] - 0s 766us/step - loss: 426.2880\n",
      "Epoch 7/100\n",
      "240/240 [==============================] - 0s 799us/step - loss: 406.5146\n",
      "Epoch 8/100\n",
      "240/240 [==============================] - 0s 1000us/step - loss: 385.2724\n",
      "Epoch 9/100\n",
      "240/240 [==============================] - 0s 795us/step - loss: 362.2424\n",
      "Epoch 10/100\n",
      "240/240 [==============================] - 0s 791us/step - loss: 338.5001\n",
      "Epoch 11/100\n",
      "240/240 [==============================] - 0s 778us/step - loss: 314.2629\n",
      "Epoch 12/100\n",
      "240/240 [==============================] - 0s 745us/step - loss: 289.1390\n",
      "Epoch 13/100\n",
      "240/240 [==============================] - 0s 749us/step - loss: 263.8223\n",
      "Epoch 14/100\n",
      "240/240 [==============================] - 0s 764us/step - loss: 239.5519\n",
      "Epoch 15/100\n",
      "240/240 [==============================] - 0s 895us/step - loss: 215.6838\n",
      "Epoch 16/100\n",
      "240/240 [==============================] - 0s 774us/step - loss: 192.8877\n",
      "Epoch 17/100\n",
      "240/240 [==============================] - 0s 751us/step - loss: 172.9877\n",
      "Epoch 18/100\n",
      "240/240 [==============================] - 0s 795us/step - loss: 152.1201\n",
      "Epoch 19/100\n",
      "240/240 [==============================] - 0s 839us/step - loss: 133.9261\n",
      "Epoch 20/100\n",
      "240/240 [==============================] - 0s 753us/step - loss: 117.9375\n",
      "Epoch 21/100\n",
      "240/240 [==============================] - 0s 906us/step - loss: 103.2755\n",
      "Epoch 22/100\n",
      "240/240 [==============================] - 0s 780us/step - loss: 90.3011\n",
      "Epoch 23/100\n",
      "240/240 [==============================] - 0s 813us/step - loss: 79.4382\n",
      "Epoch 24/100\n",
      "240/240 [==============================] - 0s 824us/step - loss: 69.9303\n",
      "Epoch 25/100\n",
      "240/240 [==============================] - 0s 782us/step - loss: 61.2450\n",
      "Epoch 26/100\n",
      "240/240 [==============================] - 0s 771us/step - loss: 54.2649\n",
      "Epoch 27/100\n",
      "240/240 [==============================] - 0s 755us/step - loss: 48.4123\n",
      "Epoch 28/100\n",
      "240/240 [==============================] - 0s 732us/step - loss: 43.3014\n",
      "Epoch 29/100\n",
      "240/240 [==============================] - 0s 796us/step - loss: 39.5005\n",
      "Epoch 30/100\n",
      "240/240 [==============================] - 0s 922us/step - loss: 36.4632\n",
      "Epoch 31/100\n",
      "240/240 [==============================] - 0s 808us/step - loss: 34.3225\n",
      "Epoch 32/100\n",
      "240/240 [==============================] - 0s 755us/step - loss: 32.6055\n",
      "Epoch 33/100\n",
      "240/240 [==============================] - 0s 682us/step - loss: 31.4160\n",
      "Epoch 34/100\n",
      "240/240 [==============================] - 0s 695us/step - loss: 30.7012\n",
      "Epoch 35/100\n",
      "240/240 [==============================] - 0s 722us/step - loss: 29.9971\n",
      "Epoch 36/100\n",
      "240/240 [==============================] - 0s 708us/step - loss: 29.5131\n",
      "Epoch 37/100\n",
      "240/240 [==============================] - 0s 692us/step - loss: 29.1309\n",
      "Epoch 38/100\n",
      "240/240 [==============================] - 0s 674us/step - loss: 29.2991\n",
      "Epoch 39/100\n",
      "240/240 [==============================] - 0s 695us/step - loss: 29.0734\n",
      "Epoch 40/100\n",
      "240/240 [==============================] - 0s 736us/step - loss: 28.3407\n",
      "Epoch 41/100\n",
      "240/240 [==============================] - 0s 678us/step - loss: 28.2587\n",
      "Epoch 42/100\n",
      "240/240 [==============================] - 0s 652us/step - loss: 28.7243\n",
      "Epoch 43/100\n",
      "240/240 [==============================] - 0s 754us/step - loss: 28.2752\n",
      "Epoch 44/100\n",
      "240/240 [==============================] - 0s 685us/step - loss: 27.9086\n",
      "Epoch 45/100\n",
      "240/240 [==============================] - 0s 669us/step - loss: 27.4120\n",
      "Epoch 46/100\n",
      "240/240 [==============================] - 0s 653us/step - loss: 27.3485\n",
      "Epoch 47/100\n",
      "240/240 [==============================] - 0s 699us/step - loss: 27.5073\n",
      "Epoch 48/100\n",
      "240/240 [==============================] - 0s 741us/step - loss: 27.4553\n",
      "Epoch 49/100\n",
      "240/240 [==============================] - 0s 703us/step - loss: 27.0451\n",
      "Epoch 50/100\n",
      "240/240 [==============================] - 0s 681us/step - loss: 26.9833\n",
      "Epoch 51/100\n",
      "240/240 [==============================] - 0s 715us/step - loss: 27.0755\n",
      "Epoch 52/100\n",
      "240/240 [==============================] - 0s 918us/step - loss: 27.1394\n",
      "Epoch 53/100\n",
      "240/240 [==============================] - 0s 699us/step - loss: 26.9770\n",
      "Epoch 54/100\n",
      "240/240 [==============================] - 0s 669us/step - loss: 27.3157\n",
      "Epoch 55/100\n",
      "240/240 [==============================] - 0s 868us/step - loss: 26.9956\n",
      "Epoch 56/100\n",
      "240/240 [==============================] - 0s 820us/step - loss: 26.5929\n",
      "Epoch 57/100\n",
      "240/240 [==============================] - 0s 674us/step - loss: 26.4536\n",
      "Epoch 58/100\n",
      "240/240 [==============================] - 0s 761us/step - loss: 26.9229\n",
      "Epoch 59/100\n",
      "240/240 [==============================] - 0s 678us/step - loss: 27.2063\n",
      "Epoch 60/100\n",
      "240/240 [==============================] - 0s 694us/step - loss: 26.7305\n",
      "Epoch 61/100\n",
      "240/240 [==============================] - 0s 708us/step - loss: 26.3949\n",
      "Epoch 62/100\n",
      "240/240 [==============================] - 0s 824us/step - loss: 26.3834\n",
      "Epoch 63/100\n",
      "240/240 [==============================] - 0s 833us/step - loss: 26.5907\n",
      "Epoch 64/100\n",
      "240/240 [==============================] - 0s 818us/step - loss: 27.2400\n",
      "Epoch 65/100\n",
      "240/240 [==============================] - 0s 776us/step - loss: 26.8837\n",
      "Epoch 66/100\n",
      "240/240 [==============================] - 0s 713us/step - loss: 26.8026\n",
      "Epoch 67/100\n",
      "240/240 [==============================] - 0s 703us/step - loss: 26.5484\n",
      "Epoch 68/100\n",
      "240/240 [==============================] - 0s 682us/step - loss: 26.7830\n",
      "Epoch 69/100\n",
      "240/240 [==============================] - 0s 685us/step - loss: 26.7224\n",
      "Epoch 70/100\n",
      "240/240 [==============================] - 0s 661us/step - loss: 26.6708\n",
      "Epoch 71/100\n",
      "240/240 [==============================] - 0s 711us/step - loss: 26.5623\n",
      "Epoch 72/100\n",
      "240/240 [==============================] - 0s 688us/step - loss: 26.3236\n",
      "Epoch 73/100\n",
      "240/240 [==============================] - 0s 699us/step - loss: 26.7869\n",
      "Epoch 74/100\n",
      "240/240 [==============================] - 0s 996us/step - loss: 26.8118\n",
      "Epoch 75/100\n",
      "240/240 [==============================] - 0s 959us/step - loss: 26.3800\n",
      "Epoch 76/100\n",
      "240/240 [==============================] - 0s 967us/step - loss: 26.7479\n",
      "Epoch 77/100\n",
      "240/240 [==============================] - 0s 906us/step - loss: 26.6553\n",
      "Epoch 78/100\n",
      "240/240 [==============================] - 0s 862us/step - loss: 26.5651\n",
      "Epoch 79/100\n",
      "240/240 [==============================] - 0s 736us/step - loss: 26.6929\n",
      "Epoch 80/100\n",
      "240/240 [==============================] - 0s 736us/step - loss: 26.5914\n",
      "Epoch 81/100\n",
      "240/240 [==============================] - 0s 832us/step - loss: 26.9049\n",
      "Epoch 82/100\n",
      "240/240 [==============================] - 0s 863us/step - loss: 26.5151\n",
      "Epoch 83/100\n",
      "240/240 [==============================] - 0s 661us/step - loss: 26.5406\n",
      "Epoch 84/100\n",
      "240/240 [==============================] - 0s 742us/step - loss: 26.5844\n",
      "Epoch 85/100\n",
      "240/240 [==============================] - 0s 733us/step - loss: 26.5527\n",
      "Epoch 86/100\n",
      "240/240 [==============================] - 0s 745us/step - loss: 26.5764\n",
      "Epoch 87/100\n",
      "240/240 [==============================] - 0s 724us/step - loss: 27.0066\n",
      "Epoch 88/100\n",
      "240/240 [==============================] - 0s 779us/step - loss: 26.9045\n",
      "Epoch 89/100\n",
      "240/240 [==============================] - 0s 808us/step - loss: 27.1323\n",
      "Epoch 90/100\n",
      "240/240 [==============================] - 0s 661us/step - loss: 26.5472\n",
      "Epoch 91/100\n",
      "240/240 [==============================] - 0s 744us/step - loss: 26.7292\n",
      "Epoch 92/100\n",
      "240/240 [==============================] - 0s 1ms/step - loss: 26.3513\n",
      "Epoch 93/100\n",
      "240/240 [==============================] - 0s 1ms/step - loss: 27.0859\n",
      "Epoch 94/100\n",
      "240/240 [==============================] - 0s 895us/step - loss: 26.5067\n",
      "Epoch 95/100\n",
      "240/240 [==============================] - 0s 950us/step - loss: 26.6846\n",
      "Epoch 96/100\n",
      "240/240 [==============================] - 0s 1ms/step - loss: 26.7710\n",
      "Epoch 97/100\n",
      "240/240 [==============================] - 0s 707us/step - loss: 26.4654\n",
      "Epoch 98/100\n",
      "240/240 [==============================] - 0s 665us/step - loss: 26.6395\n",
      "Epoch 99/100\n",
      "240/240 [==============================] - 0s 716us/step - loss: 26.3572\n",
      "Epoch 100/100\n",
      "240/240 [==============================] - 0s 779us/step - loss: 26.3839\n"
     ]
    },
    {
     "data": {
      "text/plain": [
       "<keras.callbacks.History at 0x1ac073da970>"
      ]
     },
     "execution_count": 12,
     "metadata": {},
     "output_type": "execute_result"
    }
   ],
   "source": [
    "ann.fit(X_train, y_train, batch_size= 32, epochs=100)"
   ]
  },
  {
   "attachments": {},
   "cell_type": "markdown",
   "metadata": {},
   "source": [
    "#### Predicting the results of the test set"
   ]
  },
  {
   "cell_type": "code",
   "execution_count": 13,
   "metadata": {},
   "outputs": [
    {
     "name": "stdout",
     "output_type": "stream",
     "text": [
      "[[432.09 431.23]\n",
      " [463.23 460.01]\n",
      " [466.75 461.14]\n",
      " ...\n",
      " [473.98 473.26]\n",
      " [440.71 438.  ]\n",
      " [459.96 463.28]]\n"
     ]
    }
   ],
   "source": [
    "y_pred = ann.predict(X_test)\n",
    "np.set_printoptions(precision=2)\n",
    "print(np.concatenate((y_pred.reshape(len(y_pred),1), y_test.reshape(len(y_test),1)),1))\t"
   ]
  },
  {
   "cell_type": "code",
   "execution_count": 14,
   "metadata": {},
   "outputs": [
    {
     "name": "stdout",
     "output_type": "stream",
     "text": [
      "0.9087396407706865\n"
     ]
    }
   ],
   "source": [
    "from sklearn.metrics import r2_score\n",
    "print(r2_score(y_pred, y_test))"
   ]
  }
 ],
 "metadata": {
  "kernelspec": {
   "display_name": "Python 3",
   "language": "python",
   "name": "python3"
  },
  "language_info": {
   "codemirror_mode": {
    "name": "ipython",
    "version": 3
   },
   "file_extension": ".py",
   "mimetype": "text/x-python",
   "name": "python",
   "nbconvert_exporter": "python",
   "pygments_lexer": "ipython3",
   "version": "3.9.2 (tags/v3.9.2:1a79785, Feb 19 2021, 13:44:55) [MSC v.1928 64 bit (AMD64)]"
  },
  "orig_nbformat": 4,
  "vscode": {
   "interpreter": {
    "hash": "44503fabc517f282cadb002b8db49156e9fb3f635c8a12f939a7312cd52e1bdc"
   }
  }
 },
 "nbformat": 4,
 "nbformat_minor": 2
}
