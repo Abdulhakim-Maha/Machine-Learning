{
  "cells": [
    {
      "cell_type": "markdown",
      "metadata": {
        "colab_type": "text",
        "id": "3DR-eO17geWu"
      },
      "source": [
        "# Convolutional Neural Network"
      ]
    },
    {
      "cell_type": "markdown",
      "metadata": {
        "colab_type": "text",
        "id": "EMefrVPCg-60"
      },
      "source": [
        "### Importing the libraries"
      ]
    },
    {
      "cell_type": "code",
      "execution_count": 17,
      "metadata": {
        "colab": {},
        "colab_type": "code",
        "id": "sCV30xyVhFbE"
      },
      "outputs": [],
      "source": [
        "import tensorflow as tf\n",
        "from keras.preprocessing.image import ImageDataGenerator"
      ]
    },
    {
      "cell_type": "code",
      "execution_count": 18,
      "metadata": {
        "colab": {},
        "colab_type": "code",
        "id": "FIleuCAjoFD8"
      },
      "outputs": [
        {
          "data": {
            "text/plain": [
              "'2.6.0'"
            ]
          },
          "execution_count": 18,
          "metadata": {},
          "output_type": "execute_result"
        }
      ],
      "source": [
        "tf.__version__"
      ]
    },
    {
      "cell_type": "markdown",
      "metadata": {
        "colab_type": "text",
        "id": "oxQxCBWyoGPE"
      },
      "source": [
        "## Part 1 - Data Preprocessing"
      ]
    },
    {
      "cell_type": "markdown",
      "metadata": {
        "colab_type": "text",
        "id": "MvE-heJNo3GG"
      },
      "source": [
        "### Preprocessing the Training set"
      ]
    },
    {
      "attachments": {},
      "cell_type": "markdown",
      "metadata": {},
      "source": [
        "apply the transformation is to avoid **Overfitting**"
      ]
    },
    {
      "cell_type": "code",
      "execution_count": 19,
      "metadata": {
        "colab": {},
        "colab_type": "code",
        "id": "0koUcJMJpEBD"
      },
      "outputs": [
        {
          "name": "stdout",
          "output_type": "stream",
          "text": [
            "Found 8000 images belonging to 2 classes.\n"
          ]
        }
      ],
      "source": [
        "train_datagen = ImageDataGenerator(rescale = 1./255,\n",
        "                                   shear_range = 0.2,\n",
        "                                   zoom_range = 0.2,\n",
        "                                   horizontal_flip = True)\n",
        "training_set = train_datagen.flow_from_directory('dataset/training_set',\n",
        "                                                 target_size = (64, 64),\n",
        "                                                 batch_size = 32,\n",
        "                                                 class_mode = 'binary')"
      ]
    },
    {
      "cell_type": "markdown",
      "metadata": {
        "colab_type": "text",
        "id": "mrCMmGw9pHys"
      },
      "source": [
        "### Preprocessing the Test set"
      ]
    },
    {
      "cell_type": "code",
      "execution_count": 20,
      "metadata": {
        "colab": {},
        "colab_type": "code",
        "id": "SH4WzfOhpKc3"
      },
      "outputs": [
        {
          "name": "stdout",
          "output_type": "stream",
          "text": [
            "Found 2000 images belonging to 2 classes.\n"
          ]
        }
      ],
      "source": [
        "test_datagen = ImageDataGenerator(rescale = 1./255) # no transformation just feature scaling\n",
        "test_set = test_datagen.flow_from_directory('dataset/test_set',\n",
        "                                            target_size = (64, 64),\n",
        "                                            batch_size = 32,\n",
        "                                            class_mode = 'binary')"
      ]
    },
    {
      "cell_type": "markdown",
      "metadata": {
        "colab_type": "text",
        "id": "af8O4l90gk7B"
      },
      "source": [
        "## Part 2 - Building the CNN"
      ]
    },
    {
      "cell_type": "markdown",
      "metadata": {
        "colab_type": "text",
        "id": "ces1gXY2lmoX"
      },
      "source": [
        "### Initialising the CNN"
      ]
    },
    {
      "cell_type": "code",
      "execution_count": 21,
      "metadata": {
        "colab": {},
        "colab_type": "code",
        "id": "SAUt4UMPlhLS"
      },
      "outputs": [],
      "source": [
        "cnn = tf.keras.models.Sequential()"
      ]
    },
    {
      "cell_type": "markdown",
      "metadata": {
        "colab_type": "text",
        "id": "u5YJj_XMl5LF"
      },
      "source": [
        "### Step 1 - Convolution"
      ]
    },
    {
      "cell_type": "code",
      "execution_count": 22,
      "metadata": {
        "colab": {},
        "colab_type": "code",
        "id": "XPzPrMckl-hV"
      },
      "outputs": [],
      "source": [
        "cnn.add(tf.keras.layers.Conv2D(filters=32,kernel_size=3, activation='relu',input_shape=[64,64,3] ))"
      ]
    },
    {
      "cell_type": "markdown",
      "metadata": {
        "colab_type": "text",
        "id": "tf87FpvxmNOJ"
      },
      "source": [
        "### Step 2 - Pooling"
      ]
    },
    {
      "cell_type": "code",
      "execution_count": 23,
      "metadata": {
        "colab": {},
        "colab_type": "code",
        "id": "ncpqPl69mOac"
      },
      "outputs": [],
      "source": [
        "cnn.add(tf.keras.layers.MaxPool2D(pool_size=2, strides=2,))"
      ]
    },
    {
      "cell_type": "markdown",
      "metadata": {
        "colab_type": "text",
        "id": "xaTOgD8rm4mU"
      },
      "source": [
        "### Adding a second convolutional layer"
      ]
    },
    {
      "cell_type": "code",
      "execution_count": 24,
      "metadata": {
        "colab": {},
        "colab_type": "code",
        "id": "i_-FZjn_m8gk"
      },
      "outputs": [],
      "source": [
        "cnn.add(tf.keras.layers.Conv2D(filters=32,kernel_size=3, activation='relu')) #input_shape only fill when the first layer\n",
        "cnn.add(tf.keras.layers.MaxPool2D(pool_size=2, strides=2,))"
      ]
    },
    {
      "cell_type": "markdown",
      "metadata": {
        "colab_type": "text",
        "id": "tmiEuvTunKfk"
      },
      "source": [
        "### Step 3 - Flattening"
      ]
    },
    {
      "cell_type": "code",
      "execution_count": 25,
      "metadata": {
        "colab": {},
        "colab_type": "code",
        "id": "6AZeOGCvnNZn"
      },
      "outputs": [],
      "source": [
        "cnn.add(tf.keras.layers.Flatten()) # Flatten doesn't take anything as parameter"
      ]
    },
    {
      "cell_type": "markdown",
      "metadata": {
        "colab_type": "text",
        "id": "dAoSECOm203v"
      },
      "source": [
        "### Step 4 - Full Connection"
      ]
    },
    {
      "cell_type": "code",
      "execution_count": 26,
      "metadata": {
        "colab": {},
        "colab_type": "code",
        "id": "8GtmUlLd26Nq"
      },
      "outputs": [],
      "source": [
        "cnn.add(tf.keras.layers.Dense(units=128, activation='relu'))"
      ]
    },
    {
      "cell_type": "markdown",
      "metadata": {
        "colab_type": "text",
        "id": "yTldFvbX28Na"
      },
      "source": [
        "### Step 5 - Output Layer"
      ]
    },
    {
      "cell_type": "code",
      "execution_count": 27,
      "metadata": {
        "colab": {},
        "colab_type": "code",
        "id": "1p_Zj1Mc3Ko_"
      },
      "outputs": [],
      "source": [
        "cnn.add(tf.keras.layers.Dense(units=1, activation='sigmoid'))"
      ]
    },
    {
      "cell_type": "markdown",
      "metadata": {
        "colab_type": "text",
        "id": "D6XkI90snSDl"
      },
      "source": [
        "## Part 3 - Training the CNN"
      ]
    },
    {
      "cell_type": "markdown",
      "metadata": {
        "colab_type": "text",
        "id": "vfrFQACEnc6i"
      },
      "source": [
        "### Compiling the CNN"
      ]
    },
    {
      "cell_type": "code",
      "execution_count": 28,
      "metadata": {
        "colab": {},
        "colab_type": "code",
        "id": "NALksrNQpUlJ"
      },
      "outputs": [],
      "source": [
        "cnn.compile(optimizer='adam', loss='binary_crossentropy', metrics=['accuracy'])"
      ]
    },
    {
      "cell_type": "markdown",
      "metadata": {
        "colab_type": "text",
        "id": "ehS-v3MIpX2h"
      },
      "source": [
        "### Training the CNN on the Training set and evaluating it on the Test set"
      ]
    },
    {
      "cell_type": "code",
      "execution_count": 29,
      "metadata": {
        "colab": {},
        "colab_type": "code",
        "id": "XUj1W4PJptta"
      },
      "outputs": [
        {
          "name": "stdout",
          "output_type": "stream",
          "text": [
            "Epoch 1/25\n",
            "250/250 [==============================] - 75s 298ms/step - loss: 0.6672 - accuracy: 0.5869 - val_loss: 0.6121 - val_accuracy: 0.6805\n",
            "Epoch 2/25\n",
            "250/250 [==============================] - 28s 112ms/step - loss: 0.5982 - accuracy: 0.6825 - val_loss: 0.5555 - val_accuracy: 0.7185\n",
            "Epoch 3/25\n",
            "250/250 [==============================] - 30s 121ms/step - loss: 0.5486 - accuracy: 0.7262 - val_loss: 0.5289 - val_accuracy: 0.7485\n",
            "Epoch 4/25\n",
            "250/250 [==============================] - 30s 121ms/step - loss: 0.5223 - accuracy: 0.7389 - val_loss: 0.4975 - val_accuracy: 0.7745\n",
            "Epoch 5/25\n",
            "250/250 [==============================] - 30s 120ms/step - loss: 0.4919 - accuracy: 0.7563 - val_loss: 0.5456 - val_accuracy: 0.7450\n",
            "Epoch 6/25\n",
            "250/250 [==============================] - 31s 122ms/step - loss: 0.4828 - accuracy: 0.7636 - val_loss: 0.4858 - val_accuracy: 0.7750\n",
            "Epoch 7/25\n",
            "250/250 [==============================] - 29s 117ms/step - loss: 0.4614 - accuracy: 0.7782 - val_loss: 0.5569 - val_accuracy: 0.7355\n",
            "Epoch 8/25\n",
            "250/250 [==============================] - 29s 116ms/step - loss: 0.4444 - accuracy: 0.7920 - val_loss: 0.4895 - val_accuracy: 0.7685\n",
            "Epoch 9/25\n",
            "250/250 [==============================] - 28s 113ms/step - loss: 0.4383 - accuracy: 0.7955 - val_loss: 0.4481 - val_accuracy: 0.7950\n",
            "Epoch 10/25\n",
            "250/250 [==============================] - 29s 115ms/step - loss: 0.4290 - accuracy: 0.7952 - val_loss: 0.4719 - val_accuracy: 0.7805\n",
            "Epoch 11/25\n",
            "250/250 [==============================] - 29s 116ms/step - loss: 0.4169 - accuracy: 0.8044 - val_loss: 0.4698 - val_accuracy: 0.7935\n",
            "Epoch 12/25\n",
            "250/250 [==============================] - 26s 105ms/step - loss: 0.4011 - accuracy: 0.8133 - val_loss: 0.4355 - val_accuracy: 0.8070\n",
            "Epoch 13/25\n",
            "250/250 [==============================] - 28s 112ms/step - loss: 0.3895 - accuracy: 0.8250 - val_loss: 0.4437 - val_accuracy: 0.8020\n",
            "Epoch 14/25\n",
            "250/250 [==============================] - 27s 109ms/step - loss: 0.3826 - accuracy: 0.8305 - val_loss: 0.4607 - val_accuracy: 0.7975\n",
            "Epoch 15/25\n",
            "250/250 [==============================] - 27s 108ms/step - loss: 0.3697 - accuracy: 0.8328 - val_loss: 0.4303 - val_accuracy: 0.8040\n",
            "Epoch 16/25\n",
            "250/250 [==============================] - 30s 119ms/step - loss: 0.3553 - accuracy: 0.8396 - val_loss: 0.4543 - val_accuracy: 0.7980\n",
            "Epoch 17/25\n",
            "250/250 [==============================] - 30s 120ms/step - loss: 0.3536 - accuracy: 0.8406 - val_loss: 0.4875 - val_accuracy: 0.7805\n",
            "Epoch 18/25\n",
            "250/250 [==============================] - 27s 109ms/step - loss: 0.3416 - accuracy: 0.8454 - val_loss: 0.4388 - val_accuracy: 0.8200\n",
            "Epoch 19/25\n",
            "250/250 [==============================] - 30s 118ms/step - loss: 0.3402 - accuracy: 0.8493 - val_loss: 0.4497 - val_accuracy: 0.8030\n",
            "Epoch 20/25\n",
            "250/250 [==============================] - 29s 115ms/step - loss: 0.3206 - accuracy: 0.8549 - val_loss: 0.4970 - val_accuracy: 0.7865\n",
            "Epoch 21/25\n",
            "250/250 [==============================] - 28s 113ms/step - loss: 0.3167 - accuracy: 0.8574 - val_loss: 0.4383 - val_accuracy: 0.8240\n",
            "Epoch 22/25\n",
            "250/250 [==============================] - 28s 113ms/step - loss: 0.3040 - accuracy: 0.8649 - val_loss: 0.5696 - val_accuracy: 0.7805\n",
            "Epoch 23/25\n",
            "250/250 [==============================] - 26s 106ms/step - loss: 0.2954 - accuracy: 0.8715 - val_loss: 0.5928 - val_accuracy: 0.7745\n",
            "Epoch 24/25\n",
            "250/250 [==============================] - 29s 116ms/step - loss: 0.2911 - accuracy: 0.8726 - val_loss: 0.4479 - val_accuracy: 0.8155\n",
            "Epoch 25/25\n",
            "250/250 [==============================] - 26s 105ms/step - loss: 0.2812 - accuracy: 0.8786 - val_loss: 0.5233 - val_accuracy: 0.8155\n"
          ]
        },
        {
          "data": {
            "text/plain": [
              "<keras.callbacks.History at 0x2438a41d070>"
            ]
          },
          "execution_count": 29,
          "metadata": {},
          "output_type": "execute_result"
        }
      ],
      "source": [
        "cnn.fit(x = training_set, validation_data=test_set, epochs= 25)"
      ]
    },
    {
      "cell_type": "markdown",
      "metadata": {
        "colab_type": "text",
        "id": "U3PZasO0006Z"
      },
      "source": [
        "## Part 4 - Making a single prediction"
      ]
    },
    {
      "cell_type": "code",
      "execution_count": 51,
      "metadata": {
        "colab": {},
        "colab_type": "code",
        "id": "gsSiWEJY1BPB"
      },
      "outputs": [],
      "source": [
        "import numpy as np\n",
        "from keras.preprocessing import image\n",
        "test_image = image.load_img('dataset/single_prediction/dog.4400.jpg', target_size=(64,64))\n",
        "test_image = image.img_to_array(test_image)\n",
        "test_image = np.expand_dims(test_image, axis=0)\n",
        "result = cnn.predict(test_image/255.0)\n",
        "training_set.class_indices\n",
        "if(result[0][0] > 0.5):\n",
        "\tprediction = 'dog'\n",
        "else:\n",
        "\tprediction = 'cat'"
      ]
    },
    {
      "cell_type": "code",
      "execution_count": 52,
      "metadata": {
        "colab": {},
        "colab_type": "code",
        "id": "ED9KB3I54c1i"
      },
      "outputs": [
        {
          "name": "stdout",
          "output_type": "stream",
          "text": [
            "89.68576192855835%\n",
            "dog\n"
          ]
        }
      ],
      "source": [
        "# print(training_set.class_indices)\n",
        "print(\"{}{}\".format(result[0][0] * 100,\"%\"))\n",
        "print(prediction)"
      ]
    }
  ],
  "metadata": {
    "colab": {
      "collapsed_sections": [],
      "name": "convolutional_neural_network.ipynb",
      "provenance": [],
      "toc_visible": true
    },
    "kernelspec": {
      "display_name": "Python 3",
      "language": "python",
      "name": "python3"
    },
    "language_info": {
      "codemirror_mode": {
        "name": "ipython",
        "version": 3
      },
      "file_extension": ".py",
      "mimetype": "text/x-python",
      "name": "python",
      "nbconvert_exporter": "python",
      "pygments_lexer": "ipython3",
      "version": "3.9.2 (tags/v3.9.2:1a79785, Feb 19 2021, 13:44:55) [MSC v.1928 64 bit (AMD64)]"
    },
    "vscode": {
      "interpreter": {
        "hash": "44503fabc517f282cadb002b8db49156e9fb3f635c8a12f939a7312cd52e1bdc"
      }
    }
  },
  "nbformat": 4,
  "nbformat_minor": 0
}
