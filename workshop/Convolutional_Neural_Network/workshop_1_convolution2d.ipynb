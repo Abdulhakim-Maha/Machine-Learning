{
 "cells": [
  {
   "cell_type": "code",
   "execution_count": 1,
   "metadata": {},
   "outputs": [],
   "source": [
    "import cv2\n",
    "import numpy as np"
   ]
  },
  {
   "cell_type": "code",
   "execution_count": 2,
   "metadata": {},
   "outputs": [],
   "source": [
    "image = np.array([[1, 0, 2, 1, 0],\n",
    "\t\t\t\t  [0, 2, 3, 0, 1],\n",
    "\t\t\t\t  [1, 0, 1, 1, 2],\n",
    "\t\t\t\t  [0, 2, 2, 0, 3],\n",
    "\t\t\t\t  [0, 4, 1, 2, 0]])"
   ]
  },
  {
   "cell_type": "code",
   "execution_count": 4,
   "metadata": {},
   "outputs": [],
   "source": [
    "image = image / 5.0"
   ]
  },
  {
   "cell_type": "code",
   "execution_count": 7,
   "metadata": {},
   "outputs": [
    {
     "data": {
      "text/plain": [
       "array([[0.2, 0. , 0.4, 0.2, 0. ],\n",
       "       [0. , 0.4, 0.6, 0. , 0.2],\n",
       "       [0.2, 0. , 0.2, 0.2, 0.4],\n",
       "       [0. , 0.4, 0.4, 0. , 0.6],\n",
       "       [0. , 0.8, 0.2, 0.4, 0. ]])"
      ]
     },
     "execution_count": 7,
     "metadata": {},
     "output_type": "execute_result"
    }
   ],
   "source": [
    "image"
   ]
  },
  {
   "attachments": {},
   "cell_type": "markdown",
   "metadata": {},
   "source": [
    "### Create kernel or Feature Detection or Filter or Mask"
   ]
  },
  {
   "cell_type": "code",
   "execution_count": 10,
   "metadata": {},
   "outputs": [],
   "source": [
    "kernel1 = np.array([[-1, 0, 1],\n",
    "\t\t\t\t\t[-1, 0, 1],\n",
    "\t\t\t\t\t[-1, 0, 1]])"
   ]
  },
  {
   "attachments": {},
   "cell_type": "markdown",
   "metadata": {},
   "source": [
    "### Convolude"
   ]
  },
  {
   "cell_type": "code",
   "execution_count": 11,
   "metadata": {},
   "outputs": [],
   "source": [
    "im2 = cv2.filter2D(src=image, ddepth=-1, kernel=kernel1)"
   ]
  },
  {
   "cell_type": "code",
   "execution_count": 12,
   "metadata": {},
   "outputs": [
    {
     "data": {
      "text/plain": [
       "array([[ 0. ,  1.4, -0.6, -1.2,  0. ],\n",
       "       [ 0. ,  0.8,  0. , -0.6,  0. ],\n",
       "       [ 0. ,  1. , -0.6,  0. ,  0. ],\n",
       "       [ 0. ,  0.6, -0.6,  0.2,  0. ],\n",
       "       [ 0. ,  1. , -1.2,  0.2,  0. ]])"
      ]
     },
     "execution_count": 12,
     "metadata": {},
     "output_type": "execute_result"
    }
   ],
   "source": [
    "im2"
   ]
  },
  {
   "cell_type": "code",
   "execution_count": 13,
   "metadata": {},
   "outputs": [],
   "source": [
    "im2_int = (im2 * 5).astype('int')"
   ]
  },
  {
   "cell_type": "code",
   "execution_count": 14,
   "metadata": {},
   "outputs": [
    {
     "data": {
      "text/plain": [
       "array([[ 0,  7, -3, -6,  0],\n",
       "       [ 0,  4,  0, -3,  0],\n",
       "       [ 0,  5, -3,  0,  0],\n",
       "       [ 0,  3, -3,  0,  0],\n",
       "       [ 0,  5, -6,  0,  0]])"
      ]
     },
     "execution_count": 14,
     "metadata": {},
     "output_type": "execute_result"
    }
   ],
   "source": [
    "im2_int"
   ]
  }
 ],
 "metadata": {
  "kernelspec": {
   "display_name": "Python 3",
   "language": "python",
   "name": "python3"
  },
  "language_info": {
   "codemirror_mode": {
    "name": "ipython",
    "version": 3
   },
   "file_extension": ".py",
   "mimetype": "text/x-python",
   "name": "python",
   "nbconvert_exporter": "python",
   "pygments_lexer": "ipython3",
   "version": "3.9.2 (tags/v3.9.2:1a79785, Feb 19 2021, 13:44:55) [MSC v.1928 64 bit (AMD64)]"
  },
  "orig_nbformat": 4,
  "vscode": {
   "interpreter": {
    "hash": "44503fabc517f282cadb002b8db49156e9fb3f635c8a12f939a7312cd52e1bdc"
   }
  }
 },
 "nbformat": 4,
 "nbformat_minor": 2
}
