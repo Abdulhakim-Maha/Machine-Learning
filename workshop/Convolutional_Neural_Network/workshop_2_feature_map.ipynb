{
 "cells": [
  {
   "attachments": {},
   "cell_type": "markdown",
   "metadata": {},
   "source": [
    "## Feature Map using CV2"
   ]
  },
  {
   "attachments": {},
   "cell_type": "markdown",
   "metadata": {},
   "source": [
    "### import the libraries"
   ]
  },
  {
   "cell_type": "code",
   "execution_count": 7,
   "metadata": {},
   "outputs": [],
   "source": [
    "import numpy as np\n",
    "import cv2"
   ]
  },
  {
   "cell_type": "code",
   "execution_count": 8,
   "metadata": {},
   "outputs": [],
   "source": [
    "image = cv2.imread('building.jpg')"
   ]
  },
  {
   "cell_type": "code",
   "execution_count": 9,
   "metadata": {},
   "outputs": [],
   "source": [
    "if image is None:\n",
    "\tprint('Could not read image')"
   ]
  },
  {
   "cell_type": "code",
   "execution_count": 25,
   "metadata": {},
   "outputs": [],
   "source": [
    "# kernel1 = np.array([[-1, 0, 1],\n",
    "# \t\t\t\t   [-3, 0, 3],\n",
    "# \t\t\t\t   [-1, 0, 1]])\n",
    "\n",
    "# kernel1 = np.array([[-1, -3, -1], # detect horizontal line\n",
    "# \t\t\t\t\t[0, 0, 0],\n",
    "# \t\t\t\t\t[-3, -1, 1]])\n",
    "\n",
    "# kernel1 = np.array([[0, 1, 3],   # detect \\\n",
    "# \t\t\t\t\t[-1, 0, 1],\n",
    "# \t\t\t\t\t[-3, -1, 0]])\n",
    "\n",
    "# kernel1 = np.array([[-3,-1, 0],    # detect /\n",
    "# \t\t\t\t\t[-1, 0, 1],\n",
    "# \t\t\t\t\t[0, 1, 3]])\n",
    "\n",
    "kernel1 = np.array([[-1,-1, -1],   # detect all border\n",
    "\t\t\t\t\t[-1, 8, -1],\n",
    "\t\t\t\t\t[-1, -1, -1]])"
   ]
  },
  {
   "cell_type": "code",
   "execution_count": 26,
   "metadata": {},
   "outputs": [],
   "source": [
    "feature_map = cv2.filter2D(src=image, ddepth=-1, kernel=kernel1)"
   ]
  },
  {
   "cell_type": "code",
   "execution_count": 27,
   "metadata": {},
   "outputs": [],
   "source": [
    "cv2.imshow('Original', image)\n",
    "cv2.imshow('Feature', feature_map)\n",
    "cv2.imwrite('feature_map1.jpg', feature_map)\n",
    "cv2.waitKey()\n",
    "cv2.destroyAllWindows()"
   ]
  },
  {
   "cell_type": "code",
   "execution_count": null,
   "metadata": {},
   "outputs": [],
   "source": []
  }
 ],
 "metadata": {
  "kernelspec": {
   "display_name": "Python 3",
   "language": "python",
   "name": "python3"
  },
  "language_info": {
   "codemirror_mode": {
    "name": "ipython",
    "version": 3
   },
   "file_extension": ".py",
   "mimetype": "text/x-python",
   "name": "python",
   "nbconvert_exporter": "python",
   "pygments_lexer": "ipython3",
   "version": "3.9.2 (tags/v3.9.2:1a79785, Feb 19 2021, 13:44:55) [MSC v.1928 64 bit (AMD64)]"
  },
  "orig_nbformat": 4,
  "vscode": {
   "interpreter": {
    "hash": "44503fabc517f282cadb002b8db49156e9fb3f635c8a12f939a7312cd52e1bdc"
   }
  }
 },
 "nbformat": 4,
 "nbformat_minor": 2
}
