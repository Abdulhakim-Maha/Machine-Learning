{
 "cells": [
  {
   "attachments": {},
   "cell_type": "markdown",
   "metadata": {},
   "source": [
    "## Classification IRIS dataset using Tensorflow"
   ]
  },
  {
   "attachments": {},
   "cell_type": "markdown",
   "metadata": {},
   "source": [
    "### import the libraries"
   ]
  },
  {
   "cell_type": "code",
   "execution_count": 1,
   "metadata": {},
   "outputs": [],
   "source": [
    "import pandas as pd\n",
    "import numpy as np \n",
    "import seaborn as sns\n",
    "import matplotlib.pyplot as plt"
   ]
  },
  {
   "attachments": {},
   "cell_type": "markdown",
   "metadata": {},
   "source": [
    "### Load the dataset"
   ]
  },
  {
   "cell_type": "code",
   "execution_count": 2,
   "metadata": {},
   "outputs": [],
   "source": [
    "df = sns.load_dataset('iris')"
   ]
  },
  {
   "cell_type": "code",
   "execution_count": 3,
   "metadata": {},
   "outputs": [
    {
     "data": {
      "text/html": [
       "<div>\n",
       "<style scoped>\n",
       "    .dataframe tbody tr th:only-of-type {\n",
       "        vertical-align: middle;\n",
       "    }\n",
       "\n",
       "    .dataframe tbody tr th {\n",
       "        vertical-align: top;\n",
       "    }\n",
       "\n",
       "    .dataframe thead th {\n",
       "        text-align: right;\n",
       "    }\n",
       "</style>\n",
       "<table border=\"1\" class=\"dataframe\">\n",
       "  <thead>\n",
       "    <tr style=\"text-align: right;\">\n",
       "      <th></th>\n",
       "      <th>sepal_length</th>\n",
       "      <th>sepal_width</th>\n",
       "      <th>petal_length</th>\n",
       "      <th>petal_width</th>\n",
       "      <th>species</th>\n",
       "    </tr>\n",
       "  </thead>\n",
       "  <tbody>\n",
       "    <tr>\n",
       "      <th>14</th>\n",
       "      <td>5.8</td>\n",
       "      <td>4.0</td>\n",
       "      <td>1.2</td>\n",
       "      <td>0.2</td>\n",
       "      <td>setosa</td>\n",
       "    </tr>\n",
       "    <tr>\n",
       "      <th>98</th>\n",
       "      <td>5.1</td>\n",
       "      <td>2.5</td>\n",
       "      <td>3.0</td>\n",
       "      <td>1.1</td>\n",
       "      <td>versicolor</td>\n",
       "    </tr>\n",
       "    <tr>\n",
       "      <th>75</th>\n",
       "      <td>6.6</td>\n",
       "      <td>3.0</td>\n",
       "      <td>4.4</td>\n",
       "      <td>1.4</td>\n",
       "      <td>versicolor</td>\n",
       "    </tr>\n",
       "    <tr>\n",
       "      <th>16</th>\n",
       "      <td>5.4</td>\n",
       "      <td>3.9</td>\n",
       "      <td>1.3</td>\n",
       "      <td>0.4</td>\n",
       "      <td>setosa</td>\n",
       "    </tr>\n",
       "    <tr>\n",
       "      <th>131</th>\n",
       "      <td>7.9</td>\n",
       "      <td>3.8</td>\n",
       "      <td>6.4</td>\n",
       "      <td>2.0</td>\n",
       "      <td>virginica</td>\n",
       "    </tr>\n",
       "  </tbody>\n",
       "</table>\n",
       "</div>"
      ],
      "text/plain": [
       "     sepal_length  sepal_width  petal_length  petal_width     species\n",
       "14            5.8          4.0           1.2          0.2      setosa\n",
       "98            5.1          2.5           3.0          1.1  versicolor\n",
       "75            6.6          3.0           4.4          1.4  versicolor\n",
       "16            5.4          3.9           1.3          0.4      setosa\n",
       "131           7.9          3.8           6.4          2.0   virginica"
      ]
     },
     "execution_count": 3,
     "metadata": {},
     "output_type": "execute_result"
    }
   ],
   "source": [
    "df.sample(5, random_state=1)"
   ]
  },
  {
   "attachments": {},
   "cell_type": "markdown",
   "metadata": {},
   "source": [
    "### Check whether is null"
   ]
  },
  {
   "cell_type": "code",
   "execution_count": 4,
   "metadata": {},
   "outputs": [
    {
     "data": {
      "text/plain": [
       "sepal_length    0\n",
       "sepal_width     0\n",
       "petal_length    0\n",
       "petal_width     0\n",
       "species         0\n",
       "dtype: int64"
      ]
     },
     "execution_count": 4,
     "metadata": {},
     "output_type": "execute_result"
    }
   ],
   "source": [
    "df.isnull().sum()"
   ]
  },
  {
   "cell_type": "code",
   "execution_count": 5,
   "metadata": {},
   "outputs": [
    {
     "name": "stdout",
     "output_type": "stream",
     "text": [
      "<class 'pandas.core.frame.DataFrame'>\n",
      "RangeIndex: 150 entries, 0 to 149\n",
      "Data columns (total 5 columns):\n",
      " #   Column        Non-Null Count  Dtype  \n",
      "---  ------        --------------  -----  \n",
      " 0   sepal_length  150 non-null    float64\n",
      " 1   sepal_width   150 non-null    float64\n",
      " 2   petal_length  150 non-null    float64\n",
      " 3   petal_width   150 non-null    float64\n",
      " 4   species       150 non-null    object \n",
      "dtypes: float64(4), object(1)\n",
      "memory usage: 6.0+ KB\n"
     ]
    }
   ],
   "source": [
    "df.info()"
   ]
  },
  {
   "attachments": {},
   "cell_type": "markdown",
   "metadata": {},
   "source": [
    "### Data Exploration"
   ]
  },
  {
   "cell_type": "code",
   "execution_count": 6,
   "metadata": {},
   "outputs": [
    {
     "data": {
      "text/plain": [
       "<AxesSubplot:xlabel='petal_length', ylabel='petal_width'>"
      ]
     },
     "execution_count": 6,
     "metadata": {},
     "output_type": "execute_result"
    },
    {
     "data": {
      "image/png": "[encoded data removed]",
      "text/plain": [
       "<Figure size 432x288 with 1 Axes>"
      ]
     },
     "metadata": {
      "needs_background": "light"
     },
     "output_type": "display_data"
    }
   ],
   "source": [
    "sns.scatterplot(x='petal_length', y='petal_width', data=df, hue='species', style='species', alpha=.85, edgecolor='w', s=100)"
   ]
  },
  {
   "attachments": {},
   "cell_type": "markdown",
   "metadata": {},
   "source": [
    "### Data prepocessing"
   ]
  },
  {
   "cell_type": "code",
   "execution_count": 8,
   "metadata": {},
   "outputs": [],
   "source": [
    "y, class_names = pd.factorize(df.species, sort=True)"
   ]
  },
  {
   "cell_type": "code",
   "execution_count": 9,
   "metadata": {},
   "outputs": [
    {
     "name": "stdout",
     "output_type": "stream",
     "text": [
      "[0 1 2]\n"
     ]
    }
   ],
   "source": [
    "print(pd.unique(y))"
   ]
  },
  {
   "cell_type": "code",
   "execution_count": 11,
   "metadata": {},
   "outputs": [
    {
     "data": {
      "text/plain": [
       "(Index(['setosa', 'versicolor', 'virginica'], dtype='object'),\n",
       " array([0, 0, 0, 0, 0, 1, 1, 1, 1, 1, 1, 1, 1, 1, 1, 1, 1, 1, 1, 1, 1, 1,\n",
       "        1, 1, 1, 1, 1, 1, 1, 1, 1, 1, 1, 1, 1, 1, 1, 1, 1, 1, 1, 1, 1, 1,\n",
       "        1, 1, 1, 1, 1, 1, 1, 1, 1, 1, 1, 2, 2, 2, 2, 2], dtype=int64))"
      ]
     },
     "execution_count": 11,
     "metadata": {},
     "output_type": "execute_result"
    }
   ],
   "source": [
    "class_names, y[45:105]"
   ]
  },
  {
   "attachments": {},
   "cell_type": "markdown",
   "metadata": {},
   "source": [
    "### Feature selection"
   ]
  },
  {
   "cell_type": "code",
   "execution_count": 12,
   "metadata": {},
   "outputs": [],
   "source": [
    "X = df.drop('species', axis=1)"
   ]
  },
  {
   "cell_type": "code",
   "execution_count": 13,
   "metadata": {},
   "outputs": [
    {
     "data": {
      "text/html": [
       "<div>\n",
       "<style scoped>\n",
       "    .dataframe tbody tr th:only-of-type {\n",
       "        vertical-align: middle;\n",
       "    }\n",
       "\n",
       "    .dataframe tbody tr th {\n",
       "        vertical-align: top;\n",
       "    }\n",
       "\n",
       "    .dataframe thead th {\n",
       "        text-align: right;\n",
       "    }\n",
       "</style>\n",
       "<table border=\"1\" class=\"dataframe\">\n",
       "  <thead>\n",
       "    <tr style=\"text-align: right;\">\n",
       "      <th></th>\n",
       "      <th>sepal_length</th>\n",
       "      <th>sepal_width</th>\n",
       "      <th>petal_length</th>\n",
       "      <th>petal_width</th>\n",
       "    </tr>\n",
       "  </thead>\n",
       "  <tbody>\n",
       "    <tr>\n",
       "      <th>14</th>\n",
       "      <td>5.8</td>\n",
       "      <td>4.0</td>\n",
       "      <td>1.2</td>\n",
       "      <td>0.2</td>\n",
       "    </tr>\n",
       "    <tr>\n",
       "      <th>98</th>\n",
       "      <td>5.1</td>\n",
       "      <td>2.5</td>\n",
       "      <td>3.0</td>\n",
       "      <td>1.1</td>\n",
       "    </tr>\n",
       "    <tr>\n",
       "      <th>75</th>\n",
       "      <td>6.6</td>\n",
       "      <td>3.0</td>\n",
       "      <td>4.4</td>\n",
       "      <td>1.4</td>\n",
       "    </tr>\n",
       "    <tr>\n",
       "      <th>16</th>\n",
       "      <td>5.4</td>\n",
       "      <td>3.9</td>\n",
       "      <td>1.3</td>\n",
       "      <td>0.4</td>\n",
       "    </tr>\n",
       "    <tr>\n",
       "      <th>131</th>\n",
       "      <td>7.9</td>\n",
       "      <td>3.8</td>\n",
       "      <td>6.4</td>\n",
       "      <td>2.0</td>\n",
       "    </tr>\n",
       "  </tbody>\n",
       "</table>\n",
       "</div>"
      ],
      "text/plain": [
       "     sepal_length  sepal_width  petal_length  petal_width\n",
       "14            5.8          4.0           1.2          0.2\n",
       "98            5.1          2.5           3.0          1.1\n",
       "75            6.6          3.0           4.4          1.4\n",
       "16            5.4          3.9           1.3          0.4\n",
       "131           7.9          3.8           6.4          2.0"
      ]
     },
     "execution_count": 13,
     "metadata": {},
     "output_type": "execute_result"
    }
   ],
   "source": [
    "X.sample(5, random_state=1)"
   ]
  },
  {
   "attachments": {},
   "cell_type": "markdown",
   "metadata": {},
   "source": [
    "### Feature Scaling"
   ]
  },
  {
   "cell_type": "code",
   "execution_count": 14,
   "metadata": {},
   "outputs": [],
   "source": [
    "from sklearn.preprocessing import StandardScaler"
   ]
  },
  {
   "cell_type": "code",
   "execution_count": 15,
   "metadata": {},
   "outputs": [],
   "source": [
    "sc = StandardScaler()"
   ]
  },
  {
   "cell_type": "code",
   "execution_count": 16,
   "metadata": {},
   "outputs": [],
   "source": [
    "X_sc = sc.fit_transform(X)"
   ]
  },
  {
   "cell_type": "code",
   "execution_count": 18,
   "metadata": {},
   "outputs": [
    {
     "data": {
      "text/plain": [
       "array([[-0.90068117,  1.01900435, -1.34022653, -1.3154443 ],\n",
       "       [-1.14301691, -0.13197948, -1.34022653, -1.3154443 ],\n",
       "       [-1.38535265,  0.32841405, -1.39706395, -1.3154443 ],\n",
       "       [-1.50652052,  0.09821729, -1.2833891 , -1.3154443 ]])"
      ]
     },
     "execution_count": 18,
     "metadata": {},
     "output_type": "execute_result"
    }
   ],
   "source": [
    "X_sc[:4]"
   ]
  },
  {
   "attachments": {},
   "cell_type": "markdown",
   "metadata": {},
   "source": [
    "### Turn dataset into trainig set and test set"
   ]
  },
  {
   "cell_type": "code",
   "execution_count": 19,
   "metadata": {},
   "outputs": [],
   "source": [
    "from sklearn.model_selection import train_test_split"
   ]
  },
  {
   "cell_type": "code",
   "execution_count": 20,
   "metadata": {},
   "outputs": [],
   "source": [
    "X_train, X_test, y_train, y_test = train_test_split(X_sc, y, test_size=0.25, random_state=1)"
   ]
  },
  {
   "cell_type": "code",
   "execution_count": 21,
   "metadata": {},
   "outputs": [
    {
     "data": {
      "text/plain": [
       "((112, 4), (38, 4))"
      ]
     },
     "execution_count": 21,
     "metadata": {},
     "output_type": "execute_result"
    }
   ],
   "source": [
    "X_train.shape, X_test.shape"
   ]
  },
  {
   "cell_type": "code",
   "execution_count": 22,
   "metadata": {},
   "outputs": [
    {
     "data": {
      "text/plain": [
       "((112,), (38,))"
      ]
     },
     "execution_count": 22,
     "metadata": {},
     "output_type": "execute_result"
    }
   ],
   "source": [
    "y_train.shape, y_test.shape"
   ]
  },
  {
   "cell_type": "code",
   "execution_count": 23,
   "metadata": {},
   "outputs": [
    {
     "data": {
      "text/plain": [
       "array([1, 2, 2, 0, 2], dtype=int64)"
      ]
     },
     "execution_count": 23,
     "metadata": {},
     "output_type": "execute_result"
    }
   ],
   "source": [
    "y_train[:5]"
   ]
  },
  {
   "attachments": {},
   "cell_type": "markdown",
   "metadata": {},
   "source": [
    "### Label One-hot encoding"
   ]
  },
  {
   "attachments": {},
   "cell_type": "markdown",
   "metadata": {},
   "source": [
    "#### make one-hot using tensorflow"
   ]
  },
  {
   "cell_type": "code",
   "execution_count": 24,
   "metadata": {},
   "outputs": [],
   "source": [
    "from tensorflow.keras.utils import to_categorical"
   ]
  },
  {
   "cell_type": "code",
   "execution_count": 25,
   "metadata": {},
   "outputs": [],
   "source": [
    "def one_hot_encoding(arr):\n",
    "\tcategories, ids = np.unique(arr, return_inverse=True)\n",
    "\treturn to_categorical(ids, len(categories))"
   ]
  },
  {
   "cell_type": "code",
   "execution_count": 43,
   "metadata": {},
   "outputs": [],
   "source": [
    "y_train_1h = one_hot_encoding(y_train).astype('int')"
   ]
  },
  {
   "cell_type": "code",
   "execution_count": 44,
   "metadata": {},
   "outputs": [
    {
     "data": {
      "text/plain": [
       "array([[0, 1, 0],\n",
       "       [0, 0, 1],\n",
       "       [0, 0, 1],\n",
       "       [1, 0, 0]])"
      ]
     },
     "execution_count": 44,
     "metadata": {},
     "output_type": "execute_result"
    }
   ],
   "source": [
    "y_train_1h[:4]"
   ]
  },
  {
   "cell_type": "code",
   "execution_count": 45,
   "metadata": {},
   "outputs": [],
   "source": [
    "y_test_1h = one_hot_encoding(y_test).astype('int')"
   ]
  },
  {
   "cell_type": "code",
   "execution_count": 46,
   "metadata": {},
   "outputs": [
    {
     "data": {
      "text/plain": [
       "array([[1, 0, 0],\n",
       "       [0, 1, 0],\n",
       "       [0, 1, 0],\n",
       "       [1, 0, 0],\n",
       "       [0, 0, 1]])"
      ]
     },
     "execution_count": 46,
     "metadata": {},
     "output_type": "execute_result"
    }
   ],
   "source": [
    "y_test_1h[:5]"
   ]
  },
  {
   "cell_type": "code",
   "execution_count": 47,
   "metadata": {},
   "outputs": [
    {
     "data": {
      "text/plain": [
       "(numpy.ndarray, numpy.ndarray)"
      ]
     },
     "execution_count": 47,
     "metadata": {},
     "output_type": "execute_result"
    }
   ],
   "source": [
    "type(y_train_1h), type(y_test_1h)"
   ]
  },
  {
   "attachments": {},
   "cell_type": "markdown",
   "metadata": {},
   "source": [
    "#### make one-hot using pandas"
   ]
  },
  {
   "cell_type": "code",
   "execution_count": 48,
   "metadata": {},
   "outputs": [],
   "source": [
    "y_train_1h = pd.get_dummies(y_train).values"
   ]
  },
  {
   "cell_type": "code",
   "execution_count": 49,
   "metadata": {},
   "outputs": [],
   "source": [
    "y_test_1h = pd.get_dummies(y_test).values"
   ]
  },
  {
   "cell_type": "code",
   "execution_count": 50,
   "metadata": {},
   "outputs": [
    {
     "data": {
      "text/plain": [
       "array([[0, 1, 0],\n",
       "       [0, 0, 1],\n",
       "       [0, 0, 1],\n",
       "       [1, 0, 0],\n",
       "       [0, 0, 1]], dtype=uint8)"
      ]
     },
     "execution_count": 50,
     "metadata": {},
     "output_type": "execute_result"
    }
   ],
   "source": [
    "y_train_1h[:5]"
   ]
  },
  {
   "cell_type": "code",
   "execution_count": 51,
   "metadata": {},
   "outputs": [
    {
     "data": {
      "text/plain": [
       "array([[1, 0, 0],\n",
       "       [0, 1, 0],\n",
       "       [0, 1, 0],\n",
       "       [1, 0, 0],\n",
       "       [0, 0, 1]], dtype=uint8)"
      ]
     },
     "execution_count": 51,
     "metadata": {},
     "output_type": "execute_result"
    }
   ],
   "source": [
    "y_test_1h[:5]"
   ]
  },
  {
   "cell_type": "code",
   "execution_count": 53,
   "metadata": {},
   "outputs": [
    {
     "data": {
      "text/plain": [
       "(numpy.ndarray, numpy.ndarray)"
      ]
     },
     "execution_count": 53,
     "metadata": {},
     "output_type": "execute_result"
    }
   ],
   "source": [
    "type(y_train_1h), type(y_test_1h)"
   ]
  },
  {
   "attachments": {},
   "cell_type": "markdown",
   "metadata": {},
   "source": [
    "### Building a model"
   ]
  },
  {
   "cell_type": "code",
   "execution_count": 54,
   "metadata": {},
   "outputs": [],
   "source": [
    "from tensorflow.keras import Sequential\n",
    "from tensorflow.keras.layers import Dense"
   ]
  },
  {
   "cell_type": "code",
   "execution_count": 56,
   "metadata": {},
   "outputs": [],
   "source": [
    "model = Sequential()"
   ]
  },
  {
   "cell_type": "code",
   "execution_count": 57,
   "metadata": {},
   "outputs": [],
   "source": [
    "model.add(Dense(units=64, activation='relu',input_shape=(4,)))"
   ]
  },
  {
   "cell_type": "code",
   "execution_count": 58,
   "metadata": {},
   "outputs": [],
   "source": [
    "model.add(Dense(units=3, activation='softmax'))"
   ]
  },
  {
   "cell_type": "code",
   "execution_count": 60,
   "metadata": {},
   "outputs": [
    {
     "name": "stdout",
     "output_type": "stream",
     "text": [
      "Model: \"sequential\"\n",
      "_________________________________________________________________\n",
      "Layer (type)                 Output Shape              Param #   \n",
      "=================================================================\n",
      "dense (Dense)                (None, 64)                320       \n",
      "_________________________________________________________________\n",
      "dense_1 (Dense)              (None, 3)                 195       \n",
      "=================================================================\n",
      "Total params: 515\n",
      "Trainable params: 515\n",
      "Non-trainable params: 0\n",
      "_________________________________________________________________\n"
     ]
    }
   ],
   "source": [
    "model.summary()"
   ]
  },
  {
   "cell_type": "code",
   "execution_count": 61,
   "metadata": {},
   "outputs": [
    {
     "data": {
      "text/plain": [
       "{'name': 'sequential',\n",
       " 'layers': [{'class_name': 'InputLayer',\n",
       "   'config': {'batch_input_shape': (None, 4),\n",
       "    'dtype': 'float32',\n",
       "    'sparse': False,\n",
       "    'ragged': False,\n",
       "    'name': 'dense_input'}},\n",
       "  {'class_name': 'Dense',\n",
       "   'config': {'name': 'dense',\n",
       "    'trainable': True,\n",
       "    'batch_input_shape': (None, 4),\n",
       "    'dtype': 'float32',\n",
       "    'units': 64,\n",
       "    'activation': 'relu',\n",
       "    'use_bias': True,\n",
       "    'kernel_initializer': {'class_name': 'GlorotUniform',\n",
       "     'config': {'seed': None}},\n",
       "    'bias_initializer': {'class_name': 'Zeros', 'config': {}},\n",
       "    'kernel_regularizer': None,\n",
       "    'bias_regularizer': None,\n",
       "    'activity_regularizer': None,\n",
       "    'kernel_constraint': None,\n",
       "    'bias_constraint': None}},\n",
       "  {'class_name': 'Dense',\n",
       "   'config': {'name': 'dense_1',\n",
       "    'trainable': True,\n",
       "    'dtype': 'float32',\n",
       "    'units': 3,\n",
       "    'activation': 'softmax',\n",
       "    'use_bias': True,\n",
       "    'kernel_initializer': {'class_name': 'GlorotUniform',\n",
       "     'config': {'seed': None}},\n",
       "    'bias_initializer': {'class_name': 'Zeros', 'config': {}},\n",
       "    'kernel_regularizer': None,\n",
       "    'bias_regularizer': None,\n",
       "    'activity_regularizer': None,\n",
       "    'kernel_constraint': None,\n",
       "    'bias_constraint': None}}]}"
      ]
     },
     "execution_count": 61,
     "metadata": {},
     "output_type": "execute_result"
    }
   ],
   "source": [
    "model.get_config()"
   ]
  },
  {
   "cell_type": "code",
   "execution_count": 63,
   "metadata": {},
   "outputs": [
    {
     "data": {
      "text/plain": [
       "(None, 3)"
      ]
     },
     "execution_count": 63,
     "metadata": {},
     "output_type": "execute_result"
    }
   ],
   "source": [
    "model.output_shape"
   ]
  },
  {
   "cell_type": "code",
   "execution_count": 64,
   "metadata": {},
   "outputs": [],
   "source": [
    "model.compile(loss='categorical_crossentropy', optimizer='adam', metrics=['accuracy'])"
   ]
  },
  {
   "cell_type": "code",
   "execution_count": 98,
   "metadata": {},
   "outputs": [
    {
     "name": "stdout",
     "output_type": "stream",
     "text": [
      "Epoch 1/100\n",
      "11/11 [==============================] - 0s 15ms/step - loss: 0.0316 - accuracy: 0.9881 - val_loss: 0.1729 - val_accuracy: 0.8929\n",
      "Epoch 2/100\n",
      "11/11 [==============================] - 0s 5ms/step - loss: 0.0319 - accuracy: 0.9881 - val_loss: 0.1693 - val_accuracy: 0.8929\n",
      "Epoch 3/100\n",
      "11/11 [==============================] - 0s 5ms/step - loss: 0.0317 - accuracy: 0.9881 - val_loss: 0.1694 - val_accuracy: 0.8929\n",
      "Epoch 4/100\n",
      "11/11 [==============================] - 0s 5ms/step - loss: 0.0314 - accuracy: 0.9881 - val_loss: 0.1702 - val_accuracy: 0.8929\n",
      "Epoch 5/100\n",
      "11/11 [==============================] - 0s 5ms/step - loss: 0.0332 - accuracy: 0.9881 - val_loss: 0.1847 - val_accuracy: 0.9286\n",
      "Epoch 6/100\n",
      "11/11 [==============================] - 0s 5ms/step - loss: 0.0314 - accuracy: 0.9881 - val_loss: 0.1851 - val_accuracy: 0.9286\n",
      "Epoch 7/100\n",
      "11/11 [==============================] - 0s 6ms/step - loss: 0.0318 - accuracy: 0.9881 - val_loss: 0.1768 - val_accuracy: 0.8929\n",
      "Epoch 8/100\n",
      "11/11 [==============================] - 0s 4ms/step - loss: 0.0319 - accuracy: 0.9881 - val_loss: 0.1827 - val_accuracy: 0.9286\n",
      "Epoch 9/100\n",
      "11/11 [==============================] - 0s 5ms/step - loss: 0.0305 - accuracy: 0.9881 - val_loss: 0.1774 - val_accuracy: 0.8929\n",
      "Epoch 10/100\n",
      "11/11 [==============================] - 0s 5ms/step - loss: 0.0305 - accuracy: 0.9881 - val_loss: 0.1770 - val_accuracy: 0.8929\n",
      "Epoch 11/100\n",
      "11/11 [==============================] - 0s 5ms/step - loss: 0.0302 - accuracy: 0.9881 - val_loss: 0.1772 - val_accuracy: 0.8929\n",
      "Epoch 12/100\n",
      "11/11 [==============================] - 0s 4ms/step - loss: 0.0301 - accuracy: 0.9881 - val_loss: 0.1766 - val_accuracy: 0.8929\n",
      "Epoch 13/100\n",
      "11/11 [==============================] - 0s 5ms/step - loss: 0.0306 - accuracy: 0.9881 - val_loss: 0.1719 - val_accuracy: 0.8929\n",
      "Epoch 14/100\n",
      "11/11 [==============================] - 0s 4ms/step - loss: 0.0302 - accuracy: 0.9881 - val_loss: 0.1767 - val_accuracy: 0.8929\n",
      "Epoch 15/100\n",
      "11/11 [==============================] - 0s 4ms/step - loss: 0.0296 - accuracy: 0.9881 - val_loss: 0.1776 - val_accuracy: 0.8929\n",
      "Epoch 16/100\n",
      "11/11 [==============================] - 0s 5ms/step - loss: 0.0294 - accuracy: 0.9881 - val_loss: 0.1791 - val_accuracy: 0.8929\n",
      "Epoch 17/100\n",
      "11/11 [==============================] - 0s 5ms/step - loss: 0.0294 - accuracy: 0.9881 - val_loss: 0.1776 - val_accuracy: 0.8929\n",
      "Epoch 18/100\n",
      "11/11 [==============================] - 0s 5ms/step - loss: 0.0293 - accuracy: 0.9881 - val_loss: 0.1820 - val_accuracy: 0.8929\n",
      "Epoch 19/100\n",
      "11/11 [==============================] - 0s 5ms/step - loss: 0.0292 - accuracy: 0.9881 - val_loss: 0.1827 - val_accuracy: 0.8929\n",
      "Epoch 20/100\n",
      "11/11 [==============================] - 0s 4ms/step - loss: 0.0290 - accuracy: 0.9881 - val_loss: 0.1825 - val_accuracy: 0.8929\n",
      "Epoch 21/100\n",
      "11/11 [==============================] - 0s 4ms/step - loss: 0.0305 - accuracy: 0.9881 - val_loss: 0.1757 - val_accuracy: 0.8929\n",
      "Epoch 22/100\n",
      "11/11 [==============================] - 0s 4ms/step - loss: 0.0293 - accuracy: 0.9881 - val_loss: 0.1825 - val_accuracy: 0.8929\n",
      "Epoch 23/100\n",
      "11/11 [==============================] - 0s 4ms/step - loss: 0.0297 - accuracy: 0.9881 - val_loss: 0.1790 - val_accuracy: 0.8929\n",
      "Epoch 24/100\n",
      "11/11 [==============================] - 0s 5ms/step - loss: 0.0282 - accuracy: 0.9881 - val_loss: 0.1853 - val_accuracy: 0.8929\n",
      "Epoch 25/100\n",
      "11/11 [==============================] - 0s 5ms/step - loss: 0.0280 - accuracy: 0.9881 - val_loss: 0.1904 - val_accuracy: 0.8929\n",
      "Epoch 26/100\n",
      "11/11 [==============================] - 0s 5ms/step - loss: 0.0280 - accuracy: 0.9881 - val_loss: 0.1918 - val_accuracy: 0.8929\n",
      "Epoch 27/100\n",
      "11/11 [==============================] - 0s 4ms/step - loss: 0.0280 - accuracy: 0.9881 - val_loss: 0.1909 - val_accuracy: 0.8929\n",
      "Epoch 28/100\n",
      "11/11 [==============================] - 0s 4ms/step - loss: 0.0278 - accuracy: 0.9881 - val_loss: 0.1886 - val_accuracy: 0.8929\n",
      "Epoch 29/100\n",
      "11/11 [==============================] - 0s 4ms/step - loss: 0.0275 - accuracy: 0.9881 - val_loss: 0.1895 - val_accuracy: 0.8929\n",
      "Epoch 30/100\n",
      "11/11 [==============================] - 0s 5ms/step - loss: 0.0273 - accuracy: 0.9881 - val_loss: 0.1863 - val_accuracy: 0.8929\n",
      "Epoch 31/100\n",
      "11/11 [==============================] - 0s 5ms/step - loss: 0.0275 - accuracy: 0.9881 - val_loss: 0.1886 - val_accuracy: 0.8929\n",
      "Epoch 32/100\n",
      "11/11 [==============================] - 0s 5ms/step - loss: 0.0285 - accuracy: 0.9881 - val_loss: 0.1832 - val_accuracy: 0.8929\n",
      "Epoch 33/100\n",
      "11/11 [==============================] - 0s 5ms/step - loss: 0.0271 - accuracy: 0.9881 - val_loss: 0.1871 - val_accuracy: 0.8929\n",
      "Epoch 34/100\n",
      "11/11 [==============================] - 0s 4ms/step - loss: 0.0271 - accuracy: 0.9881 - val_loss: 0.1922 - val_accuracy: 0.8929\n",
      "Epoch 35/100\n",
      "11/11 [==============================] - 0s 5ms/step - loss: 0.0273 - accuracy: 0.9881 - val_loss: 0.1938 - val_accuracy: 0.8929\n",
      "Epoch 36/100\n",
      "11/11 [==============================] - 0s 5ms/step - loss: 0.0266 - accuracy: 0.9881 - val_loss: 0.1910 - val_accuracy: 0.8929\n",
      "Epoch 37/100\n",
      "11/11 [==============================] - 0s 5ms/step - loss: 0.0268 - accuracy: 0.9881 - val_loss: 0.1917 - val_accuracy: 0.8929\n",
      "Epoch 38/100\n",
      "11/11 [==============================] - 0s 4ms/step - loss: 0.0266 - accuracy: 0.9881 - val_loss: 0.1907 - val_accuracy: 0.8929\n",
      "Epoch 39/100\n",
      "11/11 [==============================] - 0s 5ms/step - loss: 0.0261 - accuracy: 0.9881 - val_loss: 0.1962 - val_accuracy: 0.8929\n",
      "Epoch 40/100\n",
      "11/11 [==============================] - 0s 5ms/step - loss: 0.0267 - accuracy: 0.9881 - val_loss: 0.2008 - val_accuracy: 0.8929\n",
      "Epoch 41/100\n",
      "11/11 [==============================] - 0s 5ms/step - loss: 0.0260 - accuracy: 0.9881 - val_loss: 0.1962 - val_accuracy: 0.8929\n",
      "Epoch 42/100\n",
      "11/11 [==============================] - 0s 5ms/step - loss: 0.0263 - accuracy: 0.9881 - val_loss: 0.1960 - val_accuracy: 0.8929\n",
      "Epoch 43/100\n",
      "11/11 [==============================] - 0s 5ms/step - loss: 0.0260 - accuracy: 0.9881 - val_loss: 0.1991 - val_accuracy: 0.8929\n",
      "Epoch 44/100\n",
      "11/11 [==============================] - 0s 4ms/step - loss: 0.0256 - accuracy: 0.9881 - val_loss: 0.1984 - val_accuracy: 0.8929\n",
      "Epoch 45/100\n",
      "11/11 [==============================] - 0s 4ms/step - loss: 0.0257 - accuracy: 0.9881 - val_loss: 0.2000 - val_accuracy: 0.8929\n",
      "Epoch 46/100\n",
      "11/11 [==============================] - 0s 4ms/step - loss: 0.0259 - accuracy: 0.9881 - val_loss: 0.1969 - val_accuracy: 0.8929\n",
      "Epoch 47/100\n",
      "11/11 [==============================] - 0s 4ms/step - loss: 0.0262 - accuracy: 0.9881 - val_loss: 0.2029 - val_accuracy: 0.8929\n",
      "Epoch 48/100\n",
      "11/11 [==============================] - 0s 4ms/step - loss: 0.0251 - accuracy: 0.9881 - val_loss: 0.1984 - val_accuracy: 0.8929\n",
      "Epoch 49/100\n",
      "11/11 [==============================] - 0s 4ms/step - loss: 0.0252 - accuracy: 0.9881 - val_loss: 0.1993 - val_accuracy: 0.8929\n",
      "Epoch 50/100\n",
      "11/11 [==============================] - 0s 6ms/step - loss: 0.0252 - accuracy: 0.9881 - val_loss: 0.1989 - val_accuracy: 0.8929\n",
      "Epoch 51/100\n",
      "11/11 [==============================] - 0s 4ms/step - loss: 0.0250 - accuracy: 0.9881 - val_loss: 0.1990 - val_accuracy: 0.8929\n",
      "Epoch 52/100\n",
      "11/11 [==============================] - 0s 4ms/step - loss: 0.0250 - accuracy: 0.9881 - val_loss: 0.2022 - val_accuracy: 0.8929\n",
      "Epoch 53/100\n",
      "11/11 [==============================] - 0s 4ms/step - loss: 0.0252 - accuracy: 0.9881 - val_loss: 0.2107 - val_accuracy: 0.8929\n",
      "Epoch 54/100\n",
      "11/11 [==============================] - 0s 4ms/step - loss: 0.0249 - accuracy: 0.9881 - val_loss: 0.2058 - val_accuracy: 0.8929\n",
      "Epoch 55/100\n",
      "11/11 [==============================] - 0s 4ms/step - loss: 0.0249 - accuracy: 0.9881 - val_loss: 0.2036 - val_accuracy: 0.8929\n",
      "Epoch 56/100\n",
      "11/11 [==============================] - 0s 4ms/step - loss: 0.0243 - accuracy: 0.9881 - val_loss: 0.2077 - val_accuracy: 0.8929\n",
      "Epoch 57/100\n",
      "11/11 [==============================] - 0s 4ms/step - loss: 0.0241 - accuracy: 0.9881 - val_loss: 0.2069 - val_accuracy: 0.8929\n",
      "Epoch 58/100\n",
      "11/11 [==============================] - 0s 4ms/step - loss: 0.0242 - accuracy: 0.9881 - val_loss: 0.2070 - val_accuracy: 0.8929\n",
      "Epoch 59/100\n",
      "11/11 [==============================] - 0s 4ms/step - loss: 0.0240 - accuracy: 0.9881 - val_loss: 0.2082 - val_accuracy: 0.8929\n",
      "Epoch 60/100\n",
      "11/11 [==============================] - 0s 4ms/step - loss: 0.0242 - accuracy: 0.9881 - val_loss: 0.2109 - val_accuracy: 0.8929\n",
      "Epoch 61/100\n",
      "11/11 [==============================] - 0s 4ms/step - loss: 0.0237 - accuracy: 0.9881 - val_loss: 0.2113 - val_accuracy: 0.8929\n",
      "Epoch 62/100\n",
      "11/11 [==============================] - 0s 5ms/step - loss: 0.0242 - accuracy: 0.9881 - val_loss: 0.2145 - val_accuracy: 0.8929\n",
      "Epoch 63/100\n",
      "11/11 [==============================] - 0s 4ms/step - loss: 0.0239 - accuracy: 0.9881 - val_loss: 0.2140 - val_accuracy: 0.8929\n",
      "Epoch 64/100\n",
      "11/11 [==============================] - 0s 4ms/step - loss: 0.0235 - accuracy: 0.9881 - val_loss: 0.2081 - val_accuracy: 0.8929\n",
      "Epoch 65/100\n",
      "11/11 [==============================] - 0s 4ms/step - loss: 0.0234 - accuracy: 0.9881 - val_loss: 0.2094 - val_accuracy: 0.8929\n",
      "Epoch 66/100\n",
      "11/11 [==============================] - 0s 4ms/step - loss: 0.0239 - accuracy: 0.9881 - val_loss: 0.2077 - val_accuracy: 0.8929\n",
      "Epoch 67/100\n",
      "11/11 [==============================] - 0s 4ms/step - loss: 0.0228 - accuracy: 0.9881 - val_loss: 0.2250 - val_accuracy: 0.8929\n",
      "Epoch 68/100\n",
      "11/11 [==============================] - 0s 4ms/step - loss: 0.0232 - accuracy: 1.0000 - val_loss: 0.2229 - val_accuracy: 0.8929\n",
      "Epoch 69/100\n",
      "11/11 [==============================] - 0s 4ms/step - loss: 0.0239 - accuracy: 1.0000 - val_loss: 0.2263 - val_accuracy: 0.8929\n",
      "Epoch 70/100\n",
      "11/11 [==============================] - 0s 4ms/step - loss: 0.0227 - accuracy: 1.0000 - val_loss: 0.2165 - val_accuracy: 0.8929\n",
      "Epoch 71/100\n",
      "11/11 [==============================] - 0s 4ms/step - loss: 0.0227 - accuracy: 0.9881 - val_loss: 0.2156 - val_accuracy: 0.8929\n",
      "Epoch 72/100\n",
      "11/11 [==============================] - 0s 4ms/step - loss: 0.0232 - accuracy: 0.9881 - val_loss: 0.2219 - val_accuracy: 0.8929\n",
      "Epoch 73/100\n",
      "11/11 [==============================] - 0s 4ms/step - loss: 0.0226 - accuracy: 0.9881 - val_loss: 0.2217 - val_accuracy: 0.8929\n",
      "Epoch 74/100\n",
      "11/11 [==============================] - 0s 4ms/step - loss: 0.0223 - accuracy: 0.9881 - val_loss: 0.2178 - val_accuracy: 0.8929\n",
      "Epoch 75/100\n",
      "11/11 [==============================] - 0s 4ms/step - loss: 0.0231 - accuracy: 0.9881 - val_loss: 0.2135 - val_accuracy: 0.8929\n",
      "Epoch 76/100\n",
      "11/11 [==============================] - 0s 4ms/step - loss: 0.0223 - accuracy: 0.9881 - val_loss: 0.2198 - val_accuracy: 0.8929\n",
      "Epoch 77/100\n",
      "11/11 [==============================] - 0s 4ms/step - loss: 0.0223 - accuracy: 0.9881 - val_loss: 0.2193 - val_accuracy: 0.8929\n",
      "Epoch 78/100\n",
      "11/11 [==============================] - 0s 4ms/step - loss: 0.0220 - accuracy: 0.9881 - val_loss: 0.2248 - val_accuracy: 0.8929\n",
      "Epoch 79/100\n",
      "11/11 [==============================] - 0s 4ms/step - loss: 0.0219 - accuracy: 0.9881 - val_loss: 0.2255 - val_accuracy: 0.8929\n",
      "Epoch 80/100\n",
      "11/11 [==============================] - 0s 4ms/step - loss: 0.0217 - accuracy: 0.9881 - val_loss: 0.2245 - val_accuracy: 0.8929\n",
      "Epoch 81/100\n",
      "11/11 [==============================] - 0s 4ms/step - loss: 0.0216 - accuracy: 0.9881 - val_loss: 0.2237 - val_accuracy: 0.8929\n",
      "Epoch 82/100\n",
      "11/11 [==============================] - 0s 4ms/step - loss: 0.0218 - accuracy: 0.9881 - val_loss: 0.2222 - val_accuracy: 0.8929\n",
      "Epoch 83/100\n",
      "11/11 [==============================] - 0s 4ms/step - loss: 0.0232 - accuracy: 0.9881 - val_loss: 0.2337 - val_accuracy: 0.8929\n",
      "Epoch 84/100\n",
      "11/11 [==============================] - 0s 5ms/step - loss: 0.0216 - accuracy: 0.9881 - val_loss: 0.2247 - val_accuracy: 0.8929\n",
      "Epoch 85/100\n",
      "11/11 [==============================] - 0s 4ms/step - loss: 0.0213 - accuracy: 0.9881 - val_loss: 0.2242 - val_accuracy: 0.8929\n",
      "Epoch 86/100\n",
      "11/11 [==============================] - 0s 5ms/step - loss: 0.0211 - accuracy: 0.9881 - val_loss: 0.2278 - val_accuracy: 0.8929\n",
      "Epoch 87/100\n",
      "11/11 [==============================] - 0s 5ms/step - loss: 0.0209 - accuracy: 0.9881 - val_loss: 0.2299 - val_accuracy: 0.8929\n",
      "Epoch 88/100\n",
      "11/11 [==============================] - 0s 5ms/step - loss: 0.0210 - accuracy: 0.9881 - val_loss: 0.2296 - val_accuracy: 0.8929\n",
      "Epoch 89/100\n",
      "11/11 [==============================] - 0s 4ms/step - loss: 0.0208 - accuracy: 0.9881 - val_loss: 0.2301 - val_accuracy: 0.8929\n",
      "Epoch 90/100\n",
      "11/11 [==============================] - 0s 5ms/step - loss: 0.0209 - accuracy: 0.9881 - val_loss: 0.2295 - val_accuracy: 0.8929\n",
      "Epoch 91/100\n",
      "11/11 [==============================] - 0s 4ms/step - loss: 0.0205 - accuracy: 0.9881 - val_loss: 0.2337 - val_accuracy: 0.8929\n",
      "Epoch 92/100\n",
      "11/11 [==============================] - 0s 4ms/step - loss: 0.0207 - accuracy: 0.9881 - val_loss: 0.2341 - val_accuracy: 0.8929\n",
      "Epoch 93/100\n",
      "11/11 [==============================] - 0s 4ms/step - loss: 0.0206 - accuracy: 0.9881 - val_loss: 0.2334 - val_accuracy: 0.8929\n",
      "Epoch 94/100\n",
      "11/11 [==============================] - 0s 5ms/step - loss: 0.0204 - accuracy: 0.9881 - val_loss: 0.2400 - val_accuracy: 0.8929\n",
      "Epoch 95/100\n",
      "11/11 [==============================] - 0s 5ms/step - loss: 0.0204 - accuracy: 1.0000 - val_loss: 0.2407 - val_accuracy: 0.8929\n",
      "Epoch 96/100\n",
      "11/11 [==============================] - 0s 5ms/step - loss: 0.0206 - accuracy: 0.9881 - val_loss: 0.2341 - val_accuracy: 0.8929\n",
      "Epoch 97/100\n",
      "11/11 [==============================] - 0s 5ms/step - loss: 0.0203 - accuracy: 0.9881 - val_loss: 0.2358 - val_accuracy: 0.8929\n",
      "Epoch 98/100\n",
      "11/11 [==============================] - 0s 5ms/step - loss: 0.0200 - accuracy: 0.9881 - val_loss: 0.2354 - val_accuracy: 0.8929\n",
      "Epoch 99/100\n",
      "11/11 [==============================] - 0s 5ms/step - loss: 0.0203 - accuracy: 0.9881 - val_loss: 0.2343 - val_accuracy: 0.8929\n",
      "Epoch 100/100\n",
      "11/11 [==============================] - 0s 5ms/step - loss: 0.0202 - accuracy: 0.9881 - val_loss: 0.2426 - val_accuracy: 0.8929\n"
     ]
    }
   ],
   "source": [
    "history = model.fit(X_train, y_train_1h, epochs=100, batch_size=8, verbose=1, validation_split=0.25 )"
   ]
  },
  {
   "cell_type": "code",
   "execution_count": 99,
   "metadata": {},
   "outputs": [],
   "source": [
    "score = model.evaluate(X_test, y_test_1h, verbose=0)"
   ]
  },
  {
   "cell_type": "code",
   "execution_count": 100,
   "metadata": {},
   "outputs": [
    {
     "name": "stdout",
     "output_type": "stream",
     "text": [
      "Test loss 0.030931394547224045\n",
      "Test accuracy 0.9736841917037964\n"
     ]
    }
   ],
   "source": [
    "print('Test loss', score[0])\n",
    "print('Test accuracy', score[1])"
   ]
  },
  {
   "cell_type": "code",
   "execution_count": 101,
   "metadata": {},
   "outputs": [
    {
     "data": {
      "text/plain": [
       "['loss', 'accuracy']"
      ]
     },
     "execution_count": 101,
     "metadata": {},
     "output_type": "execute_result"
    }
   ],
   "source": [
    "model.metrics_names"
   ]
  },
  {
   "cell_type": "code",
   "execution_count": 102,
   "metadata": {},
   "outputs": [],
   "source": [
    "y_pred = model.predict(X_test)"
   ]
  },
  {
   "cell_type": "code",
   "execution_count": 103,
   "metadata": {},
   "outputs": [
    {
     "data": {
      "text/plain": [
       "array([[1.   , 0.   , 0.   ],\n",
       "       [0.019, 0.98 , 0.   ],\n",
       "       [0.   , 0.999, 0.001],\n",
       "       [1.   , 0.   , 0.   ]], dtype=float32)"
      ]
     },
     "execution_count": 103,
     "metadata": {},
     "output_type": "execute_result"
    }
   ],
   "source": [
    "y_pred[:4].round(3)"
   ]
  },
  {
   "cell_type": "code",
   "execution_count": 104,
   "metadata": {},
   "outputs": [],
   "source": [
    "y_pred_cat = np.argmax(y_pred, axis=1)"
   ]
  },
  {
   "cell_type": "code",
   "execution_count": 105,
   "metadata": {},
   "outputs": [
    {
     "data": {
      "text/plain": [
       "array([0, 1, 1, 0], dtype=int64)"
      ]
     },
     "execution_count": 105,
     "metadata": {},
     "output_type": "execute_result"
    }
   ],
   "source": [
    "y_pred_cat[:4]"
   ]
  },
  {
   "cell_type": "code",
   "execution_count": 106,
   "metadata": {},
   "outputs": [],
   "source": [
    "from sklearn.metrics import confusion_matrix, classification_report"
   ]
  },
  {
   "cell_type": "code",
   "execution_count": 107,
   "metadata": {},
   "outputs": [
    {
     "name": "stdout",
     "output_type": "stream",
     "text": [
      "              precision    recall  f1-score   support\n",
      "\n",
      "      setosa       1.00      1.00      1.00        13\n",
      "  versicolor       1.00      0.94      0.97        16\n",
      "   virginica       0.90      1.00      0.95         9\n",
      "\n",
      "    accuracy                           0.97        38\n",
      "   macro avg       0.97      0.98      0.97        38\n",
      "weighted avg       0.98      0.97      0.97        38\n",
      "\n"
     ]
    }
   ],
   "source": [
    "print(classification_report(y_test, y_pred_cat, target_names=class_names))"
   ]
  },
  {
   "cell_type": "code",
   "execution_count": 108,
   "metadata": {},
   "outputs": [
    {
     "name": "stdout",
     "output_type": "stream",
     "text": [
      "[[13  0  0]\n",
      " [ 0 15  1]\n",
      " [ 0  0  9]]\n"
     ]
    }
   ],
   "source": [
    "print(confusion_matrix(y_test, y_pred_cat))"
   ]
  },
  {
   "cell_type": "code",
   "execution_count": 113,
   "metadata": {},
   "outputs": [],
   "source": [
    "df_hist = pd.DataFrame(history.history)"
   ]
  },
  {
   "cell_type": "code",
   "execution_count": 114,
   "metadata": {},
   "outputs": [
    {
     "data": {
      "text/plain": [
       "{'verbose': 1, 'epochs': 100, 'steps': 11}"
      ]
     },
     "execution_count": 114,
     "metadata": {},
     "output_type": "execute_result"
    }
   ],
   "source": [
    "history.params"
   ]
  },
  {
   "cell_type": "code",
   "execution_count": 115,
   "metadata": {},
   "outputs": [
    {
     "data": {
      "text/plain": [
       "dict_keys(['loss', 'accuracy', 'val_loss', 'val_accuracy'])"
      ]
     },
     "execution_count": 115,
     "metadata": {},
     "output_type": "execute_result"
    }
   ],
   "source": [
    "history.history.keys()"
   ]
  },
  {
   "cell_type": "code",
   "execution_count": 117,
   "metadata": {},
   "outputs": [
    {
     "data": {
      "text/plain": [
       "Text(0.5, 1.0, 'Loss')"
      ]
     },
     "execution_count": 117,
     "metadata": {},
     "output_type": "execute_result"
    },
    {
     "data": {
      "image/png": "[encoded data removed]",
      "text/plain": [
       "<Figure size 432x288 with 1 Axes>"
      ]
     },
     "metadata": {
      "needs_background": "light"
     },
     "output_type": "display_data"
    }
   ],
   "source": [
    "df_hist['loss'].plot(style='b--', label='Training')\n",
    "df_hist['val_loss'].plot(style='r-', label='Test')\n",
    "plt.xlabel('Epoch')\n",
    "plt.ylabel('Loss')\n",
    "plt.legend()\n",
    "plt.title('Loss')"
   ]
  },
  {
   "cell_type": "code",
   "execution_count": 118,
   "metadata": {},
   "outputs": [
    {
     "data": {
      "text/plain": [
       "Text(0.5, 1.0, 'model accuracy')"
      ]
     },
     "execution_count": 118,
     "metadata": {},
     "output_type": "execute_result"
    },
    {
     "data": {
      "image/png": "[encoded data removed]",
      "text/plain": [
       "<Figure size 432x288 with 1 Axes>"
      ]
     },
     "metadata": {
      "needs_background": "light"
     },
     "output_type": "display_data"
    }
   ],
   "source": [
    "df_hist['accuracy'].plot(style='b--', label='Training')\n",
    "df_hist['val_accuracy'].plot(style='r-', label='Test')\n",
    "plt.xlabel('Epoch')\n",
    "plt.ylabel('accuracy')\n",
    "plt.legend()\n",
    "plt.title('model accuracy')"
   ]
  },
  {
   "cell_type": "code",
   "execution_count": 119,
   "metadata": {},
   "outputs": [],
   "source": [
    "from keras.callbacks import TensorBoard"
   ]
  },
  {
   "cell_type": "code",
   "execution_count": 122,
   "metadata": {},
   "outputs": [
    {
     "name": "stdout",
     "output_type": "stream",
     "text": [
      "Epoch 1/100\n",
      "3/3 [==============================] - 0s 71ms/step - loss: 0.0153 - accuracy: 1.0000 - val_loss: 0.3016 - val_accuracy: 0.8929\n",
      "Epoch 2/100\n",
      "3/3 [==============================] - 0s 25ms/step - loss: 0.0150 - accuracy: 1.0000 - val_loss: 0.2983 - val_accuracy: 0.8929\n",
      "Epoch 3/100\n",
      "3/3 [==============================] - 0s 21ms/step - loss: 0.0149 - accuracy: 1.0000 - val_loss: 0.2948 - val_accuracy: 0.8929\n",
      "Epoch 4/100\n",
      "3/3 [==============================] - 0s 21ms/step - loss: 0.0148 - accuracy: 1.0000 - val_loss: 0.2913 - val_accuracy: 0.8929\n",
      "Epoch 5/100\n",
      "3/3 [==============================] - 0s 18ms/step - loss: 0.0150 - accuracy: 1.0000 - val_loss: 0.2881 - val_accuracy: 0.8929\n",
      "Epoch 6/100\n",
      "3/3 [==============================] - 0s 18ms/step - loss: 0.0147 - accuracy: 1.0000 - val_loss: 0.2869 - val_accuracy: 0.8929\n",
      "Epoch 7/100\n",
      "3/3 [==============================] - 0s 19ms/step - loss: 0.0146 - accuracy: 1.0000 - val_loss: 0.2866 - val_accuracy: 0.8929\n",
      "Epoch 8/100\n",
      "3/3 [==============================] - 0s 18ms/step - loss: 0.0146 - accuracy: 1.0000 - val_loss: 0.2860 - val_accuracy: 0.8929\n",
      "Epoch 9/100\n",
      "3/3 [==============================] - 0s 18ms/step - loss: 0.0146 - accuracy: 1.0000 - val_loss: 0.2861 - val_accuracy: 0.8929\n",
      "Epoch 10/100\n",
      "3/3 [==============================] - 0s 20ms/step - loss: 0.0146 - accuracy: 1.0000 - val_loss: 0.2856 - val_accuracy: 0.8929\n",
      "Epoch 11/100\n",
      "3/3 [==============================] - 0s 19ms/step - loss: 0.0146 - accuracy: 1.0000 - val_loss: 0.2857 - val_accuracy: 0.8929\n",
      "Epoch 12/100\n",
      "3/3 [==============================] - 0s 21ms/step - loss: 0.0145 - accuracy: 1.0000 - val_loss: 0.2865 - val_accuracy: 0.8929\n",
      "Epoch 13/100\n",
      "3/3 [==============================] - 0s 19ms/step - loss: 0.0145 - accuracy: 1.0000 - val_loss: 0.2873 - val_accuracy: 0.8929\n",
      "Epoch 14/100\n",
      "3/3 [==============================] - 0s 18ms/step - loss: 0.0145 - accuracy: 1.0000 - val_loss: 0.2882 - val_accuracy: 0.8929\n",
      "Epoch 15/100\n",
      "3/3 [==============================] - 0s 16ms/step - loss: 0.0144 - accuracy: 1.0000 - val_loss: 0.2894 - val_accuracy: 0.8929\n",
      "Epoch 16/100\n",
      "3/3 [==============================] - 0s 18ms/step - loss: 0.0145 - accuracy: 1.0000 - val_loss: 0.2915 - val_accuracy: 0.8929\n",
      "Epoch 17/100\n",
      "3/3 [==============================] - 0s 18ms/step - loss: 0.0144 - accuracy: 1.0000 - val_loss: 0.2925 - val_accuracy: 0.8929\n",
      "Epoch 18/100\n",
      "3/3 [==============================] - 0s 19ms/step - loss: 0.0143 - accuracy: 1.0000 - val_loss: 0.2930 - val_accuracy: 0.8929\n",
      "Epoch 19/100\n",
      "3/3 [==============================] - 0s 16ms/step - loss: 0.0143 - accuracy: 1.0000 - val_loss: 0.2937 - val_accuracy: 0.8929\n",
      "Epoch 20/100\n",
      "3/3 [==============================] - 0s 17ms/step - loss: 0.0143 - accuracy: 1.0000 - val_loss: 0.2936 - val_accuracy: 0.8929\n",
      "Epoch 21/100\n",
      "3/3 [==============================] - 0s 16ms/step - loss: 0.0143 - accuracy: 1.0000 - val_loss: 0.2943 - val_accuracy: 0.8929\n",
      "Epoch 22/100\n",
      "3/3 [==============================] - 0s 22ms/step - loss: 0.0142 - accuracy: 1.0000 - val_loss: 0.2941 - val_accuracy: 0.8929\n",
      "Epoch 23/100\n",
      "3/3 [==============================] - 0s 23ms/step - loss: 0.0142 - accuracy: 1.0000 - val_loss: 0.2943 - val_accuracy: 0.8929\n",
      "Epoch 24/100\n",
      "3/3 [==============================] - 0s 28ms/step - loss: 0.0142 - accuracy: 1.0000 - val_loss: 0.2947 - val_accuracy: 0.8929\n",
      "Epoch 25/100\n",
      "3/3 [==============================] - 0s 17ms/step - loss: 0.0142 - accuracy: 1.0000 - val_loss: 0.2942 - val_accuracy: 0.8929\n",
      "Epoch 26/100\n",
      "3/3 [==============================] - 0s 16ms/step - loss: 0.0142 - accuracy: 1.0000 - val_loss: 0.2933 - val_accuracy: 0.8929\n",
      "Epoch 27/100\n",
      "3/3 [==============================] - 0s 15ms/step - loss: 0.0142 - accuracy: 1.0000 - val_loss: 0.2935 - val_accuracy: 0.8929\n",
      "Epoch 28/100\n",
      "3/3 [==============================] - 0s 19ms/step - loss: 0.0141 - accuracy: 1.0000 - val_loss: 0.2941 - val_accuracy: 0.8929\n",
      "Epoch 29/100\n",
      "3/3 [==============================] - 0s 18ms/step - loss: 0.0141 - accuracy: 1.0000 - val_loss: 0.2944 - val_accuracy: 0.8929\n",
      "Epoch 30/100\n",
      "3/3 [==============================] - 0s 22ms/step - loss: 0.0141 - accuracy: 1.0000 - val_loss: 0.2946 - val_accuracy: 0.8929\n",
      "Epoch 31/100\n",
      "3/3 [==============================] - 0s 19ms/step - loss: 0.0141 - accuracy: 1.0000 - val_loss: 0.2953 - val_accuracy: 0.8929\n",
      "Epoch 32/100\n",
      "3/3 [==============================] - 0s 17ms/step - loss: 0.0141 - accuracy: 1.0000 - val_loss: 0.2953 - val_accuracy: 0.8929\n",
      "Epoch 33/100\n",
      "3/3 [==============================] - 0s 18ms/step - loss: 0.0140 - accuracy: 1.0000 - val_loss: 0.2951 - val_accuracy: 0.8929\n",
      "Epoch 34/100\n",
      "3/3 [==============================] - 0s 17ms/step - loss: 0.0140 - accuracy: 1.0000 - val_loss: 0.2952 - val_accuracy: 0.8929\n",
      "Epoch 35/100\n",
      "3/3 [==============================] - 0s 19ms/step - loss: 0.0140 - accuracy: 1.0000 - val_loss: 0.2951 - val_accuracy: 0.8929\n",
      "Epoch 36/100\n",
      "3/3 [==============================] - 0s 18ms/step - loss: 0.0140 - accuracy: 1.0000 - val_loss: 0.2954 - val_accuracy: 0.8929\n",
      "Epoch 37/100\n",
      "3/3 [==============================] - 0s 18ms/step - loss: 0.0140 - accuracy: 1.0000 - val_loss: 0.2958 - val_accuracy: 0.8929\n",
      "Epoch 38/100\n",
      "3/3 [==============================] - 0s 18ms/step - loss: 0.0139 - accuracy: 1.0000 - val_loss: 0.2957 - val_accuracy: 0.8929\n",
      "Epoch 39/100\n",
      "3/3 [==============================] - 0s 19ms/step - loss: 0.0139 - accuracy: 1.0000 - val_loss: 0.2955 - val_accuracy: 0.8929\n",
      "Epoch 40/100\n",
      "3/3 [==============================] - 0s 19ms/step - loss: 0.0139 - accuracy: 1.0000 - val_loss: 0.2965 - val_accuracy: 0.8929\n",
      "Epoch 41/100\n",
      "3/3 [==============================] - 0s 20ms/step - loss: 0.0139 - accuracy: 1.0000 - val_loss: 0.2970 - val_accuracy: 0.8929\n",
      "Epoch 42/100\n",
      "3/3 [==============================] - 0s 17ms/step - loss: 0.0139 - accuracy: 1.0000 - val_loss: 0.2971 - val_accuracy: 0.8929\n",
      "Epoch 43/100\n",
      "3/3 [==============================] - 0s 18ms/step - loss: 0.0138 - accuracy: 1.0000 - val_loss: 0.2987 - val_accuracy: 0.8929\n",
      "Epoch 44/100\n",
      "3/3 [==============================] - 0s 17ms/step - loss: 0.0138 - accuracy: 1.0000 - val_loss: 0.2997 - val_accuracy: 0.8929\n",
      "Epoch 45/100\n",
      "3/3 [==============================] - 0s 18ms/step - loss: 0.0138 - accuracy: 1.0000 - val_loss: 0.3002 - val_accuracy: 0.8929\n",
      "Epoch 46/100\n",
      "3/3 [==============================] - 0s 18ms/step - loss: 0.0137 - accuracy: 1.0000 - val_loss: 0.3010 - val_accuracy: 0.8929\n",
      "Epoch 47/100\n",
      "3/3 [==============================] - 0s 16ms/step - loss: 0.0137 - accuracy: 1.0000 - val_loss: 0.3021 - val_accuracy: 0.8929\n",
      "Epoch 48/100\n",
      "3/3 [==============================] - 0s 20ms/step - loss: 0.0137 - accuracy: 1.0000 - val_loss: 0.3029 - val_accuracy: 0.8929\n",
      "Epoch 49/100\n",
      "3/3 [==============================] - 0s 19ms/step - loss: 0.0137 - accuracy: 1.0000 - val_loss: 0.3031 - val_accuracy: 0.8929\n",
      "Epoch 50/100\n",
      "3/3 [==============================] - 0s 17ms/step - loss: 0.0137 - accuracy: 1.0000 - val_loss: 0.3026 - val_accuracy: 0.8929\n",
      "Epoch 51/100\n",
      "3/3 [==============================] - 0s 17ms/step - loss: 0.0136 - accuracy: 1.0000 - val_loss: 0.3027 - val_accuracy: 0.8929\n",
      "Epoch 52/100\n",
      "3/3 [==============================] - 0s 17ms/step - loss: 0.0136 - accuracy: 1.0000 - val_loss: 0.3031 - val_accuracy: 0.8929\n",
      "Epoch 53/100\n",
      "3/3 [==============================] - 0s 22ms/step - loss: 0.0136 - accuracy: 1.0000 - val_loss: 0.3033 - val_accuracy: 0.8929\n",
      "Epoch 54/100\n",
      "3/3 [==============================] - 0s 17ms/step - loss: 0.0136 - accuracy: 1.0000 - val_loss: 0.3029 - val_accuracy: 0.8929\n",
      "Epoch 55/100\n",
      "3/3 [==============================] - 0s 16ms/step - loss: 0.0136 - accuracy: 1.0000 - val_loss: 0.3030 - val_accuracy: 0.8929\n",
      "Epoch 56/100\n",
      "3/3 [==============================] - 0s 18ms/step - loss: 0.0135 - accuracy: 1.0000 - val_loss: 0.3025 - val_accuracy: 0.8929\n",
      "Epoch 57/100\n",
      "3/3 [==============================] - 0s 19ms/step - loss: 0.0135 - accuracy: 1.0000 - val_loss: 0.3019 - val_accuracy: 0.8929\n",
      "Epoch 58/100\n",
      "3/3 [==============================] - 0s 17ms/step - loss: 0.0135 - accuracy: 1.0000 - val_loss: 0.3017 - val_accuracy: 0.8929\n",
      "Epoch 59/100\n",
      "3/3 [==============================] - 0s 20ms/step - loss: 0.0135 - accuracy: 1.0000 - val_loss: 0.3019 - val_accuracy: 0.8929\n",
      "Epoch 60/100\n",
      "3/3 [==============================] - 0s 18ms/step - loss: 0.0134 - accuracy: 1.0000 - val_loss: 0.3017 - val_accuracy: 0.8929\n",
      "Epoch 61/100\n",
      "3/3 [==============================] - 0s 18ms/step - loss: 0.0134 - accuracy: 1.0000 - val_loss: 0.3019 - val_accuracy: 0.8929\n",
      "Epoch 62/100\n",
      "3/3 [==============================] - 0s 18ms/step - loss: 0.0135 - accuracy: 1.0000 - val_loss: 0.3020 - val_accuracy: 0.8929\n",
      "Epoch 63/100\n",
      "3/3 [==============================] - 0s 18ms/step - loss: 0.0134 - accuracy: 1.0000 - val_loss: 0.3033 - val_accuracy: 0.8929\n",
      "Epoch 64/100\n",
      "3/3 [==============================] - 0s 17ms/step - loss: 0.0134 - accuracy: 1.0000 - val_loss: 0.3043 - val_accuracy: 0.8929\n",
      "Epoch 65/100\n",
      "3/3 [==============================] - 0s 18ms/step - loss: 0.0134 - accuracy: 1.0000 - val_loss: 0.3048 - val_accuracy: 0.8929\n",
      "Epoch 66/100\n",
      "3/3 [==============================] - 0s 18ms/step - loss: 0.0134 - accuracy: 1.0000 - val_loss: 0.3068 - val_accuracy: 0.8929\n",
      "Epoch 67/100\n",
      "3/3 [==============================] - 0s 18ms/step - loss: 0.0133 - accuracy: 1.0000 - val_loss: 0.3082 - val_accuracy: 0.8929\n",
      "Epoch 68/100\n",
      "3/3 [==============================] - 0s 17ms/step - loss: 0.0133 - accuracy: 1.0000 - val_loss: 0.3091 - val_accuracy: 0.8929\n",
      "Epoch 69/100\n",
      "3/3 [==============================] - 0s 16ms/step - loss: 0.0133 - accuracy: 1.0000 - val_loss: 0.3092 - val_accuracy: 0.8929\n",
      "Epoch 70/100\n",
      "3/3 [==============================] - 0s 17ms/step - loss: 0.0132 - accuracy: 1.0000 - val_loss: 0.3088 - val_accuracy: 0.8929\n",
      "Epoch 71/100\n",
      "3/3 [==============================] - 0s 16ms/step - loss: 0.0133 - accuracy: 1.0000 - val_loss: 0.3082 - val_accuracy: 0.8929\n",
      "Epoch 72/100\n",
      "3/3 [==============================] - 0s 19ms/step - loss: 0.0132 - accuracy: 1.0000 - val_loss: 0.3082 - val_accuracy: 0.8929\n",
      "Epoch 73/100\n",
      "3/3 [==============================] - 0s 17ms/step - loss: 0.0132 - accuracy: 1.0000 - val_loss: 0.3083 - val_accuracy: 0.8929\n",
      "Epoch 74/100\n",
      "3/3 [==============================] - 0s 18ms/step - loss: 0.0132 - accuracy: 1.0000 - val_loss: 0.3082 - val_accuracy: 0.8929\n",
      "Epoch 75/100\n",
      "3/3 [==============================] - 0s 18ms/step - loss: 0.0131 - accuracy: 1.0000 - val_loss: 0.3078 - val_accuracy: 0.8929\n",
      "Epoch 76/100\n",
      "3/3 [==============================] - 0s 19ms/step - loss: 0.0131 - accuracy: 1.0000 - val_loss: 0.3078 - val_accuracy: 0.8929\n",
      "Epoch 77/100\n",
      "3/3 [==============================] - 0s 17ms/step - loss: 0.0131 - accuracy: 1.0000 - val_loss: 0.3077 - val_accuracy: 0.8929\n",
      "Epoch 78/100\n",
      "3/3 [==============================] - 0s 16ms/step - loss: 0.0131 - accuracy: 1.0000 - val_loss: 0.3077 - val_accuracy: 0.8929\n",
      "Epoch 79/100\n",
      "3/3 [==============================] - 0s 17ms/step - loss: 0.0131 - accuracy: 1.0000 - val_loss: 0.3081 - val_accuracy: 0.8929\n",
      "Epoch 80/100\n",
      "3/3 [==============================] - 0s 16ms/step - loss: 0.0131 - accuracy: 1.0000 - val_loss: 0.3082 - val_accuracy: 0.8929\n",
      "Epoch 81/100\n",
      "3/3 [==============================] - 0s 17ms/step - loss: 0.0130 - accuracy: 1.0000 - val_loss: 0.3087 - val_accuracy: 0.8929\n",
      "Epoch 82/100\n",
      "3/3 [==============================] - 0s 16ms/step - loss: 0.0130 - accuracy: 1.0000 - val_loss: 0.3098 - val_accuracy: 0.8929\n",
      "Epoch 83/100\n",
      "3/3 [==============================] - 0s 16ms/step - loss: 0.0129 - accuracy: 1.0000 - val_loss: 0.3114 - val_accuracy: 0.8929\n",
      "Epoch 84/100\n",
      "3/3 [==============================] - 0s 15ms/step - loss: 0.0131 - accuracy: 1.0000 - val_loss: 0.3141 - val_accuracy: 0.8929\n",
      "Epoch 85/100\n",
      "3/3 [==============================] - 0s 15ms/step - loss: 0.0130 - accuracy: 1.0000 - val_loss: 0.3151 - val_accuracy: 0.8929\n",
      "Epoch 86/100\n",
      "3/3 [==============================] - 0s 14ms/step - loss: 0.0130 - accuracy: 1.0000 - val_loss: 0.3153 - val_accuracy: 0.8929\n",
      "Epoch 87/100\n",
      "3/3 [==============================] - 0s 13ms/step - loss: 0.0129 - accuracy: 1.0000 - val_loss: 0.3153 - val_accuracy: 0.8929\n",
      "Epoch 88/100\n",
      "3/3 [==============================] - 0s 15ms/step - loss: 0.0129 - accuracy: 1.0000 - val_loss: 0.3148 - val_accuracy: 0.8929\n",
      "Epoch 89/100\n",
      "3/3 [==============================] - 0s 13ms/step - loss: 0.0128 - accuracy: 1.0000 - val_loss: 0.3144 - val_accuracy: 0.8929\n",
      "Epoch 90/100\n",
      "3/3 [==============================] - 0s 15ms/step - loss: 0.0129 - accuracy: 1.0000 - val_loss: 0.3136 - val_accuracy: 0.8929\n",
      "Epoch 91/100\n",
      "3/3 [==============================] - 0s 13ms/step - loss: 0.0128 - accuracy: 1.0000 - val_loss: 0.3129 - val_accuracy: 0.8929\n",
      "Epoch 92/100\n",
      "3/3 [==============================] - 0s 15ms/step - loss: 0.0128 - accuracy: 1.0000 - val_loss: 0.3126 - val_accuracy: 0.8929\n",
      "Epoch 93/100\n",
      "3/3 [==============================] - 0s 13ms/step - loss: 0.0128 - accuracy: 1.0000 - val_loss: 0.3121 - val_accuracy: 0.8929\n",
      "Epoch 94/100\n",
      "3/3 [==============================] - 0s 12ms/step - loss: 0.0128 - accuracy: 1.0000 - val_loss: 0.3132 - val_accuracy: 0.8929\n",
      "Epoch 95/100\n",
      "3/3 [==============================] - 0s 13ms/step - loss: 0.0127 - accuracy: 1.0000 - val_loss: 0.3134 - val_accuracy: 0.8929\n",
      "Epoch 96/100\n",
      "3/3 [==============================] - 0s 13ms/step - loss: 0.0127 - accuracy: 1.0000 - val_loss: 0.3134 - val_accuracy: 0.8929\n",
      "Epoch 97/100\n",
      "3/3 [==============================] - 0s 12ms/step - loss: 0.0127 - accuracy: 1.0000 - val_loss: 0.3128 - val_accuracy: 0.8929\n",
      "Epoch 98/100\n",
      "3/3 [==============================] - 0s 13ms/step - loss: 0.0127 - accuracy: 1.0000 - val_loss: 0.3129 - val_accuracy: 0.8929\n",
      "Epoch 99/100\n",
      "3/3 [==============================] - 0s 13ms/step - loss: 0.0127 - accuracy: 1.0000 - val_loss: 0.3125 - val_accuracy: 0.8929\n",
      "Epoch 100/100\n",
      "3/3 [==============================] - 0s 11ms/step - loss: 0.0126 - accuracy: 1.0000 - val_loss: 0.3134 - val_accuracy: 0.8929\n"
     ]
    }
   ],
   "source": [
    "history = model.fit(X_train, y_train_1h, epochs=100, verbose=1, batch_size=32, validation_split=0.25,callbacks=[TensorBoard(log_dir='./log1')])"
   ]
  },
  {
   "cell_type": "code",
   "execution_count": 123,
   "metadata": {},
   "outputs": [
    {
     "name": "stdout",
     "output_type": "stream",
     "text": [
      "The tensorboard extension is already loaded. To reload it, use:\n",
      "  %reload_ext tensorboard\n"
     ]
    },
    {
     "data": {
      "text/plain": [
       "Reusing TensorBoard on port 6006 (pid 292), started 0:01:05 ago. (Use '!kill 292' to kill it.)"
      ]
     },
     "metadata": {},
     "output_type": "display_data"
    },
    {
     "data": {
      "text/html": [
       "\n",
       "      <iframe id=\"tensorboard-frame-a978edece2566f56\" width=\"100%\" height=\"800\" frameborder=\"0\">\n",
       "      </iframe>\n",
       "      <script>\n",
       "        (function() {\n",
       "          const frame = document.getElementById(\"tensorboard-frame-a978edece2566f56\");\n",
       "          const url = new URL(\"http://localhost\");\n",
       "          const port = 6006;\n",
       "          if (port) {\n",
       "            url.port = port;\n",
       "          }\n",
       "          frame.src = url;\n",
       "        })();\n",
       "      </script>\n",
       "    "
      ],
      "text/plain": [
       "<IPython.core.display.HTML object>"
      ]
     },
     "metadata": {},
     "output_type": "display_data"
    }
   ],
   "source": [
    "%load_ext tensorboard\n",
    "%tensorboard --logdir ./log1"
   ]
  },
  {
   "attachments": {},
   "cell_type": "markdown",
   "metadata": {},
   "source": [
    "### New data"
   ]
  },
  {
   "cell_type": "code",
   "execution_count": 124,
   "metadata": {},
   "outputs": [],
   "source": [
    "X_new = [[8.1, 4.0, 5.9, 2.1],\n",
    "\t     [6.8, 3.6, 3.5, 1.4]]"
   ]
  },
  {
   "cell_type": "code",
   "execution_count": 125,
   "metadata": {},
   "outputs": [
    {
     "name": "stderr",
     "output_type": "stream",
     "text": [
      "c:\\Users\\LENOVO LEGION\\AppData\\Local\\Programs\\Python\\Python39\\lib\\site-packages\\sklearn\\base.py:409: UserWarning: X does not have valid feature names, but StandardScaler was fitted with feature names\n",
      "  warnings.warn(\n"
     ]
    }
   ],
   "source": [
    "X_new_sc = sc.transform(X_new)"
   ]
  },
  {
   "cell_type": "code",
   "execution_count": 126,
   "metadata": {},
   "outputs": [],
   "source": [
    "y_pred_pr = model.predict(X_new_sc)"
   ]
  },
  {
   "cell_type": "code",
   "execution_count": 127,
   "metadata": {},
   "outputs": [],
   "source": [
    "y_pred = np.argmax(y_pred_pr, axis=1)"
   ]
  },
  {
   "cell_type": "code",
   "execution_count": 129,
   "metadata": {},
   "outputs": [
    {
     "name": "stdout",
     "output_type": "stream",
     "text": [
      "Index(['virginica', 'versicolor'], dtype='object')\n"
     ]
    }
   ],
   "source": [
    "print(class_names[y_pred])"
   ]
  },
  {
   "attachments": {},
   "cell_type": "markdown",
   "metadata": {},
   "source": [
    "### plot decision"
   ]
  },
  {
   "cell_type": "code",
   "execution_count": 133,
   "metadata": {},
   "outputs": [],
   "source": [
    "class Onehot2Int(object):\n",
    "\tdef __init__(self, model) -> None:\n",
    "\t\tself.model = model\n",
    "\tdef predict(self, X):\n",
    "\t\ty_pred = self.model.predict(X)\n",
    "\t\treturn np.argmax(y_pred, axis=1)\n",
    "\n",
    "model_no_ohe = Onehot2Int(model)"
   ]
  },
  {
   "cell_type": "code",
   "execution_count": 131,
   "metadata": {},
   "outputs": [],
   "source": [
    "from mlxtend.plotting import plot_decision_regions"
   ]
  },
  {
   "cell_type": "code",
   "execution_count": 134,
   "metadata": {},
   "outputs": [
    {
     "data": {
      "image/png": "[encoded data removed]",
      "text/plain": [
       "<Figure size 432x288 with 1 Axes>"
      ]
     },
     "metadata": {
      "needs_background": "light"
     },
     "output_type": "display_data"
    }
   ],
   "source": [
    "value = 0\n",
    "width = 5.5\n",
    "\n",
    "ax = plot_decision_regions(X_test, np.array(y_test),\n",
    "\t\t\t\t\t\t\tclf=model_no_ohe,\n",
    "\t\t\t\t\t\t\tfeature_index=[2,3],\n",
    "\t\t\t\t\t\t\tfiller_feature_values={0: value, 1:value},\n",
    "\t\t\t\t\t\t\tfiller_feature_ranges={0:width, 1:width},\n",
    "\t\t\t\t\t\t\tlegend=2)\n",
    "\n",
    "handles, labels = ax.get_legend_handles_labels()\n",
    "ax.legend(handles, class_names, framealpha=.5)\n",
    "plt.title('Iris')\n",
    "plt.yticks([])\n",
    "plt.xlabel('peta_length')\n",
    "plt.ylabel('petal_width')\n",
    "\n",
    "\n",
    "# new data\n",
    "plt.scatter(X_new_sc[:, 2][y_pred == 0], X_new_sc[:, 3][y_pred == 0], marker='s', s=180)\n",
    "plt.scatter(X_new_sc[:, 2][y_pred == 1], X_new_sc[:, 3][y_pred == 1], marker='^', s=180)\n",
    "plt.scatter(X_new_sc[:, 2][y_pred == 2], X_new_sc[:, 3][y_pred == 2], marker='o', s=180)\n",
    "plt.tight_layout()"
   ]
  }
 ],
 "metadata": {
  "kernelspec": {
   "display_name": "Python 3",
   "language": "python",
   "name": "python3"
  },
  "language_info": {
   "codemirror_mode": {
    "name": "ipython",
    "version": 3
   },
   "file_extension": ".py",
   "mimetype": "text/x-python",
   "name": "python",
   "nbconvert_exporter": "python",
   "pygments_lexer": "ipython3",
   "version": "3.9.2 (tags/v3.9.2:1a79785, Feb 19 2021, 13:44:55) [MSC v.1928 64 bit (AMD64)]"
  },
  "orig_nbformat": 4,
  "vscode": {
   "interpreter": {
    "hash": "44503fabc517f282cadb002b8db49156e9fb3f635c8a12f939a7312cd52e1bdc"
   }
  }
 },
 "nbformat": 4,
 "nbformat_minor": 2
}
