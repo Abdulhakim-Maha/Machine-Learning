{
 "cells": [
  {
   "attachments": {},
   "cell_type": "markdown",
   "metadata": {},
   "source": [
    "# Neuron Or Gate"
   ]
  },
  {
   "cell_type": "code",
   "execution_count": 5,
   "metadata": {},
   "outputs": [],
   "source": [
    "def or_gate(x1, x2):\n",
    "\tw0 = -0.5\n",
    "\tw1 = .5\n",
    "\tw2 = .5\n",
    "\n",
    "\tthreshold = 0.0\n",
    "\n",
    "\ts = w0 + (w1 * x1) + (w2 * x2)\n",
    "\n",
    "\tif s >= threshold:\n",
    "\t\tresult = 1\n",
    "\telse: \n",
    "\t\tresult = 0\n",
    "\t\n",
    "\tprint('output y={} [s={}], must be{}'.format(result, s, x1 or x2))"
   ]
  },
  {
   "cell_type": "code",
   "execution_count": 6,
   "metadata": {},
   "outputs": [
    {
     "name": "stdout",
     "output_type": "stream",
     "text": [
      "output y=0 [s=-0.5], must be0\n",
      "output y=1 [s=0.0], must be1\n",
      "output y=1 [s=0.0], must be1\n",
      "output y=1 [s=0.5], must be1\n"
     ]
    }
   ],
   "source": [
    "or_gate(0,0)\n",
    "or_gate(0,1)\n",
    "or_gate(1,0)\n",
    "or_gate(1,1)"
   ]
  }
 ],
 "metadata": {
  "kernelspec": {
   "display_name": "Python 3",
   "language": "python",
   "name": "python3"
  },
  "language_info": {
   "codemirror_mode": {
    "name": "ipython",
    "version": 3
   },
   "file_extension": ".py",
   "mimetype": "text/x-python",
   "name": "python",
   "nbconvert_exporter": "python",
   "pygments_lexer": "ipython3",
   "version": "3.9.2"
  },
  "orig_nbformat": 4,
  "vscode": {
   "interpreter": {
    "hash": "44503fabc517f282cadb002b8db49156e9fb3f635c8a12f939a7312cd52e1bdc"
   }
  }
 },
 "nbformat": 4,
 "nbformat_minor": 2
}
