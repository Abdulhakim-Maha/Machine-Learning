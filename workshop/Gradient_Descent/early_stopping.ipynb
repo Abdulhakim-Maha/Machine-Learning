{
 "cells": [
  {
   "attachments": {},
   "cell_type": "markdown",
   "metadata": {},
   "source": [
    "### Early Stopping"
   ]
  },
  {
   "cell_type": "code",
   "execution_count": 1,
   "metadata": {},
   "outputs": [],
   "source": [
    "from sklearn.datasets import make_blobs\n",
    "import matplotlib.pyplot as plt\n",
    "import seaborn as sns\n",
    "import numpy as np\n",
    "import pandas as pd"
   ]
  },
  {
   "cell_type": "code",
   "execution_count": 2,
   "metadata": {},
   "outputs": [],
   "source": [
    "# สร้าง 1000 ข้อมํูล 5 กลุ่ม แต่ละกลุ่มมี 2 Features"
   ]
  },
  {
   "cell_type": "code",
   "execution_count": 3,
   "metadata": {},
   "outputs": [],
   "source": [
    "X, y = make_blobs(n_samples=300, centers=5, n_features=2, cluster_std=1.1, random_state=1)"
   ]
  },
  {
   "cell_type": "code",
   "execution_count": 4,
   "metadata": {},
   "outputs": [
    {
     "data": {
      "text/plain": [
       "array([[ -3.9231849 ,  -3.95287286],\n",
       "       [ -3.60334462,   0.86627928],\n",
       "       [ -7.05019424,  -8.91739106],\n",
       "       [ -1.95423679,   4.98988088],\n",
       "       [-11.22873944,  -1.80166175],\n",
       "       [ -0.73667815,   5.43070216],\n",
       "       [ -3.24808509,   3.85157742],\n",
       "       [ -8.20729668,  -3.58153568],\n",
       "       [ -6.79770594,  -2.56341426],\n",
       "       [ -3.11191883,   0.20637457],\n",
       "       [ -1.52555651,   5.64892217],\n",
       "       [ -2.36808118,   2.12818582],\n",
       "       [ -1.2157191 ,   5.05942624],\n",
       "       [ -1.90817401,   1.34119071],\n",
       "       [ -6.25591457,  -3.56084197],\n",
       "       [ -6.96267197,  -3.74201283],\n",
       "       [ -1.00145734,   1.56068864],\n",
       "       [ -1.31224905,   0.3875837 ],\n",
       "       [ -9.24963568,  -4.30513031],\n",
       "       [ -4.94549381,  -1.86151348],\n",
       "       [ -6.68708093,  -3.91375204],\n",
       "       [ -1.90412086,   4.18565599],\n",
       "       [ -6.38169121,  -7.10149423],\n",
       "       [ -2.01421883,   3.98403008],\n",
       "       [ -0.72878319,   3.46102233],\n",
       "       [ -6.52643818,  -1.31408795],\n",
       "       [ -9.73077612,  -3.73133535],\n",
       "       [ -6.31370049,  -0.7671199 ],\n",
       "       [-10.59806409,  -4.1720702 ],\n",
       "       [ -1.65494798,   0.6129959 ],\n",
       "       [-10.35686195,  -5.43029192],\n",
       "       [ -0.47748589,   0.18268496],\n",
       "       [ -5.77838335,  -4.94125144],\n",
       "       [ -1.4064557 ,   5.24470217],\n",
       "       [ -2.41544988,   3.47676366],\n",
       "       [ -1.6558132 ,   2.81464511],\n",
       "       [ -7.21139699,  -1.98781589],\n",
       "       [ -5.6316845 ,  -2.73208379],\n",
       "       [ -9.27059019,  -1.98197452],\n",
       "       [ -7.90258792,  -2.73118618],\n",
       "       [ -6.80186858,  -2.70360158],\n",
       "       [ -7.32661831,  -6.88241143],\n",
       "       [ -7.84130674,  -6.84127343],\n",
       "       [ -7.21445724,  -9.03022487],\n",
       "       [ -1.60367138,   3.70579466],\n",
       "       [ -6.75165926,  -7.86451391],\n",
       "       [ -5.87084078,  -1.73259635],\n",
       "       [ -0.41241352,   3.19660947],\n",
       "       [ -0.62397402,  -0.49414622],\n",
       "       [-10.13022353,  -5.30978136],\n",
       "       [ -9.68898092,  -4.03377252],\n",
       "       [ -1.68663856,   3.55381209],\n",
       "       [ -7.67812638,  -7.12014249],\n",
       "       [ -7.24990091,  -8.34482648],\n",
       "       [ -8.28302641,  -3.83300558],\n",
       "       [ -1.84923093,   3.44084561],\n",
       "       [ -1.36440877,   2.32651341],\n",
       "       [ -3.86584507,   5.13079765],\n",
       "       [-10.54574742,  -4.29543202],\n",
       "       [ -7.27944526,  -7.26729534],\n",
       "       [ -4.01470926,  -3.03003497],\n",
       "       [ -6.14527699,  -6.45553308],\n",
       "       [ -9.74196849,  -3.202542  ],\n",
       "       [ -7.55133439,  -7.79734802],\n",
       "       [ -8.9127438 ,  -3.71846126],\n",
       "       [ -4.33852162,  -3.1555032 ],\n",
       "       [ -0.41476758,   6.07828837],\n",
       "       [ -5.77801823,  -1.8741937 ],\n",
       "       [  0.16622249,   5.22273845],\n",
       "       [ -1.19371612,   4.49156394],\n",
       "       [ -2.34149214,   1.19732137],\n",
       "       [ -9.44420921,  -2.53080008],\n",
       "       [ -9.12562495,  -4.63923235],\n",
       "       [ -5.77856054,  -3.85319845],\n",
       "       [ -5.82912881,  -7.81743436],\n",
       "       [ -1.44955287,   6.71677052],\n",
       "       [ -1.45434238,   4.85754668],\n",
       "       [ -1.0953371 ,   4.07858775],\n",
       "       [ -6.5828992 ,  -6.91866695],\n",
       "       [ -9.42507853,  -5.21212408],\n",
       "       [-10.13727568,  -6.02194641],\n",
       "       [-11.35825122,  -2.98992573],\n",
       "       [ -2.48143403,   6.26818993],\n",
       "       [ -5.93349626,  -5.39245806],\n",
       "       [-11.29826244,  -4.68567852],\n",
       "       [ -9.94967661,  -4.20229421],\n",
       "       [ -6.66191697,  -9.30227642],\n",
       "       [ -9.99979313,  -5.48963101],\n",
       "       [ -2.39793065,   4.39255881],\n",
       "       [ -7.11883658,  -2.34675768],\n",
       "       [ -9.51221162,  -4.0635193 ],\n",
       "       [ -7.17950968,  -2.29490304],\n",
       "       [ -7.51768526,  -6.74684721],\n",
       "       [ -6.35105734,  -3.20801673],\n",
       "       [ -6.91742917,  -6.83096776],\n",
       "       [ -8.02989185,  -9.10779405],\n",
       "       [ -9.91210926,  -3.27313026],\n",
       "       [ -4.8085914 ,  -7.5089999 ],\n",
       "       [ -5.06589981,  -4.0805834 ],\n",
       "       [ -9.97856215,  -5.18756915],\n",
       "       [ -1.87779433,  -0.50407409],\n",
       "       [ -2.38254759,   0.34533682],\n",
       "       [ -2.53159259,  -0.0283494 ],\n",
       "       [ -2.22216583,   1.91261684],\n",
       "       [ -5.3368213 ,  -3.04988935],\n",
       "       [ -5.70784059,  -4.31514362],\n",
       "       [ -6.95991459,  -7.13963303],\n",
       "       [ -7.55849402,  -8.89292095],\n",
       "       [-11.33943134,  -1.25904303],\n",
       "       [ -8.92964907,  -5.04410847],\n",
       "       [ -5.77962471,  -1.14691685],\n",
       "       [ -9.30580353, -10.2900762 ],\n",
       "       [ -9.10566566,  -2.80446224],\n",
       "       [ -1.12604011,   0.62265178],\n",
       "       [ -5.33618643,  -3.5431177 ],\n",
       "       [-10.14780172,  -4.08430815],\n",
       "       [ -2.07237335,   3.70388642],\n",
       "       [ -2.26639073,   1.9874349 ],\n",
       "       [ -6.34484402,  -8.2095354 ],\n",
       "       [ -0.74703659,   2.65138827],\n",
       "       [-10.76815086,  -4.17708244],\n",
       "       [ -1.35114251,   0.8944123 ],\n",
       "       [ -5.7082148 ,  -6.14957337],\n",
       "       [ -5.12530192,  -2.41941929],\n",
       "       [ -1.3086169 ,   4.13218246],\n",
       "       [ -7.32496283,  -7.35263325],\n",
       "       [ -1.87057901,   3.43009801],\n",
       "       [ -6.94803719,  -9.83147645],\n",
       "       [ -6.60584998,  -7.28998039],\n",
       "       [ -8.20631398,  -2.3025169 ],\n",
       "       [-10.56651641,  -5.05007806],\n",
       "       [ -6.55760167,  -9.44680904],\n",
       "       [ -1.44143021,   4.53739938],\n",
       "       [ -1.33680133,   1.86132208],\n",
       "       [ -9.41530065,  -3.80187722],\n",
       "       [ -7.39887031,  -2.2148044 ],\n",
       "       [ -5.76148818,  -1.9517299 ],\n",
       "       [-11.83932789,  -3.04581574],\n",
       "       [ -7.30210189,  -3.67510782],\n",
       "       [ -6.38448914,  -8.64071723],\n",
       "       [ -7.21655423,  -4.2268468 ],\n",
       "       [-11.35077645,  -3.3477573 ],\n",
       "       [ -6.49369377,  -1.03566695],\n",
       "       [ -8.42211159,  -4.63134752],\n",
       "       [ -6.8602532 ,  -1.85883872],\n",
       "       [ -1.90884592,  -1.99159957],\n",
       "       [ -6.23019596,  -7.17982841],\n",
       "       [ -7.84400674,  -1.14402952],\n",
       "       [ -6.7539389 ,  -9.06193528],\n",
       "       [ -7.5879428 ,  -6.03934556],\n",
       "       [-10.20293925,  -4.06526901],\n",
       "       [ -2.95438243,   1.38951808],\n",
       "       [ -7.27011908,  -8.21573503],\n",
       "       [ -5.95374229,  -7.14120838],\n",
       "       [ -2.725923  ,   1.38801554],\n",
       "       [ -0.42600043,   4.85628046],\n",
       "       [ -8.63150917,  -4.00197121],\n",
       "       [ -0.53970482,   1.37927722],\n",
       "       [ -9.45298005,  -4.14552202],\n",
       "       [ -5.41963465,  -3.21943375],\n",
       "       [-10.9451605 ,  -3.21116587],\n",
       "       [ -1.30194767,  -0.05753938],\n",
       "       [ -8.21906794,  -3.40033358],\n",
       "       [ -1.27395933,   2.96297812],\n",
       "       [ -6.89299195,  -8.36247123],\n",
       "       [ -1.8655079 ,   1.99422768],\n",
       "       [ -6.99805697,  -7.92099087],\n",
       "       [ -5.01320536,  -3.1434583 ],\n",
       "       [ -6.19035348,  -8.56511026],\n",
       "       [ -5.53722485,  -8.88070677],\n",
       "       [ -2.42038673,   3.97006099],\n",
       "       [ -9.11566537,  -3.90212452],\n",
       "       [ -0.62782384,   0.11127141],\n",
       "       [ -8.85500544,  -1.54767094],\n",
       "       [ -6.52331197,  -8.90197406],\n",
       "       [ -9.20253793,  -7.7654843 ],\n",
       "       [ -3.16998896,   4.7531652 ],\n",
       "       [ -2.86396294,   4.59281055],\n",
       "       [ -7.96746834,  -3.58147016],\n",
       "       [-11.39752713,  -3.60844605],\n",
       "       [ -7.15784101,  -8.48032618],\n",
       "       [ -8.16160396,  -8.27070149],\n",
       "       [ -2.15140133,   5.75344834],\n",
       "       [-10.61624848,  -1.80298266],\n",
       "       [ -1.34541385,   5.38014515],\n",
       "       [ -5.53296006,  -3.88341656],\n",
       "       [ -6.40237948,  -3.28179032],\n",
       "       [ -3.67219448,   0.20835198],\n",
       "       [ -1.50261896,   2.6580627 ],\n",
       "       [ -2.88860129,   4.66434714],\n",
       "       [ -8.4494185 ,  -3.81133681],\n",
       "       [ -1.70212497,   2.62914028],\n",
       "       [ -6.76073295,  -8.95982687],\n",
       "       [ -1.31236146,   2.18206853],\n",
       "       [ -2.91632992,   4.02221287],\n",
       "       [-11.31690734,  -3.0036687 ],\n",
       "       [ -1.4828828 ,  -1.68446048],\n",
       "       [ -8.64984581,  -6.79774973],\n",
       "       [ -2.57058763,   1.48512371],\n",
       "       [ -7.04670186,  -7.95832161],\n",
       "       [  0.74457304,   2.8703439 ],\n",
       "       [-10.33884095,  -6.63167009],\n",
       "       [ -0.34075024,   4.61016193],\n",
       "       [ -1.79473915,   3.37714349],\n",
       "       [ -4.25660638,  -2.46796432],\n",
       "       [ -1.32937255,   4.01901504],\n",
       "       [ -8.77189123,  -4.59852488],\n",
       "       [ -1.12218994,   4.32336098],\n",
       "       [ -9.3351613 ,  -3.49103812],\n",
       "       [ -4.0313547 ,   1.17436673],\n",
       "       [ -0.20146049,   0.99289144],\n",
       "       [ -8.11584997,  -7.50872663],\n",
       "       [ -6.65308655,  -4.18897157],\n",
       "       [ -0.78706654,   0.74605236],\n",
       "       [-10.43867851,  -3.04694237],\n",
       "       [ -3.78696248,   1.89153939],\n",
       "       [ -2.68481812,   0.87498973],\n",
       "       [ -7.55098289,  -1.60366796],\n",
       "       [ -4.79252053,  -9.77150072],\n",
       "       [  0.25973303,   3.56916228],\n",
       "       [ -6.25074665,  -3.60432666],\n",
       "       [ -1.52738506,   5.08541329],\n",
       "       [ -0.25842838,   6.57030179],\n",
       "       [ -3.28313427,   0.75684453],\n",
       "       [ -2.34156083,   5.17432511],\n",
       "       [ -3.02165956,   1.1824442 ],\n",
       "       [ -7.92498503,  -8.63448799],\n",
       "       [ -9.27275773,  -5.74353072],\n",
       "       [ -2.03779895,   4.45444641],\n",
       "       [-11.8135059 ,  -4.93295969],\n",
       "       [ -2.71988518,   0.43630123],\n",
       "       [ -7.44436811,  -8.40715182],\n",
       "       [ -2.39728842,   4.82181003],\n",
       "       [ -1.20662067,   0.08394892],\n",
       "       [ -2.48939764,   5.78464484],\n",
       "       [ -7.18587282,  -8.14382426],\n",
       "       [ -3.70333996,   5.7662703 ],\n",
       "       [ -2.870241  ,   5.66568595],\n",
       "       [ -2.02621257,   2.37564402],\n",
       "       [-11.46285934,  -5.89010596],\n",
       "       [ -6.59240343,  -8.82092634],\n",
       "       [ -3.80172243,  -0.1351561 ],\n",
       "       [ -2.94415276,   0.45558063],\n",
       "       [ -1.95240026,   4.44236587],\n",
       "       [ -5.31672899,  -3.64808831],\n",
       "       [ -7.34448004,  -6.61339977],\n",
       "       [ -2.26004593,  -0.88516733],\n",
       "       [ -1.92343583,   2.71279138],\n",
       "       [ -1.48351913,   5.37027568],\n",
       "       [ -4.66781415,  -2.43706538],\n",
       "       [ -8.53310968,  -4.2693872 ],\n",
       "       [ -2.1805297 ,   1.46954992],\n",
       "       [ -8.33527285,  -2.07610883],\n",
       "       [ -8.72134008,  -3.54690656],\n",
       "       [ -0.281647  ,  -0.11046862],\n",
       "       [ -0.66861836,   3.65438922],\n",
       "       [ -9.3786753 ,  -3.68853775],\n",
       "       [ -0.84494781,   3.35741921],\n",
       "       [ -6.73993843,  -2.99367461],\n",
       "       [ -3.24491122,   1.32100915],\n",
       "       [ -7.97807127,  -9.12186346],\n",
       "       [ -0.14357192,  -0.07624264],\n",
       "       [ -9.31201411,  -4.4318009 ],\n",
       "       [ -9.72403343,  -4.27965381],\n",
       "       [ -7.83636105,  -8.74417343],\n",
       "       [ -3.28943023,   0.70218365],\n",
       "       [ -1.99638432,   5.31726198],\n",
       "       [ -7.86303901,  -9.10777365],\n",
       "       [ -6.73562746,  -3.61588887],\n",
       "       [ -0.05124118,   2.14033509],\n",
       "       [ -1.61312478,   5.0475866 ],\n",
       "       [ -8.2929992 ,  -8.06420829],\n",
       "       [ -5.07329378,  -9.58952772],\n",
       "       [ -6.63920726,  -2.6635924 ],\n",
       "       [ -2.34953165,   0.9845572 ],\n",
       "       [ -1.88934356,   5.05177538],\n",
       "       [ -5.38506698,  -1.12005531],\n",
       "       [ -4.51447441,  -1.09293229],\n",
       "       [-10.11920423,  -4.63244682],\n",
       "       [ -6.58470567,  -0.82679438],\n",
       "       [ -6.69811125,  -1.4848664 ],\n",
       "       [ -5.34984806,  -3.2019614 ],\n",
       "       [-10.70932086,  -2.96171297],\n",
       "       [ -2.57742086,   2.29982516],\n",
       "       [ -0.66781011,   4.95923364],\n",
       "       [ -0.92055245,  -0.23394936],\n",
       "       [ -3.73093936,  -7.24618502],\n",
       "       [ -2.52098211,   1.27347532],\n",
       "       [ -7.13044048,  -1.86136024],\n",
       "       [ -7.37188968,  -6.36809411],\n",
       "       [ -0.95232275,  -0.84788425],\n",
       "       [ -5.46831   ,  -8.83306864],\n",
       "       [ -3.95598444,   0.83916778],\n",
       "       [ -2.30930595,   2.39351106],\n",
       "       [ -5.59501169,  -3.29137942],\n",
       "       [ -7.71198325,  -3.00476693],\n",
       "       [ -9.04193773,  -3.12789574],\n",
       "       [ -6.38089833,  -8.81301309],\n",
       "       [ -9.8219669 , -10.47880842],\n",
       "       [-10.19672484,  -4.61766124]])"
      ]
     },
     "execution_count": 4,
     "metadata": {},
     "output_type": "execute_result"
    }
   ],
   "source": [
    "X"
   ]
  },
  {
   "cell_type": "code",
   "execution_count": 5,
   "metadata": {},
   "outputs": [],
   "source": [
    "X_df = pd.DataFrame(X, columns=['weight', 'height'])"
   ]
  },
  {
   "cell_type": "code",
   "execution_count": 6,
   "metadata": {},
   "outputs": [],
   "source": [
    "y_df = pd.DataFrame(y, columns=['class'])"
   ]
  },
  {
   "cell_type": "code",
   "execution_count": 7,
   "metadata": {},
   "outputs": [
    {
     "data": {
      "text/html": [
       "<div>\n",
       "<style scoped>\n",
       "    .dataframe tbody tr th:only-of-type {\n",
       "        vertical-align: middle;\n",
       "    }\n",
       "\n",
       "    .dataframe tbody tr th {\n",
       "        vertical-align: top;\n",
       "    }\n",
       "\n",
       "    .dataframe thead th {\n",
       "        text-align: right;\n",
       "    }\n",
       "</style>\n",
       "<table border=\"1\" class=\"dataframe\">\n",
       "  <thead>\n",
       "    <tr style=\"text-align: right;\">\n",
       "      <th></th>\n",
       "      <th>class</th>\n",
       "    </tr>\n",
       "  </thead>\n",
       "  <tbody>\n",
       "    <tr>\n",
       "      <th>0</th>\n",
       "      <td>3</td>\n",
       "    </tr>\n",
       "    <tr>\n",
       "      <th>1</th>\n",
       "      <td>4</td>\n",
       "    </tr>\n",
       "    <tr>\n",
       "      <th>2</th>\n",
       "      <td>2</td>\n",
       "    </tr>\n",
       "    <tr>\n",
       "      <th>3</th>\n",
       "      <td>0</td>\n",
       "    </tr>\n",
       "    <tr>\n",
       "      <th>4</th>\n",
       "      <td>1</td>\n",
       "    </tr>\n",
       "    <tr>\n",
       "      <th>...</th>\n",
       "      <td>...</td>\n",
       "    </tr>\n",
       "    <tr>\n",
       "      <th>295</th>\n",
       "      <td>3</td>\n",
       "    </tr>\n",
       "    <tr>\n",
       "      <th>296</th>\n",
       "      <td>1</td>\n",
       "    </tr>\n",
       "    <tr>\n",
       "      <th>297</th>\n",
       "      <td>2</td>\n",
       "    </tr>\n",
       "    <tr>\n",
       "      <th>298</th>\n",
       "      <td>2</td>\n",
       "    </tr>\n",
       "    <tr>\n",
       "      <th>299</th>\n",
       "      <td>1</td>\n",
       "    </tr>\n",
       "  </tbody>\n",
       "</table>\n",
       "<p>300 rows × 1 columns</p>\n",
       "</div>"
      ],
      "text/plain": [
       "     class\n",
       "0        3\n",
       "1        4\n",
       "2        2\n",
       "3        0\n",
       "4        1\n",
       "..     ...\n",
       "295      3\n",
       "296      1\n",
       "297      2\n",
       "298      2\n",
       "299      1\n",
       "\n",
       "[300 rows x 1 columns]"
      ]
     },
     "execution_count": 7,
     "metadata": {},
     "output_type": "execute_result"
    }
   ],
   "source": [
    "y_df"
   ]
  },
  {
   "cell_type": "code",
   "execution_count": 8,
   "metadata": {},
   "outputs": [
    {
     "data": {
      "text/html": [
       "<div>\n",
       "<style scoped>\n",
       "    .dataframe tbody tr th:only-of-type {\n",
       "        vertical-align: middle;\n",
       "    }\n",
       "\n",
       "    .dataframe tbody tr th {\n",
       "        vertical-align: top;\n",
       "    }\n",
       "\n",
       "    .dataframe thead th {\n",
       "        text-align: right;\n",
       "    }\n",
       "</style>\n",
       "<table border=\"1\" class=\"dataframe\">\n",
       "  <thead>\n",
       "    <tr style=\"text-align: right;\">\n",
       "      <th></th>\n",
       "      <th>weight</th>\n",
       "      <th>height</th>\n",
       "    </tr>\n",
       "  </thead>\n",
       "  <tbody>\n",
       "    <tr>\n",
       "      <th>0</th>\n",
       "      <td>-3.923185</td>\n",
       "      <td>-3.952873</td>\n",
       "    </tr>\n",
       "    <tr>\n",
       "      <th>1</th>\n",
       "      <td>-3.603345</td>\n",
       "      <td>0.866279</td>\n",
       "    </tr>\n",
       "    <tr>\n",
       "      <th>2</th>\n",
       "      <td>-7.050194</td>\n",
       "      <td>-8.917391</td>\n",
       "    </tr>\n",
       "    <tr>\n",
       "      <th>3</th>\n",
       "      <td>-1.954237</td>\n",
       "      <td>4.989881</td>\n",
       "    </tr>\n",
       "    <tr>\n",
       "      <th>4</th>\n",
       "      <td>-11.228739</td>\n",
       "      <td>-1.801662</td>\n",
       "    </tr>\n",
       "    <tr>\n",
       "      <th>...</th>\n",
       "      <td>...</td>\n",
       "      <td>...</td>\n",
       "    </tr>\n",
       "    <tr>\n",
       "      <th>295</th>\n",
       "      <td>-7.711983</td>\n",
       "      <td>-3.004767</td>\n",
       "    </tr>\n",
       "    <tr>\n",
       "      <th>296</th>\n",
       "      <td>-9.041938</td>\n",
       "      <td>-3.127896</td>\n",
       "    </tr>\n",
       "    <tr>\n",
       "      <th>297</th>\n",
       "      <td>-6.380898</td>\n",
       "      <td>-8.813013</td>\n",
       "    </tr>\n",
       "    <tr>\n",
       "      <th>298</th>\n",
       "      <td>-9.821967</td>\n",
       "      <td>-10.478808</td>\n",
       "    </tr>\n",
       "    <tr>\n",
       "      <th>299</th>\n",
       "      <td>-10.196725</td>\n",
       "      <td>-4.617661</td>\n",
       "    </tr>\n",
       "  </tbody>\n",
       "</table>\n",
       "<p>300 rows × 2 columns</p>\n",
       "</div>"
      ],
      "text/plain": [
       "        weight     height\n",
       "0    -3.923185  -3.952873\n",
       "1    -3.603345   0.866279\n",
       "2    -7.050194  -8.917391\n",
       "3    -1.954237   4.989881\n",
       "4   -11.228739  -1.801662\n",
       "..         ...        ...\n",
       "295  -7.711983  -3.004767\n",
       "296  -9.041938  -3.127896\n",
       "297  -6.380898  -8.813013\n",
       "298  -9.821967 -10.478808\n",
       "299 -10.196725  -4.617661\n",
       "\n",
       "[300 rows x 2 columns]"
      ]
     },
     "execution_count": 8,
     "metadata": {},
     "output_type": "execute_result"
    }
   ],
   "source": [
    "X_df"
   ]
  },
  {
   "cell_type": "code",
   "execution_count": 9,
   "metadata": {},
   "outputs": [],
   "source": [
    "df = pd.concat([X_df, y_df], axis=1)"
   ]
  },
  {
   "cell_type": "code",
   "execution_count": 10,
   "metadata": {},
   "outputs": [
    {
     "data": {
      "text/html": [
       "<div>\n",
       "<style scoped>\n",
       "    .dataframe tbody tr th:only-of-type {\n",
       "        vertical-align: middle;\n",
       "    }\n",
       "\n",
       "    .dataframe tbody tr th {\n",
       "        vertical-align: top;\n",
       "    }\n",
       "\n",
       "    .dataframe thead th {\n",
       "        text-align: right;\n",
       "    }\n",
       "</style>\n",
       "<table border=\"1\" class=\"dataframe\">\n",
       "  <thead>\n",
       "    <tr style=\"text-align: right;\">\n",
       "      <th></th>\n",
       "      <th>weight</th>\n",
       "      <th>height</th>\n",
       "      <th>class</th>\n",
       "    </tr>\n",
       "  </thead>\n",
       "  <tbody>\n",
       "    <tr>\n",
       "      <th>0</th>\n",
       "      <td>-3.923185</td>\n",
       "      <td>-3.952873</td>\n",
       "      <td>3</td>\n",
       "    </tr>\n",
       "    <tr>\n",
       "      <th>1</th>\n",
       "      <td>-3.603345</td>\n",
       "      <td>0.866279</td>\n",
       "      <td>4</td>\n",
       "    </tr>\n",
       "    <tr>\n",
       "      <th>2</th>\n",
       "      <td>-7.050194</td>\n",
       "      <td>-8.917391</td>\n",
       "      <td>2</td>\n",
       "    </tr>\n",
       "    <tr>\n",
       "      <th>3</th>\n",
       "      <td>-1.954237</td>\n",
       "      <td>4.989881</td>\n",
       "      <td>0</td>\n",
       "    </tr>\n",
       "    <tr>\n",
       "      <th>4</th>\n",
       "      <td>-11.228739</td>\n",
       "      <td>-1.801662</td>\n",
       "      <td>1</td>\n",
       "    </tr>\n",
       "    <tr>\n",
       "      <th>...</th>\n",
       "      <td>...</td>\n",
       "      <td>...</td>\n",
       "      <td>...</td>\n",
       "    </tr>\n",
       "    <tr>\n",
       "      <th>295</th>\n",
       "      <td>-7.711983</td>\n",
       "      <td>-3.004767</td>\n",
       "      <td>3</td>\n",
       "    </tr>\n",
       "    <tr>\n",
       "      <th>296</th>\n",
       "      <td>-9.041938</td>\n",
       "      <td>-3.127896</td>\n",
       "      <td>1</td>\n",
       "    </tr>\n",
       "    <tr>\n",
       "      <th>297</th>\n",
       "      <td>-6.380898</td>\n",
       "      <td>-8.813013</td>\n",
       "      <td>2</td>\n",
       "    </tr>\n",
       "    <tr>\n",
       "      <th>298</th>\n",
       "      <td>-9.821967</td>\n",
       "      <td>-10.478808</td>\n",
       "      <td>2</td>\n",
       "    </tr>\n",
       "    <tr>\n",
       "      <th>299</th>\n",
       "      <td>-10.196725</td>\n",
       "      <td>-4.617661</td>\n",
       "      <td>1</td>\n",
       "    </tr>\n",
       "  </tbody>\n",
       "</table>\n",
       "<p>300 rows × 3 columns</p>\n",
       "</div>"
      ],
      "text/plain": [
       "        weight     height  class\n",
       "0    -3.923185  -3.952873      3\n",
       "1    -3.603345   0.866279      4\n",
       "2    -7.050194  -8.917391      2\n",
       "3    -1.954237   4.989881      0\n",
       "4   -11.228739  -1.801662      1\n",
       "..         ...        ...    ...\n",
       "295  -7.711983  -3.004767      3\n",
       "296  -9.041938  -3.127896      1\n",
       "297  -6.380898  -8.813013      2\n",
       "298  -9.821967 -10.478808      2\n",
       "299 -10.196725  -4.617661      1\n",
       "\n",
       "[300 rows x 3 columns]"
      ]
     },
     "execution_count": 10,
     "metadata": {},
     "output_type": "execute_result"
    }
   ],
   "source": [
    "df"
   ]
  },
  {
   "cell_type": "code",
   "execution_count": 11,
   "metadata": {},
   "outputs": [],
   "source": [
    "target_map = { 0: 'horse', 1:'bird', 2: 'fish', 3: 'cat', 4: 'dog'}"
   ]
  },
  {
   "cell_type": "code",
   "execution_count": 12,
   "metadata": {},
   "outputs": [],
   "source": [
    "df['class'] = df['class'].map(target_map)"
   ]
  },
  {
   "cell_type": "code",
   "execution_count": 13,
   "metadata": {},
   "outputs": [
    {
     "data": {
      "text/html": [
       "<div>\n",
       "<style scoped>\n",
       "    .dataframe tbody tr th:only-of-type {\n",
       "        vertical-align: middle;\n",
       "    }\n",
       "\n",
       "    .dataframe tbody tr th {\n",
       "        vertical-align: top;\n",
       "    }\n",
       "\n",
       "    .dataframe thead th {\n",
       "        text-align: right;\n",
       "    }\n",
       "</style>\n",
       "<table border=\"1\" class=\"dataframe\">\n",
       "  <thead>\n",
       "    <tr style=\"text-align: right;\">\n",
       "      <th></th>\n",
       "      <th>weight</th>\n",
       "      <th>height</th>\n",
       "      <th>class</th>\n",
       "    </tr>\n",
       "  </thead>\n",
       "  <tbody>\n",
       "    <tr>\n",
       "      <th>222</th>\n",
       "      <td>-0.258428</td>\n",
       "      <td>6.570302</td>\n",
       "      <td>horse</td>\n",
       "    </tr>\n",
       "    <tr>\n",
       "      <th>139</th>\n",
       "      <td>-6.384489</td>\n",
       "      <td>-8.640717</td>\n",
       "      <td>fish</td>\n",
       "    </tr>\n",
       "    <tr>\n",
       "      <th>216</th>\n",
       "      <td>-2.684818</td>\n",
       "      <td>0.874990</td>\n",
       "      <td>dog</td>\n",
       "    </tr>\n",
       "    <tr>\n",
       "      <th>201</th>\n",
       "      <td>-10.338841</td>\n",
       "      <td>-6.631670</td>\n",
       "      <td>bird</td>\n",
       "    </tr>\n",
       "    <tr>\n",
       "      <th>249</th>\n",
       "      <td>-4.667814</td>\n",
       "      <td>-2.437065</td>\n",
       "      <td>cat</td>\n",
       "    </tr>\n",
       "  </tbody>\n",
       "</table>\n",
       "</div>"
      ],
      "text/plain": [
       "        weight    height  class\n",
       "222  -0.258428  6.570302  horse\n",
       "139  -6.384489 -8.640717   fish\n",
       "216  -2.684818  0.874990    dog\n",
       "201 -10.338841 -6.631670   bird\n",
       "249  -4.667814 -2.437065    cat"
      ]
     },
     "execution_count": 13,
     "metadata": {},
     "output_type": "execute_result"
    }
   ],
   "source": [
    "df.sample(5, random_state=100)"
   ]
  },
  {
   "cell_type": "code",
   "execution_count": 14,
   "metadata": {},
   "outputs": [],
   "source": [
    "class_names, y = np.unique(df['class'], return_inverse=True)"
   ]
  },
  {
   "cell_type": "code",
   "execution_count": 15,
   "metadata": {},
   "outputs": [
    {
     "data": {
      "text/plain": [
       "array(['bird', 'cat', 'dog', 'fish', 'horse'], dtype=object)"
      ]
     },
     "execution_count": 15,
     "metadata": {},
     "output_type": "execute_result"
    }
   ],
   "source": [
    "class_names"
   ]
  },
  {
   "cell_type": "code",
   "execution_count": 16,
   "metadata": {},
   "outputs": [],
   "source": [
    "X = df.drop('class', axis=1)"
   ]
  },
  {
   "cell_type": "code",
   "execution_count": 17,
   "metadata": {},
   "outputs": [
    {
     "data": {
      "text/html": [
       "<div>\n",
       "<style scoped>\n",
       "    .dataframe tbody tr th:only-of-type {\n",
       "        vertical-align: middle;\n",
       "    }\n",
       "\n",
       "    .dataframe tbody tr th {\n",
       "        vertical-align: top;\n",
       "    }\n",
       "\n",
       "    .dataframe thead th {\n",
       "        text-align: right;\n",
       "    }\n",
       "</style>\n",
       "<table border=\"1\" class=\"dataframe\">\n",
       "  <thead>\n",
       "    <tr style=\"text-align: right;\">\n",
       "      <th></th>\n",
       "      <th>weight</th>\n",
       "      <th>height</th>\n",
       "    </tr>\n",
       "  </thead>\n",
       "  <tbody>\n",
       "    <tr>\n",
       "      <th>0</th>\n",
       "      <td>-3.923185</td>\n",
       "      <td>-3.952873</td>\n",
       "    </tr>\n",
       "    <tr>\n",
       "      <th>1</th>\n",
       "      <td>-3.603345</td>\n",
       "      <td>0.866279</td>\n",
       "    </tr>\n",
       "    <tr>\n",
       "      <th>2</th>\n",
       "      <td>-7.050194</td>\n",
       "      <td>-8.917391</td>\n",
       "    </tr>\n",
       "    <tr>\n",
       "      <th>3</th>\n",
       "      <td>-1.954237</td>\n",
       "      <td>4.989881</td>\n",
       "    </tr>\n",
       "    <tr>\n",
       "      <th>4</th>\n",
       "      <td>-11.228739</td>\n",
       "      <td>-1.801662</td>\n",
       "    </tr>\n",
       "  </tbody>\n",
       "</table>\n",
       "</div>"
      ],
      "text/plain": [
       "      weight    height\n",
       "0  -3.923185 -3.952873\n",
       "1  -3.603345  0.866279\n",
       "2  -7.050194 -8.917391\n",
       "3  -1.954237  4.989881\n",
       "4 -11.228739 -1.801662"
      ]
     },
     "execution_count": 17,
     "metadata": {},
     "output_type": "execute_result"
    }
   ],
   "source": [
    "X.head()"
   ]
  },
  {
   "cell_type": "code",
   "execution_count": 18,
   "metadata": {},
   "outputs": [],
   "source": [
    "from sklearn.preprocessing import StandardScaler"
   ]
  },
  {
   "cell_type": "code",
   "execution_count": 19,
   "metadata": {},
   "outputs": [],
   "source": [
    "sc = StandardScaler()"
   ]
  },
  {
   "cell_type": "code",
   "execution_count": 20,
   "metadata": {},
   "outputs": [],
   "source": [
    "X_sc = sc.fit_transform(X)"
   ]
  },
  {
   "cell_type": "code",
   "execution_count": 21,
   "metadata": {},
   "outputs": [
    {
     "data": {
      "text/plain": [
       "array([[ 0.43933399, -0.46043393],\n",
       "       [ 0.53640371,  0.62434055],\n",
       "       [-0.50969572, -1.5779298 ],\n",
       "       [ 1.03689864,  1.552549  ],\n",
       "       [-1.77786063,  0.02379625]])"
      ]
     },
     "execution_count": 21,
     "metadata": {},
     "output_type": "execute_result"
    }
   ],
   "source": [
    "X_sc[:5]"
   ]
  },
  {
   "cell_type": "code",
   "execution_count": 22,
   "metadata": {},
   "outputs": [],
   "source": [
    "from sklearn.model_selection import train_test_split"
   ]
  },
  {
   "cell_type": "code",
   "execution_count": 23,
   "metadata": {},
   "outputs": [],
   "source": [
    "X_train, X_test, y_train, y_test = train_test_split(X, y, test_size=0.25, random_state=1)"
   ]
  },
  {
   "cell_type": "code",
   "execution_count": 24,
   "metadata": {},
   "outputs": [
    {
     "data": {
      "text/plain": [
       "((225, 2), (75, 2))"
      ]
     },
     "execution_count": 24,
     "metadata": {},
     "output_type": "execute_result"
    }
   ],
   "source": [
    "X_train.shape, X_test.shape"
   ]
  },
  {
   "cell_type": "code",
   "execution_count": 52,
   "metadata": {},
   "outputs": [],
   "source": [
    "from tensorflow.keras import Sequential\n",
    "from tensorflow.keras.layers import Dense\n",
    "from tensorflow.keras.callbacks import EarlyStopping, ModelCheckpoint"
   ]
  },
  {
   "cell_type": "code",
   "execution_count": 53,
   "metadata": {},
   "outputs": [],
   "source": [
    "model = Sequential()"
   ]
  },
  {
   "cell_type": "code",
   "execution_count": 54,
   "metadata": {},
   "outputs": [],
   "source": [
    "es = EarlyStopping(monitor='val_loss', mode='min', verbose=1, patience=20)"
   ]
  },
  {
   "cell_type": "code",
   "execution_count": 55,
   "metadata": {},
   "outputs": [],
   "source": [
    "mc = ModelCheckpoint('best_model.h5', monitor='val_accuracy', verbose=1, save_best_only=True)"
   ]
  },
  {
   "cell_type": "code",
   "execution_count": 56,
   "metadata": {},
   "outputs": [],
   "source": [
    "model.add(Dense(units=256, activation='relu', input_shape=(2,)))"
   ]
  },
  {
   "cell_type": "code",
   "execution_count": 57,
   "metadata": {},
   "outputs": [],
   "source": [
    "model.add(Dense(units=128, activation='relu')) # use softmax for multi-class classification"
   ]
  },
  {
   "cell_type": "code",
   "execution_count": 58,
   "metadata": {},
   "outputs": [],
   "source": [
    "model.add(Dense(units=64, activation='relu'))"
   ]
  },
  {
   "cell_type": "code",
   "execution_count": 59,
   "metadata": {},
   "outputs": [],
   "source": [
    "model.add(Dense(units=5, activation='softmax'))"
   ]
  },
  {
   "cell_type": "code",
   "execution_count": 60,
   "metadata": {},
   "outputs": [
    {
     "name": "stdout",
     "output_type": "stream",
     "text": [
      "Model: \"sequential_1\"\n",
      "_________________________________________________________________\n",
      "Layer (type)                 Output Shape              Param #   \n",
      "=================================================================\n",
      "dense_4 (Dense)              (None, 256)               768       \n",
      "_________________________________________________________________\n",
      "dense_5 (Dense)              (None, 128)               32896     \n",
      "_________________________________________________________________\n",
      "dense_6 (Dense)              (None, 64)                8256      \n",
      "_________________________________________________________________\n",
      "dense_7 (Dense)              (None, 5)                 325       \n",
      "=================================================================\n",
      "Total params: 42,245\n",
      "Trainable params: 42,245\n",
      "Non-trainable params: 0\n",
      "_________________________________________________________________\n"
     ]
    }
   ],
   "source": [
    "model.summary()"
   ]
  },
  {
   "cell_type": "code",
   "execution_count": 61,
   "metadata": {},
   "outputs": [
    {
     "data": {
      "text/plain": [
       "{'name': 'sequential_1',\n",
       " 'layers': [{'class_name': 'InputLayer',\n",
       "   'config': {'batch_input_shape': (None, 2),\n",
       "    'dtype': 'float32',\n",
       "    'sparse': False,\n",
       "    'ragged': False,\n",
       "    'name': 'dense_4_input'}},\n",
       "  {'class_name': 'Dense',\n",
       "   'config': {'name': 'dense_4',\n",
       "    'trainable': True,\n",
       "    'batch_input_shape': (None, 2),\n",
       "    'dtype': 'float32',\n",
       "    'units': 256,\n",
       "    'activation': 'relu',\n",
       "    'use_bias': True,\n",
       "    'kernel_initializer': {'class_name': 'GlorotUniform',\n",
       "     'config': {'seed': None}},\n",
       "    'bias_initializer': {'class_name': 'Zeros', 'config': {}},\n",
       "    'kernel_regularizer': None,\n",
       "    'bias_regularizer': None,\n",
       "    'activity_regularizer': None,\n",
       "    'kernel_constraint': None,\n",
       "    'bias_constraint': None}},\n",
       "  {'class_name': 'Dense',\n",
       "   'config': {'name': 'dense_5',\n",
       "    'trainable': True,\n",
       "    'dtype': 'float32',\n",
       "    'units': 128,\n",
       "    'activation': 'relu',\n",
       "    'use_bias': True,\n",
       "    'kernel_initializer': {'class_name': 'GlorotUniform',\n",
       "     'config': {'seed': None}},\n",
       "    'bias_initializer': {'class_name': 'Zeros', 'config': {}},\n",
       "    'kernel_regularizer': None,\n",
       "    'bias_regularizer': None,\n",
       "    'activity_regularizer': None,\n",
       "    'kernel_constraint': None,\n",
       "    'bias_constraint': None}},\n",
       "  {'class_name': 'Dense',\n",
       "   'config': {'name': 'dense_6',\n",
       "    'trainable': True,\n",
       "    'dtype': 'float32',\n",
       "    'units': 64,\n",
       "    'activation': 'relu',\n",
       "    'use_bias': True,\n",
       "    'kernel_initializer': {'class_name': 'GlorotUniform',\n",
       "     'config': {'seed': None}},\n",
       "    'bias_initializer': {'class_name': 'Zeros', 'config': {}},\n",
       "    'kernel_regularizer': None,\n",
       "    'bias_regularizer': None,\n",
       "    'activity_regularizer': None,\n",
       "    'kernel_constraint': None,\n",
       "    'bias_constraint': None}},\n",
       "  {'class_name': 'Dense',\n",
       "   'config': {'name': 'dense_7',\n",
       "    'trainable': True,\n",
       "    'dtype': 'float32',\n",
       "    'units': 5,\n",
       "    'activation': 'softmax',\n",
       "    'use_bias': True,\n",
       "    'kernel_initializer': {'class_name': 'GlorotUniform',\n",
       "     'config': {'seed': None}},\n",
       "    'bias_initializer': {'class_name': 'Zeros', 'config': {}},\n",
       "    'kernel_regularizer': None,\n",
       "    'bias_regularizer': None,\n",
       "    'activity_regularizer': None,\n",
       "    'kernel_constraint': None,\n",
       "    'bias_constraint': None}}]}"
      ]
     },
     "execution_count": 61,
     "metadata": {},
     "output_type": "execute_result"
    }
   ],
   "source": [
    "model.get_config()"
   ]
  },
  {
   "cell_type": "code",
   "execution_count": 62,
   "metadata": {},
   "outputs": [],
   "source": [
    "model.compile(loss='sparse_categorical_crossentropy', optimizer='adam', metrics=['accuracy'])"
   ]
  },
  {
   "cell_type": "code",
   "execution_count": 63,
   "metadata": {},
   "outputs": [
    {
     "name": "stdout",
     "output_type": "stream",
     "text": [
      "\n",
      "Epoch 00001: val_accuracy improved from -inf to 0.49333, saving model to best_model.h5\n",
      "\n",
      "Epoch 00002: val_accuracy improved from 0.49333 to 0.53333, saving model to best_model.h5\n",
      "\n",
      "Epoch 00003: val_accuracy improved from 0.53333 to 0.57333, saving model to best_model.h5\n",
      "\n",
      "Epoch 00004: val_accuracy improved from 0.57333 to 0.58667, saving model to best_model.h5\n",
      "\n",
      "Epoch 00005: val_accuracy improved from 0.58667 to 0.61333, saving model to best_model.h5\n",
      "\n",
      "Epoch 00006: val_accuracy did not improve from 0.61333\n",
      "\n",
      "Epoch 00007: val_accuracy did not improve from 0.61333\n",
      "\n",
      "Epoch 00008: val_accuracy did not improve from 0.61333\n",
      "\n",
      "Epoch 00009: val_accuracy did not improve from 0.61333\n",
      "\n",
      "Epoch 00010: val_accuracy did not improve from 0.61333\n",
      "\n",
      "Epoch 00011: val_accuracy did not improve from 0.61333\n",
      "\n",
      "Epoch 00012: val_accuracy improved from 0.61333 to 0.62667, saving model to best_model.h5\n",
      "\n",
      "Epoch 00013: val_accuracy improved from 0.62667 to 0.64000, saving model to best_model.h5\n",
      "\n",
      "Epoch 00014: val_accuracy improved from 0.64000 to 0.65333, saving model to best_model.h5\n",
      "\n",
      "Epoch 00015: val_accuracy improved from 0.65333 to 0.66667, saving model to best_model.h5\n",
      "\n",
      "Epoch 00016: val_accuracy did not improve from 0.66667\n",
      "\n",
      "Epoch 00017: val_accuracy improved from 0.66667 to 0.68000, saving model to best_model.h5\n",
      "\n",
      "Epoch 00018: val_accuracy did not improve from 0.68000\n",
      "\n",
      "Epoch 00019: val_accuracy improved from 0.68000 to 0.73333, saving model to best_model.h5\n",
      "\n",
      "Epoch 00020: val_accuracy improved from 0.73333 to 0.77333, saving model to best_model.h5\n",
      "\n",
      "Epoch 00021: val_accuracy improved from 0.77333 to 0.78667, saving model to best_model.h5\n",
      "\n",
      "Epoch 00022: val_accuracy did not improve from 0.78667\n",
      "\n",
      "Epoch 00023: val_accuracy improved from 0.78667 to 0.80000, saving model to best_model.h5\n",
      "\n",
      "Epoch 00024: val_accuracy did not improve from 0.80000\n",
      "\n",
      "Epoch 00025: val_accuracy did not improve from 0.80000\n",
      "\n",
      "Epoch 00026: val_accuracy improved from 0.80000 to 0.81333, saving model to best_model.h5\n",
      "\n",
      "Epoch 00027: val_accuracy did not improve from 0.81333\n",
      "\n",
      "Epoch 00028: val_accuracy did not improve from 0.81333\n",
      "\n",
      "Epoch 00029: val_accuracy did not improve from 0.81333\n",
      "\n",
      "Epoch 00030: val_accuracy did not improve from 0.81333\n",
      "\n",
      "Epoch 00031: val_accuracy did not improve from 0.81333\n",
      "\n",
      "Epoch 00032: val_accuracy did not improve from 0.81333\n",
      "\n",
      "Epoch 00033: val_accuracy improved from 0.81333 to 0.82667, saving model to best_model.h5\n",
      "\n",
      "Epoch 00034: val_accuracy did not improve from 0.82667\n",
      "\n",
      "Epoch 00035: val_accuracy did not improve from 0.82667\n",
      "\n",
      "Epoch 00036: val_accuracy did not improve from 0.82667\n",
      "\n",
      "Epoch 00037: val_accuracy did not improve from 0.82667\n",
      "\n",
      "Epoch 00038: val_accuracy did not improve from 0.82667\n",
      "\n",
      "Epoch 00039: val_accuracy improved from 0.82667 to 0.84000, saving model to best_model.h5\n",
      "\n",
      "Epoch 00040: val_accuracy did not improve from 0.84000\n",
      "\n",
      "Epoch 00041: val_accuracy did not improve from 0.84000\n",
      "\n",
      "Epoch 00042: val_accuracy did not improve from 0.84000\n",
      "\n",
      "Epoch 00043: val_accuracy did not improve from 0.84000\n",
      "\n",
      "Epoch 00044: val_accuracy did not improve from 0.84000\n",
      "\n",
      "Epoch 00045: val_accuracy did not improve from 0.84000\n",
      "\n",
      "Epoch 00046: val_accuracy improved from 0.84000 to 0.86667, saving model to best_model.h5\n",
      "\n",
      "Epoch 00047: val_accuracy did not improve from 0.86667\n",
      "\n",
      "Epoch 00048: val_accuracy did not improve from 0.86667\n",
      "\n",
      "Epoch 00049: val_accuracy did not improve from 0.86667\n",
      "\n",
      "Epoch 00050: val_accuracy improved from 0.86667 to 0.88000, saving model to best_model.h5\n",
      "\n",
      "Epoch 00051: val_accuracy did not improve from 0.88000\n",
      "\n",
      "Epoch 00052: val_accuracy did not improve from 0.88000\n",
      "\n",
      "Epoch 00053: val_accuracy did not improve from 0.88000\n",
      "\n",
      "Epoch 00054: val_accuracy did not improve from 0.88000\n",
      "\n",
      "Epoch 00055: val_accuracy did not improve from 0.88000\n",
      "\n",
      "Epoch 00056: val_accuracy did not improve from 0.88000\n",
      "\n",
      "Epoch 00057: val_accuracy did not improve from 0.88000\n",
      "\n",
      "Epoch 00058: val_accuracy did not improve from 0.88000\n",
      "\n",
      "Epoch 00059: val_accuracy did not improve from 0.88000\n",
      "\n",
      "Epoch 00060: val_accuracy did not improve from 0.88000\n",
      "\n",
      "Epoch 00061: val_accuracy did not improve from 0.88000\n",
      "\n",
      "Epoch 00062: val_accuracy improved from 0.88000 to 0.90667, saving model to best_model.h5\n",
      "\n",
      "Epoch 00063: val_accuracy did not improve from 0.90667\n",
      "\n",
      "Epoch 00064: val_accuracy did not improve from 0.90667\n",
      "\n",
      "Epoch 00065: val_accuracy did not improve from 0.90667\n",
      "\n",
      "Epoch 00066: val_accuracy did not improve from 0.90667\n",
      "\n",
      "Epoch 00067: val_accuracy did not improve from 0.90667\n",
      "\n",
      "Epoch 00068: val_accuracy did not improve from 0.90667\n",
      "\n",
      "Epoch 00069: val_accuracy did not improve from 0.90667\n",
      "\n",
      "Epoch 00070: val_accuracy did not improve from 0.90667\n",
      "\n",
      "Epoch 00071: val_accuracy did not improve from 0.90667\n",
      "\n",
      "Epoch 00072: val_accuracy did not improve from 0.90667\n",
      "\n",
      "Epoch 00073: val_accuracy did not improve from 0.90667\n",
      "\n",
      "Epoch 00074: val_accuracy did not improve from 0.90667\n",
      "\n",
      "Epoch 00075: val_accuracy did not improve from 0.90667\n",
      "\n",
      "Epoch 00076: val_accuracy did not improve from 0.90667\n",
      "\n",
      "Epoch 00077: val_accuracy did not improve from 0.90667\n",
      "\n",
      "Epoch 00078: val_accuracy did not improve from 0.90667\n",
      "\n",
      "Epoch 00079: val_accuracy did not improve from 0.90667\n",
      "\n",
      "Epoch 00080: val_accuracy did not improve from 0.90667\n",
      "\n",
      "Epoch 00081: val_accuracy improved from 0.90667 to 0.92000, saving model to best_model.h5\n",
      "\n",
      "Epoch 00082: val_accuracy did not improve from 0.92000\n",
      "\n",
      "Epoch 00083: val_accuracy did not improve from 0.92000\n",
      "\n",
      "Epoch 00084: val_accuracy did not improve from 0.92000\n",
      "\n",
      "Epoch 00085: val_accuracy did not improve from 0.92000\n",
      "\n",
      "Epoch 00086: val_accuracy did not improve from 0.92000\n",
      "\n",
      "Epoch 00087: val_accuracy did not improve from 0.92000\n",
      "\n",
      "Epoch 00088: val_accuracy did not improve from 0.92000\n",
      "\n",
      "Epoch 00089: val_accuracy did not improve from 0.92000\n",
      "\n",
      "Epoch 00090: val_accuracy did not improve from 0.92000\n",
      "\n",
      "Epoch 00091: val_accuracy did not improve from 0.92000\n",
      "\n",
      "Epoch 00092: val_accuracy did not improve from 0.92000\n",
      "\n",
      "Epoch 00093: val_accuracy did not improve from 0.92000\n",
      "\n",
      "Epoch 00094: val_accuracy did not improve from 0.92000\n",
      "\n",
      "Epoch 00095: val_accuracy did not improve from 0.92000\n",
      "\n",
      "Epoch 00096: val_accuracy did not improve from 0.92000\n",
      "\n",
      "Epoch 00097: val_accuracy did not improve from 0.92000\n",
      "\n",
      "Epoch 00098: val_accuracy did not improve from 0.92000\n",
      "\n",
      "Epoch 00099: val_accuracy did not improve from 0.92000\n",
      "\n",
      "Epoch 00100: val_accuracy did not improve from 0.92000\n",
      "\n",
      "Epoch 00101: val_accuracy did not improve from 0.92000\n",
      "\n",
      "Epoch 00102: val_accuracy did not improve from 0.92000\n",
      "\n",
      "Epoch 00103: val_accuracy did not improve from 0.92000\n",
      "\n",
      "Epoch 00104: val_accuracy did not improve from 0.92000\n",
      "\n",
      "Epoch 00105: val_accuracy did not improve from 0.92000\n",
      "\n",
      "Epoch 00106: val_accuracy did not improve from 0.92000\n",
      "\n",
      "Epoch 00107: val_accuracy did not improve from 0.92000\n",
      "\n",
      "Epoch 00108: val_accuracy improved from 0.92000 to 0.93333, saving model to best_model.h5\n",
      "\n",
      "Epoch 00109: val_accuracy did not improve from 0.93333\n",
      "\n",
      "Epoch 00110: val_accuracy did not improve from 0.93333\n",
      "\n",
      "Epoch 00111: val_accuracy did not improve from 0.93333\n",
      "\n",
      "Epoch 00112: val_accuracy did not improve from 0.93333\n",
      "\n",
      "Epoch 00113: val_accuracy did not improve from 0.93333\n",
      "\n",
      "Epoch 00114: val_accuracy did not improve from 0.93333\n",
      "\n",
      "Epoch 00115: val_accuracy did not improve from 0.93333\n",
      "\n",
      "Epoch 00116: val_accuracy did not improve from 0.93333\n",
      "\n",
      "Epoch 00117: val_accuracy did not improve from 0.93333\n",
      "\n",
      "Epoch 00118: val_accuracy did not improve from 0.93333\n",
      "\n",
      "Epoch 00119: val_accuracy did not improve from 0.93333\n",
      "\n",
      "Epoch 00120: val_accuracy did not improve from 0.93333\n",
      "\n",
      "Epoch 00121: val_accuracy did not improve from 0.93333\n",
      "\n",
      "Epoch 00122: val_accuracy did not improve from 0.93333\n",
      "\n",
      "Epoch 00123: val_accuracy did not improve from 0.93333\n",
      "\n",
      "Epoch 00124: val_accuracy did not improve from 0.93333\n",
      "\n",
      "Epoch 00125: val_accuracy did not improve from 0.93333\n",
      "\n",
      "Epoch 00126: val_accuracy did not improve from 0.93333\n",
      "\n",
      "Epoch 00127: val_accuracy did not improve from 0.93333\n",
      "\n",
      "Epoch 00128: val_accuracy did not improve from 0.93333\n",
      "\n",
      "Epoch 00129: val_accuracy did not improve from 0.93333\n",
      "\n",
      "Epoch 00130: val_accuracy did not improve from 0.93333\n",
      "\n",
      "Epoch 00131: val_accuracy did not improve from 0.93333\n",
      "\n",
      "Epoch 00132: val_accuracy did not improve from 0.93333\n",
      "\n",
      "Epoch 00133: val_accuracy did not improve from 0.93333\n",
      "\n",
      "Epoch 00134: val_accuracy did not improve from 0.93333\n",
      "\n",
      "Epoch 00135: val_accuracy did not improve from 0.93333\n",
      "\n",
      "Epoch 00136: val_accuracy did not improve from 0.93333\n",
      "\n",
      "Epoch 00137: val_accuracy did not improve from 0.93333\n",
      "\n",
      "Epoch 00138: val_accuracy did not improve from 0.93333\n",
      "\n",
      "Epoch 00139: val_accuracy did not improve from 0.93333\n",
      "\n",
      "Epoch 00140: val_accuracy did not improve from 0.93333\n",
      "\n",
      "Epoch 00141: val_accuracy did not improve from 0.93333\n",
      "\n",
      "Epoch 00142: val_accuracy did not improve from 0.93333\n",
      "\n",
      "Epoch 00143: val_accuracy did not improve from 0.93333\n",
      "\n",
      "Epoch 00144: val_accuracy did not improve from 0.93333\n",
      "\n",
      "Epoch 00145: val_accuracy did not improve from 0.93333\n",
      "\n",
      "Epoch 00146: val_accuracy did not improve from 0.93333\n",
      "\n",
      "Epoch 00147: val_accuracy did not improve from 0.93333\n",
      "\n",
      "Epoch 00148: val_accuracy did not improve from 0.93333\n",
      "\n",
      "Epoch 00149: val_accuracy did not improve from 0.93333\n",
      "\n",
      "Epoch 00150: val_accuracy did not improve from 0.93333\n",
      "\n",
      "Epoch 00151: val_accuracy did not improve from 0.93333\n",
      "\n",
      "Epoch 00152: val_accuracy did not improve from 0.93333\n",
      "\n",
      "Epoch 00153: val_accuracy did not improve from 0.93333\n",
      "\n",
      "Epoch 00154: val_accuracy did not improve from 0.93333\n",
      "\n",
      "Epoch 00155: val_accuracy did not improve from 0.93333\n",
      "\n",
      "Epoch 00156: val_accuracy did not improve from 0.93333\n",
      "\n",
      "Epoch 00157: val_accuracy did not improve from 0.93333\n",
      "\n",
      "Epoch 00158: val_accuracy did not improve from 0.93333\n",
      "\n",
      "Epoch 00159: val_accuracy did not improve from 0.93333\n",
      "\n",
      "Epoch 00160: val_accuracy did not improve from 0.93333\n",
      "\n",
      "Epoch 00161: val_accuracy did not improve from 0.93333\n",
      "\n",
      "Epoch 00162: val_accuracy did not improve from 0.93333\n",
      "\n",
      "Epoch 00163: val_accuracy did not improve from 0.93333\n",
      "\n",
      "Epoch 00164: val_accuracy did not improve from 0.93333\n",
      "\n",
      "Epoch 00165: val_accuracy did not improve from 0.93333\n",
      "\n",
      "Epoch 00166: val_accuracy did not improve from 0.93333\n",
      "\n",
      "Epoch 00167: val_accuracy did not improve from 0.93333\n",
      "\n",
      "Epoch 00168: val_accuracy did not improve from 0.93333\n",
      "\n",
      "Epoch 00169: val_accuracy did not improve from 0.93333\n",
      "\n",
      "Epoch 00170: val_accuracy did not improve from 0.93333\n",
      "\n",
      "Epoch 00171: val_accuracy did not improve from 0.93333\n",
      "\n",
      "Epoch 00172: val_accuracy did not improve from 0.93333\n",
      "\n",
      "Epoch 00173: val_accuracy did not improve from 0.93333\n",
      "\n",
      "Epoch 00174: val_accuracy did not improve from 0.93333\n",
      "\n",
      "Epoch 00175: val_accuracy did not improve from 0.93333\n",
      "\n",
      "Epoch 00176: val_accuracy did not improve from 0.93333\n",
      "\n",
      "Epoch 00177: val_accuracy did not improve from 0.93333\n",
      "\n",
      "Epoch 00178: val_accuracy did not improve from 0.93333\n",
      "\n",
      "Epoch 00179: val_accuracy did not improve from 0.93333\n",
      "Epoch 00179: early stopping\n"
     ]
    }
   ],
   "source": [
    "history = model.fit(X_train, y_train, epochs=1000, batch_size=256, verbose=0, validation_data=(X_test, y_test), callbacks=[es, mc])"
   ]
  },
  {
   "cell_type": "code",
   "execution_count": 64,
   "metadata": {},
   "outputs": [],
   "source": [
    "score = model.evaluate(X_test, y_test, verbose=0)"
   ]
  },
  {
   "cell_type": "code",
   "execution_count": 65,
   "metadata": {},
   "outputs": [
    {
     "name": "stdout",
     "output_type": "stream",
     "text": [
      "Test loss 0.29481732845306396\n",
      "Test accuracy 0.9200000166893005\n"
     ]
    }
   ],
   "source": [
    "print(\"Test loss\", score[0])\n",
    "print(\"Test accuracy\", score[1])"
   ]
  },
  {
   "cell_type": "code",
   "execution_count": 66,
   "metadata": {},
   "outputs": [],
   "source": [
    "df_hist = pd.DataFrame(history.history)"
   ]
  },
  {
   "cell_type": "code",
   "execution_count": 67,
   "metadata": {},
   "outputs": [
    {
     "data": {
      "text/plain": [
       "Text(0.5, 1.0, 'Loss')"
      ]
     },
     "execution_count": 67,
     "metadata": {},
     "output_type": "execute_result"
    },
    {
     "data": {
      "image/png": "[encoded data removed]",
      "text/plain": [
       "<Figure size 432x288 with 1 Axes>"
      ]
     },
     "metadata": {
      "needs_background": "light"
     },
     "output_type": "display_data"
    }
   ],
   "source": [
    "df_hist['loss'].plot(style='b--', label='Training')\n",
    "df_hist['val_loss'].plot(style='r-', label='Test')\n",
    "plt.xlabel('Epoch')\n",
    "plt.ylabel('Loss')\n",
    "plt.legend()\n",
    "plt.title('Loss')"
   ]
  },
  {
   "cell_type": "code",
   "execution_count": 68,
   "metadata": {},
   "outputs": [
    {
     "data": {
      "text/plain": [
       "Text(0.5, 1.0, 'model accuracy')"
      ]
     },
     "execution_count": 68,
     "metadata": {},
     "output_type": "execute_result"
    },
    {
     "data": {
      "image/png": "[encoded data removed]",
      "text/plain": [
       "<Figure size 432x288 with 1 Axes>"
      ]
     },
     "metadata": {
      "needs_background": "light"
     },
     "output_type": "display_data"
    }
   ],
   "source": [
    "df_hist['accuracy'].plot(style='b--', label='Training')\n",
    "df_hist['val_accuracy'].plot(style='r-', label='Test')\n",
    "plt.xlabel('Epoch')\n",
    "plt.ylabel('accuracy')\n",
    "plt.legend()\n",
    "plt.title('model accuracy')"
   ]
  },
  {
   "cell_type": "code",
   "execution_count": 69,
   "metadata": {},
   "outputs": [],
   "source": [
    "y_pred = model.predict(X_test)"
   ]
  },
  {
   "cell_type": "code",
   "execution_count": 70,
   "metadata": {},
   "outputs": [
    {
     "data": {
      "text/plain": [
       "array([[0.   , 0.   , 0.019, 0.   , 0.981],\n",
       "       [0.001, 0.989, 0.011, 0.   , 0.   ],\n",
       "       [0.003, 0.996, 0.001, 0.   , 0.   ],\n",
       "       [0.   , 0.   , 1.   , 0.   , 0.   ]], dtype=float32)"
      ]
     },
     "execution_count": 70,
     "metadata": {},
     "output_type": "execute_result"
    }
   ],
   "source": [
    "y_pred[:4].round(3)"
   ]
  },
  {
   "cell_type": "code",
   "execution_count": 71,
   "metadata": {},
   "outputs": [],
   "source": [
    "y_pred_cat = np.argmax(y_pred, axis=1)"
   ]
  },
  {
   "cell_type": "code",
   "execution_count": 72,
   "metadata": {},
   "outputs": [
    {
     "data": {
      "text/plain": [
       "array([4, 1, 1, 2], dtype=int64)"
      ]
     },
     "execution_count": 72,
     "metadata": {},
     "output_type": "execute_result"
    }
   ],
   "source": [
    "y_pred_cat[:4]"
   ]
  },
  {
   "cell_type": "code",
   "execution_count": 73,
   "metadata": {},
   "outputs": [
    {
     "data": {
      "text/plain": [
       "array(['horse', 'cat', 'cat', 'dog'], dtype=object)"
      ]
     },
     "execution_count": 73,
     "metadata": {},
     "output_type": "execute_result"
    }
   ],
   "source": [
    "class_names[y_pred_cat[:4]]"
   ]
  },
  {
   "cell_type": "code",
   "execution_count": 74,
   "metadata": {},
   "outputs": [],
   "source": [
    "class Onehot2Int(object):\n",
    "\tdef __init__(self, model) -> None:\n",
    "\t\tself.model = model\t\n",
    "\tdef predict(self, X):\n",
    "\t\ty_pred = self.model.predict(X)\n",
    "\t\treturn np.argmax(y_pred, axis=1)\n",
    "\n",
    "model_no_ohe = Onehot2Int(model)"
   ]
  },
  {
   "cell_type": "code",
   "execution_count": 75,
   "metadata": {},
   "outputs": [],
   "source": [
    "from mlxtend.plotting import plot_decision_regions"
   ]
  },
  {
   "cell_type": "code",
   "execution_count": 76,
   "metadata": {},
   "outputs": [
    {
     "name": "stderr",
     "output_type": "stream",
     "text": [
      "c:\\Users\\LENOVO LEGION\\AppData\\Local\\Programs\\Python\\Python39\\lib\\site-packages\\mlxtend\\plotting\\decision_regions.py:300: UserWarning: You passed a edgecolor/edgecolors ('black') for an unfilled marker ('x').  Matplotlib is ignoring the edgecolor in favor of the facecolor.  This behavior may change in the future.\n",
      "  ax.scatter(\n"
     ]
    },
    {
     "data": {
      "text/plain": [
       "Text(0, 0.5, 'height')"
      ]
     },
     "execution_count": 76,
     "metadata": {},
     "output_type": "execute_result"
    },
    {
     "data": {
      "image/png": "[encoded data removed]",
      "text/plain": [
       "<Figure size 432x288 with 1 Axes>"
      ]
     },
     "metadata": {},
     "output_type": "display_data"
    }
   ],
   "source": [
    "ax = plot_decision_regions(np.array(X_train), np.array(y_train), clf=model_no_ohe)\n",
    "handles, labels = ax.get_legend_handles_labels()\n",
    "ax.legend(handles, class_names, framealpha=.5)\n",
    "plt.title('Model Regions')\n",
    "plt.xticks([])\n",
    "plt.yticks([])\n",
    "plt.xlabel('weight')\n",
    "plt.ylabel('height')"
   ]
  },
  {
   "cell_type": "code",
   "execution_count": 77,
   "metadata": {},
   "outputs": [
    {
     "data": {
      "text/plain": [
       "Text(0, 0.5, 'height')"
      ]
     },
     "execution_count": 77,
     "metadata": {},
     "output_type": "execute_result"
    },
    {
     "data": {
      "image/png": "[encoded data removed]",
      "text/plain": [
       "<Figure size 432x288 with 1 Axes>"
      ]
     },
     "metadata": {},
     "output_type": "display_data"
    }
   ],
   "source": [
    "ax = plot_decision_regions(np.array(X_test), np.array(y_test), clf=model_no_ohe)\n",
    "handles, labels = ax.get_legend_handles_labels()\n",
    "ax.legend(handles, class_names, framealpha=.5)\n",
    "plt.title('Model Regions')\n",
    "plt.xticks([])\n",
    "plt.yticks([])\n",
    "plt.xlabel('weight')\n",
    "plt.ylabel('height')"
   ]
  },
  {
   "attachments": {},
   "cell_type": "markdown",
   "metadata": {},
   "source": [
    "### Load Model from 'best_model.h5'"
   ]
  },
  {
   "cell_type": "code",
   "execution_count": 78,
   "metadata": {},
   "outputs": [],
   "source": [
    "from tensorflow.keras.models import load_model"
   ]
  },
  {
   "cell_type": "code",
   "execution_count": 79,
   "metadata": {},
   "outputs": [],
   "source": [
    "lmd = load_model('best_model.h5')"
   ]
  },
  {
   "cell_type": "code",
   "execution_count": 80,
   "metadata": {},
   "outputs": [],
   "source": [
    "df_hist = pd.DataFrame(history.history)"
   ]
  },
  {
   "cell_type": "code",
   "execution_count": 81,
   "metadata": {},
   "outputs": [
    {
     "data": {
      "text/plain": [
       "Text(0.5, 1.0, 'Loss')"
      ]
     },
     "execution_count": 81,
     "metadata": {},
     "output_type": "execute_result"
    },
    {
     "data": {
      "image/png": "[encoded data removed]",
      "text/plain": [
       "<Figure size 432x288 with 1 Axes>"
      ]
     },
     "metadata": {
      "needs_background": "light"
     },
     "output_type": "display_data"
    }
   ],
   "source": [
    "df_hist['loss'].plot(style='b--', label='Training')\n",
    "df_hist['val_loss'].plot(style='r-', label='Test')\n",
    "plt.xlabel('Epoch')\n",
    "plt.ylabel('Loss')\n",
    "plt.legend()\n",
    "plt.title('Loss')"
   ]
  },
  {
   "cell_type": "code",
   "execution_count": 82,
   "metadata": {},
   "outputs": [
    {
     "data": {
      "text/plain": [
       "Text(0.5, 1.0, 'model accuracy')"
      ]
     },
     "execution_count": 82,
     "metadata": {},
     "output_type": "execute_result"
    },
    {
     "data": {
      "image/png": "[encoded data removed]",
      "text/plain": [
       "<Figure size 432x288 with 1 Axes>"
      ]
     },
     "metadata": {
      "needs_background": "light"
     },
     "output_type": "display_data"
    }
   ],
   "source": [
    "df_hist['accuracy'].plot(style='b--', label='Training')\n",
    "df_hist['val_accuracy'].plot(style='r-', label='Test')\n",
    "plt.xlabel('Epoch')\n",
    "plt.ylabel('accuracy')\n",
    "plt.legend()\n",
    "plt.title('model accuracy')"
   ]
  },
  {
   "cell_type": "code",
   "execution_count": null,
   "metadata": {},
   "outputs": [],
   "source": []
  }
 ],
 "metadata": {
  "kernelspec": {
   "display_name": "Python 3",
   "language": "python",
   "name": "python3"
  },
  "language_info": {
   "codemirror_mode": {
    "name": "ipython",
    "version": 3
   },
   "file_extension": ".py",
   "mimetype": "text/x-python",
   "name": "python",
   "nbconvert_exporter": "python",
   "pygments_lexer": "ipython3",
   "version": "3.9.2"
  },
  "orig_nbformat": 4,
  "vscode": {
   "interpreter": {
    "hash": "44503fabc517f282cadb002b8db49156e9fb3f635c8a12f939a7312cd52e1bdc"
   }
  }
 },
 "nbformat": 4,
 "nbformat_minor": 2
}
